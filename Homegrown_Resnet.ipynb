{
  "nbformat": 4,
  "nbformat_minor": 0,
  "metadata": {
    "colab": {
      "name": "Homegrown Resnet.ipynb",
      "provenance": [],
      "collapsed_sections": [],
      "machine_shape": "hm",
      "authorship_tag": "ABX9TyPdYZ+5uc401VlnFbVbF9g/",
      "include_colab_link": true
    },
    "kernelspec": {
      "display_name": "Python 3",
      "name": "python3"
    },
    "language_info": {
      "name": "python"
    }
  },
  "cells": [
    {
      "cell_type": "markdown",
      "metadata": {
        "id": "view-in-github",
        "colab_type": "text"
      },
      "source": [
        "<a href=\"https://colab.research.google.com/github/rage-against-the-machine-learning/cs7643-DL-Group-Project/blob/plot-utilities/Homegrown_Resnet.ipynb\" target=\"_parent\"><img src=\"https://colab.research.google.com/assets/colab-badge.svg\" alt=\"Open In Colab\"/></a>"
      ]
    },
    {
      "cell_type": "markdown",
      "metadata": {
        "id": "EOMLS9hMC8YL"
      },
      "source": [
        "Reference: https://towardsdatascience.com/residual-network-implementing-resnet-a7da63c7b278"
      ]
    },
    {
      "cell_type": "code",
      "metadata": {
        "colab": {
          "base_uri": "https://localhost:8080/"
        },
        "id": "mezhzpPv2Ta3",
        "outputId": "312f0d82-7fef-49ea-e51f-004a217d531e"
      },
      "source": [
        "from google.colab import drive\n",
        "drive.mount('/content/drive')"
      ],
      "execution_count": null,
      "outputs": [
        {
          "output_type": "stream",
          "text": [
            "Mounted at /content/drive\n"
          ],
          "name": "stdout"
        }
      ]
    },
    {
      "cell_type": "code",
      "metadata": {
        "id": "qPAhhTck4g99"
      },
      "source": [
        "numpy_data_path = \"/content/drive/MyDrive/numpy_images\""
      ],
      "execution_count": null,
      "outputs": []
    },
    {
      "cell_type": "markdown",
      "metadata": {
        "id": "IVweWuPr3-vh"
      },
      "source": [
        "Training Data"
      ]
    },
    {
      "cell_type": "code",
      "metadata": {
        "colab": {
          "base_uri": "https://localhost:8080/"
        },
        "id": "yFK44JPt3EuD",
        "outputId": "ef321c5a-074a-4b04-c98d-cef1c7110da8"
      },
      "source": [
        "!wget https://cs7643-raml.s3.us-west-2.amazonaws.com/train_subset_np_imgs.zip\n",
        "!wget https://cs7643-raml.s3.us-west-2.amazonaws.com/instances_train_subset.json"
      ],
      "execution_count": null,
      "outputs": [
        {
          "output_type": "stream",
          "text": [
            "--2021-07-29 15:33:54--  https://cs7643-raml.s3.us-west-2.amazonaws.com/train_subset_np_imgs.zip\n",
            "Resolving cs7643-raml.s3.us-west-2.amazonaws.com (cs7643-raml.s3.us-west-2.amazonaws.com)... 52.218.152.161\n",
            "Connecting to cs7643-raml.s3.us-west-2.amazonaws.com (cs7643-raml.s3.us-west-2.amazonaws.com)|52.218.152.161|:443... connected.\n",
            "HTTP request sent, awaiting response... 200 OK\n",
            "Length: 5972049681 (5.6G) [application/zip]\n",
            "Saving to: ‘train_subset_np_imgs.zip’\n",
            "\n",
            "train_subset_np_img 100%[===================>]   5.56G  22.0MB/s    in 4m 40s  \n",
            "\n",
            "2021-07-29 15:38:35 (20.3 MB/s) - ‘train_subset_np_imgs.zip’ saved [5972049681/5972049681]\n",
            "\n",
            "--2021-07-29 15:38:35--  https://cs7643-raml.s3.us-west-2.amazonaws.com/instances_train_subset.json\n",
            "Resolving cs7643-raml.s3.us-west-2.amazonaws.com (cs7643-raml.s3.us-west-2.amazonaws.com)... 52.218.176.81\n",
            "Connecting to cs7643-raml.s3.us-west-2.amazonaws.com (cs7643-raml.s3.us-west-2.amazonaws.com)|52.218.176.81|:443... connected.\n",
            "HTTP request sent, awaiting response... 200 OK\n",
            "Length: 580614542 (554M) [application/json]\n",
            "Saving to: ‘instances_train_subset.json’\n",
            "\n",
            "instances_train_sub 100%[===================>] 553.72M  15.7MB/s    in 29s     \n",
            "\n",
            "2021-07-29 15:39:04 (19.0 MB/s) - ‘instances_train_subset.json’ saved [580614542/580614542]\n",
            "\n"
          ],
          "name": "stdout"
        }
      ]
    },
    {
      "cell_type": "code",
      "metadata": {
        "id": "6qz1-exP5c_b"
      },
      "source": [
        "\n",
        "! mkdir -p {numpy_data_path}/data\n",
        "! unzip -q train_subset_np_imgs.zip -d {numpy_data_path}/data\n",
        "! mkdir -p {numpy_data_path}/annotations\n",
        "! mv instances_train_subset.json  {numpy_data_path}/annotations"
      ],
      "execution_count": null,
      "outputs": []
    },
    {
      "cell_type": "markdown",
      "metadata": {
        "id": "2vmAXJK8CD2y"
      },
      "source": [
        "Dataset and DataLoader"
      ]
    },
    {
      "cell_type": "code",
      "metadata": {
        "id": "IS5YK24KC0my"
      },
      "source": [
        "import os\n",
        "import sys\n",
        "import multiprocessing as mp\n",
        "import random"
      ],
      "execution_count": null,
      "outputs": []
    },
    {
      "cell_type": "code",
      "metadata": {
        "id": "CPa_CtioCzPk"
      },
      "source": [
        "sys.path.append(\"/content/drive/MyDrive/dataset\")\n",
        "#import coco_api_helper\n",
        "#import coco_data_prep\n",
        "import config_dataset"
      ],
      "execution_count": null,
      "outputs": []
    },
    {
      "cell_type": "code",
      "metadata": {
        "id": "VLTLnxw7Cwuj"
      },
      "source": [
        "import numpy as np\n",
        "import matplotlib.pyplot as plt\n",
        "from pycocotools.coco import COCO\n",
        "import torch \n",
        "from torch.utils.data import Dataset, DataLoader\n",
        "from tqdm import tqdm"
      ],
      "execution_count": null,
      "outputs": []
    },
    {
      "cell_type": "code",
      "metadata": {
        "colab": {
          "base_uri": "https://localhost:8080/",
          "height": 421
        },
        "id": "Y7X-5SqhCL9U",
        "outputId": "22529a50-92f5-4848-f8ad-8b312f6ae190"
      },
      "source": [
        "import os\n",
        "import json\n",
        "with open (os.path.join(numpy_data_path, \"annotations\",\"categories.json\"), 'r') as j:\n",
        "    desired_categories = json.load(j)\n",
        "train_annot = COCO(\"/content/drive/MyDrive/numpy_images/annotations/instances_train2014.json\")\n",
        "category_ids = [cat[\"id\"] for cat in desired_categories]\n",
        "img_ids = [train_annot.getImgIds(catIds=[id]) for id in category_ids]\n",
        "\n",
        "\n",
        "# flatten to a list of imgids\n",
        "desired_img_ids = list(set([ii for img_id in img_ids for ii in img_id]))"
      ],
      "execution_count": null,
      "outputs": [
        {
          "output_type": "stream",
          "text": [
            "loading annotations into memory...\n",
            "Done (t=16.84s)\n",
            "creating index...\n"
          ],
          "name": "stdout"
        },
        {
          "output_type": "error",
          "ename": "KeyboardInterrupt",
          "evalue": "ignored",
          "traceback": [
            "\u001b[0;31m---------------------------------------------------------------------------\u001b[0m",
            "\u001b[0;31mKeyboardInterrupt\u001b[0m                         Traceback (most recent call last)",
            "\u001b[0;32m<ipython-input-6-29b8296a4575>\u001b[0m in \u001b[0;36m<module>\u001b[0;34m()\u001b[0m\n\u001b[1;32m      3\u001b[0m \u001b[0;32mwith\u001b[0m \u001b[0mopen\u001b[0m \u001b[0;34m(\u001b[0m\u001b[0mos\u001b[0m\u001b[0;34m.\u001b[0m\u001b[0mpath\u001b[0m\u001b[0;34m.\u001b[0m\u001b[0mjoin\u001b[0m\u001b[0;34m(\u001b[0m\u001b[0mnumpy_data_path\u001b[0m\u001b[0;34m,\u001b[0m \u001b[0;34m\"annotations\"\u001b[0m\u001b[0;34m,\u001b[0m\u001b[0;34m\"categories.json\"\u001b[0m\u001b[0;34m)\u001b[0m\u001b[0;34m,\u001b[0m \u001b[0;34m'r'\u001b[0m\u001b[0;34m)\u001b[0m \u001b[0;32mas\u001b[0m \u001b[0mj\u001b[0m\u001b[0;34m:\u001b[0m\u001b[0;34m\u001b[0m\u001b[0;34m\u001b[0m\u001b[0m\n\u001b[1;32m      4\u001b[0m     \u001b[0mdesired_categories\u001b[0m \u001b[0;34m=\u001b[0m \u001b[0mjson\u001b[0m\u001b[0;34m.\u001b[0m\u001b[0mload\u001b[0m\u001b[0;34m(\u001b[0m\u001b[0mj\u001b[0m\u001b[0;34m)\u001b[0m\u001b[0;34m\u001b[0m\u001b[0;34m\u001b[0m\u001b[0m\n\u001b[0;32m----> 5\u001b[0;31m \u001b[0mtrain_annot\u001b[0m \u001b[0;34m=\u001b[0m \u001b[0mCOCO\u001b[0m\u001b[0;34m(\u001b[0m\u001b[0;34m\"/content/drive/MyDrive/numpy_images/annotations/instances_train2014.json\"\u001b[0m\u001b[0;34m)\u001b[0m\u001b[0;34m\u001b[0m\u001b[0;34m\u001b[0m\u001b[0m\n\u001b[0m\u001b[1;32m      6\u001b[0m \u001b[0mcategory_ids\u001b[0m \u001b[0;34m=\u001b[0m \u001b[0;34m[\u001b[0m\u001b[0mcat\u001b[0m\u001b[0;34m[\u001b[0m\u001b[0;34m\"id\"\u001b[0m\u001b[0;34m]\u001b[0m \u001b[0;32mfor\u001b[0m \u001b[0mcat\u001b[0m \u001b[0;32min\u001b[0m \u001b[0mdesired_categories\u001b[0m\u001b[0;34m]\u001b[0m\u001b[0;34m\u001b[0m\u001b[0;34m\u001b[0m\u001b[0m\n\u001b[1;32m      7\u001b[0m \u001b[0mimg_ids\u001b[0m \u001b[0;34m=\u001b[0m \u001b[0;34m[\u001b[0m\u001b[0mtrain_annot\u001b[0m\u001b[0;34m.\u001b[0m\u001b[0mgetImgIds\u001b[0m\u001b[0;34m(\u001b[0m\u001b[0mcatIds\u001b[0m\u001b[0;34m=\u001b[0m\u001b[0;34m[\u001b[0m\u001b[0mid\u001b[0m\u001b[0;34m]\u001b[0m\u001b[0;34m)\u001b[0m \u001b[0;32mfor\u001b[0m \u001b[0mid\u001b[0m \u001b[0;32min\u001b[0m \u001b[0mcategory_ids\u001b[0m\u001b[0;34m]\u001b[0m\u001b[0;34m\u001b[0m\u001b[0;34m\u001b[0m\u001b[0m\n",
            "\u001b[0;32m/usr/local/lib/python3.7/dist-packages/pycocotools/coco.py\u001b[0m in \u001b[0;36m__init__\u001b[0;34m(self, annotation_file)\u001b[0m\n\u001b[1;32m     87\u001b[0m             \u001b[0mprint\u001b[0m\u001b[0;34m(\u001b[0m\u001b[0;34m'Done (t={:0.2f}s)'\u001b[0m\u001b[0;34m.\u001b[0m\u001b[0mformat\u001b[0m\u001b[0;34m(\u001b[0m\u001b[0mtime\u001b[0m\u001b[0;34m.\u001b[0m\u001b[0mtime\u001b[0m\u001b[0;34m(\u001b[0m\u001b[0;34m)\u001b[0m\u001b[0;34m-\u001b[0m \u001b[0mtic\u001b[0m\u001b[0;34m)\u001b[0m\u001b[0;34m)\u001b[0m\u001b[0;34m\u001b[0m\u001b[0;34m\u001b[0m\u001b[0m\n\u001b[1;32m     88\u001b[0m             \u001b[0mself\u001b[0m\u001b[0;34m.\u001b[0m\u001b[0mdataset\u001b[0m \u001b[0;34m=\u001b[0m \u001b[0mdataset\u001b[0m\u001b[0;34m\u001b[0m\u001b[0;34m\u001b[0m\u001b[0m\n\u001b[0;32m---> 89\u001b[0;31m             \u001b[0mself\u001b[0m\u001b[0;34m.\u001b[0m\u001b[0mcreateIndex\u001b[0m\u001b[0;34m(\u001b[0m\u001b[0;34m)\u001b[0m\u001b[0;34m\u001b[0m\u001b[0;34m\u001b[0m\u001b[0m\n\u001b[0m\u001b[1;32m     90\u001b[0m \u001b[0;34m\u001b[0m\u001b[0m\n\u001b[1;32m     91\u001b[0m     \u001b[0;32mdef\u001b[0m \u001b[0mcreateIndex\u001b[0m\u001b[0;34m(\u001b[0m\u001b[0mself\u001b[0m\u001b[0;34m)\u001b[0m\u001b[0;34m:\u001b[0m\u001b[0;34m\u001b[0m\u001b[0;34m\u001b[0m\u001b[0m\n",
            "\u001b[0;32m/usr/local/lib/python3.7/dist-packages/pycocotools/coco.py\u001b[0m in \u001b[0;36mcreateIndex\u001b[0;34m(self)\u001b[0m\n\u001b[1;32m     96\u001b[0m         \u001b[0;32mif\u001b[0m \u001b[0;34m'annotations'\u001b[0m \u001b[0;32min\u001b[0m \u001b[0mself\u001b[0m\u001b[0;34m.\u001b[0m\u001b[0mdataset\u001b[0m\u001b[0;34m:\u001b[0m\u001b[0;34m\u001b[0m\u001b[0;34m\u001b[0m\u001b[0m\n\u001b[1;32m     97\u001b[0m             \u001b[0;32mfor\u001b[0m \u001b[0mann\u001b[0m \u001b[0;32min\u001b[0m \u001b[0mself\u001b[0m\u001b[0;34m.\u001b[0m\u001b[0mdataset\u001b[0m\u001b[0;34m[\u001b[0m\u001b[0;34m'annotations'\u001b[0m\u001b[0;34m]\u001b[0m\u001b[0;34m:\u001b[0m\u001b[0;34m\u001b[0m\u001b[0;34m\u001b[0m\u001b[0m\n\u001b[0;32m---> 98\u001b[0;31m                 \u001b[0mimgToAnns\u001b[0m\u001b[0;34m[\u001b[0m\u001b[0mann\u001b[0m\u001b[0;34m[\u001b[0m\u001b[0;34m'image_id'\u001b[0m\u001b[0;34m]\u001b[0m\u001b[0;34m]\u001b[0m\u001b[0;34m.\u001b[0m\u001b[0mappend\u001b[0m\u001b[0;34m(\u001b[0m\u001b[0mann\u001b[0m\u001b[0;34m)\u001b[0m\u001b[0;34m\u001b[0m\u001b[0;34m\u001b[0m\u001b[0m\n\u001b[0m\u001b[1;32m     99\u001b[0m                 \u001b[0manns\u001b[0m\u001b[0;34m[\u001b[0m\u001b[0mann\u001b[0m\u001b[0;34m[\u001b[0m\u001b[0;34m'id'\u001b[0m\u001b[0;34m]\u001b[0m\u001b[0;34m]\u001b[0m \u001b[0;34m=\u001b[0m \u001b[0mann\u001b[0m\u001b[0;34m\u001b[0m\u001b[0;34m\u001b[0m\u001b[0m\n\u001b[1;32m    100\u001b[0m \u001b[0;34m\u001b[0m\u001b[0m\n",
            "\u001b[0;31mKeyboardInterrupt\u001b[0m: "
          ]
        }
      ]
    },
    {
      "cell_type": "code",
      "metadata": {
        "id": "YEfrrbnr5m6W"
      },
      "source": [
        "os.listdir(\"/content/drive/MyDrive/numpy_images/data/train_subset\")"
      ],
      "execution_count": null,
      "outputs": []
    },
    {
      "cell_type": "code",
      "metadata": {
        "id": "YqJYvEbJoEHZ"
      },
      "source": [
        "import os\n",
        "subset_list = os.listdir(\"/content/drive/MyDrive/numpy_images/data/train_subset\")"
      ],
      "execution_count": null,
      "outputs": []
    },
    {
      "cell_type": "code",
      "metadata": {
        "id": "Mf7ZpI25m-PX"
      },
      "source": [
        "test = train_annot.loadImgs(desired_img_ids)\n",
        "subset_list = os.listdir(\"/content/drive/MyDrive/numpy_images/data/train_subset\")\n",
        "test_dict = dict(zip(desired_img_ids, [item[\"file_name\"].replace(\".jpg\",\".np\") for item in test]))\n",
        "final = {k: v for (k, v) in test_dict.items() if v in subset_list}\n",
        "desired_img_ids = list(final.keys())"
      ],
      "execution_count": null,
      "outputs": []
    },
    {
      "cell_type": "code",
      "metadata": {
        "id": "Y7bGtjmbCDpQ"
      },
      "source": [
        "def get_label_map(label_file):\n",
        "    label_map = {}\n",
        "    labels = open(label_file, 'r')\n",
        "    for line in labels:\n",
        "        ids = line.split(',')\n",
        "        label_map[int(ids[1])] = int(ids[0])\n",
        "    return label_map"
      ],
      "execution_count": null,
      "outputs": []
    },
    {
      "cell_type": "code",
      "metadata": {
        "id": "OFlY7jVaAsqF"
      },
      "source": [
        "class COCOAnnotationTransform(object):\n",
        "    \"\"\"Transforms a COCO annotation into a Tensor of bbox coords and label index\n",
        "    Initilized with a dictionary lookup of classnames to indexes\n",
        "    \"\"\"\n",
        "    def __init__(self):\n",
        "        self.label_map = get_label_map('/content/drive/MyDrive/dataset/coco_labels.txt')\n",
        "\n",
        "    def __call__(self, target, width = 224, height = 224):\n",
        "        \"\"\"\n",
        "        Args:\n",
        "            target (dict): COCO target json annotation as a python dict\n",
        "            height (int): height\n",
        "            width (int): width\n",
        "        Returns:\n",
        "            a list containing lists of bounding boxes  [bbox coords, class idx]\n",
        "        \"\"\"\n",
        "        scale = np.array([width, height, width, height])\n",
        "        res = []\n",
        "        for obj in target:\n",
        "\n",
        "            if 'bbox' in obj:\n",
        "                bbox = obj['bbox']\n",
        "                bbox[2] += bbox[0]\n",
        "                bbox[3] += bbox[1]\n",
        "                label_idx = self.label_map[obj['category_id']] # -1\n",
        "                final_box = list(np.array(bbox)/scale)\n",
        "                final_box.append(label_idx)\n",
        "                res += [final_box]  # [xmin, ymin, xmax, ymax, label_idx]\n",
        "            else:\n",
        "                print(\"no bbox problem!\")\n",
        "\n",
        "        return res[0]  # [[xmin, ymin, xmax, ymax, label_idx], ... ]"
      ],
      "execution_count": null,
      "outputs": []
    },
    {
      "cell_type": "code",
      "metadata": {
        "id": "ig0XarUHCCX1"
      },
      "source": [
        "class COCODataset(Dataset):\n",
        "    def __init__(self,\n",
        "                 np_img_data_dir,\n",
        "                 annot_filepath,\n",
        "                 target_transform = COCOAnnotationTransform(),\n",
        "                 sample_ratio: float = None,\n",
        "                 device=\"cpu\"):\n",
        "        \"\"\"\n",
        "        :np_img_data_dir: local directory where you have unzipped np files saved \n",
        "            np files are the trasnformed images from s3 that were normalized/ resized/ padded\n",
        "        :annot_filepath: filepath of the original coco dataset corresponding to the datasplit of your choosing\n",
        "        :sample_ratio: specified float between 0 and 1 for the % of images from the data split you want to use\n",
        "        :device: cpu or gpu\n",
        "        \"\"\"\n",
        "        self.device = device\n",
        "        self.np_img_data_dir = np_img_data_dir\n",
        "\n",
        "        self.sample_ratio = sample_ratio\n",
        "        self.coco = COCO(annot_filepath)\n",
        "        self.target_transform = target_transform\n",
        "\n",
        "        # All possible image ids\n",
        "        all_train_img_ids = list(self.coco.imgs.keys())\n",
        "        # Filter down to the image ids applicable to our supercategories\n",
        "        \n",
        "        self.ids = [ii for ii in tqdm(all_train_img_ids) if ii in desired_img_ids]\n",
        "\n",
        "        if self.sample_ratio is None:\n",
        "            pass\n",
        "        else:\n",
        "            self.ids = list(np.random.choice(self.ids, int(self.sample_ratio * len(self.ids)), replace=False))\n",
        "\n",
        "    def __getitem__(self, index):\n",
        "        coco = self.coco\n",
        "\n",
        "        img_id = self.ids[index]\n",
        "        ann_ids = coco.getAnnIds(imgIds=[img_id])\n",
        "        labels = coco.loadAnns(ann_ids)\n",
        "        cat_list = [item[\"category_id\"] for item in labels]\n",
        "        target = max(set(cat_list), key=cat_list.count)\n",
        "        target = torch.Tensor([target])\n",
        "\n",
        "        path = coco.loadImgs([img_id])[0]['file_name']\n",
        "        np_path = path.split('.')[0] + '.np'\n",
        "        img = np.load(os.path.join(self.np_img_data_dir, np_path))\n",
        "        \n",
        "        # Convert the image to tensor so it's compatible w/ pytorch data loader\n",
        "        img = torch.Tensor(img.transpose(2,0,1)).to(device=self.device).float()\n",
        "\n",
        "        # Target transformation needs to happen to extract bounding boxes from annots\n",
        "        #if self.target_transform is not None:\n",
        "        #    target = torch.Tensor(self.target_transform(target))\n",
        "\n",
        "\n",
        "        return img, target, labels\n",
        "\n",
        "    def __len__(self):\n",
        "        return len(self.ids)\n",
        "    \n",
        "def get_dataloader(dataset_obj,\n",
        "                   batch_size: int=100,\n",
        "                   device=torch.device(\"cuda:0\" if torch.cuda.is_available() else \"cpu\"),\n",
        "                   loader_params:dict = {\"shuffle\" : False,\n",
        "                                         \"num_workers\": mp.cpu_count(),\n",
        "                                         \"collate_fn\": lambda x: x}):\n",
        "    \"\"\"Returns data loader for custom dataset.\n",
        "    Args:\n",
        "        :dataset_obj: dataset object returned from COCODataset class\n",
        "        :batch_size: specified batch size, if you have memory errors while running, make this smaller\n",
        "        :device: default is CUDA if there is GPU otherwise CPU\n",
        "        :loader_params: default is found in config_dataset.py's dataloader_params dict\n",
        "            can specify your own data loader params, but collate_fn must be `lambda x: x`\n",
        "            specify:\n",
        "                shuffle: True / False\n",
        "                num_workers: number of parallel processes to run\n",
        "                collate_fn: lambda x: x\n",
        "    Returns:\n",
        "        data_loader: data loader for COCODataset.\n",
        "    \"\"\"\n",
        "    # data loader for custom dataset\n",
        "    # this will return (imgs, targets) for each iteration\n",
        "    loader_params.update({'batch_size': batch_size})\n",
        "    \n",
        "    data_loader = DataLoader(\n",
        "        dataset=dataset_obj, \n",
        "        **loader_params,\n",
        "    )\n",
        "    return data_loader"
      ],
      "execution_count": null,
      "outputs": []
    },
    {
      "cell_type": "code",
      "metadata": {
        "id": "aRoWVSTcpKIk"
      },
      "source": [
        "np_data_dir = \"/content/drive/MyDrive/numpy_images/data/train_subset\"\n",
        "np_annot_dir = \"/content/drive/MyDrive/numpy_images/annotations/instances_train2014.json\""
      ],
      "execution_count": null,
      "outputs": []
    },
    {
      "cell_type": "code",
      "metadata": {
        "colab": {
          "base_uri": "https://localhost:8080/"
        },
        "id": "OhHw0UdXpXDG",
        "outputId": "07778134-7bc2-4b9b-e833-629af73c9e22"
      },
      "source": [
        "train_dataset = COCODataset(np_data_dir, np_annot_dir, sample_ratio=0.25)"
      ],
      "execution_count": null,
      "outputs": [
        {
          "output_type": "stream",
          "text": [
            "loading annotations into memory...\n",
            "Done (t=15.62s)\n",
            "creating index...\n"
          ],
          "name": "stdout"
        },
        {
          "output_type": "stream",
          "text": [
            "  0%|          | 23/82783 [00:00<06:05, 226.23it/s]"
          ],
          "name": "stderr"
        },
        {
          "output_type": "stream",
          "text": [
            "index created!\n"
          ],
          "name": "stdout"
        },
        {
          "output_type": "stream",
          "text": [
            "100%|██████████| 82783/82783 [02:40<00:00, 515.78it/s]\n"
          ],
          "name": "stderr"
        }
      ]
    },
    {
      "cell_type": "code",
      "metadata": {
        "colab": {
          "base_uri": "https://localhost:8080/"
        },
        "id": "cxgU1DsdqpzW",
        "outputId": "ec29aa75-72b8-4b22-a4f2-acd59c09e88d"
      },
      "source": [
        "from torch.utils.data import DataLoader\n",
        "from torch.multiprocessing import Pool, Process, set_start_method\n",
        "import torch.multiprocessing\n",
        "cpu_count = torch.multiprocessing.cpu_count()\n",
        "print('cpus', cpu_count)\n",
        "\n",
        "try: \n",
        "  set_start_method(\"spawn\")\n",
        "except RuntimeError:\n",
        "  pass\n",
        "batch_size = 64\n",
        "\n",
        "train_dl = torch.utils.data.DataLoader(dataset=train_dataset, \n",
        "                                          batch_size=batch_size,\n",
        "                                          shuffle=False,\n",
        "                                          num_workers=cpu_count,\n",
        "                                          collate_fn=lambda x: x)"
      ],
      "execution_count": null,
      "outputs": [
        {
          "output_type": "stream",
          "text": [
            "cpus 4\n"
          ],
          "name": "stdout"
        }
      ]
    },
    {
      "cell_type": "code",
      "metadata": {
        "colab": {
          "base_uri": "https://localhost:8080/"
        },
        "id": "vu7QZFI6zdCC",
        "outputId": "d1ebb455-925b-43c6-adb6-15b0bd533d1a"
      },
      "source": [
        "image_batches = []\n",
        "label_list = []\n",
        "annot_list = []\n",
        "\n",
        "for batch in tqdm(train_dl):\n",
        "  image_batch, label_batch, annot_batch = [x[0] for x in batch], [x[1] for x in batch], [x[2] for x in batch]\n",
        "  label_list.extend(label_batch)\n",
        "\n"
      ],
      "execution_count": null,
      "outputs": [
        {
          "output_type": "stream",
          "text": [
            "100%|██████████| 7/7 [00:03<00:00,  2.23it/s]\n"
          ],
          "name": "stderr"
        }
      ]
    },
    {
      "cell_type": "markdown",
      "metadata": {
        "id": "W7ji0rIUr2q3"
      },
      "source": [
        "ResNet"
      ]
    },
    {
      "cell_type": "code",
      "metadata": {
        "id": "-zF6BeUyr4mR"
      },
      "source": [
        "import sys\n",
        "sys.path.append(\"/content/drive/MyDrive/modules\")\n",
        "import resnet_modules as rn"
      ],
      "execution_count": null,
      "outputs": []
    },
    {
      "cell_type": "code",
      "metadata": {
        "id": "AqYOHTTer4jz"
      },
      "source": [
        "def resnet18(in_channels, n_classes, block=rn.ResNetBasicBlock, *args, **kwargs):\n",
        "  return rn.ResNet(in_channels, n_classes, block=block, deepths=[2,2,2,2], *args, **kwargs)"
      ],
      "execution_count": null,
      "outputs": []
    },
    {
      "cell_type": "code",
      "metadata": {
        "colab": {
          "base_uri": "https://localhost:8080/"
        },
        "id": "UltGDRDmr4g3",
        "outputId": "068dbf65-3e57-4ecc-f4b5-ff0371c310a3"
      },
      "source": [
        "from torchsummary import summary\n",
        "model = resnet18(in_channels=3,n_classes=99)\n",
        "summary(model, (3, 224, 224))"
      ],
      "execution_count": null,
      "outputs": [
        {
          "output_type": "stream",
          "text": [
            "----------------------------------------------------------------\n",
            "        Layer (type)               Output Shape         Param #\n",
            "================================================================\n",
            "            Conv2d-1         [-1, 64, 112, 112]           9,408\n",
            "       BatchNorm2d-2         [-1, 64, 112, 112]             128\n",
            "              ReLU-3         [-1, 64, 112, 112]               0\n",
            "         MaxPool2d-4           [-1, 64, 56, 56]               0\n",
            "        Conv2dAuto-5           [-1, 64, 56, 56]          36,864\n",
            "       BatchNorm2d-6           [-1, 64, 56, 56]             128\n",
            "              ReLU-7           [-1, 64, 56, 56]               0\n",
            "        Conv2dAuto-8           [-1, 64, 56, 56]          36,864\n",
            "       BatchNorm2d-9           [-1, 64, 56, 56]             128\n",
            " ResNetBasicBlock-10           [-1, 64, 56, 56]               0\n",
            "       Conv2dAuto-11           [-1, 64, 56, 56]          36,864\n",
            "      BatchNorm2d-12           [-1, 64, 56, 56]             128\n",
            "             ReLU-13           [-1, 64, 56, 56]               0\n",
            "       Conv2dAuto-14           [-1, 64, 56, 56]          36,864\n",
            "      BatchNorm2d-15           [-1, 64, 56, 56]             128\n",
            " ResNetBasicBlock-16           [-1, 64, 56, 56]               0\n",
            "      ResNetLayer-17           [-1, 64, 56, 56]               0\n",
            "           Conv2d-18          [-1, 128, 28, 28]           8,192\n",
            "      BatchNorm2d-19          [-1, 128, 28, 28]             256\n",
            "       Conv2dAuto-20          [-1, 128, 28, 28]          73,728\n",
            "      BatchNorm2d-21          [-1, 128, 28, 28]             256\n",
            "             ReLU-22          [-1, 128, 28, 28]               0\n",
            "       Conv2dAuto-23          [-1, 128, 28, 28]         147,456\n",
            "      BatchNorm2d-24          [-1, 128, 28, 28]             256\n",
            " ResNetBasicBlock-25          [-1, 128, 28, 28]               0\n",
            "       Conv2dAuto-26          [-1, 128, 28, 28]         147,456\n",
            "      BatchNorm2d-27          [-1, 128, 28, 28]             256\n",
            "             ReLU-28          [-1, 128, 28, 28]               0\n",
            "       Conv2dAuto-29          [-1, 128, 28, 28]         147,456\n",
            "      BatchNorm2d-30          [-1, 128, 28, 28]             256\n",
            " ResNetBasicBlock-31          [-1, 128, 28, 28]               0\n",
            "      ResNetLayer-32          [-1, 128, 28, 28]               0\n",
            "           Conv2d-33          [-1, 256, 14, 14]          32,768\n",
            "      BatchNorm2d-34          [-1, 256, 14, 14]             512\n",
            "       Conv2dAuto-35          [-1, 256, 14, 14]         294,912\n",
            "      BatchNorm2d-36          [-1, 256, 14, 14]             512\n",
            "             ReLU-37          [-1, 256, 14, 14]               0\n",
            "       Conv2dAuto-38          [-1, 256, 14, 14]         589,824\n",
            "      BatchNorm2d-39          [-1, 256, 14, 14]             512\n",
            " ResNetBasicBlock-40          [-1, 256, 14, 14]               0\n",
            "       Conv2dAuto-41          [-1, 256, 14, 14]         589,824\n",
            "      BatchNorm2d-42          [-1, 256, 14, 14]             512\n",
            "             ReLU-43          [-1, 256, 14, 14]               0\n",
            "       Conv2dAuto-44          [-1, 256, 14, 14]         589,824\n",
            "      BatchNorm2d-45          [-1, 256, 14, 14]             512\n",
            " ResNetBasicBlock-46          [-1, 256, 14, 14]               0\n",
            "      ResNetLayer-47          [-1, 256, 14, 14]               0\n",
            "           Conv2d-48            [-1, 512, 7, 7]         131,072\n",
            "      BatchNorm2d-49            [-1, 512, 7, 7]           1,024\n",
            "       Conv2dAuto-50            [-1, 512, 7, 7]       1,179,648\n",
            "      BatchNorm2d-51            [-1, 512, 7, 7]           1,024\n",
            "             ReLU-52            [-1, 512, 7, 7]               0\n",
            "       Conv2dAuto-53            [-1, 512, 7, 7]       2,359,296\n",
            "      BatchNorm2d-54            [-1, 512, 7, 7]           1,024\n",
            " ResNetBasicBlock-55            [-1, 512, 7, 7]               0\n",
            "       Conv2dAuto-56            [-1, 512, 7, 7]       2,359,296\n",
            "      BatchNorm2d-57            [-1, 512, 7, 7]           1,024\n",
            "             ReLU-58            [-1, 512, 7, 7]               0\n",
            "       Conv2dAuto-59            [-1, 512, 7, 7]       2,359,296\n",
            "      BatchNorm2d-60            [-1, 512, 7, 7]           1,024\n",
            " ResNetBasicBlock-61            [-1, 512, 7, 7]               0\n",
            "      ResNetLayer-62            [-1, 512, 7, 7]               0\n",
            "    ResNetEncoder-63            [-1, 512, 7, 7]               0\n",
            "AdaptiveAvgPool2d-64            [-1, 512, 1, 1]               0\n",
            "           Linear-65                   [-1, 99]          50,787\n",
            "    ResnetDecoder-66                   [-1, 99]               0\n",
            "================================================================\n",
            "Total params: 11,227,299\n",
            "Trainable params: 11,227,299\n",
            "Non-trainable params: 0\n",
            "----------------------------------------------------------------\n",
            "Input size (MB): 0.57\n",
            "Forward/backward pass size (MB): 60.11\n",
            "Params size (MB): 42.83\n",
            "Estimated Total Size (MB): 103.51\n",
            "----------------------------------------------------------------\n"
          ],
          "name": "stdout"
        },
        {
          "output_type": "stream",
          "text": [
            "/usr/local/lib/python3.7/dist-packages/torch/nn/functional.py:718: UserWarning: Named tensors and all their associated APIs are an experimental feature and subject to change. Please do not use them for anything important until they are released as stable. (Triggered internally at  /pytorch/c10/core/TensorImpl.h:1156.)\n",
            "  return torch.max_pool2d(input, kernel_size, stride, padding, dilation, ceil_mode)\n"
          ],
          "name": "stderr"
        }
      ]
    },
    {
      "cell_type": "markdown",
      "metadata": {
        "id": "CICaU9nOBsv3"
      },
      "source": [
        "Set Device"
      ]
    },
    {
      "cell_type": "code",
      "metadata": {
        "colab": {
          "base_uri": "https://localhost:8080/"
        },
        "id": "qZ4J46P-jw9N",
        "outputId": "0b8b09b5-1c48-4ec9-c115-699944c320a1"
      },
      "source": [
        "import torch\n",
        "device = torch.device(\"cuda:0\" if torch.cuda.is_available() else \"cpu\")\n",
        "if torch.cuda.is_available():\n",
        "    print(torch.cuda.current_device())\n",
        "    print(torch.cuda.device_count())\n",
        "    print(torch.cuda.get_device_name(0))\n",
        "    \n",
        "device"
      ],
      "execution_count": null,
      "outputs": [
        {
          "output_type": "execute_result",
          "data": {
            "text/plain": [
              "device(type='cpu')"
            ]
          },
          "metadata": {
            "tags": []
          },
          "execution_count": 13
        }
      ]
    },
    {
      "cell_type": "code",
      "metadata": {
        "id": "n-hYgf9GG16l"
      },
      "source": [
        "import torch.nn as nn"
      ],
      "execution_count": null,
      "outputs": []
    },
    {
      "cell_type": "markdown",
      "metadata": {
        "id": "d4yWKt0_3cxD"
      },
      "source": [
        "Initialize weights"
      ]
    },
    {
      "cell_type": "code",
      "metadata": {
        "id": "-ET0FDHI8QE1"
      },
      "source": [
        "def initialize_custom_block(m):\n",
        "  if isinstance(m, rn.Conv2dAuto):\n",
        "    torch.nn.init.xavier_uniform(m.weight)"
      ],
      "execution_count": null,
      "outputs": []
    },
    {
      "cell_type": "code",
      "metadata": {
        "id": "g3jRqTAH3bxn"
      },
      "source": [
        "def initialize_network(m):\n",
        "  if isinstance(m, nn.Conv2d):\n",
        "    torch.nn.init.xavier_uniform(m.weight)\n",
        "  elif isinstance(m, nn.BatchNorm2d):\n",
        "    torch.nn.init.constant_(m.weight.data, 1)\n",
        "    torch.nn.init.constant_(m.bias.data, 0)\n",
        "  elif isinstance(m, rn.Conv2dAuto):\n",
        "    torch.nn.init.xavier_uniform(m.weight)\n",
        "  elif isinstance(m, rn.CustomResNetBlock):\n",
        "    m.apply(initialize_custom_block)\n",
        "  elif isinstance(m, rn.ResNetLayer):\n",
        "    m.apply(initialize_custom_block)\n",
        "\n"
      ],
      "execution_count": null,
      "outputs": []
    },
    {
      "cell_type": "code",
      "metadata": {
        "colab": {
          "base_uri": "https://localhost:8080/"
        },
        "id": "ug5CXndc8wwL",
        "outputId": "7584a5ae-c030-4e3a-e667-f60cd2fedc5d"
      },
      "source": [
        "model.apply(initialize_network)"
      ],
      "execution_count": null,
      "outputs": [
        {
          "output_type": "stream",
          "text": [
            "/usr/local/lib/python3.7/dist-packages/ipykernel_launcher.py:3: UserWarning: nn.init.xavier_uniform is now deprecated in favor of nn.init.xavier_uniform_.\n",
            "  This is separate from the ipykernel package so we can avoid doing imports until\n"
          ],
          "name": "stderr"
        },
        {
          "output_type": "execute_result",
          "data": {
            "text/plain": [
              "ResNet(\n",
              "  (encoder): ResNetEncoder(\n",
              "    (gate): Sequential(\n",
              "      (0): Conv2d(3, 64, kernel_size=(7, 7), stride=(2, 2), padding=(3, 3), bias=False)\n",
              "      (1): BatchNorm2d(64, eps=1e-05, momentum=0.1, affine=True, track_running_stats=True)\n",
              "      (2): ReLU()\n",
              "      (3): MaxPool2d(kernel_size=3, stride=2, padding=1, dilation=1, ceil_mode=False)\n",
              "    )\n",
              "    (blocks): ModuleList(\n",
              "      (0): ResNetLayer(\n",
              "        (blocks): Sequential(\n",
              "          (0): ResNetBasicBlock(\n",
              "            (blocks): Sequential(\n",
              "              (0): Sequential(\n",
              "                (conv): Conv2dAuto(64, 64, kernel_size=(3, 3), stride=(1, 1), padding=(1, 1), bias=False)\n",
              "                (bn): BatchNorm2d(64, eps=1e-05, momentum=0.1, affine=True, track_running_stats=True)\n",
              "              )\n",
              "              (1): ReLU()\n",
              "              (2): Sequential(\n",
              "                (conv): Conv2dAuto(64, 64, kernel_size=(3, 3), stride=(1, 1), padding=(1, 1), bias=False)\n",
              "                (bn): BatchNorm2d(64, eps=1e-05, momentum=0.1, affine=True, track_running_stats=True)\n",
              "              )\n",
              "            )\n",
              "            (shortcut): None\n",
              "          )\n",
              "          (1): ResNetBasicBlock(\n",
              "            (blocks): Sequential(\n",
              "              (0): Sequential(\n",
              "                (conv): Conv2dAuto(64, 64, kernel_size=(3, 3), stride=(1, 1), padding=(1, 1), bias=False)\n",
              "                (bn): BatchNorm2d(64, eps=1e-05, momentum=0.1, affine=True, track_running_stats=True)\n",
              "              )\n",
              "              (1): ReLU()\n",
              "              (2): Sequential(\n",
              "                (conv): Conv2dAuto(64, 64, kernel_size=(3, 3), stride=(1, 1), padding=(1, 1), bias=False)\n",
              "                (bn): BatchNorm2d(64, eps=1e-05, momentum=0.1, affine=True, track_running_stats=True)\n",
              "              )\n",
              "            )\n",
              "            (shortcut): None\n",
              "          )\n",
              "        )\n",
              "      )\n",
              "      (1): ResNetLayer(\n",
              "        (blocks): Sequential(\n",
              "          (0): ResNetBasicBlock(\n",
              "            (blocks): Sequential(\n",
              "              (0): Sequential(\n",
              "                (conv): Conv2dAuto(64, 128, kernel_size=(3, 3), stride=(2, 2), padding=(1, 1), bias=False)\n",
              "                (bn): BatchNorm2d(128, eps=1e-05, momentum=0.1, affine=True, track_running_stats=True)\n",
              "              )\n",
              "              (1): ReLU()\n",
              "              (2): Sequential(\n",
              "                (conv): Conv2dAuto(128, 128, kernel_size=(3, 3), stride=(1, 1), padding=(1, 1), bias=False)\n",
              "                (bn): BatchNorm2d(128, eps=1e-05, momentum=0.1, affine=True, track_running_stats=True)\n",
              "              )\n",
              "            )\n",
              "            (shortcut): Sequential(\n",
              "              (conv): Conv2d(64, 128, kernel_size=(1, 1), stride=(2, 2), bias=False)\n",
              "              (bn): BatchNorm2d(128, eps=1e-05, momentum=0.1, affine=True, track_running_stats=True)\n",
              "            )\n",
              "          )\n",
              "          (1): ResNetBasicBlock(\n",
              "            (blocks): Sequential(\n",
              "              (0): Sequential(\n",
              "                (conv): Conv2dAuto(128, 128, kernel_size=(3, 3), stride=(1, 1), padding=(1, 1), bias=False)\n",
              "                (bn): BatchNorm2d(128, eps=1e-05, momentum=0.1, affine=True, track_running_stats=True)\n",
              "              )\n",
              "              (1): ReLU()\n",
              "              (2): Sequential(\n",
              "                (conv): Conv2dAuto(128, 128, kernel_size=(3, 3), stride=(1, 1), padding=(1, 1), bias=False)\n",
              "                (bn): BatchNorm2d(128, eps=1e-05, momentum=0.1, affine=True, track_running_stats=True)\n",
              "              )\n",
              "            )\n",
              "            (shortcut): None\n",
              "          )\n",
              "        )\n",
              "      )\n",
              "      (2): ResNetLayer(\n",
              "        (blocks): Sequential(\n",
              "          (0): ResNetBasicBlock(\n",
              "            (blocks): Sequential(\n",
              "              (0): Sequential(\n",
              "                (conv): Conv2dAuto(128, 256, kernel_size=(3, 3), stride=(2, 2), padding=(1, 1), bias=False)\n",
              "                (bn): BatchNorm2d(256, eps=1e-05, momentum=0.1, affine=True, track_running_stats=True)\n",
              "              )\n",
              "              (1): ReLU()\n",
              "              (2): Sequential(\n",
              "                (conv): Conv2dAuto(256, 256, kernel_size=(3, 3), stride=(1, 1), padding=(1, 1), bias=False)\n",
              "                (bn): BatchNorm2d(256, eps=1e-05, momentum=0.1, affine=True, track_running_stats=True)\n",
              "              )\n",
              "            )\n",
              "            (shortcut): Sequential(\n",
              "              (conv): Conv2d(128, 256, kernel_size=(1, 1), stride=(2, 2), bias=False)\n",
              "              (bn): BatchNorm2d(256, eps=1e-05, momentum=0.1, affine=True, track_running_stats=True)\n",
              "            )\n",
              "          )\n",
              "          (1): ResNetBasicBlock(\n",
              "            (blocks): Sequential(\n",
              "              (0): Sequential(\n",
              "                (conv): Conv2dAuto(256, 256, kernel_size=(3, 3), stride=(1, 1), padding=(1, 1), bias=False)\n",
              "                (bn): BatchNorm2d(256, eps=1e-05, momentum=0.1, affine=True, track_running_stats=True)\n",
              "              )\n",
              "              (1): ReLU()\n",
              "              (2): Sequential(\n",
              "                (conv): Conv2dAuto(256, 256, kernel_size=(3, 3), stride=(1, 1), padding=(1, 1), bias=False)\n",
              "                (bn): BatchNorm2d(256, eps=1e-05, momentum=0.1, affine=True, track_running_stats=True)\n",
              "              )\n",
              "            )\n",
              "            (shortcut): None\n",
              "          )\n",
              "        )\n",
              "      )\n",
              "      (3): ResNetLayer(\n",
              "        (blocks): Sequential(\n",
              "          (0): ResNetBasicBlock(\n",
              "            (blocks): Sequential(\n",
              "              (0): Sequential(\n",
              "                (conv): Conv2dAuto(256, 512, kernel_size=(3, 3), stride=(2, 2), padding=(1, 1), bias=False)\n",
              "                (bn): BatchNorm2d(512, eps=1e-05, momentum=0.1, affine=True, track_running_stats=True)\n",
              "              )\n",
              "              (1): ReLU()\n",
              "              (2): Sequential(\n",
              "                (conv): Conv2dAuto(512, 512, kernel_size=(3, 3), stride=(1, 1), padding=(1, 1), bias=False)\n",
              "                (bn): BatchNorm2d(512, eps=1e-05, momentum=0.1, affine=True, track_running_stats=True)\n",
              "              )\n",
              "            )\n",
              "            (shortcut): Sequential(\n",
              "              (conv): Conv2d(256, 512, kernel_size=(1, 1), stride=(2, 2), bias=False)\n",
              "              (bn): BatchNorm2d(512, eps=1e-05, momentum=0.1, affine=True, track_running_stats=True)\n",
              "            )\n",
              "          )\n",
              "          (1): ResNetBasicBlock(\n",
              "            (blocks): Sequential(\n",
              "              (0): Sequential(\n",
              "                (conv): Conv2dAuto(512, 512, kernel_size=(3, 3), stride=(1, 1), padding=(1, 1), bias=False)\n",
              "                (bn): BatchNorm2d(512, eps=1e-05, momentum=0.1, affine=True, track_running_stats=True)\n",
              "              )\n",
              "              (1): ReLU()\n",
              "              (2): Sequential(\n",
              "                (conv): Conv2dAuto(512, 512, kernel_size=(3, 3), stride=(1, 1), padding=(1, 1), bias=False)\n",
              "                (bn): BatchNorm2d(512, eps=1e-05, momentum=0.1, affine=True, track_running_stats=True)\n",
              "              )\n",
              "            )\n",
              "            (shortcut): None\n",
              "          )\n",
              "        )\n",
              "      )\n",
              "    )\n",
              "  )\n",
              "  (decoder): ResnetDecoder(\n",
              "    (avg): AdaptiveAvgPool2d(output_size=(1, 1))\n",
              "    (decoder): Linear(in_features=512, out_features=99, bias=True)\n",
              "  )\n",
              ")"
            ]
          },
          "metadata": {
            "tags": []
          },
          "execution_count": 42
        }
      ]
    },
    {
      "cell_type": "code",
      "metadata": {
        "colab": {
          "base_uri": "https://localhost:8080/"
        },
        "id": "8OLyXrue84Oi",
        "outputId": "37237e37-9cfa-4b40-8024-f2c150ac9e33"
      },
      "source": [
        "for param in model.parameters():\n",
        "  print(param)"
      ],
      "execution_count": null,
      "outputs": [
        {
          "output_type": "stream",
          "text": [
            "Parameter containing:\n",
            "tensor([[[[ 3.6744e-02, -2.8817e-02, -8.9449e-03,  ...,  1.4965e-03,\n",
            "            1.4402e-02,  7.0007e-03],\n",
            "          [ 1.5664e-02, -1.5393e-02,  1.0652e-02,  ..., -1.0610e-02,\n",
            "            2.3777e-02,  5.1124e-03],\n",
            "          [ 4.4250e-03,  1.8421e-02, -1.8576e-02,  ...,  2.3980e-02,\n",
            "           -1.6193e-02,  1.6713e-02],\n",
            "          ...,\n",
            "          [ 3.3926e-03, -1.4656e-02,  1.7499e-02,  ..., -3.4492e-03,\n",
            "            4.0343e-02,  1.5561e-02],\n",
            "          [ 1.7671e-02, -1.6672e-03,  2.0160e-02,  ...,  3.3077e-02,\n",
            "            9.4231e-03, -1.5566e-02],\n",
            "          [ 1.3024e-02,  1.2205e-02,  1.1552e-02,  ...,  1.9591e-02,\n",
            "           -1.9248e-03,  2.6710e-02]],\n",
            "\n",
            "         [[ 3.5788e-02,  7.4135e-03, -2.5529e-03,  ...,  2.1407e-02,\n",
            "            2.0256e-02,  6.6988e-03],\n",
            "          [ 1.7754e-02, -1.7363e-02, -5.2848e-03,  ..., -6.6432e-04,\n",
            "            1.5352e-02, -9.3723e-03],\n",
            "          [ 3.1912e-02,  2.7844e-02,  2.3081e-02,  ...,  2.9375e-02,\n",
            "            2.7260e-03,  2.4742e-02],\n",
            "          ...,\n",
            "          [-3.3721e-03,  1.8374e-02, -8.2917e-03,  ...,  2.0210e-02,\n",
            "            2.1987e-02,  2.5451e-02],\n",
            "          [ 1.6609e-03, -1.2731e-02,  9.2644e-03,  ...,  1.4376e-02,\n",
            "            1.5302e-02,  1.6428e-02],\n",
            "          [ 1.9426e-02,  1.9795e-03,  4.0610e-03,  ...,  3.4093e-02,\n",
            "            7.1816e-03,  3.2098e-02]],\n",
            "\n",
            "         [[-3.1625e-02, -3.8805e-02, -6.1628e-03,  ..., -2.8962e-02,\n",
            "           -5.1978e-02, -5.9212e-03],\n",
            "          [-2.4244e-02, -3.6290e-02, -3.3655e-02,  ..., -4.4102e-02,\n",
            "           -2.6552e-02, -7.2393e-03],\n",
            "          [-2.0320e-02, -2.8320e-02, -1.4508e-02,  ..., -1.4977e-02,\n",
            "           -2.2632e-02, -1.6201e-02],\n",
            "          ...,\n",
            "          [-3.9650e-02, -3.6655e-02, -5.5814e-02,  ..., -3.9146e-02,\n",
            "            6.3088e-03, -4.1308e-02],\n",
            "          [-4.4883e-02, -4.5696e-02, -4.4953e-03,  ...,  3.0866e-03,\n",
            "           -2.1753e-02, -5.1258e-02],\n",
            "          [-3.1000e-02, -5.6122e-02, -5.0601e-03,  ..., -1.0186e-02,\n",
            "           -5.7783e-02, -3.8595e-02]]],\n",
            "\n",
            "\n",
            "        [[[ 1.4237e-02,  1.0301e-02,  1.0411e-02,  ...,  6.9714e-03,\n",
            "            1.3562e-02,  1.3501e-02],\n",
            "          [ 1.1915e-02,  1.4467e-02,  1.1195e-02,  ...,  5.0216e-03,\n",
            "            1.4025e-02,  8.9241e-03],\n",
            "          [ 1.0791e-02,  5.7035e-03,  9.3480e-03,  ...,  6.6963e-03,\n",
            "            8.0859e-03,  5.7222e-03],\n",
            "          ...,\n",
            "          [ 1.2158e-02,  3.4710e-03,  9.8234e-03,  ...,  1.2387e-02,\n",
            "            9.8131e-03,  1.3780e-02],\n",
            "          [ 1.6129e-02,  8.1788e-03,  8.9816e-03,  ...,  1.5147e-02,\n",
            "            3.8499e-03,  1.5557e-02],\n",
            "          [ 1.3947e-02,  1.2558e-02,  1.1808e-02,  ...,  1.6036e-02,\n",
            "            1.0800e-02,  1.5345e-02]],\n",
            "\n",
            "         [[ 6.1474e-03,  4.9477e-03,  3.9550e-03,  ...,  1.0414e-02,\n",
            "            1.0392e-02,  9.3433e-03],\n",
            "          [ 5.8845e-03,  8.2132e-03,  5.0568e-03,  ...,  7.1625e-03,\n",
            "           -1.0697e-03,  4.7694e-03],\n",
            "          [ 3.1784e-03,  8.7887e-03,  4.5873e-03,  ...,  4.6722e-03,\n",
            "            2.9856e-03,  4.5866e-03],\n",
            "          ...,\n",
            "          [ 2.2797e-03,  5.3344e-03,  1.7466e-03,  ...,  3.6973e-03,\n",
            "            3.8230e-03,  6.2063e-03],\n",
            "          [ 3.7940e-03,  5.0604e-03,  5.0655e-03,  ...,  7.8380e-03,\n",
            "            8.5051e-03,  2.8119e-03],\n",
            "          [ 1.0755e-02,  1.1760e-02,  1.1810e-02,  ...,  3.0940e-03,\n",
            "            1.0161e-02,  1.5816e-03]],\n",
            "\n",
            "         [[-2.7966e-03, -1.7006e-03, -8.5524e-04,  ..., -2.1544e-04,\n",
            "            3.4525e-05,  5.7229e-05],\n",
            "          [-1.8727e-03, -7.4196e-06, -1.7362e-03,  ...,  2.4432e-03,\n",
            "           -1.8350e-03, -8.3317e-04],\n",
            "          [-2.4701e-03,  1.7738e-03, -1.8041e-03,  ..., -3.9540e-04,\n",
            "           -5.6223e-04, -1.2689e-03],\n",
            "          ...,\n",
            "          [-1.4811e-03, -4.6016e-03, -1.3186e-03,  ..., -1.1169e-03,\n",
            "            6.7225e-04, -1.0312e-03],\n",
            "          [ 4.1856e-03,  3.8731e-03, -1.0623e-03,  ..., -3.7253e-04,\n",
            "            3.9179e-03,  1.2370e-04],\n",
            "          [-1.5837e-04, -1.8802e-03, -7.0447e-05,  ...,  3.9821e-03,\n",
            "            3.8235e-03,  2.7680e-03]]],\n",
            "\n",
            "\n",
            "        [[[-1.4706e-02, -1.3886e-02, -1.4802e-02,  ..., -1.1670e-02,\n",
            "           -1.3297e-02, -1.4417e-02],\n",
            "          [-1.2802e-02, -1.0370e-02, -1.0447e-02,  ..., -1.2481e-02,\n",
            "           -1.2987e-02, -1.6256e-02],\n",
            "          [-1.4896e-02, -9.4067e-03, -1.3060e-02,  ..., -1.4376e-02,\n",
            "           -1.2599e-02, -1.6200e-02],\n",
            "          ...,\n",
            "          [-1.3408e-02, -1.5924e-02, -1.5593e-02,  ..., -1.6467e-02,\n",
            "           -1.4670e-02, -1.4951e-02],\n",
            "          [-1.3559e-02, -1.4208e-02, -1.6238e-02,  ..., -1.4515e-02,\n",
            "           -1.7138e-02, -1.9987e-02],\n",
            "          [-1.2425e-02, -1.0764e-02, -1.4223e-02,  ..., -1.0791e-02,\n",
            "           -1.3023e-02, -1.5312e-02]],\n",
            "\n",
            "         [[-7.7139e-03, -9.1038e-03, -7.6869e-03,  ..., -6.7454e-03,\n",
            "           -7.0607e-03, -7.0570e-03],\n",
            "          [-6.9373e-03, -7.2194e-03, -7.3576e-03,  ..., -7.4792e-03,\n",
            "           -7.2131e-03, -7.5061e-03],\n",
            "          [-7.3382e-03, -7.9477e-03, -7.9762e-03,  ..., -7.7648e-03,\n",
            "           -8.3609e-03, -7.9871e-03],\n",
            "          ...,\n",
            "          [-9.8063e-03, -1.0067e-02, -9.2716e-03,  ..., -9.5711e-03,\n",
            "           -9.7522e-03, -9.3206e-03],\n",
            "          [-9.4260e-03, -9.2990e-03, -9.3460e-03,  ..., -9.4244e-03,\n",
            "           -9.9209e-03, -9.0218e-03],\n",
            "          [-9.3573e-03, -9.4511e-03, -9.5230e-03,  ..., -8.8291e-03,\n",
            "           -9.7908e-03, -9.5971e-03]],\n",
            "\n",
            "         [[-7.0193e-04, -9.5209e-04, -5.8207e-04,  ...,  1.1577e-03,\n",
            "            3.9600e-04,  3.5815e-05],\n",
            "          [-5.4408e-04, -5.1662e-05,  5.9819e-05,  ..., -3.9057e-04,\n",
            "            2.4884e-04,  1.2871e-05],\n",
            "          [-5.7700e-04, -5.8808e-04, -1.3405e-03,  ..., -8.5924e-04,\n",
            "           -3.1115e-04, -1.2853e-04],\n",
            "          ...,\n",
            "          [-3.6778e-03, -4.1615e-03, -3.9217e-03,  ..., -3.7549e-03,\n",
            "           -3.1586e-03, -2.4276e-03],\n",
            "          [-4.3581e-03, -3.9044e-03, -3.9883e-03,  ..., -3.1595e-03,\n",
            "           -3.7117e-03, -2.5145e-03],\n",
            "          [-3.8915e-03, -2.5970e-03, -2.9565e-03,  ..., -2.4700e-03,\n",
            "           -3.2697e-03, -1.9255e-03]]],\n",
            "\n",
            "\n",
            "        ...,\n",
            "\n",
            "\n",
            "        [[[ 9.3857e-03,  6.1945e-03,  8.3721e-03,  ...,  5.3276e-03,\n",
            "            5.0428e-03,  8.3603e-03],\n",
            "          [ 9.0868e-03,  1.0081e-02,  7.4085e-03,  ...,  1.5181e-03,\n",
            "            6.7662e-03,  8.9624e-03],\n",
            "          [ 8.9705e-03,  4.0636e-03,  6.2771e-03,  ...,  4.9338e-03,\n",
            "            7.2313e-03,  2.9786e-03],\n",
            "          ...,\n",
            "          [ 2.0257e-02,  1.3057e-02,  9.4236e-03,  ...,  1.0209e-02,\n",
            "            2.2415e-02,  1.4182e-02],\n",
            "          [ 1.9421e-02,  1.5015e-02,  1.5355e-02,  ...,  9.8334e-03,\n",
            "            1.0182e-02,  1.3892e-02],\n",
            "          [ 1.2689e-02,  1.1995e-02,  1.0247e-02,  ...,  1.1923e-02,\n",
            "            9.0230e-03,  9.4810e-03]],\n",
            "\n",
            "         [[ 4.1852e-03,  2.4175e-03, -5.0960e-03,  ..., -2.5176e-03,\n",
            "           -5.2233e-03, -5.3533e-03],\n",
            "          [-4.6157e-03, -5.7339e-03, -5.6339e-03,  ..., -1.5229e-03,\n",
            "           -1.0095e-02, -5.9264e-03],\n",
            "          [-3.6410e-03, -1.1213e-02, -2.2013e-03,  ..., -7.0240e-03,\n",
            "           -6.4612e-03, -1.3291e-02],\n",
            "          ...,\n",
            "          [ 8.1779e-03,  2.5736e-04, -2.0291e-03,  ..., -3.3354e-03,\n",
            "            9.8072e-04, -5.2304e-03],\n",
            "          [ 6.0342e-03,  5.1109e-03,  4.4405e-03,  ...,  7.4166e-04,\n",
            "           -7.1218e-03,  1.0650e-03],\n",
            "          [-5.3294e-04,  8.7599e-04,  2.9722e-03,  ...,  1.8972e-04,\n",
            "           -1.7631e-03, -6.6502e-04]],\n",
            "\n",
            "         [[-6.4387e-03, -6.5381e-03, -7.4792e-03,  ..., -1.2237e-02,\n",
            "           -1.3014e-02, -8.6436e-03],\n",
            "          [-7.6634e-03, -6.2273e-03, -1.0982e-02,  ..., -7.3120e-03,\n",
            "           -1.3316e-02, -1.1563e-02],\n",
            "          [-3.6343e-03, -8.5053e-03, -1.2231e-02,  ..., -1.3654e-02,\n",
            "           -7.9739e-03, -1.5357e-02],\n",
            "          ...,\n",
            "          [-2.3408e-03, -6.6050e-03, -8.3547e-03,  ..., -8.0657e-03,\n",
            "           -6.3528e-03, -8.7461e-03],\n",
            "          [-1.7615e-03, -4.3488e-03, -5.6718e-03,  ..., -8.6479e-03,\n",
            "           -6.8622e-03, -8.5890e-03],\n",
            "          [-4.2480e-03, -5.2952e-03, -5.6196e-03,  ..., -6.9583e-03,\n",
            "           -7.7410e-03, -9.9922e-03]]],\n",
            "\n",
            "\n",
            "        [[[ 2.0129e-02, -6.3965e-03,  1.3984e-02,  ..., -6.3524e-05,\n",
            "            1.4635e-02,  1.6142e-02],\n",
            "          [ 1.6309e-02,  4.8730e-03,  2.3231e-03,  ...,  1.4766e-02,\n",
            "            4.9954e-03,  3.5089e-03],\n",
            "          [ 1.4692e-02,  1.1871e-02,  5.6776e-03,  ...,  2.5124e-02,\n",
            "            5.9400e-03,  1.3308e-02],\n",
            "          ...,\n",
            "          [ 2.3692e-02,  1.9439e-02,  2.3190e-02,  ...,  2.6519e-02,\n",
            "            1.2467e-02,  1.2420e-02],\n",
            "          [ 2.0049e-02,  3.2636e-03,  3.2334e-02,  ...,  2.5400e-02,\n",
            "            1.6725e-02,  2.9334e-02],\n",
            "          [ 3.2031e-02,  9.0429e-03,  1.4579e-02,  ...,  1.0388e-02,\n",
            "            1.7857e-02,  1.9894e-02]],\n",
            "\n",
            "         [[-2.0621e-02, -7.3920e-03, -3.4179e-03,  ...,  8.6455e-03,\n",
            "           -1.7864e-02, -6.5630e-03],\n",
            "          [-2.2369e-02, -2.2999e-02, -1.1854e-02,  ..., -1.4249e-02,\n",
            "           -2.0286e-02, -1.4711e-02],\n",
            "          [-8.0935e-03, -9.0745e-03, -1.2977e-02,  ..., -9.1232e-03,\n",
            "           -1.9478e-02, -1.4588e-02],\n",
            "          ...,\n",
            "          [ 2.3588e-03, -4.6573e-03, -7.2557e-03,  ..., -1.8102e-02,\n",
            "           -3.4763e-03, -1.0927e-02],\n",
            "          [ 6.1259e-03,  9.0789e-04,  4.7087e-03,  ...,  7.4929e-03,\n",
            "           -8.8258e-03, -9.5507e-03],\n",
            "          [-1.6272e-02,  3.3977e-03, -6.1172e-03,  ..., -2.9775e-03,\n",
            "           -3.2715e-03, -1.0692e-02]],\n",
            "\n",
            "         [[ 3.8767e-03,  1.7451e-02,  1.5427e-02,  ...,  1.2335e-02,\n",
            "            1.2246e-02,  1.0714e-02],\n",
            "          [ 1.3613e-02,  1.2139e-02,  4.7960e-03,  ...,  2.8129e-02,\n",
            "            9.8034e-03,  2.4185e-02],\n",
            "          [ 8.1375e-03,  1.5440e-03,  1.7596e-02,  ...,  1.0152e-02,\n",
            "            2.3950e-02,  2.7053e-02],\n",
            "          ...,\n",
            "          [ 1.4876e-02,  1.3722e-02,  2.4647e-02,  ...,  3.3571e-02,\n",
            "            4.4675e-03,  2.0152e-02],\n",
            "          [ 2.1942e-02,  3.1214e-02,  2.7433e-02,  ...,  2.9063e-02,\n",
            "            1.4656e-02,  3.1511e-03],\n",
            "          [ 3.7930e-03,  2.9611e-02,  2.3896e-02,  ...,  2.9485e-02,\n",
            "            3.5283e-02,  2.9278e-02]]],\n",
            "\n",
            "\n",
            "        [[[ 1.1876e-02,  5.8527e-03,  8.0604e-03,  ...,  1.1419e-02,\n",
            "            1.2081e-02,  6.9744e-03],\n",
            "          [ 1.0065e-02,  7.6115e-03,  3.4634e-03,  ...,  9.2444e-03,\n",
            "            2.5954e-03, -8.6383e-04],\n",
            "          [ 1.6715e-02,  9.5378e-03,  1.8745e-03,  ...,  1.9941e-03,\n",
            "            3.2543e-03,  3.6828e-03],\n",
            "          ...,\n",
            "          [ 2.7553e-03,  3.5211e-03, -2.7740e-03,  ..., -2.7938e-03,\n",
            "           -8.2143e-04,  4.4369e-03],\n",
            "          [ 3.8284e-03,  5.8209e-03,  8.2131e-03,  ...,  6.2869e-04,\n",
            "           -3.9858e-03,  4.7025e-03],\n",
            "          [ 5.7335e-03,  3.1212e-03, -3.5822e-03,  ...,  3.1333e-03,\n",
            "            3.9083e-03,  3.3880e-03]],\n",
            "\n",
            "         [[ 5.8721e-03,  2.2852e-03,  1.7669e-03,  ...,  1.8697e-03,\n",
            "           -4.7410e-03, -1.4109e-03],\n",
            "          [ 2.2235e-03, -9.0950e-05, -1.6518e-03,  ...,  7.6364e-05,\n",
            "           -2.7245e-03, -1.3898e-03],\n",
            "          [ 2.0060e-03, -1.0069e-03, -1.8046e-03,  ..., -5.3915e-03,\n",
            "           -3.7394e-03, -3.5961e-03],\n",
            "          ...,\n",
            "          [ 2.3360e-03, -2.1571e-03, -7.1527e-04,  ..., -1.2726e-03,\n",
            "           -8.5265e-03, -6.4528e-03],\n",
            "          [-7.8434e-04, -5.5338e-05, -2.4024e-03,  ..., -3.2172e-03,\n",
            "           -4.5012e-03, -4.5429e-03],\n",
            "          [-3.6030e-03, -2.0833e-03, -3.1695e-03,  ..., -2.5611e-03,\n",
            "           -3.8267e-03, -8.3296e-03]],\n",
            "\n",
            "         [[ 8.2184e-03,  7.9071e-03,  8.7667e-03,  ...,  7.6326e-03,\n",
            "            9.6149e-03,  7.3862e-03],\n",
            "          [ 9.1052e-03,  1.0944e-02,  6.9701e-03,  ...,  9.3135e-03,\n",
            "            8.2873e-03,  8.7426e-03],\n",
            "          [ 7.0873e-03,  7.3584e-03,  9.5563e-03,  ...,  7.5060e-03,\n",
            "            7.8711e-03,  1.0123e-02],\n",
            "          ...,\n",
            "          [ 1.0493e-02,  8.5607e-03,  1.0677e-02,  ...,  8.3247e-03,\n",
            "            8.8411e-03,  1.2546e-02],\n",
            "          [ 1.1843e-02,  8.9967e-03,  6.4381e-03,  ...,  7.4025e-03,\n",
            "            5.2149e-03,  4.5446e-03],\n",
            "          [ 9.9782e-03,  9.2994e-03,  7.2297e-03,  ...,  7.4136e-03,\n",
            "            9.9636e-03,  1.1841e-02]]]], requires_grad=True)\n",
            "Parameter containing:\n",
            "tensor([0.8525, 0.7697, 0.7697, 0.8053, 0.7764, 0.8076, 0.8169, 0.7698, 0.7827,\n",
            "        0.7818, 0.7706, 0.7744, 0.7726, 0.7782, 0.7744, 0.7871, 0.7742, 0.7814,\n",
            "        0.7700, 0.7739, 0.7798, 0.7810, 0.7736, 0.7784, 0.7868, 0.7839, 0.8051,\n",
            "        0.7883, 0.8184, 0.7852, 0.7696, 0.7697, 0.7719, 0.7734, 0.7707, 0.7824,\n",
            "        0.8048, 0.7673, 0.8036, 0.8005, 0.7831, 0.7800, 0.8033, 0.7749, 0.7749,\n",
            "        0.7707, 0.7818, 0.7714, 0.7731, 0.7768, 0.7718, 0.7779, 0.7741, 0.7724,\n",
            "        0.7724, 0.7809, 0.7824, 0.7828, 0.7759, 0.7726, 0.7719, 0.7736, 0.7774,\n",
            "        0.7703], requires_grad=True)\n",
            "Parameter containing:\n",
            "tensor([ 6.6357e-03,  1.2212e-03, -7.4974e-04, -7.8893e-03,  3.5337e-03,\n",
            "        -1.8250e-02,  1.2938e-02, -1.0095e-02, -1.5357e-02,  9.1003e-03,\n",
            "         4.3172e-03, -7.9020e-03, -7.6112e-03, -2.3652e-03,  6.9422e-03,\n",
            "         2.5799e-03, -2.5984e-03, -7.4576e-03, -6.3813e-03, -1.4098e-02,\n",
            "         2.7707e-03, -1.7909e-05, -9.9384e-04,  1.2595e-03, -2.1067e-03,\n",
            "        -3.5539e-02,  9.2788e-03,  1.0450e-05,  6.7052e-04,  7.0745e-04,\n",
            "         1.7673e-03, -8.6341e-03, -1.1023e-02, -8.6381e-03, -9.3189e-03,\n",
            "        -1.2415e-02,  1.5822e-02, -2.1860e-02,  6.4466e-03,  6.2968e-03,\n",
            "        -2.1757e-02, -2.1032e-02,  2.3243e-02, -1.1089e-02,  3.1210e-03,\n",
            "        -1.2420e-02,  1.1629e-02, -1.2220e-02, -2.6185e-03, -1.4935e-02,\n",
            "        -1.7479e-02,  5.1373e-03, -1.0325e-02, -6.7291e-03, -4.6111e-03,\n",
            "         2.4143e-02, -1.6217e-03,  9.5629e-03, -9.3085e-04, -1.9041e-02,\n",
            "        -1.1792e-02, -6.8860e-03, -1.4458e-02, -4.6229e-03],\n",
            "       requires_grad=True)\n",
            "Parameter containing:\n",
            "tensor([[[[-4.5582e-03,  1.1354e-02,  1.1604e-02],\n",
            "          [ 2.0253e-03,  1.8766e-02,  3.0201e-03],\n",
            "          [-6.6617e-03,  9.2471e-03,  1.1059e-02]],\n",
            "\n",
            "         [[-4.2819e-03, -4.5132e-03, -4.2018e-03],\n",
            "          [-3.9456e-03, -4.0882e-03, -3.8744e-03],\n",
            "          [-3.4066e-03, -3.5002e-03, -3.2505e-03]],\n",
            "\n",
            "         [[-4.4767e-03, -4.4263e-03, -4.0291e-03],\n",
            "          [-5.1079e-03, -5.0391e-03, -4.9941e-03],\n",
            "          [-5.4627e-03, -5.3682e-03, -4.9750e-03]],\n",
            "\n",
            "         ...,\n",
            "\n",
            "         [[ 5.1908e-03,  4.9736e-03,  4.6357e-03],\n",
            "          [ 4.5813e-03,  4.5230e-03,  4.3670e-03],\n",
            "          [ 3.4222e-03,  3.4767e-03,  3.1202e-03]],\n",
            "\n",
            "         [[-6.6296e-03, -4.3339e-03, -3.0549e-03],\n",
            "          [-3.3488e-03, -5.8902e-03, -7.9418e-03],\n",
            "          [-7.1864e-03, -5.9437e-03, -7.2612e-03]],\n",
            "\n",
            "         [[-3.5061e-03, -7.1921e-03, -1.0149e-02],\n",
            "          [-5.5676e-03, -3.1591e-03,  2.3261e-04],\n",
            "          [-4.7958e-03,  3.0271e-03, -1.1302e-02]]],\n",
            "\n",
            "\n",
            "        [[[ 1.3795e-02,  7.3199e-03,  3.4468e-02],\n",
            "          [ 1.5183e-02,  2.2150e-02,  1.9196e-02],\n",
            "          [ 2.6814e-02,  3.3290e-02,  2.1621e-02]],\n",
            "\n",
            "         [[-1.3130e-03, -7.0834e-04,  1.1957e-03],\n",
            "          [-7.5690e-03,  4.1660e-03,  1.7091e-03],\n",
            "          [ 1.7332e-03,  6.5711e-04,  3.2735e-03]],\n",
            "\n",
            "         [[-9.6620e-03, -6.2769e-03, -9.1059e-03],\n",
            "          [-1.3987e-02, -9.6656e-03, -7.1398e-03],\n",
            "          [-4.2517e-03, -1.2071e-02, -1.0501e-02]],\n",
            "\n",
            "         ...,\n",
            "\n",
            "         [[ 1.0739e-02,  6.9981e-03,  9.5840e-03],\n",
            "          [ 8.0084e-03,  1.0680e-02,  3.2181e-03],\n",
            "          [ 8.5279e-03,  2.7767e-03,  6.2178e-03]],\n",
            "\n",
            "         [[-1.0754e-02,  3.4258e-03, -5.7900e-03],\n",
            "          [-7.0007e-03, -3.5859e-03, -2.0216e-03],\n",
            "          [-8.8287e-03, -1.0609e-02, -7.0238e-03]],\n",
            "\n",
            "         [[-4.9837e-03, -7.4628e-03, -1.5873e-02],\n",
            "          [ 5.8873e-04, -8.2184e-03,  6.6449e-03],\n",
            "          [-5.2126e-03, -1.4005e-02, -1.4290e-02]]],\n",
            "\n",
            "\n",
            "        [[[-4.2258e-03, -1.5841e-02, -9.7671e-03],\n",
            "          [-1.6392e-02, -1.3074e-02, -8.4989e-03],\n",
            "          [-1.0058e-02, -1.6095e-02, -2.5947e-03]],\n",
            "\n",
            "         [[-2.9003e-03, -3.1121e-04, -2.4830e-03],\n",
            "          [-1.0062e-03, -6.9066e-04, -1.6556e-03],\n",
            "          [-4.0104e-03, -2.6803e-03,  7.5473e-04]],\n",
            "\n",
            "         [[ 1.2298e-03,  1.0726e-03,  7.6687e-04],\n",
            "          [ 1.6663e-03,  1.7516e-04,  1.2300e-03],\n",
            "          [ 3.0453e-03,  2.7778e-03,  3.1282e-03]],\n",
            "\n",
            "         ...,\n",
            "\n",
            "         [[ 7.3280e-03,  7.0396e-03,  7.2216e-03],\n",
            "          [ 8.5426e-03,  7.9023e-03,  8.0714e-03],\n",
            "          [ 9.0984e-03,  8.1059e-03,  8.8958e-03]],\n",
            "\n",
            "         [[ 8.4119e-05, -6.6585e-04, -2.6488e-05],\n",
            "          [-8.1379e-04, -7.5865e-04, -4.2396e-04],\n",
            "          [-2.4234e-03, -7.7068e-05,  1.1049e-04]],\n",
            "\n",
            "         [[-2.2427e-03, -1.7903e-03, -8.6406e-04],\n",
            "          [-2.2499e-03, -1.7516e-03, -4.8752e-04],\n",
            "          [-2.1244e-03, -1.4783e-03, -1.2128e-03]]],\n",
            "\n",
            "\n",
            "        ...,\n",
            "\n",
            "\n",
            "        [[[ 1.1323e-02,  1.3850e-02,  1.0694e-02],\n",
            "          [ 1.6230e-02,  1.6482e-02,  1.0534e-02],\n",
            "          [ 2.2878e-02,  1.2590e-02,  1.8071e-02]],\n",
            "\n",
            "         [[-4.4620e-03, -2.7838e-03, -4.1234e-03],\n",
            "          [-7.9057e-03, -3.0385e-03, -4.3277e-03],\n",
            "          [-3.0483e-03, -2.9225e-03, -2.4310e-03]],\n",
            "\n",
            "         [[ 1.9199e-03,  2.1919e-03,  9.7974e-04],\n",
            "          [ 3.1242e-05,  2.8724e-04, -1.0201e-03],\n",
            "          [-1.5557e-03, -1.2233e-03, -2.4902e-03]],\n",
            "\n",
            "         ...,\n",
            "\n",
            "         [[ 5.8343e-03,  5.5326e-03,  5.0301e-03],\n",
            "          [ 2.7622e-03,  5.1611e-03,  4.2261e-03],\n",
            "          [ 1.5463e-03,  2.7270e-03,  1.3928e-03]],\n",
            "\n",
            "         [[-1.6029e-03, -1.5997e-03, -2.3252e-03],\n",
            "          [-3.6154e-04, -1.1978e-03, -1.2987e-03],\n",
            "          [-1.3620e-03, -1.4704e-03, -2.5758e-03]],\n",
            "\n",
            "         [[ 6.2241e-03,  5.5284e-03,  4.5745e-03],\n",
            "          [ 6.6219e-03,  6.3845e-03,  5.3318e-03],\n",
            "          [ 6.2330e-03,  5.8764e-03,  5.4764e-03]]],\n",
            "\n",
            "\n",
            "        [[[-9.5457e-03, -6.2867e-03, -1.2150e-02],\n",
            "          [ 4.9195e-03, -1.6065e-02,  5.2312e-03],\n",
            "          [-4.7653e-03, -8.2224e-04, -1.4596e-02]],\n",
            "\n",
            "         [[-5.0305e-03, -4.0480e-03, -3.1246e-03],\n",
            "          [-5.4951e-03, -2.2655e-03, -1.6850e-03],\n",
            "          [-3.6989e-03, -6.7275e-04,  5.4385e-04]],\n",
            "\n",
            "         [[-8.1857e-03, -7.9250e-03, -8.2500e-03],\n",
            "          [-7.0066e-03, -7.1867e-03, -8.2755e-03],\n",
            "          [-6.2556e-03, -6.1413e-03, -6.3770e-03]],\n",
            "\n",
            "         ...,\n",
            "\n",
            "         [[ 2.0025e-04, -1.9838e-04, -1.7783e-03],\n",
            "          [-2.7911e-03, -3.1585e-03, -4.7456e-03],\n",
            "          [-6.5280e-03, -3.9246e-03, -4.5765e-03]],\n",
            "\n",
            "         [[-5.4799e-03, -4.3538e-03, -5.3795e-03],\n",
            "          [-4.6000e-03, -5.1348e-03, -2.1765e-03],\n",
            "          [-4.8408e-03, -3.7532e-03, -2.0813e-03]],\n",
            "\n",
            "         [[-9.8650e-03, -7.7700e-03, -8.6968e-03],\n",
            "          [-4.5742e-03, -6.9631e-03, -5.8478e-03],\n",
            "          [-5.6185e-03, -6.6368e-03, -5.8850e-03]]],\n",
            "\n",
            "\n",
            "        [[[-5.0973e-03, -6.7963e-03, -7.4530e-03],\n",
            "          [-4.1595e-03, -1.1144e-02, -4.7725e-03],\n",
            "          [-9.1015e-03, -6.2172e-03, -4.8050e-03]],\n",
            "\n",
            "         [[-4.1608e-03, -3.6516e-03, -3.9850e-03],\n",
            "          [-4.9207e-03, -4.9301e-03, -5.2780e-03],\n",
            "          [-6.2470e-03, -5.8883e-03, -6.6857e-03]],\n",
            "\n",
            "         [[-4.3802e-03, -4.7446e-03, -5.1761e-03],\n",
            "          [-5.1661e-03, -5.5006e-03, -5.9495e-03],\n",
            "          [-7.2926e-03, -7.5724e-03, -7.7776e-03]],\n",
            "\n",
            "         ...,\n",
            "\n",
            "         [[-3.5941e-03, -3.7911e-03, -3.6628e-03],\n",
            "          [-3.4174e-03, -3.6463e-03, -3.5980e-03],\n",
            "          [-2.8955e-03, -3.1682e-03, -3.1465e-03]],\n",
            "\n",
            "         [[-4.0244e-03, -4.3299e-03, -4.2220e-03],\n",
            "          [-4.5207e-03, -4.8101e-03, -4.9247e-03],\n",
            "          [-6.2565e-03, -6.2074e-03, -6.6923e-03]],\n",
            "\n",
            "         [[-3.7838e-03, -3.9313e-03, -4.5329e-03],\n",
            "          [-4.5907e-03, -4.6672e-03, -5.0354e-03],\n",
            "          [-5.9534e-03, -5.7555e-03, -6.1781e-03]]]], requires_grad=True)\n",
            "Parameter containing:\n",
            "tensor([0.7856, 0.7895, 0.7838, 0.7740, 0.7731, 0.7880, 0.8002, 0.8013, 0.7697,\n",
            "        0.7711, 0.7690, 0.7771, 0.7813, 0.7706, 0.7711, 0.7750, 0.7747, 0.7707,\n",
            "        0.7866, 0.7860, 0.7753, 0.7700, 0.7714, 0.7783, 0.7707, 0.7802, 0.7835,\n",
            "        0.8066, 0.7861, 0.7700, 0.7913, 0.7796, 0.7682, 0.7710, 0.7689, 0.7786,\n",
            "        0.7692, 0.7727, 0.7901, 0.7818, 0.8082, 0.7839, 0.7719, 0.7755, 0.7689,\n",
            "        0.7830, 0.7707, 0.7776, 0.7736, 0.7827, 0.7760, 0.7823, 0.7754, 0.7770,\n",
            "        0.7701, 0.7881, 0.7724, 0.7777, 0.7705, 0.7797, 0.7817, 0.7721, 0.7691,\n",
            "        0.7729], requires_grad=True)\n",
            "Parameter containing:\n",
            "tensor([-1.1958e-03, -2.4356e-02, -3.2997e-03, -7.9949e-04, -1.0325e-02,\n",
            "         1.1117e-02, -1.0214e-03, -5.7410e-03, -4.1310e-03,  4.4993e-04,\n",
            "        -8.9656e-03, -8.5152e-03, -2.1716e-03,  1.5570e-02, -4.6745e-03,\n",
            "        -3.2391e-03, -1.2902e-03,  1.0062e-02,  9.4760e-03, -2.4416e-02,\n",
            "        -3.0889e-04, -5.6368e-03, -9.0989e-03,  7.5452e-04, -2.1696e-02,\n",
            "        -9.8699e-04, -1.0037e-02,  9.1940e-03, -1.2441e-02,  7.6052e-03,\n",
            "         1.6653e-02, -1.8872e-02, -7.9595e-03,  2.6491e-03,  1.8147e-03,\n",
            "        -8.3283e-03,  9.3497e-04, -5.1483e-03,  1.5796e-03,  1.1754e-02,\n",
            "         1.2128e-02, -1.2115e-02, -1.8629e-03, -2.2485e-02, -8.7091e-03,\n",
            "        -1.7766e-02, -2.0913e-02, -3.2054e-03, -1.6305e-02, -1.3627e-02,\n",
            "        -7.1785e-03, -2.2195e-05, -7.1786e-03, -1.1113e-02,  1.4339e-02,\n",
            "         7.9073e-03,  1.5122e-03,  1.3427e-02, -3.8898e-03, -8.0113e-03,\n",
            "        -8.9198e-03, -1.5049e-02,  4.9527e-03,  1.3388e-02],\n",
            "       requires_grad=True)\n",
            "Parameter containing:\n",
            "tensor([[[[ 2.3402e-04, -2.9302e-03, -6.3699e-04],\n",
            "          [ 1.8660e-03, -3.1725e-03,  8.2621e-04],\n",
            "          [-2.2707e-03,  1.4674e-03, -1.5856e-03]],\n",
            "\n",
            "         [[-2.1582e-03, -1.3974e-03, -7.6087e-04],\n",
            "          [-2.4245e-03, -2.4360e-03, -1.1257e-03],\n",
            "          [-2.1339e-03, -2.7135e-03, -1.9469e-03]],\n",
            "\n",
            "         [[-4.1494e-03, -9.7021e-03, -5.3977e-03],\n",
            "          [-8.2888e-04,  4.6867e-04, -5.2490e-03],\n",
            "          [-8.0698e-03,  8.5246e-04, -3.3426e-03]],\n",
            "\n",
            "         ...,\n",
            "\n",
            "         [[-4.9512e-04, -1.0365e-04, -6.6258e-04],\n",
            "          [ 2.7364e-03,  1.6966e-03,  9.1979e-04],\n",
            "          [ 1.9584e-03, -7.2504e-04,  8.3259e-05]],\n",
            "\n",
            "         [[-8.7911e-03, -5.6666e-03, -4.8408e-03],\n",
            "          [-5.4010e-03, -9.8529e-03, -1.7795e-03],\n",
            "          [-8.4170e-04, -6.0776e-03, -2.7888e-03]],\n",
            "\n",
            "         [[ 4.6527e-03,  4.4064e-03,  3.4193e-03],\n",
            "          [ 5.4172e-03,  3.9855e-03,  4.0423e-03],\n",
            "          [ 5.2904e-03,  4.3793e-03,  4.1966e-03]]],\n",
            "\n",
            "\n",
            "        [[[-7.2624e-04,  2.8636e-03, -2.9732e-04],\n",
            "          [ 3.2412e-03, -2.3336e-03, -2.1183e-03],\n",
            "          [-1.4667e-03,  2.6300e-03, -1.1218e-03]],\n",
            "\n",
            "         [[-4.1142e-03, -1.0901e-03,  4.8957e-03],\n",
            "          [-3.0538e-03, -2.1012e-03, -5.6599e-03],\n",
            "          [-3.7546e-03, -4.3103e-03, -2.0179e-03]],\n",
            "\n",
            "         [[ 5.3808e-03,  7.0421e-03,  2.0767e-03],\n",
            "          [ 8.0755e-03,  6.1009e-03,  7.3788e-03],\n",
            "          [ 6.1545e-03,  5.7615e-03,  6.4816e-03]],\n",
            "\n",
            "         ...,\n",
            "\n",
            "         [[-1.8152e-03, -1.8151e-03, -1.8492e-03],\n",
            "          [-1.9256e-03, -1.5604e-03, -1.5226e-03],\n",
            "          [-2.1987e-03, -1.5181e-03, -1.4222e-03]],\n",
            "\n",
            "         [[-1.4167e-03, -2.9287e-03, -1.8852e-03],\n",
            "          [-2.7634e-03, -2.7464e-03, -1.9797e-03],\n",
            "          [-2.3449e-03, -4.8108e-03, -3.9343e-03]],\n",
            "\n",
            "         [[-6.9488e-03, -7.0613e-03, -6.8035e-03],\n",
            "          [-7.0288e-03, -7.2145e-03, -7.2906e-03],\n",
            "          [-7.5672e-03, -7.6350e-03, -7.4138e-03]]],\n",
            "\n",
            "\n",
            "        [[[ 4.1790e-04, -1.7206e-04,  1.3202e-03],\n",
            "          [ 9.6285e-04,  3.7708e-04,  2.4666e-05],\n",
            "          [ 1.5994e-03,  1.2214e-03,  1.4777e-03]],\n",
            "\n",
            "         [[ 5.0608e-03,  4.2408e-03,  9.6687e-03],\n",
            "          [ 8.8821e-03,  1.5841e-02,  1.1018e-02],\n",
            "          [ 3.7843e-03,  1.0193e-02,  8.4364e-03]],\n",
            "\n",
            "         [[-6.9267e-03,  1.8209e-03, -2.0183e-02],\n",
            "          [ 1.2585e-03, -1.7803e-03, -1.7643e-02],\n",
            "          [-1.4327e-03,  4.3795e-03, -2.0206e-03]],\n",
            "\n",
            "         ...,\n",
            "\n",
            "         [[ 1.1880e-03,  1.4505e-03,  1.6143e-03],\n",
            "          [ 1.0275e-03,  1.3902e-03,  1.5125e-03],\n",
            "          [ 6.8237e-04,  1.3589e-03,  1.5127e-03]],\n",
            "\n",
            "         [[ 4.6725e-03,  1.7813e-03,  9.0443e-04],\n",
            "          [ 4.2521e-03,  3.5599e-03,  4.1086e-03],\n",
            "          [ 3.8184e-03,  1.6701e-03,  2.2298e-04]],\n",
            "\n",
            "         [[ 2.5694e-03,  2.8505e-03,  2.7335e-03],\n",
            "          [ 2.6026e-03,  2.7385e-03,  2.7394e-03],\n",
            "          [ 2.1805e-03,  2.3365e-03,  2.3819e-03]]],\n",
            "\n",
            "\n",
            "        ...,\n",
            "\n",
            "\n",
            "        [[[ 7.2297e-04, -7.6792e-03,  3.1561e-03],\n",
            "          [-7.8676e-03, -8.8416e-03,  1.4739e-03],\n",
            "          [-9.1052e-05,  1.1953e-03,  3.8253e-03]],\n",
            "\n",
            "         [[-1.0839e-02, -4.0914e-03, -1.6152e-02],\n",
            "          [-1.3409e-02, -6.2390e-03, -1.0608e-02],\n",
            "          [-3.1160e-03, -9.6608e-03, -1.2101e-02]],\n",
            "\n",
            "         [[ 5.7151e-04,  1.3938e-02,  1.9784e-02],\n",
            "          [-5.5110e-03,  1.4197e-04,  5.5272e-03],\n",
            "          [-4.1915e-03, -6.7426e-03,  1.6341e-02]],\n",
            "\n",
            "         ...,\n",
            "\n",
            "         [[-3.5311e-03, -1.7615e-03, -1.0921e-03],\n",
            "          [ 5.0677e-03,  3.1652e-03,  1.8795e-03],\n",
            "          [-2.0351e-03, -1.8039e-03, -1.7703e-03]],\n",
            "\n",
            "         [[ 1.8268e-03, -1.9345e-03, -7.2387e-04],\n",
            "          [-4.0943e-03, -1.7213e-03, -5.7287e-03],\n",
            "          [-6.8460e-03,  1.1425e-03, -3.2554e-03]],\n",
            "\n",
            "         [[-4.4659e-03, -4.8577e-03, -5.6983e-03],\n",
            "          [-3.4758e-03, -5.2257e-03, -4.8308e-03],\n",
            "          [-5.9842e-03, -5.7953e-03, -4.7629e-03]]],\n",
            "\n",
            "\n",
            "        [[[-6.2194e-03,  7.9957e-03,  1.5986e-03],\n",
            "          [-3.7059e-03,  1.7794e-03, -1.4090e-03],\n",
            "          [ 1.1854e-02, -1.1362e-03,  1.0266e-02]],\n",
            "\n",
            "         [[ 7.3697e-03,  2.6997e-03, -1.7467e-03],\n",
            "          [ 8.9819e-03,  1.3662e-03,  7.3093e-03],\n",
            "          [ 6.6795e-03,  2.7690e-03,  3.5458e-03]],\n",
            "\n",
            "         [[-9.8944e-03, -6.4503e-03, -1.3233e-02],\n",
            "          [-9.6712e-03, -7.5859e-03, -5.1761e-03],\n",
            "          [-7.0663e-03, -1.3104e-02, -5.0332e-03]],\n",
            "\n",
            "         ...,\n",
            "\n",
            "         [[ 5.8882e-03,  5.1473e-03,  5.4170e-03],\n",
            "          [ 4.5202e-03,  6.6459e-03,  5.0184e-03],\n",
            "          [ 1.5263e-04,  1.4073e-03,  2.6270e-03]],\n",
            "\n",
            "         [[-7.1246e-04, -7.4842e-03, -2.3924e-03],\n",
            "          [-3.9120e-03, -3.4885e-04,  4.3206e-03],\n",
            "          [ 3.3818e-03, -2.8142e-03,  4.5620e-03]],\n",
            "\n",
            "         [[ 4.9980e-03,  7.1763e-03,  7.0835e-03],\n",
            "          [ 8.5795e-03,  8.1872e-03,  8.0276e-03],\n",
            "          [ 7.3728e-03,  3.7933e-03,  8.8268e-03]]],\n",
            "\n",
            "\n",
            "        [[[ 1.0280e-02,  1.0217e-02,  9.4948e-03],\n",
            "          [ 7.4271e-03,  1.3544e-02,  1.1017e-02],\n",
            "          [ 7.9529e-03,  1.0619e-03,  3.5217e-03]],\n",
            "\n",
            "         [[-7.4084e-03, -1.1042e-02, -2.1315e-02],\n",
            "          [-2.1735e-02, -1.0905e-02, -1.3632e-02],\n",
            "          [-1.5358e-02, -6.0550e-03, -1.3856e-02]],\n",
            "\n",
            "         [[ 9.2282e-03, -8.8935e-03, -2.5206e-03],\n",
            "          [ 1.2437e-02, -3.8223e-03,  3.4763e-03],\n",
            "          [ 2.3913e-03,  5.1587e-04,  5.5740e-03]],\n",
            "\n",
            "         ...,\n",
            "\n",
            "         [[ 5.9162e-03, -4.2618e-03, -1.9551e-03],\n",
            "          [ 2.7949e-03,  1.1557e-03,  2.8287e-03],\n",
            "          [-6.1549e-03,  4.2122e-03, -5.7857e-03]],\n",
            "\n",
            "         [[ 3.2465e-03,  2.4424e-03, -1.5936e-03],\n",
            "          [ 5.1879e-03,  5.4784e-03, -3.0378e-03],\n",
            "          [ 2.9458e-03, -4.0188e-03,  5.0873e-03]],\n",
            "\n",
            "         [[-8.5102e-03, -9.6892e-03, -9.6091e-03],\n",
            "          [-9.7491e-03, -9.9262e-03, -9.9557e-03],\n",
            "          [-8.0426e-03, -9.9020e-03, -1.0206e-02]]]], requires_grad=True)\n",
            "Parameter containing:\n",
            "tensor([0.7750, 0.7714, 0.7827, 0.7891, 0.7740, 0.7720, 0.7756, 0.7688, 0.7719,\n",
            "        0.7729, 0.7693, 0.7723, 0.7710, 0.7727, 0.7685, 0.7751, 0.7724, 0.7779,\n",
            "        0.7713, 0.7712, 0.7866, 0.7779, 0.7735, 0.7729, 0.7726, 0.7795, 0.7701,\n",
            "        0.7742, 0.7717, 0.7793, 0.7691, 0.7837, 0.7838, 0.7749, 0.7705, 0.7717,\n",
            "        0.7792, 0.7845, 0.7727, 0.7724, 0.7710, 0.7701, 0.7737, 0.7789, 0.7702,\n",
            "        0.7730, 0.7711, 0.7680, 0.7723, 0.7703, 0.7715, 0.7752, 0.7726, 0.7717,\n",
            "        0.7718, 0.7745, 0.7776, 0.7743, 0.7717, 0.7703, 0.7697, 0.7716, 0.7830,\n",
            "        0.7739], requires_grad=True)\n",
            "Parameter containing:\n",
            "tensor([-3.9605e-05,  4.4503e-05,  2.8534e-05,  3.0803e-05,  5.0655e-05,\n",
            "         2.1683e-04,  1.1212e-04, -2.3825e-04,  1.5868e-05,  2.6196e-04,\n",
            "        -1.0316e-04, -3.8313e-05, -1.8697e-04, -4.6399e-05,  1.2539e-04,\n",
            "         2.7427e-04,  4.6756e-05,  1.4729e-04,  3.9572e-05, -2.0479e-04,\n",
            "         3.7472e-05, -6.6342e-05, -4.2159e-05,  1.6713e-04, -4.1196e-05,\n",
            "        -3.3732e-05,  4.0199e-04,  1.4535e-04, -9.3649e-05, -5.7591e-05,\n",
            "         7.6326e-06,  9.1243e-05,  1.1606e-04,  1.4573e-04,  4.8192e-05,\n",
            "         1.7108e-04, -4.8293e-05, -2.5025e-06, -2.3198e-06,  2.3291e-04,\n",
            "        -7.4547e-05, -4.8244e-05,  2.1696e-04,  8.7960e-05, -2.6561e-05,\n",
            "        -3.0466e-06,  1.7844e-04,  6.7312e-05,  2.8847e-04,  1.9769e-04,\n",
            "        -7.8350e-06,  1.7728e-04,  2.0217e-04,  1.9709e-05,  6.1482e-05,\n",
            "        -3.4302e-05, -3.4722e-05,  2.9341e-04, -5.8169e-05,  6.2875e-05,\n",
            "         1.8326e-04, -4.6374e-05, -6.3990e-06,  1.0435e-04],\n",
            "       requires_grad=True)\n",
            "Parameter containing:\n",
            "tensor([[[[ 6.7438e-04,  8.9146e-04,  6.9839e-04],\n",
            "          [ 9.6627e-04,  8.4712e-04,  4.1118e-04],\n",
            "          [ 9.2990e-04,  8.7879e-04,  6.3181e-04]],\n",
            "\n",
            "         [[ 2.9150e-03,  2.8139e-03,  2.9850e-03],\n",
            "          [ 3.0053e-03,  2.9122e-03,  2.9266e-03],\n",
            "          [ 2.7670e-03,  2.7141e-03,  2.7307e-03]],\n",
            "\n",
            "         [[ 1.2969e-03,  1.2622e-03,  1.1561e-03],\n",
            "          [ 1.0813e-03,  1.0253e-03,  9.0192e-04],\n",
            "          [ 8.8837e-04,  8.1228e-04,  7.0703e-04]],\n",
            "\n",
            "         ...,\n",
            "\n",
            "         [[ 1.9309e-03,  2.0004e-03,  1.9866e-03],\n",
            "          [ 1.8677e-03,  1.8829e-03,  1.9072e-03],\n",
            "          [ 1.9440e-03,  1.9696e-03,  1.9830e-03]],\n",
            "\n",
            "         [[ 3.6490e-03,  4.2511e-03,  3.4056e-03],\n",
            "          [ 4.3732e-03,  3.8158e-03,  3.9625e-03],\n",
            "          [ 3.9384e-03,  3.4151e-03,  2.3324e-03]],\n",
            "\n",
            "         [[ 3.8263e-03,  3.9310e-03,  4.1169e-03],\n",
            "          [ 4.1708e-03,  4.2975e-03,  4.7209e-03],\n",
            "          [ 4.2739e-03,  4.3319e-03,  4.6966e-03]]],\n",
            "\n",
            "\n",
            "        [[[-4.3279e-03, -3.9929e-03, -6.2482e-03],\n",
            "          [-4.5745e-03, -6.6257e-03, -3.4584e-03],\n",
            "          [-5.3124e-03, -4.3549e-03, -3.4152e-03]],\n",
            "\n",
            "         [[-2.6010e-03, -2.5029e-03, -2.5318e-03],\n",
            "          [-2.4767e-03, -2.2575e-03, -2.3788e-03],\n",
            "          [-2.4397e-03, -2.1579e-03, -2.2729e-03]],\n",
            "\n",
            "         [[ 5.8203e-04,  1.5478e-04,  1.1281e-03],\n",
            "          [ 8.1363e-04,  8.3113e-04,  8.9145e-04],\n",
            "          [ 1.3632e-03,  1.2817e-03,  1.2714e-03]],\n",
            "\n",
            "         ...,\n",
            "\n",
            "         [[-2.6867e-04, -7.9183e-04, -4.3149e-04],\n",
            "          [-4.0794e-05, -7.0319e-04, -8.7407e-04],\n",
            "          [-8.0188e-04, -7.6761e-04, -9.2727e-04]],\n",
            "\n",
            "         [[-6.3623e-03, -5.9233e-03, -5.4326e-03],\n",
            "          [-5.3159e-03, -4.5876e-03, -3.9433e-03],\n",
            "          [-3.6131e-03, -2.7771e-03, -1.9552e-03]],\n",
            "\n",
            "         [[-3.1849e-03, -3.0085e-03, -3.1094e-03],\n",
            "          [-3.1615e-03, -3.0439e-03, -3.3345e-03],\n",
            "          [-3.4895e-03, -3.3913e-03, -3.6256e-03]]],\n",
            "\n",
            "\n",
            "        [[[-4.2736e-03, -4.0398e-03,  2.6214e-03],\n",
            "          [ 1.5385e-03, -4.2073e-03, -1.9596e-03],\n",
            "          [ 1.4405e-03,  7.3311e-04,  2.9331e-03]],\n",
            "\n",
            "         [[-4.2441e-03, -4.2114e-03, -4.5793e-03],\n",
            "          [-4.0233e-03, -4.0156e-03, -4.4474e-03],\n",
            "          [-4.4591e-03, -4.4684e-03, -4.8546e-03]],\n",
            "\n",
            "         [[ 1.5099e-03,  1.4531e-03,  1.9600e-03],\n",
            "          [ 8.6445e-04,  2.1164e-03,  1.9600e-03],\n",
            "          [ 1.0616e-03,  2.3543e-03,  2.3576e-03]],\n",
            "\n",
            "         ...,\n",
            "\n",
            "         [[-4.4731e-03, -2.8436e-03, -3.4393e-03],\n",
            "          [-2.1535e-03, -4.4844e-03, -2.8209e-03],\n",
            "          [-3.9680e-03, -3.8812e-03, -4.3234e-03]],\n",
            "\n",
            "         [[ 1.3236e-04,  3.7499e-04,  3.1027e-04],\n",
            "          [ 1.5963e-04,  2.6441e-04,  1.3181e-04],\n",
            "          [ 6.0952e-04,  7.5034e-04,  7.3308e-04]],\n",
            "\n",
            "         [[-2.4743e-03, -3.0600e-03, -2.2729e-03],\n",
            "          [-1.3207e-03, -1.5920e-03, -3.0892e-03],\n",
            "          [-1.9417e-03, -2.9228e-03, -2.9482e-05]]],\n",
            "\n",
            "\n",
            "        ...,\n",
            "\n",
            "\n",
            "        [[[-5.0436e-03, -4.3636e-03, -4.3750e-03],\n",
            "          [-4.9052e-03, -3.2529e-03, -3.5812e-03],\n",
            "          [-3.9062e-03, -3.3520e-03, -3.3579e-03]],\n",
            "\n",
            "         [[ 5.4090e-04,  7.2730e-04,  6.6065e-04],\n",
            "          [ 6.7099e-04,  8.4863e-04,  9.2096e-04],\n",
            "          [ 7.3244e-04,  9.1797e-04,  9.6813e-04]],\n",
            "\n",
            "         [[-6.9906e-04, -6.2519e-04, -6.2722e-04],\n",
            "          [-5.5061e-04, -4.7942e-04, -4.8144e-04],\n",
            "          [-6.0985e-04, -5.3239e-04, -5.0293e-04]],\n",
            "\n",
            "         ...,\n",
            "\n",
            "         [[ 7.0478e-04,  5.6493e-04,  5.2837e-04],\n",
            "          [-3.2159e-04,  5.5390e-04,  7.6681e-04],\n",
            "          [ 2.8161e-04,  8.4639e-04,  5.5255e-04]],\n",
            "\n",
            "         [[-5.3508e-03, -5.6022e-03, -6.3806e-03],\n",
            "          [-5.3232e-03, -4.6353e-03, -4.6907e-03],\n",
            "          [-5.0711e-03, -3.8326e-03, -4.1269e-03]],\n",
            "\n",
            "         [[-8.1672e-04, -7.5512e-04, -7.6205e-04],\n",
            "          [-8.8510e-04, -8.4134e-04, -9.0724e-04],\n",
            "          [-1.0483e-03, -1.0435e-03, -1.1570e-03]]],\n",
            "\n",
            "\n",
            "        [[[ 4.3559e-04,  5.1064e-04,  4.1149e-04],\n",
            "          [ 7.6572e-04,  1.0064e-03,  8.3103e-04],\n",
            "          [ 1.2030e-03,  1.3339e-03,  6.0133e-04]],\n",
            "\n",
            "         [[-4.1925e-03, -4.2295e-03, -4.4275e-03],\n",
            "          [-3.9166e-03, -3.9727e-03, -4.3276e-03],\n",
            "          [-4.2362e-03, -4.3011e-03, -4.6834e-03]],\n",
            "\n",
            "         [[ 1.2838e-03,  1.4919e-03,  1.5382e-03],\n",
            "          [ 1.1511e-03,  1.3019e-03,  1.4878e-03],\n",
            "          [ 1.2210e-03,  1.6087e-03,  1.5408e-03]],\n",
            "\n",
            "         ...,\n",
            "\n",
            "         [[-6.7145e-04, -1.9014e-03, -8.9984e-04],\n",
            "          [-3.0522e-03, -3.2903e-03, -1.4696e-03],\n",
            "          [-1.4616e-03, -1.4690e-03, -1.7162e-03]],\n",
            "\n",
            "         [[ 5.0350e-05,  1.8864e-04,  3.2007e-04],\n",
            "          [-1.2304e-04,  3.1480e-05,  5.0602e-05],\n",
            "          [ 2.3580e-04,  3.0056e-04,  3.0795e-04]],\n",
            "\n",
            "         [[-1.6831e-03, -1.3492e-03, -1.9075e-03],\n",
            "          [-1.1164e-03, -1.1123e-03, -1.2806e-03],\n",
            "          [-6.0466e-04, -5.5768e-04, -7.0003e-04]]],\n",
            "\n",
            "\n",
            "        [[[ 3.6136e-03,  1.3479e-03,  1.4560e-03],\n",
            "          [ 3.6751e-03, -3.4979e-04,  3.3942e-03],\n",
            "          [ 5.1520e-03,  1.9673e-03,  2.5269e-03]],\n",
            "\n",
            "         [[-3.5978e-03, -3.2713e-03, -3.7793e-03],\n",
            "          [-2.9963e-03, -3.0405e-03, -3.4950e-03],\n",
            "          [-3.6593e-03, -3.6461e-03, -4.1064e-03]],\n",
            "\n",
            "         [[ 2.1515e-03,  1.9674e-03,  2.5927e-03],\n",
            "          [ 1.6657e-03,  2.0038e-03,  1.8544e-03],\n",
            "          [ 3.2255e-03,  2.4965e-03,  2.6888e-03]],\n",
            "\n",
            "         ...,\n",
            "\n",
            "         [[-3.9090e-03, -3.0478e-04, -3.7818e-04],\n",
            "          [-1.9904e-03, -4.4411e-04, -5.2269e-04],\n",
            "          [-1.4916e-03, -2.2857e-03, -1.4911e-03]],\n",
            "\n",
            "         [[ 2.6699e-03,  2.8631e-03,  2.6641e-03],\n",
            "          [ 2.3172e-03,  2.5850e-03,  2.3582e-03],\n",
            "          [ 2.6231e-03,  3.0137e-03,  2.6170e-03]],\n",
            "\n",
            "         [[-2.9075e-03, -4.0370e-05, -1.4744e-03],\n",
            "          [-3.9771e-03, -4.5334e-03, -4.5649e-03],\n",
            "          [ 5.6845e-03, -7.8033e-04,  2.4404e-03]]]], requires_grad=True)\n",
            "Parameter containing:\n",
            "tensor([0.7695, 0.7709, 0.7687, 0.7756, 0.7705, 0.7671, 0.7741, 0.7708, 0.7677,\n",
            "        0.7687, 0.7737, 0.7713, 0.7689, 0.7680, 0.7704, 0.7780, 0.7750, 0.7681,\n",
            "        0.7693, 0.7829, 0.7689, 0.7677, 0.7691, 0.7737, 0.7682, 0.7700, 0.7725,\n",
            "        0.7733, 0.7684, 0.7689, 0.7892, 0.7730, 0.7687, 0.7746, 0.7710, 0.7739,\n",
            "        0.7795, 0.7765, 0.7709, 0.7688, 0.7691, 0.7691, 0.7705, 0.7763, 0.7708,\n",
            "        0.7715, 0.7690, 0.7689, 0.7678, 0.7702, 0.7698, 0.7693, 0.7695, 0.7739,\n",
            "        0.7697, 0.7757, 0.7708, 0.7727, 0.7678, 0.7690, 0.7853, 0.7677, 0.7708,\n",
            "        0.7714], requires_grad=True)\n",
            "Parameter containing:\n",
            "tensor([ 0.0017, -0.0020, -0.0131, -0.0039, -0.0054, -0.0025, -0.0216, -0.0056,\n",
            "        -0.0074,  0.0019,  0.0009,  0.0023, -0.0043, -0.0032,  0.0028, -0.0114,\n",
            "        -0.0048, -0.0107, -0.0036, -0.0023,  0.0044, -0.0185, -0.0024,  0.0004,\n",
            "        -0.0030,  0.0051, -0.0103,  0.0099,  0.0043,  0.0009, -0.0161, -0.0047,\n",
            "         0.0024, -0.0129, -0.0051,  0.0073,  0.0050,  0.0028, -0.0020, -0.0019,\n",
            "        -0.0012, -0.0017,  0.0006,  0.0066,  0.0010, -0.0155, -0.0045, -0.0034,\n",
            "         0.0039,  0.0031, -0.0026, -0.0066,  0.0096, -0.0094,  0.0019, -0.0012,\n",
            "         0.0020, -0.0149,  0.0023, -0.0045, -0.0182, -0.0034, -0.0063, -0.0099],\n",
            "       requires_grad=True)\n",
            "Parameter containing:\n",
            "tensor([[[[ 3.5994e-03,  3.4058e-03,  3.3332e-03],\n",
            "          [ 3.4794e-03,  3.4291e-03,  3.2416e-03],\n",
            "          [ 3.2031e-03,  3.1102e-03,  3.1023e-03]],\n",
            "\n",
            "         [[-2.1374e-03, -1.9637e-03, -2.1921e-03],\n",
            "          [-2.3561e-03, -2.1660e-03, -1.0155e-03],\n",
            "          [-3.0675e-03, -2.8476e-03, -2.5470e-03]],\n",
            "\n",
            "         [[-5.2605e-05, -5.1525e-04, -5.2783e-04],\n",
            "          [-9.6547e-04, -1.0430e-03,  6.0570e-04],\n",
            "          [-1.9103e-03, -5.8146e-04, -1.2794e-04]],\n",
            "\n",
            "         ...,\n",
            "\n",
            "         [[ 3.9022e-05,  5.5013e-04, -9.2301e-04],\n",
            "          [ 1.7432e-04, -1.0682e-03, -9.8268e-05],\n",
            "          [-2.3333e-04, -8.2328e-04, -4.4099e-04]],\n",
            "\n",
            "         [[-5.3419e-04, -2.7234e-03,  1.2069e-06],\n",
            "          [-1.3034e-03, -4.2689e-04, -1.2619e-04],\n",
            "          [-3.6645e-04, -1.2155e-03, -1.8519e-03]],\n",
            "\n",
            "         [[-2.2551e-03, -3.7526e-03, -2.4098e-03],\n",
            "          [-3.2995e-03, -3.2005e-03, -2.7399e-03],\n",
            "          [-2.4212e-03, -2.7154e-03, -2.8669e-03]]],\n",
            "\n",
            "\n",
            "        [[[-3.8907e-03, -3.8274e-03, -3.7989e-03],\n",
            "          [-3.8085e-03, -3.4207e-03, -3.9235e-03],\n",
            "          [-3.5966e-03, -4.0540e-03, -3.9636e-03]],\n",
            "\n",
            "         [[ 2.1230e-03,  2.0486e-03,  1.9920e-03],\n",
            "          [ 2.0142e-03,  2.2778e-03,  2.3249e-03],\n",
            "          [ 2.4799e-03,  2.7150e-03,  2.9958e-03]],\n",
            "\n",
            "         [[ 3.7392e-04, -7.1795e-04, -3.7999e-04],\n",
            "          [-1.2523e-04, -8.6871e-04, -2.7575e-05],\n",
            "          [-1.2210e-03, -3.0968e-04, -4.4100e-04]],\n",
            "\n",
            "         ...,\n",
            "\n",
            "         [[-1.0567e-03, -1.0873e-03, -8.5755e-04],\n",
            "          [-9.5928e-04, -9.5292e-04, -7.4071e-04],\n",
            "          [-6.2230e-04, -7.4076e-04, -4.9200e-04]],\n",
            "\n",
            "         [[-2.8862e-03, -3.1699e-03, -5.7566e-04],\n",
            "          [ 7.1006e-04, -9.4395e-04, -2.7361e-04],\n",
            "          [-3.9342e-03,  3.4285e-04,  7.1229e-04]],\n",
            "\n",
            "         [[-9.3245e-04, -3.7565e-03, -8.7500e-04],\n",
            "          [-2.0959e-04, -1.7753e-03, -3.3209e-03],\n",
            "          [-1.6333e-03, -2.2909e-03, -1.5651e-03]]],\n",
            "\n",
            "\n",
            "        [[[ 1.2820e-04,  1.3653e-04, -7.1631e-04],\n",
            "          [-1.3310e-04,  4.6014e-04,  6.7363e-05],\n",
            "          [ 5.1110e-07, -1.7666e-04, -9.2791e-05]],\n",
            "\n",
            "         [[-2.3229e-03, -2.1807e-03, -2.1797e-03],\n",
            "          [-2.2348e-03, -2.1104e-03, -2.2890e-03],\n",
            "          [-2.5357e-03, -2.2996e-03, -2.3447e-03]],\n",
            "\n",
            "         [[ 3.4681e-03,  3.9596e-03,  4.1970e-03],\n",
            "          [ 3.4002e-03,  3.2498e-03,  3.7695e-03],\n",
            "          [ 2.9915e-03,  3.3298e-03,  3.5740e-03]],\n",
            "\n",
            "         ...,\n",
            "\n",
            "         [[-1.7891e-03, -2.7138e-03, -2.4410e-03],\n",
            "          [-1.0787e-03, -1.6487e-03, -1.6648e-03],\n",
            "          [-1.1959e-03, -3.7074e-03, -2.7008e-03]],\n",
            "\n",
            "         [[ 3.8711e-03,  6.5325e-04,  3.9933e-03],\n",
            "          [ 8.8086e-05,  2.0815e-03, -8.1655e-04],\n",
            "          [-1.1110e-03, -6.1752e-04, -2.6717e-04]],\n",
            "\n",
            "         [[ 5.3170e-03,  5.9570e-03,  6.1130e-03],\n",
            "          [ 4.3673e-03,  4.7837e-03,  4.3541e-03],\n",
            "          [ 4.5323e-03,  4.1421e-03,  5.6144e-03]]],\n",
            "\n",
            "\n",
            "        ...,\n",
            "\n",
            "\n",
            "        [[[-3.9815e-03, -3.9204e-03, -3.5259e-03],\n",
            "          [-4.1817e-03, -3.5848e-03, -3.7047e-03],\n",
            "          [-3.6341e-03, -3.2217e-03, -3.9715e-03]],\n",
            "\n",
            "         [[ 2.6321e-03,  2.8721e-03,  3.0901e-03],\n",
            "          [ 2.9682e-03,  3.1433e-03,  2.9861e-03],\n",
            "          [ 3.1706e-03,  3.4228e-03,  3.7586e-03]],\n",
            "\n",
            "         [[-8.2931e-04,  9.1485e-04,  1.1213e-04],\n",
            "          [-1.8128e-04,  1.5988e-03,  1.6522e-04],\n",
            "          [-5.8663e-04, -2.8686e-03, -1.1939e-04]],\n",
            "\n",
            "         ...,\n",
            "\n",
            "         [[-5.1309e-04,  2.0982e-04, -5.8689e-04],\n",
            "          [ 3.7475e-05, -9.0411e-05, -9.7659e-04],\n",
            "          [-6.0907e-04,  4.8435e-04, -8.1349e-04]],\n",
            "\n",
            "         [[ 4.4441e-03,  5.3169e-03,  4.4918e-03],\n",
            "          [ 2.5392e-03,  3.7444e-03,  1.3520e-03],\n",
            "          [ 5.1569e-03,  5.3893e-03,  4.5572e-04]],\n",
            "\n",
            "         [[ 4.8509e-04, -3.2936e-04, -1.3093e-04],\n",
            "          [ 5.8761e-04, -1.1381e-03, -2.2854e-03],\n",
            "          [-1.7359e-03, -1.8164e-03, -2.2349e-03]]],\n",
            "\n",
            "\n",
            "        [[[ 3.0174e-03,  3.9360e-03,  3.6201e-03],\n",
            "          [ 3.6165e-03,  3.1570e-03,  2.9618e-03],\n",
            "          [ 2.5647e-03,  2.8744e-03,  2.7840e-03]],\n",
            "\n",
            "         [[-3.1228e-03, -3.1345e-03, -3.4781e-03],\n",
            "          [-2.6132e-03, -2.6432e-03, -2.4626e-03],\n",
            "          [-2.3426e-03, -2.2262e-03, -2.1570e-03]],\n",
            "\n",
            "         [[-2.7631e-03, -2.4587e-03, -1.7738e-03],\n",
            "          [-2.6082e-03, -2.5951e-03, -2.1781e-03],\n",
            "          [-4.5952e-03, -3.1911e-03, -2.8859e-03]],\n",
            "\n",
            "         ...,\n",
            "\n",
            "         [[-2.6820e-03, -3.8224e-04,  1.9843e-03],\n",
            "          [-1.1410e-03, -5.3813e-05,  1.9882e-03],\n",
            "          [ 2.6540e-03, -6.2687e-04,  1.8856e-03]],\n",
            "\n",
            "         [[-1.8520e-04, -3.1214e-03, -1.4434e-03],\n",
            "          [-5.3356e-03, -3.6394e-03, -3.3371e-03],\n",
            "          [-1.4341e-03, -2.9706e-03, -4.7037e-03]],\n",
            "\n",
            "         [[-2.1799e-03, -4.5069e-04, -1.0039e-03],\n",
            "          [-3.0098e-03, -2.2685e-03, -1.0374e-03],\n",
            "          [-3.1933e-03, -3.2595e-03, -2.1886e-03]]],\n",
            "\n",
            "\n",
            "        [[[-2.8707e-03, -2.9220e-03, -2.9759e-03],\n",
            "          [-3.0710e-03, -3.1398e-03, -3.0312e-03],\n",
            "          [-2.9331e-03, -2.9681e-03, -2.9741e-03]],\n",
            "\n",
            "         [[ 1.6180e-03,  1.3993e-03,  1.2096e-03],\n",
            "          [ 2.0311e-03,  1.7859e-03,  1.7479e-03],\n",
            "          [ 2.3561e-03,  2.1873e-03,  1.9164e-03]],\n",
            "\n",
            "         [[-8.0195e-04, -5.2534e-04, -4.2661e-04],\n",
            "          [-1.2053e-03, -9.4895e-04, -8.3165e-04],\n",
            "          [-2.1611e-03, -1.9027e-03, -1.7648e-03]],\n",
            "\n",
            "         ...,\n",
            "\n",
            "         [[ 2.3480e-04,  1.5764e-04,  4.8373e-06],\n",
            "          [ 3.7116e-04,  2.7814e-04,  1.1928e-04],\n",
            "          [ 5.3356e-04,  4.5990e-04,  2.7397e-04]],\n",
            "\n",
            "         [[-1.3315e-03, -1.0333e-03, -9.3575e-04],\n",
            "          [-1.7293e-03, -1.4174e-03, -1.3497e-03],\n",
            "          [-2.7195e-03, -2.4601e-03, -2.3906e-03]],\n",
            "\n",
            "         [[-2.7779e-05,  2.0536e-04,  3.5549e-04],\n",
            "          [-2.7997e-04, -3.2611e-05,  3.0699e-05],\n",
            "          [-1.1936e-03, -1.0206e-03, -7.1384e-04]]]], requires_grad=True)\n",
            "Parameter containing:\n",
            "tensor([0.7700, 0.7708, 0.7678, 0.7679, 0.7715, 0.7688, 0.7720, 0.7681, 0.7691,\n",
            "        0.7678, 0.7690, 0.7709, 0.7698, 0.7708, 0.7686, 0.7695, 0.7735, 0.7708,\n",
            "        0.7684, 0.7680, 0.7688, 0.7666, 0.7708, 0.7689, 0.7733, 0.7712, 0.7677,\n",
            "        0.7680, 0.7729, 0.7682, 0.7686, 0.7677, 0.7795, 0.7725, 0.7690, 0.7684,\n",
            "        0.7702, 0.7705, 0.7741, 0.7695, 0.7694, 0.7712, 0.7681, 0.7700, 0.7709,\n",
            "        0.7701, 0.7674, 0.7681, 0.7727, 0.7698, 0.7691, 0.7694, 0.7697, 0.7716,\n",
            "        0.7719, 0.7686, 0.7684, 0.7703, 0.7680, 0.7694, 0.7711, 0.7701, 0.7764,\n",
            "        0.7686], requires_grad=True)\n",
            "Parameter containing:\n",
            "tensor([ 8.0771e-06, -1.3948e-05,  7.5185e-05,  9.3696e-05,  1.2942e-04,\n",
            "         3.6701e-05,  1.4988e-04, -1.2159e-04,  3.6703e-05,  1.4989e-04,\n",
            "        -7.3034e-05, -3.0005e-05, -1.4102e-04,  1.1075e-04,  5.5860e-05,\n",
            "         1.4712e-05,  6.8919e-06,  1.8879e-04,  1.0186e-04,  5.7598e-05,\n",
            "        -6.0036e-05, -8.4383e-05,  5.3002e-05,  1.2000e-04,  7.1866e-05,\n",
            "         3.3910e-05,  1.7061e-04,  1.3307e-05,  2.8850e-05,  8.7547e-05,\n",
            "        -4.7769e-05,  5.6391e-05, -7.8037e-05,  4.2053e-05,  1.1812e-05,\n",
            "         1.6391e-04,  9.0846e-06,  1.0027e-04,  1.0542e-04,  1.8186e-04,\n",
            "         4.9380e-05,  9.9392e-05,  9.4258e-05,  3.9566e-05,  8.7183e-05,\n",
            "         4.4659e-05,  1.3099e-04,  6.2342e-05,  2.3988e-04,  9.8168e-05,\n",
            "        -5.5425e-06,  8.1215e-05,  7.0075e-05,  6.9735e-05,  8.9991e-05,\n",
            "         1.0173e-05, -2.9667e-05,  2.1238e-04, -6.5794e-05, -1.3886e-05,\n",
            "         9.3685e-05, -4.7478e-05,  6.8479e-05,  5.9373e-05],\n",
            "       requires_grad=True)\n",
            "Parameter containing:\n",
            "tensor([[[[ 1.2960e-03,  1.2428e-03,  9.3900e-04],\n",
            "          [ 1.2628e-03,  1.2917e-03,  8.9737e-04],\n",
            "          [ 1.1050e-03,  1.0335e-03,  7.9740e-04]],\n",
            "\n",
            "         [[-2.8337e-03, -2.5398e-03, -2.2073e-03],\n",
            "          [-2.9352e-03, -2.6549e-03, -2.3542e-03],\n",
            "          [-2.6906e-03, -2.4694e-03, -2.2133e-03]],\n",
            "\n",
            "         [[ 5.0241e-03,  4.7840e-03,  4.5200e-03],\n",
            "          [ 4.8292e-03,  4.6930e-03,  4.4419e-03],\n",
            "          [ 4.6946e-03,  4.7497e-03,  4.3440e-03]],\n",
            "\n",
            "         ...,\n",
            "\n",
            "         [[-2.9165e-04, -1.0103e-04,  2.7091e-04],\n",
            "          [-8.7784e-05,  2.2038e-04,  3.5275e-04],\n",
            "          [-6.2794e-05,  2.6782e-04,  3.2357e-04]],\n",
            "\n",
            "         [[ 1.7813e-03,  1.8147e-03,  2.0932e-03],\n",
            "          [ 1.6090e-03,  1.6207e-03,  1.4956e-03],\n",
            "          [ 1.5322e-03,  1.6499e-03,  1.4186e-03]],\n",
            "\n",
            "         [[-3.3380e-03, -2.7307e-03, -2.9062e-03],\n",
            "          [-3.2101e-03, -2.7284e-03, -2.7680e-03],\n",
            "          [-3.0397e-03, -2.6495e-03, -2.4686e-03]]],\n",
            "\n",
            "\n",
            "        [[[ 7.9295e-04,  8.3463e-04,  9.4091e-04],\n",
            "          [ 8.1424e-04,  8.5107e-04,  1.0234e-03],\n",
            "          [ 1.1828e-03,  7.1755e-04,  1.0215e-03]],\n",
            "\n",
            "         [[-2.7019e-03, -3.1082e-03, -3.4350e-03],\n",
            "          [-2.4872e-03, -2.6338e-03, -2.7553e-03],\n",
            "          [-2.5057e-03, -2.5455e-03, -2.7780e-03]],\n",
            "\n",
            "         [[-8.7975e-04, -7.9318e-04, -6.8425e-04],\n",
            "          [-1.1520e-03, -1.0833e-03, -9.6450e-04],\n",
            "          [-8.7657e-04, -7.9817e-04, -7.1690e-04]],\n",
            "\n",
            "         ...,\n",
            "\n",
            "         [[-1.2202e-03, -1.2266e-03, -1.3798e-03],\n",
            "          [-1.0716e-03, -1.0536e-03, -1.2177e-03],\n",
            "          [-1.4888e-03, -1.5059e-03, -1.6606e-03]],\n",
            "\n",
            "         [[-1.0922e-03, -8.9318e-04, -9.3636e-04],\n",
            "          [-9.6835e-04, -8.3214e-04, -8.5827e-04],\n",
            "          [-5.6479e-04, -6.1986e-04, -7.1043e-04]],\n",
            "\n",
            "         [[-2.0301e-03, -2.0086e-03, -2.2030e-03],\n",
            "          [-1.7750e-03, -1.7616e-03, -1.9730e-03],\n",
            "          [-1.7995e-03, -1.7536e-03, -1.8518e-03]]],\n",
            "\n",
            "\n",
            "        [[[-6.7818e-03, -6.6948e-03, -6.2596e-03],\n",
            "          [-6.3325e-03, -5.8887e-03, -6.0350e-03],\n",
            "          [-6.0748e-03, -5.6963e-03, -5.8733e-03]],\n",
            "\n",
            "         [[-2.8249e-04, -3.7461e-04, -2.6828e-04],\n",
            "          [-1.0357e-03, -9.5798e-04, -8.4737e-04],\n",
            "          [-1.5904e-03, -1.4744e-03, -1.1669e-03]],\n",
            "\n",
            "         [[ 8.6686e-04,  9.8384e-04,  1.3174e-03],\n",
            "          [ 1.1723e-03,  1.1700e-03,  1.2109e-03],\n",
            "          [ 1.5643e-03,  1.5581e-03,  1.6631e-03]],\n",
            "\n",
            "         ...,\n",
            "\n",
            "         [[ 1.1487e-03,  1.0614e-03,  1.1693e-03],\n",
            "          [ 4.0135e-04,  1.5104e-03,  9.5315e-04],\n",
            "          [-3.0688e-04,  5.1638e-04,  5.6020e-05]],\n",
            "\n",
            "         [[-4.2538e-03, -4.1170e-03, -3.8539e-03],\n",
            "          [-4.3778e-03, -4.1528e-03, -3.7816e-03],\n",
            "          [-4.3386e-03, -4.0383e-03, -3.7257e-03]],\n",
            "\n",
            "         [[-6.7241e-03, -6.7299e-03, -6.5609e-03],\n",
            "          [-7.6871e-03, -7.5698e-03, -7.3190e-03],\n",
            "          [-8.3231e-03, -8.1560e-03, -7.8442e-03]]],\n",
            "\n",
            "\n",
            "        ...,\n",
            "\n",
            "\n",
            "        [[[ 9.8281e-04,  1.1371e-03,  1.1332e-03],\n",
            "          [ 1.3781e-03,  2.0705e-03,  2.4405e-03],\n",
            "          [ 2.1579e-03,  2.1820e-03,  2.4704e-03]],\n",
            "\n",
            "         [[-2.4289e-03, -2.5616e-03, -3.0708e-03],\n",
            "          [-2.3015e-03, -2.5023e-03, -2.9784e-03],\n",
            "          [-2.5505e-03, -2.7364e-03, -3.1637e-03]],\n",
            "\n",
            "         [[-1.1655e-03, -8.5152e-04, -4.7355e-04],\n",
            "          [-1.3238e-03, -1.1775e-03, -7.0503e-04],\n",
            "          [-8.5361e-04, -7.3873e-04, -8.8293e-04]],\n",
            "\n",
            "         ...,\n",
            "\n",
            "         [[-6.6437e-04, -5.3537e-04, -7.9161e-04],\n",
            "          [-2.6626e-04, -3.4531e-04, -5.5842e-04],\n",
            "          [-9.4858e-04, -1.0748e-03, -1.4156e-03]],\n",
            "\n",
            "         [[-3.0298e-03, -2.9859e-03, -3.0820e-03],\n",
            "          [-2.9030e-03, -2.8234e-03, -3.0435e-03],\n",
            "          [-2.9509e-03, -2.8233e-03, -2.9492e-03]],\n",
            "\n",
            "         [[-9.0420e-04, -9.4661e-04, -1.1725e-03],\n",
            "          [-5.0545e-04, -5.4509e-04, -7.8887e-04],\n",
            "          [-4.7249e-04, -4.9269e-04, -6.8958e-04]]],\n",
            "\n",
            "\n",
            "        [[[ 1.0112e-03,  1.0195e-03,  7.7853e-04],\n",
            "          [ 1.2912e-03,  7.8536e-04,  1.0624e-03],\n",
            "          [ 1.5369e-03,  1.0635e-03,  1.2535e-03]],\n",
            "\n",
            "         [[-1.2008e-03, -8.6930e-04, -7.2395e-04],\n",
            "          [-1.2333e-03, -9.0781e-04, -8.7017e-04],\n",
            "          [-1.5314e-03, -1.0541e-03, -8.3026e-04]],\n",
            "\n",
            "         [[-1.3018e-03, -1.3813e-03, -1.4775e-03],\n",
            "          [-1.3061e-03, -1.4242e-03, -1.4310e-03],\n",
            "          [-1.1996e-03, -1.2627e-03, -1.3351e-03]],\n",
            "\n",
            "         ...,\n",
            "\n",
            "         [[-1.5871e-03, -1.2286e-03, -1.2083e-03],\n",
            "          [-1.6024e-03, -1.3472e-03, -1.1327e-03],\n",
            "          [-1.9141e-03, -1.5065e-03, -1.2325e-03]],\n",
            "\n",
            "         [[ 3.6585e-04,  4.6210e-04,  5.3755e-04],\n",
            "          [ 2.8481e-04,  4.5739e-04,  4.9879e-04],\n",
            "          [ 1.0713e-03,  5.3337e-04,  9.2786e-04]],\n",
            "\n",
            "         [[-1.7712e-03, -1.6104e-03, -1.5903e-03],\n",
            "          [-1.6967e-03, -1.5655e-03, -1.5288e-03],\n",
            "          [-1.7903e-03, -1.6382e-03, -1.5977e-03]]],\n",
            "\n",
            "\n",
            "        [[[-2.8966e-04, -1.5855e-04,  5.8686e-05],\n",
            "          [-1.9187e-04, -2.8058e-04,  5.9844e-05],\n",
            "          [ 1.0029e-04,  1.5326e-04,  3.0959e-04]],\n",
            "\n",
            "         [[-2.4789e-03, -2.4900e-03, -2.6227e-03],\n",
            "          [-2.4179e-03, -2.4222e-03, -2.6671e-03],\n",
            "          [-2.5182e-03, -2.5223e-03, -2.6637e-03]],\n",
            "\n",
            "         [[ 5.8943e-03,  4.8187e-03,  5.7248e-03],\n",
            "          [ 3.8709e-03,  5.7583e-03,  1.8419e-03],\n",
            "          [ 3.1056e-03,  4.2141e-03,  5.7175e-03]],\n",
            "\n",
            "         ...,\n",
            "\n",
            "         [[-2.6062e-03, -3.5085e-03, -3.4919e-03],\n",
            "          [-3.9078e-03, -2.3043e-03, -2.1691e-03],\n",
            "          [-2.8616e-03, -2.6838e-03, -3.0202e-03]],\n",
            "\n",
            "         [[ 1.6159e-03,  1.4517e-03, -1.2196e-03],\n",
            "          [ 1.6031e-03,  1.4918e-03,  1.6612e-03],\n",
            "          [ 1.6569e-03,  1.7245e-03,  1.6354e-03]],\n",
            "\n",
            "         [[-2.0578e-03, -2.0863e-03, -2.2811e-03],\n",
            "          [-2.1127e-03, -2.1621e-03, -2.1115e-03],\n",
            "          [-1.9855e-03, -2.0626e-03, -2.1323e-03]]]], requires_grad=True)\n",
            "Parameter containing:\n",
            "tensor([0.7684, 0.7683, 0.7676, 0.7705, 0.7699, 0.7720, 0.7683, 0.7680, 0.7693,\n",
            "        0.7694, 0.7698, 0.7683, 0.7695, 0.7682, 0.7713, 0.7682, 0.7688, 0.7683,\n",
            "        0.7674, 0.7703, 0.7687, 0.7699, 0.7679, 0.7688, 0.7688, 0.7685, 0.7689,\n",
            "        0.7679, 0.7702, 0.7679, 0.7689, 0.7687, 0.7671, 0.7678, 0.7673, 0.7679,\n",
            "        0.7689, 0.7675, 0.7696, 0.7705, 0.7690, 0.7676, 0.7685, 0.7682, 0.7674,\n",
            "        0.7681, 0.7729, 0.7682, 0.7687, 0.7676, 0.7687, 0.7684, 0.7680, 0.7681,\n",
            "        0.7670, 0.7688, 0.7688, 0.7675, 0.7676, 0.7693, 0.7673, 0.7691, 0.7680,\n",
            "        0.7679, 0.7670, 0.7674, 0.7678, 0.7683, 0.7698, 0.7688, 0.7689, 0.7678,\n",
            "        0.7680, 0.7685, 0.7686, 0.7686, 0.7673, 0.7681, 0.7677, 0.7674, 0.7699,\n",
            "        0.7675, 0.7685, 0.7684, 0.7688, 0.7694, 0.7678, 0.7678, 0.7687, 0.7686,\n",
            "        0.7675, 0.7676, 0.7677, 0.7679, 0.7681, 0.7681, 0.7671, 0.7695, 0.7708,\n",
            "        0.7683, 0.7675, 0.7674, 0.7692, 0.7679, 0.7721, 0.7679, 0.7684, 0.7679,\n",
            "        0.7696, 0.7680, 0.7688, 0.7696, 0.7674, 0.7675, 0.7671, 0.7687, 0.7684,\n",
            "        0.7675, 0.7754, 0.7679, 0.7680, 0.7682, 0.7682, 0.7673, 0.7700, 0.7681,\n",
            "        0.7710, 0.7687], requires_grad=True)\n",
            "Parameter containing:\n",
            "tensor([-7.8647e-04, -4.3334e-03, -2.6759e-03, -4.8789e-03, -2.2958e-03,\n",
            "        -1.3823e-03,  9.2475e-04, -3.4601e-03, -3.2426e-04, -4.5183e-03,\n",
            "        -3.9118e-03,  1.5847e-03, -1.6946e-03, -2.4981e-03, -5.4058e-03,\n",
            "        -3.2848e-03, -2.6913e-03,  3.1104e-03, -1.0628e-03, -1.5076e-03,\n",
            "        -6.6007e-03, -4.2596e-03, -4.6570e-04,  3.2002e-03, -3.6395e-03,\n",
            "        -1.3270e-03, -3.4808e-03, -4.3772e-03, -4.0233e-03, -2.8583e-03,\n",
            "        -5.2597e-03, -2.9975e-03,  4.6837e-04, -2.0805e-03, -6.0168e-04,\n",
            "        -2.1415e-03, -4.4032e-03, -7.5791e-04, -2.0907e-03,  1.6877e-03,\n",
            "         1.4538e-03, -3.0202e-03, -2.1174e-03, -2.1924e-03,  3.3592e-04,\n",
            "        -4.5849e-03, -1.6940e-03, -5.2120e-03, -3.9078e-03, -3.3093e-03,\n",
            "        -3.9431e-03,  1.3259e-03, -4.5425e-03, -5.2905e-03, -2.2934e-03,\n",
            "        -4.5727e-03, -6.4295e-03, -2.5489e-03, -3.1862e-03, -2.1596e-03,\n",
            "        -4.2478e-03, -5.9362e-03, -2.1867e-03, -2.6509e-03, -3.8649e-03,\n",
            "        -2.6253e-03, -1.9026e-03, -5.1603e-03, -4.4731e-03, -1.8455e-03,\n",
            "        -2.4941e-03, -3.5162e-03, -5.4253e-03, -4.8405e-03, -4.1524e-03,\n",
            "         1.9413e-03, -2.9724e-03, -3.9915e-03,  1.8293e-03, -4.2565e-04,\n",
            "        -9.0993e-04,  8.8619e-05, -4.3799e-03, -4.5153e-03, -2.7934e-03,\n",
            "        -2.6485e-03, -5.8475e-04, -3.5945e-03, -4.7156e-03, -6.0048e-04,\n",
            "        -2.2273e-03,  2.3084e-03, -4.0632e-03, -6.0912e-03, -1.2442e-03,\n",
            "        -2.8504e-03, -1.9072e-03, -4.6623e-03, -4.3698e-03, -2.2193e-03,\n",
            "        -4.5747e-03,  1.0626e-03, -5.0446e-04, -3.9639e-03, -4.3871e-03,\n",
            "        -3.2720e-03, -1.2853e-04, -1.0896e-03, -4.8219e-03, -4.7541e-03,\n",
            "        -3.4797e-03, -3.5249e-03,  7.7679e-04, -2.5867e-03, -2.3025e-03,\n",
            "        -2.9284e-03, -5.6313e-03, -1.8933e-03,  1.5317e-03, -5.9881e-05,\n",
            "        -4.9502e-03, -4.7883e-03, -3.0300e-03, -1.4373e-03, -3.3272e-03,\n",
            "        -4.6895e-03, -3.3602e-03, -5.0372e-03], requires_grad=True)\n",
            "Parameter containing:\n",
            "tensor([[[[ 6.8499e-04,  8.0387e-04,  9.4149e-04],\n",
            "          [ 7.0700e-04,  8.1719e-04,  8.4983e-04],\n",
            "          [ 8.5819e-04,  9.9630e-04,  1.0760e-03]],\n",
            "\n",
            "         [[-3.2137e-03, -3.7158e-03, -4.0565e-03],\n",
            "          [-3.0790e-03, -3.6206e-03, -3.9157e-03],\n",
            "          [-2.6785e-03, -3.0853e-03, -3.3795e-03]],\n",
            "\n",
            "         [[ 2.9941e-04,  3.0321e-04,  2.3894e-04],\n",
            "          [ 5.2144e-04,  4.8608e-04,  3.5941e-04],\n",
            "          [ 5.2666e-04,  5.7522e-04,  2.7140e-04]],\n",
            "\n",
            "         ...,\n",
            "\n",
            "         [[-3.8342e-03, -4.1422e-03, -4.5906e-03],\n",
            "          [-3.4118e-03, -3.6753e-03, -4.0884e-03],\n",
            "          [-2.9459e-03, -3.0964e-03, -3.5643e-03]],\n",
            "\n",
            "         [[ 7.2098e-04,  4.4288e-04,  3.2898e-04],\n",
            "          [ 4.0855e-04,  3.5813e-04, -9.5078e-05],\n",
            "          [ 4.0200e-04,  6.9873e-05, -1.2619e-04]],\n",
            "\n",
            "         [[-4.8390e-03, -5.2655e-03, -5.6275e-03],\n",
            "          [-4.0782e-03, -4.3103e-03, -5.0550e-03],\n",
            "          [-3.5917e-03, -4.2360e-03, -4.5524e-03]]],\n",
            "\n",
            "\n",
            "        [[[-1.9681e-03, -1.8167e-03, -1.2593e-03],\n",
            "          [-2.0722e-03, -2.0390e-03, -1.6615e-03],\n",
            "          [-2.5009e-03, -2.3209e-03, -1.6338e-03]],\n",
            "\n",
            "         [[ 8.2322e-06,  4.3277e-04,  1.1445e-03],\n",
            "          [-6.9988e-04, -2.2040e-04,  5.5606e-04],\n",
            "          [-3.7403e-04,  3.8572e-04,  1.0611e-03]],\n",
            "\n",
            "         [[ 3.5629e-04,  7.2617e-04,  9.1671e-04],\n",
            "          [ 5.8413e-04,  9.6340e-04,  1.1678e-03],\n",
            "          [ 7.6624e-04,  1.1197e-03,  1.3498e-03]],\n",
            "\n",
            "         ...,\n",
            "\n",
            "         [[-1.2160e-03, -7.8824e-04, -9.5554e-05],\n",
            "          [-1.7099e-03, -1.2216e-03, -4.1350e-04],\n",
            "          [-1.0382e-03, -6.6074e-04,  1.5068e-04]],\n",
            "\n",
            "         [[ 5.5161e-04,  7.9495e-04,  1.4960e-03],\n",
            "          [-5.8399e-04, -1.6697e-04,  5.8632e-04],\n",
            "          [-1.0796e-04,  2.7317e-04,  7.8879e-04]],\n",
            "\n",
            "         [[-6.7192e-04, -3.3972e-04,  3.1174e-04],\n",
            "          [-1.1946e-03, -7.9578e-04, -4.1850e-05],\n",
            "          [-5.7357e-04, -1.2684e-04,  5.9003e-04]]],\n",
            "\n",
            "\n",
            "        [[[-1.5115e-03, -1.6736e-03, -1.4374e-03],\n",
            "          [-1.7476e-03, -1.7265e-03, -1.4556e-03],\n",
            "          [-1.4275e-03, -1.2770e-03, -1.0618e-03]],\n",
            "\n",
            "         [[ 1.0615e-03,  1.3001e-03,  1.7496e-03],\n",
            "          [ 7.1791e-04,  9.9563e-04,  1.3823e-03],\n",
            "          [ 1.1893e-03,  1.4498e-03,  1.8123e-03]],\n",
            "\n",
            "         [[-3.2867e-04, -1.7134e-04, -1.3481e-04],\n",
            "          [-3.3053e-04, -2.9225e-04, -2.5165e-04],\n",
            "          [-1.9513e-05,  1.3108e-04,  1.4276e-04]],\n",
            "\n",
            "         ...,\n",
            "\n",
            "         [[ 1.3644e-04,  1.2916e-04,  6.7174e-04],\n",
            "          [-2.7545e-04, -1.8323e-04,  3.0158e-04],\n",
            "          [ 3.2840e-04,  3.8788e-04,  8.6163e-04]],\n",
            "\n",
            "         [[ 9.1664e-04,  1.2628e-03,  1.7331e-03],\n",
            "          [ 9.4767e-04,  9.2598e-04,  1.4273e-03],\n",
            "          [ 1.2996e-03,  1.3612e-03,  1.8700e-03]],\n",
            "\n",
            "         [[ 1.2675e-03,  1.3831e-03,  1.8820e-03],\n",
            "          [ 9.9048e-04,  1.1791e-03,  1.6385e-03],\n",
            "          [ 1.4389e-03,  1.6591e-03,  2.0664e-03]]],\n",
            "\n",
            "\n",
            "        ...,\n",
            "\n",
            "\n",
            "        [[[ 1.3859e-03,  1.3175e-03,  1.0156e-03],\n",
            "          [ 1.3862e-03,  1.4044e-03,  1.0402e-03],\n",
            "          [ 1.3547e-03,  1.3688e-03,  1.1333e-03]],\n",
            "\n",
            "         [[-7.1296e-04, -9.3967e-04, -1.7102e-03],\n",
            "          [-3.7487e-04, -5.8885e-04, -1.3053e-03],\n",
            "          [-1.0364e-03, -1.1993e-03, -1.9461e-03]],\n",
            "\n",
            "         [[-8.6264e-04, -9.1158e-04, -7.5730e-04],\n",
            "          [-4.4382e-04, -5.3697e-04, -4.4249e-04],\n",
            "          [-2.5473e-04, -3.6564e-04, -3.3208e-04]],\n",
            "\n",
            "         ...,\n",
            "\n",
            "         [[-8.5137e-04, -1.2987e-03, -2.0196e-03],\n",
            "          [-5.2084e-04, -9.1224e-04, -1.6641e-03],\n",
            "          [-9.6742e-04, -1.3667e-03, -1.9957e-03]],\n",
            "\n",
            "         [[ 2.1879e-03,  1.6642e-03,  1.2725e-03],\n",
            "          [ 1.9354e-03,  1.4719e-03,  1.0886e-03],\n",
            "          [ 1.6868e-03,  1.2475e-03,  8.6515e-04]],\n",
            "\n",
            "         [[-1.3606e-03, -1.8659e-03, -2.5864e-03],\n",
            "          [-9.8493e-04, -1.4510e-03, -2.2574e-03],\n",
            "          [-1.4924e-03, -1.8526e-03, -2.5830e-03]]],\n",
            "\n",
            "\n",
            "        [[[-1.5749e-03, -1.4951e-03, -1.6149e-03],\n",
            "          [-1.4715e-03, -1.5505e-03, -1.4981e-03],\n",
            "          [-1.6669e-03, -1.6634e-03, -1.5654e-03]],\n",
            "\n",
            "         [[ 1.7117e-03,  1.8752e-03,  1.7277e-03],\n",
            "          [ 2.1492e-03,  2.2848e-03,  2.0504e-03],\n",
            "          [ 1.8407e-03,  1.9602e-03,  1.7257e-03]],\n",
            "\n",
            "         [[ 3.7305e-03,  3.8629e-03,  3.3961e-03],\n",
            "          [ 3.3286e-03,  3.4786e-03,  2.8278e-03],\n",
            "          [ 2.3398e-03,  2.3545e-03,  1.9615e-03]],\n",
            "\n",
            "         ...,\n",
            "\n",
            "         [[ 1.7902e-04,  2.4580e-04,  1.6570e-04],\n",
            "          [ 5.0607e-04,  5.4429e-04,  3.9279e-04],\n",
            "          [ 3.3902e-04,  3.7616e-04,  2.6714e-04]],\n",
            "\n",
            "         [[ 1.1867e-03,  1.4735e-03,  1.3487e-03],\n",
            "          [ 1.7858e-03,  2.0436e-03,  1.9023e-03],\n",
            "          [ 1.6442e-03,  1.8981e-03,  1.7222e-03]],\n",
            "\n",
            "         [[ 1.9195e-04,  3.8380e-04,  2.8530e-04],\n",
            "          [ 5.6046e-04,  6.7544e-04,  4.9687e-04],\n",
            "          [ 3.4268e-04,  4.2136e-04,  2.7015e-04]]],\n",
            "\n",
            "\n",
            "        [[[ 1.2195e-03,  1.7050e-03,  1.5200e-03],\n",
            "          [ 1.5307e-03,  2.1207e-03,  1.9916e-03],\n",
            "          [ 9.5208e-04,  1.5817e-03,  1.4622e-03]],\n",
            "\n",
            "         [[-6.5793e-04, -3.5651e-04, -1.1262e-03],\n",
            "          [ 1.5836e-04,  5.5327e-04, -1.2969e-04],\n",
            "          [-7.8954e-04, -2.4746e-04, -7.9766e-04]],\n",
            "\n",
            "         [[ 3.2237e-03,  3.0166e-03,  2.7089e-03],\n",
            "          [ 2.5754e-03,  2.3736e-03,  2.0211e-03],\n",
            "          [ 2.1570e-03,  1.9399e-03,  1.6707e-03]],\n",
            "\n",
            "         ...,\n",
            "\n",
            "         [[-3.8791e-05,  3.3409e-04, -3.7570e-04],\n",
            "          [ 7.6731e-04,  1.2407e-03,  5.9657e-04],\n",
            "          [-2.6398e-04,  2.9857e-04, -1.7220e-04]],\n",
            "\n",
            "         [[-2.2966e-03, -1.9072e-03, -2.6942e-03],\n",
            "          [-1.4028e-03, -7.7256e-04, -1.3900e-03],\n",
            "          [-2.1116e-03, -1.4127e-03, -1.8149e-03]],\n",
            "\n",
            "         [[-1.1849e-03, -8.2560e-04, -1.4078e-03],\n",
            "          [-5.4226e-04, -4.7729e-05, -6.3821e-04],\n",
            "          [-1.6569e-03, -1.1443e-03, -1.5149e-03]]]], requires_grad=True)\n",
            "Parameter containing:\n",
            "tensor([0.7682, 0.7682, 0.7696, 0.7684, 0.7698, 0.7687, 0.7679, 0.7686, 0.7677,\n",
            "        0.7682, 0.7689, 0.7684, 0.7674, 0.7681, 0.7686, 0.7691, 0.7679, 0.7678,\n",
            "        0.7683, 0.7695, 0.7680, 0.7685, 0.7687, 0.7678, 0.7688, 0.7681, 0.7681,\n",
            "        0.7685, 0.7681, 0.7699, 0.7680, 0.7690, 0.7684, 0.7672, 0.7685, 0.7674,\n",
            "        0.7678, 0.7680, 0.7689, 0.7684, 0.7677, 0.7678, 0.7679, 0.7681, 0.7686,\n",
            "        0.7686, 0.7683, 0.7676, 0.7707, 0.7677, 0.7690, 0.7676, 0.7686, 0.7682,\n",
            "        0.7680, 0.7683, 0.7675, 0.7684, 0.7677, 0.7692, 0.7684, 0.7685, 0.7684,\n",
            "        0.7678, 0.7690, 0.7682, 0.7678, 0.7681, 0.7680, 0.7682, 0.7681, 0.7674,\n",
            "        0.7683, 0.7685, 0.7682, 0.7714, 0.7679, 0.7677, 0.7675, 0.7682, 0.7681,\n",
            "        0.7687, 0.7687, 0.7680, 0.7678, 0.7687, 0.7679, 0.7681, 0.7675, 0.7681,\n",
            "        0.7674, 0.7680, 0.7682, 0.7670, 0.7685, 0.7683, 0.7682, 0.7684, 0.7685,\n",
            "        0.7691, 0.7675, 0.7689, 0.7692, 0.7688, 0.7684, 0.7682, 0.7682, 0.7676,\n",
            "        0.7688, 0.7678, 0.7687, 0.7682, 0.7682, 0.7676, 0.7685, 0.7679, 0.7685,\n",
            "        0.7700, 0.7690, 0.7680, 0.7690, 0.7684, 0.7676, 0.7681, 0.7680, 0.7679,\n",
            "        0.7683, 0.7686], requires_grad=True)\n",
            "Parameter containing:\n",
            "tensor([ 9.4288e-05,  2.9054e-05, -1.3457e-04,  1.0106e-04,  5.1365e-05,\n",
            "         9.0852e-05, -2.0171e-04, -4.6778e-05,  1.2462e-05, -2.7216e-04,\n",
            "        -1.4087e-04,  1.7196e-04, -1.5411e-04,  6.4272e-06, -1.7601e-04,\n",
            "        -1.6024e-04, -5.4878e-05, -8.8141e-05,  1.7040e-04,  2.5359e-05,\n",
            "        -1.7730e-04, -2.1737e-04, -5.2818e-05, -2.2753e-05, -2.3641e-04,\n",
            "         7.8094e-05, -1.1918e-04,  1.9773e-04,  3.6124e-05, -8.8197e-05,\n",
            "         1.5340e-04,  9.3669e-05, -2.0055e-04, -5.2154e-05,  2.1399e-04,\n",
            "        -1.1842e-04, -3.4857e-04, -2.4524e-04,  6.8153e-05,  1.2612e-04,\n",
            "        -1.3987e-04, -2.0851e-05,  6.9323e-05,  1.8300e-04, -1.9923e-05,\n",
            "        -1.1961e-04,  1.8340e-04, -1.4093e-04, -4.1907e-05,  1.2272e-04,\n",
            "         1.3438e-04,  2.5434e-05, -2.3763e-04, -3.3519e-04, -1.0760e-04,\n",
            "         7.9716e-05,  2.2164e-06,  8.6762e-05, -7.0260e-06, -2.4222e-04,\n",
            "        -1.8880e-04,  1.7046e-04,  1.5720e-04, -2.8888e-04, -7.3100e-05,\n",
            "        -5.8819e-05, -2.1247e-04,  2.2258e-04,  2.6672e-05,  2.2435e-04,\n",
            "         3.5451e-05,  1.3309e-04,  2.9583e-04, -1.5835e-04,  8.6615e-05,\n",
            "         1.1363e-05,  1.6371e-04,  1.3755e-04,  1.1256e-04, -8.6895e-05,\n",
            "        -1.6791e-04, -1.3859e-05,  2.7030e-04, -1.1628e-04,  1.4480e-04,\n",
            "        -4.1390e-05, -1.0790e-04,  7.6577e-05,  1.1440e-04,  1.7756e-05,\n",
            "        -1.0816e-04,  7.4442e-05,  5.0027e-05,  4.6709e-05,  1.1758e-04,\n",
            "         1.9504e-04, -1.1068e-04, -9.2348e-05, -2.2895e-04,  1.6275e-04,\n",
            "        -2.3794e-04,  1.1005e-04, -1.6510e-05,  1.1993e-04, -1.5494e-04,\n",
            "         3.2953e-05,  7.9279e-05,  1.6273e-04, -1.2033e-04, -3.6479e-05,\n",
            "        -1.9420e-04, -5.8966e-05,  1.8281e-04, -1.6733e-04, -1.9757e-04,\n",
            "        -7.1302e-05,  8.4782e-05,  1.2103e-04, -3.2158e-05,  2.5328e-05,\n",
            "         1.9225e-04,  1.9196e-04, -8.8759e-05, -6.2948e-05,  3.1209e-05,\n",
            "         1.2086e-04,  3.7836e-05,  3.0123e-04], requires_grad=True)\n",
            "Parameter containing:\n",
            "tensor([[[[-0.0225]],\n",
            "\n",
            "         [[-0.0350]],\n",
            "\n",
            "         [[-0.0014]],\n",
            "\n",
            "         ...,\n",
            "\n",
            "         [[ 0.0541]],\n",
            "\n",
            "         [[-0.0203]],\n",
            "\n",
            "         [[ 0.0008]]],\n",
            "\n",
            "\n",
            "        [[[-0.0477]],\n",
            "\n",
            "         [[ 0.0003]],\n",
            "\n",
            "         [[-0.0011]],\n",
            "\n",
            "         ...,\n",
            "\n",
            "         [[-0.0273]],\n",
            "\n",
            "         [[ 0.0297]],\n",
            "\n",
            "         [[ 0.0026]]],\n",
            "\n",
            "\n",
            "        [[[-0.0038]],\n",
            "\n",
            "         [[ 0.0043]],\n",
            "\n",
            "         [[-0.0208]],\n",
            "\n",
            "         ...,\n",
            "\n",
            "         [[ 0.0161]],\n",
            "\n",
            "         [[ 0.0042]],\n",
            "\n",
            "         [[-0.0044]]],\n",
            "\n",
            "\n",
            "        ...,\n",
            "\n",
            "\n",
            "        [[[-0.0231]],\n",
            "\n",
            "         [[ 0.0069]],\n",
            "\n",
            "         [[ 0.0031]],\n",
            "\n",
            "         ...,\n",
            "\n",
            "         [[ 0.0008]],\n",
            "\n",
            "         [[-0.0002]],\n",
            "\n",
            "         [[ 0.0094]]],\n",
            "\n",
            "\n",
            "        [[[-0.0076]],\n",
            "\n",
            "         [[ 0.0053]],\n",
            "\n",
            "         [[-0.0008]],\n",
            "\n",
            "         ...,\n",
            "\n",
            "         [[ 0.0059]],\n",
            "\n",
            "         [[ 0.0011]],\n",
            "\n",
            "         [[ 0.0045]]],\n",
            "\n",
            "\n",
            "        [[[-0.0169]],\n",
            "\n",
            "         [[ 0.0022]],\n",
            "\n",
            "         [[-0.0102]],\n",
            "\n",
            "         ...,\n",
            "\n",
            "         [[ 0.0141]],\n",
            "\n",
            "         [[ 0.0122]],\n",
            "\n",
            "         [[-0.0008]]]], requires_grad=True)\n",
            "Parameter containing:\n",
            "tensor([0.7680, 0.7693, 0.7710, 0.7685, 0.7726, 0.7684, 0.7683, 0.7686, 0.7694,\n",
            "        0.7677, 0.7685, 0.7680, 0.7686, 0.7676, 0.7694, 0.7686, 0.7671, 0.7686,\n",
            "        0.7677, 0.7711, 0.7684, 0.7670, 0.7684, 0.7681, 0.7677, 0.7680, 0.7677,\n",
            "        0.7681, 0.7684, 0.7713, 0.7686, 0.7693, 0.7677, 0.7676, 0.7679, 0.7688,\n",
            "        0.7680, 0.7681, 0.7682, 0.7677, 0.7691, 0.7684, 0.7682, 0.7674, 0.7693,\n",
            "        0.7690, 0.7678, 0.7690, 0.7725, 0.7679, 0.7691, 0.7682, 0.7675, 0.7681,\n",
            "        0.7680, 0.7678, 0.7683, 0.7684, 0.7688, 0.7678, 0.7680, 0.7685, 0.7696,\n",
            "        0.7680, 0.7702, 0.7686, 0.7679, 0.7681, 0.7682, 0.7675, 0.7676, 0.7678,\n",
            "        0.7679, 0.7692, 0.7683, 0.7710, 0.7682, 0.7678, 0.7688, 0.7671, 0.7693,\n",
            "        0.7679, 0.7690, 0.7678, 0.7690, 0.7694, 0.7678, 0.7674, 0.7683, 0.7671,\n",
            "        0.7666, 0.7684, 0.7679, 0.7685, 0.7673, 0.7679, 0.7697, 0.7685, 0.7679,\n",
            "        0.7704, 0.7671, 0.7693, 0.7698, 0.7690, 0.7691, 0.7684, 0.7677, 0.7682,\n",
            "        0.7724, 0.7680, 0.7673, 0.7677, 0.7678, 0.7678, 0.7688, 0.7689, 0.7681,\n",
            "        0.7684, 0.7695, 0.7697, 0.7685, 0.7679, 0.7677, 0.7677, 0.7685, 0.7685,\n",
            "        0.7683, 0.7675], requires_grad=True)\n",
            "Parameter containing:\n",
            "tensor([ 9.4288e-05,  2.9054e-05, -1.3457e-04,  1.0106e-04,  5.1365e-05,\n",
            "         9.0852e-05, -2.0171e-04, -4.6778e-05,  1.2462e-05, -2.7216e-04,\n",
            "        -1.4087e-04,  1.7196e-04, -1.5411e-04,  6.4272e-06, -1.7601e-04,\n",
            "        -1.6024e-04, -5.4878e-05, -8.8141e-05,  1.7040e-04,  2.5359e-05,\n",
            "        -1.7730e-04, -2.1737e-04, -5.2818e-05, -2.2753e-05, -2.3641e-04,\n",
            "         7.8094e-05, -1.1918e-04,  1.9773e-04,  3.6124e-05, -8.8197e-05,\n",
            "         1.5340e-04,  9.3669e-05, -2.0055e-04, -5.2154e-05,  2.1399e-04,\n",
            "        -1.1842e-04, -3.4857e-04, -2.4524e-04,  6.8153e-05,  1.2612e-04,\n",
            "        -1.3987e-04, -2.0851e-05,  6.9323e-05,  1.8300e-04, -1.9923e-05,\n",
            "        -1.1961e-04,  1.8340e-04, -1.4093e-04, -4.1907e-05,  1.2272e-04,\n",
            "         1.3438e-04,  2.5434e-05, -2.3763e-04, -3.3519e-04, -1.0760e-04,\n",
            "         7.9716e-05,  2.2164e-06,  8.6762e-05, -7.0260e-06, -2.4222e-04,\n",
            "        -1.8880e-04,  1.7046e-04,  1.5720e-04, -2.8888e-04, -7.3100e-05,\n",
            "        -5.8819e-05, -2.1247e-04,  2.2258e-04,  2.6672e-05,  2.2435e-04,\n",
            "         3.5451e-05,  1.3309e-04,  2.9583e-04, -1.5835e-04,  8.6615e-05,\n",
            "         1.1363e-05,  1.6371e-04,  1.3755e-04,  1.1256e-04, -8.6895e-05,\n",
            "        -1.6791e-04, -1.3859e-05,  2.7030e-04, -1.1628e-04,  1.4480e-04,\n",
            "        -4.1390e-05, -1.0790e-04,  7.6577e-05,  1.1440e-04,  1.7756e-05,\n",
            "        -1.0816e-04,  7.4442e-05,  5.0027e-05,  4.6709e-05,  1.1758e-04,\n",
            "         1.9504e-04, -1.1068e-04, -9.2348e-05, -2.2895e-04,  1.6275e-04,\n",
            "        -2.3794e-04,  1.1005e-04, -1.6510e-05,  1.1993e-04, -1.5494e-04,\n",
            "         3.2953e-05,  7.9279e-05,  1.6273e-04, -1.2033e-04, -3.6479e-05,\n",
            "        -1.9420e-04, -5.8966e-05,  1.8281e-04, -1.6733e-04, -1.9757e-04,\n",
            "        -7.1302e-05,  8.4782e-05,  1.2103e-04, -3.2158e-05,  2.5328e-05,\n",
            "         1.9225e-04,  1.9196e-04, -8.8759e-05, -6.2948e-05,  3.1209e-05,\n",
            "         1.2086e-04,  3.7836e-05,  3.0123e-04], requires_grad=True)\n",
            "Parameter containing:\n",
            "tensor([[[[-2.6026e-04, -8.1428e-04, -2.2082e-03],\n",
            "          [ 7.6586e-04,  2.4692e-04, -1.1017e-03],\n",
            "          [-7.7852e-04, -1.2596e-03, -2.5505e-03]],\n",
            "\n",
            "         [[-1.4317e-04,  5.8339e-04,  2.0503e-03],\n",
            "          [-7.2213e-04,  4.4722e-05,  1.4343e-03],\n",
            "          [ 6.7140e-04,  1.3314e-03,  2.5505e-03]],\n",
            "\n",
            "         [[ 2.6033e-04,  2.7642e-04,  3.3291e-04],\n",
            "          [ 8.8012e-05,  3.9934e-05,  4.7859e-05],\n",
            "          [ 2.2316e-04,  1.8822e-04,  2.3606e-04]],\n",
            "\n",
            "         ...,\n",
            "\n",
            "         [[ 4.1360e-04, -3.5114e-04, -2.1257e-03],\n",
            "          [ 1.6126e-03,  8.5886e-04, -9.0004e-04],\n",
            "          [ 2.7441e-04, -4.8130e-04, -2.1400e-03]],\n",
            "\n",
            "         [[ 1.6186e-03,  2.2669e-03,  2.4882e-03],\n",
            "          [ 1.4028e-03,  1.8620e-03,  2.1628e-03],\n",
            "          [ 5.5116e-04,  1.0103e-03,  1.2410e-03]],\n",
            "\n",
            "         [[-3.6959e-04, -9.0304e-04, -2.2458e-03],\n",
            "          [ 2.1854e-04, -3.8308e-04, -1.7303e-03],\n",
            "          [-1.8541e-03, -2.4317e-03, -3.6346e-03]]],\n",
            "\n",
            "\n",
            "        [[[ 2.8121e-03,  1.4879e-03,  7.7903e-04],\n",
            "          [ 1.3905e-03,  7.0564e-04,  4.6198e-04],\n",
            "          [ 1.0452e-03,  7.1966e-04,  6.4412e-04]],\n",
            "\n",
            "         [[-1.4610e-03, -7.0168e-04, -3.5186e-04],\n",
            "          [-5.9540e-04, -3.1271e-04, -1.8770e-04],\n",
            "          [-4.4383e-04, -1.9252e-04, -2.4648e-04]],\n",
            "\n",
            "         [[-1.8144e-03, -1.6778e-03, -1.5286e-03],\n",
            "          [-1.7648e-03, -1.4775e-03, -1.4134e-03],\n",
            "          [-1.8350e-03, -1.6323e-03, -1.6655e-03]],\n",
            "\n",
            "         ...,\n",
            "\n",
            "         [[ 2.9064e-03,  1.7094e-03,  1.1448e-03],\n",
            "          [ 1.5367e-03,  1.0174e-03,  8.4508e-04],\n",
            "          [ 1.1343e-03,  1.0155e-03,  1.0157e-03]],\n",
            "\n",
            "         [[ 1.8586e-03,  1.7408e-03,  1.6603e-03],\n",
            "          [ 1.6673e-03,  1.7728e-03,  1.7375e-03],\n",
            "          [ 1.9325e-03,  2.1125e-03,  2.0456e-03]],\n",
            "\n",
            "         [[ 3.1278e-03,  2.0641e-03,  1.5074e-03],\n",
            "          [ 1.9022e-03,  1.3974e-03,  1.1999e-03],\n",
            "          [ 1.6266e-03,  1.4083e-03,  1.3619e-03]]],\n",
            "\n",
            "\n",
            "        [[[ 3.9476e-03,  4.1923e-03,  4.3484e-03],\n",
            "          [ 4.1207e-03,  4.4007e-03,  4.4781e-03],\n",
            "          [ 4.4330e-03,  4.7687e-03,  4.9400e-03]],\n",
            "\n",
            "         [[-4.1059e-04, -5.2880e-04, -6.2215e-04],\n",
            "          [-4.4191e-04, -5.6399e-04, -6.4997e-04],\n",
            "          [-6.4698e-04, -7.5858e-04, -7.9712e-04]],\n",
            "\n",
            "         [[-7.3134e-04, -7.9250e-04, -7.4615e-04],\n",
            "          [-6.2768e-04, -7.2076e-04, -6.8291e-04],\n",
            "          [-5.9942e-04, -7.0168e-04, -6.8303e-04]],\n",
            "\n",
            "         ...,\n",
            "\n",
            "         [[ 1.8721e-04,  3.1832e-04,  3.5365e-04],\n",
            "          [ 6.9581e-05,  2.1885e-04,  2.0103e-04],\n",
            "          [ 3.7572e-05,  1.9456e-04,  1.6342e-04]],\n",
            "\n",
            "         [[-8.4296e-05, -5.8087e-05, -7.3279e-05],\n",
            "          [ 4.5525e-05,  9.4879e-05,  1.1847e-04],\n",
            "          [ 1.4272e-04,  1.9634e-04,  1.3361e-04]],\n",
            "\n",
            "         [[ 3.1231e-03,  3.3733e-03,  3.5131e-03],\n",
            "          [ 3.1628e-03,  3.4390e-03,  3.5502e-03],\n",
            "          [ 3.3563e-03,  3.6435e-03,  3.7626e-03]]],\n",
            "\n",
            "\n",
            "        ...,\n",
            "\n",
            "\n",
            "        [[[ 3.7776e-03,  4.0514e-03,  4.2103e-03],\n",
            "          [ 3.9721e-03,  4.2255e-03,  4.3407e-03],\n",
            "          [ 4.2386e-03,  4.4880e-03,  4.6043e-03]],\n",
            "\n",
            "         [[-2.7318e-04, -3.7864e-04, -4.7399e-04],\n",
            "          [-2.6571e-04, -3.8216e-04, -4.6196e-04],\n",
            "          [-4.4885e-04, -5.4442e-04, -5.7978e-04]],\n",
            "\n",
            "         [[-3.6687e-04, -4.2858e-04, -3.6209e-04],\n",
            "          [-2.4835e-04, -2.9667e-04, -3.0635e-04],\n",
            "          [-2.0503e-04, -2.6813e-04, -2.5022e-04]],\n",
            "\n",
            "         ...,\n",
            "\n",
            "         [[-3.2262e-04, -1.7004e-04, -1.6534e-04],\n",
            "          [-3.5822e-04, -2.1910e-04, -2.4044e-04],\n",
            "          [-3.6853e-04, -2.6342e-04, -3.4790e-04]],\n",
            "\n",
            "         [[-1.5787e-04, -1.2852e-04, -2.4478e-04],\n",
            "          [ 6.2458e-05,  1.6662e-04, -3.5762e-05],\n",
            "          [ 4.0370e-05,  8.8240e-05, -5.2647e-05]],\n",
            "\n",
            "         [[ 2.9671e-03,  3.1818e-03,  3.3060e-03],\n",
            "          [ 2.9948e-03,  3.2162e-03,  3.3407e-03],\n",
            "          [ 3.1584e-03,  3.3832e-03,  3.5070e-03]]],\n",
            "\n",
            "\n",
            "        [[[ 6.6616e-04,  8.1180e-04,  7.9483e-04],\n",
            "          [ 5.1202e-04,  6.4442e-04,  5.7022e-04],\n",
            "          [ 5.6080e-04,  6.6199e-04,  5.3403e-04]],\n",
            "\n",
            "         [[-6.0371e-05, -1.5025e-04, -2.7853e-04],\n",
            "          [-8.6408e-05, -1.9755e-04, -2.9201e-04],\n",
            "          [-3.7873e-04, -4.4734e-04, -4.6148e-04]],\n",
            "\n",
            "         [[-1.3030e-03, -1.3055e-03, -1.3259e-03],\n",
            "          [-1.0806e-03, -1.0731e-03, -1.0897e-03],\n",
            "          [-1.0960e-03, -1.0707e-03, -1.1235e-03]],\n",
            "\n",
            "         ...,\n",
            "\n",
            "         [[ 4.0432e-04,  5.5051e-04,  6.3024e-04],\n",
            "          [ 2.6465e-04,  4.1632e-04,  4.3371e-04],\n",
            "          [ 3.1796e-04,  4.4601e-04,  4.1139e-04]],\n",
            "\n",
            "         [[ 1.1291e-03,  1.1188e-03,  9.5419e-04],\n",
            "          [ 1.1692e-03,  1.2163e-03,  1.0507e-03],\n",
            "          [ 1.2564e-03,  1.3061e-03,  1.1457e-03]],\n",
            "\n",
            "         [[ 1.2061e-03,  1.3847e-03,  1.3686e-03],\n",
            "          [ 1.1632e-03,  1.3636e-03,  1.3935e-03],\n",
            "          [ 1.2087e-03,  1.3512e-03,  1.4035e-03]]],\n",
            "\n",
            "\n",
            "        [[[ 2.3044e-04,  4.0115e-04,  5.7663e-04],\n",
            "          [ 1.0669e-04,  3.6516e-04,  5.2097e-04],\n",
            "          [ 5.2234e-04,  8.0049e-04,  9.9255e-04]],\n",
            "\n",
            "         [[-4.8888e-04, -5.7522e-04, -6.9970e-04],\n",
            "          [-3.5517e-04, -4.7307e-04, -6.0422e-04],\n",
            "          [-5.6251e-04, -6.9779e-04, -8.4220e-04]],\n",
            "\n",
            "         [[ 2.1971e-04,  2.1867e-04,  1.9363e-04],\n",
            "          [ 2.8208e-04,  2.7374e-04,  2.4824e-04],\n",
            "          [ 2.1674e-04,  2.2820e-04,  2.0075e-04]],\n",
            "\n",
            "         ...,\n",
            "\n",
            "         [[ 6.8458e-04,  8.5134e-04,  1.0786e-03],\n",
            "          [ 3.6199e-04,  5.5224e-04,  7.8489e-04],\n",
            "          [ 4.6285e-04,  6.7183e-04,  8.9878e-04]],\n",
            "\n",
            "         [[-2.4619e-03, -2.7089e-03, -2.8476e-03],\n",
            "          [-2.4920e-03, -2.6803e-03, -2.8141e-03],\n",
            "          [-2.1692e-03, -2.3301e-03, -2.4429e-03]],\n",
            "\n",
            "         [[-6.8917e-04, -6.0023e-04, -3.5427e-04],\n",
            "          [-8.8671e-04, -7.4965e-04, -5.0638e-04],\n",
            "          [-4.6291e-04, -2.7642e-04, -4.5502e-05]]]], requires_grad=True)\n",
            "Parameter containing:\n",
            "tensor([0.7688, 0.7678, 0.7680, 0.7685, 0.7684, 0.7678, 0.7672, 0.7680, 0.7677,\n",
            "        0.7682, 0.7674, 0.7685, 0.7672, 0.7679, 0.7692, 0.7679, 0.7680, 0.7680,\n",
            "        0.7681, 0.7677, 0.7677, 0.7688, 0.7680, 0.7680, 0.7712, 0.7678, 0.7684,\n",
            "        0.7684, 0.7678, 0.7683, 0.7676, 0.7675, 0.7677, 0.7678, 0.7678, 0.7682,\n",
            "        0.7686, 0.7674, 0.7680, 0.7718, 0.7693, 0.7675, 0.7699, 0.7682, 0.7681,\n",
            "        0.7679, 0.7681, 0.7681, 0.7690, 0.7686, 0.7686, 0.7691, 0.7682, 0.7676,\n",
            "        0.7679, 0.7688, 0.7679, 0.7679, 0.7691, 0.7686, 0.7677, 0.7679, 0.7677,\n",
            "        0.7685, 0.7678, 0.7673, 0.7679, 0.7686, 0.7678, 0.7676, 0.7685, 0.7678,\n",
            "        0.7680, 0.7685, 0.7685, 0.7680, 0.7675, 0.7684, 0.7674, 0.7678, 0.7680,\n",
            "        0.7680, 0.7673, 0.7715, 0.7697, 0.7677, 0.7686, 0.7714, 0.7683, 0.7680,\n",
            "        0.7677, 0.7672, 0.7675, 0.7679, 0.7681, 0.7680, 0.7680, 0.7682, 0.7684,\n",
            "        0.7676, 0.7677, 0.7677, 0.7680, 0.7678, 0.7677, 0.7677, 0.7678, 0.7705,\n",
            "        0.7673, 0.7679, 0.7677, 0.7667, 0.7686, 0.7676, 0.7680, 0.7684, 0.7703,\n",
            "        0.7671, 0.7679, 0.7679, 0.7680, 0.7680, 0.7687, 0.7674, 0.7681, 0.7678,\n",
            "        0.7685, 0.7678], requires_grad=True)\n",
            "Parameter containing:\n",
            "tensor([-0.0067,  0.0011,  0.0021,  0.0079, -0.0031,  0.0027, -0.0058, -0.0017,\n",
            "        -0.0066, -0.0032, -0.0068,  0.0026, -0.0059,  0.0021, -0.0035, -0.0019,\n",
            "         0.0061,  0.0042,  0.0013, -0.0048,  0.0021, -0.0065,  0.0052,  0.0009,\n",
            "        -0.0078,  0.0016,  0.0020, -0.0055,  0.0065,  0.0030,  0.0010, -0.0010,\n",
            "        -0.0044,  0.0016,  0.0015,  0.0028, -0.0011, -0.0061,  0.0007, -0.0030,\n",
            "        -0.0004,  0.0022, -0.0073,  0.0013, -0.0007,  0.0018, -0.0044, -0.0044,\n",
            "        -0.0022,  0.0026,  0.0035,  0.0027, -0.0001,  0.0016, -0.0079,  0.0035,\n",
            "        -0.0027,  0.0016, -0.0076,  0.0021, -0.0032, -0.0028, -0.0034,  0.0029,\n",
            "         0.0025,  0.0050,  0.0051, -0.0075, -0.0009, -0.0038,  0.0042,  0.0039,\n",
            "        -0.0063,  0.0022,  0.0019, -0.0053,  0.0013,  0.0018, -0.0034, -0.0049,\n",
            "        -0.0011, -0.0024,  0.0030,  0.0024, -0.0044, -0.0031,  0.0026, -0.0033,\n",
            "         0.0030,  0.0020,  0.0022,  0.0011, -0.0050,  0.0018,  0.0010, -0.0017,\n",
            "         0.0017,  0.0026,  0.0018,  0.0019, -0.0058, -0.0042,  0.0013,  0.0057,\n",
            "         0.0007,  0.0009,  0.0018, -0.0032, -0.0038,  0.0040,  0.0022,  0.0045,\n",
            "         0.0027, -0.0043,  0.0013, -0.0056, -0.0098, -0.0031,  0.0024,  0.0032,\n",
            "        -0.0053, -0.0063,  0.0023, -0.0010,  0.0013,  0.0013,  0.0034, -0.0006],\n",
            "       requires_grad=True)\n",
            "Parameter containing:\n",
            "tensor([[[[ 1.5616e-03,  1.6574e-03,  1.4780e-03],\n",
            "          [ 1.7134e-03,  1.8350e-03,  1.6951e-03],\n",
            "          [ 1.5808e-03,  1.6892e-03,  1.5810e-03]],\n",
            "\n",
            "         [[ 4.3615e-04,  5.7170e-04,  5.4597e-04],\n",
            "          [ 6.1932e-04,  8.2549e-04,  7.8439e-04],\n",
            "          [ 6.0680e-04,  8.0430e-04,  8.1408e-04]],\n",
            "\n",
            "         [[-2.0491e-04, -2.4316e-04, -2.4308e-04],\n",
            "          [-6.4311e-05, -2.5942e-04, -2.0999e-04],\n",
            "          [-2.7009e-05, -1.1007e-04, -1.4769e-04]],\n",
            "\n",
            "         ...,\n",
            "\n",
            "         [[-4.7029e-04, -2.7262e-04, -3.7662e-04],\n",
            "          [-3.4277e-04, -2.5974e-04, -3.6133e-04],\n",
            "          [-1.8995e-04, -3.8349e-04, -4.6609e-04]],\n",
            "\n",
            "         [[ 7.1639e-05, -2.9361e-05,  1.1516e-04],\n",
            "          [ 7.2574e-05,  1.0125e-04,  1.0641e-04],\n",
            "          [ 8.1764e-05,  9.6673e-05,  1.6464e-05]],\n",
            "\n",
            "         [[ 2.1975e-03,  2.2876e-03,  2.1376e-03],\n",
            "          [ 2.3929e-03,  2.5435e-03,  2.3500e-03],\n",
            "          [ 2.2435e-03,  2.4146e-03,  2.2799e-03]]],\n",
            "\n",
            "\n",
            "        [[[-3.2249e-04, -3.1627e-04,  6.6675e-05],\n",
            "          [-7.0102e-04, -5.4332e-04, -1.9043e-04],\n",
            "          [-2.8859e-04, -1.4988e-04,  2.1720e-04]],\n",
            "\n",
            "         [[ 1.1522e-03,  1.1722e-03,  1.1653e-03],\n",
            "          [ 1.1986e-03,  1.2291e-03,  1.2046e-03],\n",
            "          [ 1.0708e-03,  1.0928e-03,  1.0740e-03]],\n",
            "\n",
            "         [[ 1.0304e-03,  1.0109e-03,  9.7854e-04],\n",
            "          [ 1.1076e-03,  1.1122e-03,  1.0370e-03],\n",
            "          [ 9.1942e-04,  9.3864e-04,  8.5490e-04]],\n",
            "\n",
            "         ...,\n",
            "\n",
            "         [[ 1.1375e-03,  1.1400e-03,  1.0700e-03],\n",
            "          [ 1.2145e-03,  1.2277e-03,  1.1413e-03],\n",
            "          [ 1.0060e-03,  1.0317e-03,  9.5289e-04]],\n",
            "\n",
            "         [[ 9.0470e-04,  9.1708e-04,  8.4191e-04],\n",
            "          [ 1.0051e-03,  1.0180e-03,  9.4126e-04],\n",
            "          [ 8.0060e-04,  7.9954e-04,  7.2913e-04]],\n",
            "\n",
            "         [[-1.4578e-04, -1.3747e-04,  9.3207e-05],\n",
            "          [-3.6166e-04, -3.5929e-04, -1.3406e-04],\n",
            "          [-7.8650e-05, -8.5962e-05,  1.3981e-04]]],\n",
            "\n",
            "\n",
            "        [[[ 3.8362e-03,  3.9544e-03,  4.1178e-03],\n",
            "          [ 2.9721e-03,  3.7006e-03,  4.0285e-03],\n",
            "          [ 3.1363e-03,  3.5354e-03,  4.1878e-03]],\n",
            "\n",
            "         [[ 5.9301e-04,  7.1621e-04,  5.2262e-04],\n",
            "          [ 5.3696e-04,  7.0623e-04,  6.1447e-04],\n",
            "          [ 5.4827e-04,  7.0043e-04,  5.7730e-04]],\n",
            "\n",
            "         [[ 1.5183e-03,  1.6242e-03,  1.4573e-03],\n",
            "          [ 1.4186e-03,  1.5786e-03,  1.5278e-03],\n",
            "          [ 1.4823e-03,  1.6332e-03,  1.5260e-03]],\n",
            "\n",
            "         ...,\n",
            "\n",
            "         [[ 1.4569e-03,  1.5028e-03,  1.4008e-03],\n",
            "          [ 1.3605e-03,  1.4941e-03,  1.4548e-03],\n",
            "          [ 1.4519e-03,  1.5694e-03,  1.4308e-03]],\n",
            "\n",
            "         [[ 1.4614e-03,  1.5749e-03,  1.4901e-03],\n",
            "          [ 1.3999e-03,  1.5782e-03,  1.5244e-03],\n",
            "          [ 1.4477e-03,  1.6459e-03,  1.5555e-03]],\n",
            "\n",
            "         [[ 6.7677e-04,  1.1899e-03,  1.8388e-03],\n",
            "          [ 3.2648e-04,  9.1784e-04,  1.8507e-03],\n",
            "          [ 9.6292e-04,  1.5448e-03,  2.3025e-03]]],\n",
            "\n",
            "\n",
            "        ...,\n",
            "\n",
            "\n",
            "        [[[ 2.2085e-03,  1.8963e-03,  1.0473e-03],\n",
            "          [ 2.5866e-03,  2.2252e-03,  1.2944e-03],\n",
            "          [ 1.5208e-03,  1.1806e-03,  3.3414e-04]],\n",
            "\n",
            "         [[-1.6620e-04, -3.1197e-04, -1.7368e-04],\n",
            "          [-3.0163e-04, -4.4106e-04, -3.7151e-04],\n",
            "          [-3.7932e-04, -5.2035e-04, -5.0422e-04]],\n",
            "\n",
            "         [[-1.3801e-03, -1.5424e-03, -1.4976e-03],\n",
            "          [-1.4000e-03, -1.5941e-03, -1.5475e-03],\n",
            "          [-1.5729e-03, -1.7346e-03, -1.7016e-03]],\n",
            "\n",
            "         ...,\n",
            "\n",
            "         [[-1.4389e-03, -1.5525e-03, -1.4924e-03],\n",
            "          [-1.3910e-03, -1.5622e-03, -1.5020e-03],\n",
            "          [-1.4963e-03, -1.7821e-03, -1.6845e-03]],\n",
            "\n",
            "         [[-6.5481e-04, -7.0047e-04, -7.9567e-04],\n",
            "          [-5.4302e-04, -9.0264e-04, -7.8537e-04],\n",
            "          [-5.9149e-04, -7.8097e-04, -7.8647e-04]],\n",
            "\n",
            "         [[ 3.3949e-03,  3.3274e-03,  2.4102e-03],\n",
            "          [ 4.1458e-03,  4.0112e-03,  3.0068e-03],\n",
            "          [ 2.8484e-03,  2.7394e-03,  1.8256e-03]]],\n",
            "\n",
            "\n",
            "        [[[-2.8458e-03, -3.0518e-03, -3.0128e-03],\n",
            "          [-2.7102e-03, -3.0060e-03, -3.0993e-03],\n",
            "          [-3.0649e-03, -3.3326e-03, -3.4642e-03]],\n",
            "\n",
            "         [[-2.4955e-03, -2.4362e-03, -2.4315e-03],\n",
            "          [-2.6008e-03, -2.5413e-03, -2.5473e-03],\n",
            "          [-2.5450e-03, -2.4682e-03, -2.4917e-03]],\n",
            "\n",
            "         [[-1.5186e-03, -1.4878e-03, -1.4938e-03],\n",
            "          [-1.5680e-03, -1.5062e-03, -1.5530e-03],\n",
            "          [-1.5663e-03, -1.4901e-03, -1.5326e-03]],\n",
            "\n",
            "         ...,\n",
            "\n",
            "         [[-1.5564e-03, -1.5195e-03, -1.4903e-03],\n",
            "          [-1.5456e-03, -1.4911e-03, -1.5478e-03],\n",
            "          [-1.5595e-03, -1.4692e-03, -1.5308e-03]],\n",
            "\n",
            "         [[-1.2281e-03, -1.1585e-03, -1.1331e-03],\n",
            "          [-1.2541e-03, -1.1780e-03, -1.1607e-03],\n",
            "          [-1.1507e-03, -1.0697e-03, -1.0555e-03]],\n",
            "\n",
            "         [[-2.6072e-03, -3.1927e-03, -3.3069e-03],\n",
            "          [-2.6686e-03, -3.3039e-03, -3.5412e-03],\n",
            "          [-2.6380e-03, -3.3124e-03, -3.6286e-03]]],\n",
            "\n",
            "\n",
            "        [[[-3.0437e-03, -3.1227e-03, -3.1216e-03],\n",
            "          [-3.2649e-03, -3.3104e-03, -3.3678e-03],\n",
            "          [-3.4769e-03, -3.4812e-03, -3.5349e-03]],\n",
            "\n",
            "         [[-1.9495e-04, -2.1924e-04, -1.8634e-04],\n",
            "          [-1.7632e-04, -2.1207e-04, -2.1079e-04],\n",
            "          [-2.1301e-04, -2.2904e-04, -2.1103e-04]],\n",
            "\n",
            "         [[-6.0276e-05, -7.3696e-05, -6.3561e-05],\n",
            "          [-1.3234e-04, -1.2290e-04, -9.4500e-05],\n",
            "          [-1.0953e-04, -8.6661e-05, -6.1758e-05]],\n",
            "\n",
            "         ...,\n",
            "\n",
            "         [[-1.9170e-04, -2.3440e-04, -2.3374e-04],\n",
            "          [-2.7022e-04, -2.7498e-04, -2.3776e-04],\n",
            "          [-2.6071e-04, -2.4270e-04, -2.1660e-04]],\n",
            "\n",
            "         [[-1.2023e-04, -1.0849e-04, -1.0147e-04],\n",
            "          [-1.5942e-04, -1.5027e-04, -1.3122e-04],\n",
            "          [-1.1445e-04, -1.1675e-04, -8.1668e-05]],\n",
            "\n",
            "         [[-3.2697e-03, -3.2549e-03, -3.2917e-03],\n",
            "          [-3.4398e-03, -3.4067e-03, -3.4285e-03],\n",
            "          [-3.6083e-03, -3.5560e-03, -3.5951e-03]]]], requires_grad=True)\n",
            "Parameter containing:\n",
            "tensor([0.7681, 0.7678, 0.7692, 0.7679, 0.7681, 0.7676, 0.7678, 0.7679, 0.7681,\n",
            "        0.7680, 0.7682, 0.7681, 0.7678, 0.7684, 0.7677, 0.7680, 0.7691, 0.7682,\n",
            "        0.7684, 0.7682, 0.7682, 0.7676, 0.7694, 0.7680, 0.7681, 0.7678, 0.7676,\n",
            "        0.7677, 0.7680, 0.7675, 0.7675, 0.7683, 0.7678, 0.7678, 0.7681, 0.7688,\n",
            "        0.7677, 0.7677, 0.7677, 0.7679, 0.7677, 0.7674, 0.7679, 0.7682, 0.7679,\n",
            "        0.7678, 0.7675, 0.7682, 0.7673, 0.7678, 0.7681, 0.7679, 0.7677, 0.7677,\n",
            "        0.7677, 0.7674, 0.7674, 0.7698, 0.7672, 0.7678, 0.7682, 0.7681, 0.7676,\n",
            "        0.7678, 0.7673, 0.7682, 0.7681, 0.7684, 0.7676, 0.7684, 0.7680, 0.7678,\n",
            "        0.7675, 0.7682, 0.7685, 0.7709, 0.7682, 0.7684, 0.7680, 0.7680, 0.7677,\n",
            "        0.7682, 0.7684, 0.7683, 0.7681, 0.7682, 0.7682, 0.7679, 0.7673, 0.7681,\n",
            "        0.7679, 0.7676, 0.7673, 0.7675, 0.7673, 0.7674, 0.7678, 0.7678, 0.7675,\n",
            "        0.7676, 0.7681, 0.7681, 0.7679, 0.7680, 0.7677, 0.7677, 0.7674, 0.7676,\n",
            "        0.7680, 0.7682, 0.7686, 0.7673, 0.7675, 0.7678, 0.7676, 0.7676, 0.7678,\n",
            "        0.7683, 0.7679, 0.7676, 0.7689, 0.7674, 0.7676, 0.7677, 0.7675, 0.7677,\n",
            "        0.7677, 0.7681], requires_grad=True)\n",
            "Parameter containing:\n",
            "tensor([-5.2502e-05, -1.3737e-05, -1.1886e-04, -3.6605e-05, -8.5094e-06,\n",
            "         1.5484e-04,  2.9916e-05, -4.8097e-05, -8.3414e-05, -1.5992e-04,\n",
            "         1.0378e-04, -9.8123e-05, -1.6955e-04, -8.6419e-05, -4.1486e-05,\n",
            "        -1.3053e-05, -9.3338e-06, -1.1307e-04,  1.7666e-04,  5.0333e-05,\n",
            "        -1.5625e-04,  7.5284e-05, -7.9847e-05,  1.2069e-04, -9.0096e-05,\n",
            "        -1.4436e-04, -3.2610e-05,  1.0221e-04, -1.8496e-04, -8.4042e-05,\n",
            "         4.8832e-05,  1.7095e-04, -1.4554e-05, -1.2509e-04,  1.4504e-05,\n",
            "        -8.1700e-05, -1.9619e-04, -1.6504e-04, -4.6376e-06,  2.2441e-05,\n",
            "        -6.5410e-05, -3.8987e-05,  2.2171e-05, -5.3850e-05,  8.5254e-06,\n",
            "        -1.4935e-04, -1.6993e-05,  4.5416e-05,  3.9829e-05, -1.0392e-04,\n",
            "         5.7108e-05,  1.0265e-04, -1.0476e-04, -2.1946e-04, -7.6868e-05,\n",
            "         1.8429e-05, -3.2404e-05,  7.3142e-05,  3.4986e-05, -1.3294e-04,\n",
            "        -9.3493e-06,  1.8292e-04,  9.3243e-05, -1.4757e-04, -1.2220e-04,\n",
            "         3.8963e-05, -1.1090e-04,  8.0809e-05,  9.9664e-05,  2.0291e-05,\n",
            "         3.0758e-05,  1.5688e-04,  2.9302e-04,  2.9483e-05, -3.4277e-05,\n",
            "        -9.3967e-06, -3.0217e-05,  2.7635e-04,  8.3368e-05,  1.4965e-04,\n",
            "         4.9279e-05, -8.8345e-05,  9.1571e-05,  1.1281e-04,  1.2425e-04,\n",
            "        -2.4455e-05,  1.9433e-06, -1.2526e-05,  1.2452e-04,  1.8647e-04,\n",
            "        -2.8493e-04,  8.1638e-05,  1.3149e-05,  1.8825e-04,  2.0096e-04,\n",
            "         9.2533e-05,  3.0561e-05,  9.7047e-05, -1.6037e-04,  9.0637e-05,\n",
            "        -6.4270e-06,  7.5088e-05, -1.1216e-04,  9.9152e-06, -2.0302e-04,\n",
            "        -3.6789e-05,  7.1022e-05,  1.7455e-04, -1.2024e-04, -5.2508e-05,\n",
            "         2.9689e-05, -1.0568e-04,  2.4869e-05, -1.4891e-04, -1.1492e-04,\n",
            "        -1.1286e-04, -8.2468e-05,  3.2027e-05, -4.5716e-05,  1.7577e-04,\n",
            "         6.4647e-05,  1.5922e-04,  8.8225e-05,  5.1684e-05, -1.0680e-04,\n",
            "         1.6352e-05,  2.2622e-05,  8.1109e-05], requires_grad=True)\n",
            "Parameter containing:\n",
            "tensor([[[[ 1.5101e-05,  1.2688e-04,  1.6841e-04],\n",
            "          [ 3.4112e-04,  6.2357e-04,  4.4700e-04],\n",
            "          [ 5.6591e-04,  4.8079e-04,  6.7997e-04]],\n",
            "\n",
            "         [[-1.7337e-03, -2.4710e-03, -2.8240e-03],\n",
            "          [-2.6974e-03, -3.6838e-03, -3.8823e-03],\n",
            "          [-2.3051e-03, -3.2082e-03, -3.6250e-03]],\n",
            "\n",
            "         [[ 5.6522e-03,  6.0298e-03,  6.2740e-03],\n",
            "          [ 5.7154e-03,  6.0495e-03,  6.2245e-03],\n",
            "          [ 5.3188e-03,  5.6594e-03,  5.8425e-03]],\n",
            "\n",
            "         ...,\n",
            "\n",
            "         [[ 3.6592e-03,  4.4417e-03,  4.4338e-03],\n",
            "          [ 4.5219e-03,  5.3135e-03,  5.2652e-03],\n",
            "          [ 4.1817e-03,  4.9499e-03,  4.8934e-03]],\n",
            "\n",
            "         [[-2.0581e-03, -1.7524e-03, -1.4966e-03],\n",
            "          [-1.5736e-03, -1.2300e-03, -1.1112e-03],\n",
            "          [-1.6988e-03, -1.3848e-03, -1.2219e-03]],\n",
            "\n",
            "         [[ 9.1431e-04,  1.7217e-03,  2.1526e-03],\n",
            "          [ 1.5740e-03,  2.9654e-03,  3.1343e-03],\n",
            "          [ 1.7275e-03,  2.5802e-03,  2.8890e-03]]],\n",
            "\n",
            "\n",
            "        [[[ 6.4441e-04,  6.8890e-04,  6.6123e-04],\n",
            "          [ 7.4226e-04,  7.8158e-04,  7.5289e-04],\n",
            "          [ 7.7690e-04,  8.2782e-04,  8.1414e-04]],\n",
            "\n",
            "         [[-2.5615e-04, -2.3767e-04, -5.6267e-05],\n",
            "          [-2.8513e-04, -2.6432e-04, -5.4856e-05],\n",
            "          [-1.3177e-04, -6.2385e-05,  7.1024e-05]],\n",
            "\n",
            "         [[ 9.1097e-04,  7.9962e-04,  9.3283e-04],\n",
            "          [ 8.5831e-04,  7.2263e-04,  8.6859e-04],\n",
            "          [ 1.0529e-03,  9.9276e-04,  1.1236e-03]],\n",
            "\n",
            "         ...,\n",
            "\n",
            "         [[ 1.5964e-05,  6.0435e-05, -3.9303e-05],\n",
            "          [ 1.3494e-04,  1.4364e-04,  7.5178e-05],\n",
            "          [ 1.4285e-04,  1.6626e-04,  9.2898e-05]],\n",
            "\n",
            "         [[-7.4483e-04, -8.1708e-04, -8.8293e-04],\n",
            "          [-6.3287e-04, -7.1125e-04, -8.1275e-04],\n",
            "          [-5.5231e-04, -6.3999e-04, -7.1678e-04]],\n",
            "\n",
            "         [[-5.8454e-04, -6.1068e-04, -7.1532e-04],\n",
            "          [-5.7423e-04, -5.7193e-04, -6.8067e-04],\n",
            "          [-8.2833e-04, -7.8573e-04, -8.7180e-04]]],\n",
            "\n",
            "\n",
            "        [[[-1.2832e-05,  4.7913e-06,  1.3235e-04],\n",
            "          [-1.0208e-04, -1.5226e-04,  3.8733e-05],\n",
            "          [-3.0638e-05, -1.3892e-04, -2.3073e-05]],\n",
            "\n",
            "         [[-4.2404e-04, -1.8955e-04, -1.0824e-04],\n",
            "          [-7.2923e-04, -2.9286e-04, -3.6939e-04],\n",
            "          [-1.0662e-03, -8.5816e-04, -9.0110e-04]],\n",
            "\n",
            "         [[-1.0838e-04, -1.2750e-04, -2.5453e-04],\n",
            "          [-6.3762e-05, -1.3083e-04, -2.1274e-04],\n",
            "          [-6.9147e-05, -1.6575e-04, -2.5631e-04]],\n",
            "\n",
            "         ...,\n",
            "\n",
            "         [[-3.4660e-04, -1.9785e-05, -2.1049e-04],\n",
            "          [-1.2658e-04, -2.1696e-04, -7.6981e-05],\n",
            "          [-2.2415e-04, -2.3674e-04, -1.6529e-04]],\n",
            "\n",
            "         [[-2.7911e-04, -2.4790e-04, -1.7921e-04],\n",
            "          [-2.7314e-04, -2.9580e-04, -2.1433e-04],\n",
            "          [-2.3514e-04, -3.3752e-04, -2.0673e-04]],\n",
            "\n",
            "         [[ 7.1606e-04,  8.3847e-04,  8.0762e-04],\n",
            "          [ 8.5830e-04,  1.0555e-03,  8.6419e-04],\n",
            "          [ 6.1600e-04,  6.5280e-04,  5.6623e-04]]],\n",
            "\n",
            "\n",
            "        ...,\n",
            "\n",
            "\n",
            "        [[[-1.6361e-04, -2.0797e-04, -2.6072e-04],\n",
            "          [-8.7295e-05, -2.0601e-04, -2.8452e-04],\n",
            "          [-1.9423e-04, -1.9995e-04, -2.8813e-04]],\n",
            "\n",
            "         [[ 3.7700e-03,  3.7183e-03,  3.8892e-03],\n",
            "          [ 3.3889e-03,  3.3497e-03,  3.5156e-03],\n",
            "          [ 3.4764e-03,  3.4473e-03,  3.5682e-03]],\n",
            "\n",
            "         [[ 1.5370e-04,  1.4296e-04,  2.5919e-04],\n",
            "          [ 1.7236e-04,  2.3207e-04,  3.1817e-04],\n",
            "          [ 2.0350e-04,  3.0836e-04,  2.6421e-04]],\n",
            "\n",
            "         ...,\n",
            "\n",
            "         [[ 3.8522e-05,  1.1077e-04, -7.8863e-05],\n",
            "          [ 2.8714e-04,  2.4461e-04,  5.1747e-05],\n",
            "          [ 9.8260e-05,  2.0235e-04, -1.7032e-05]],\n",
            "\n",
            "         [[-1.1353e-03, -1.2228e-03, -1.0886e-03],\n",
            "          [-1.1391e-03, -1.0702e-03, -1.1086e-03],\n",
            "          [-9.1824e-04, -1.1089e-03, -9.2447e-04]],\n",
            "\n",
            "         [[-3.6894e-03, -3.5320e-03, -3.7524e-03],\n",
            "          [-3.1886e-03, -2.9921e-03, -3.2163e-03],\n",
            "          [-3.4386e-03, -3.2960e-03, -3.4923e-03]]],\n",
            "\n",
            "\n",
            "        [[[ 5.4055e-04,  5.8883e-04,  5.6324e-04],\n",
            "          [ 6.4843e-04,  7.2519e-04,  7.1342e-04],\n",
            "          [ 6.7853e-04,  8.0100e-04,  7.9698e-04]],\n",
            "\n",
            "         [[-1.3542e-04, -1.1113e-04,  2.9104e-06],\n",
            "          [-1.5582e-04, -1.3608e-04, -2.1834e-06],\n",
            "          [-3.8253e-05,  2.2336e-05,  9.8890e-05]],\n",
            "\n",
            "         [[ 5.8099e-04,  5.7536e-04,  6.1925e-04],\n",
            "          [ 5.6691e-04,  5.6029e-04,  5.9057e-04],\n",
            "          [ 6.0401e-04,  5.9268e-04,  6.5605e-04]],\n",
            "\n",
            "         ...,\n",
            "\n",
            "         [[ 1.3653e-04,  1.4505e-04,  6.8056e-05],\n",
            "          [ 1.8083e-04,  1.8437e-04,  1.4839e-04],\n",
            "          [ 1.3028e-04,  1.5660e-04,  1.0444e-04]],\n",
            "\n",
            "         [[-6.8900e-04, -7.4844e-04, -8.2819e-04],\n",
            "          [-6.0542e-04, -6.5790e-04, -7.6449e-04],\n",
            "          [-5.3068e-04, -5.8417e-04, -6.6304e-04]],\n",
            "\n",
            "         [[-4.7227e-04, -5.6095e-04, -7.0342e-04],\n",
            "          [-5.7169e-04, -6.0307e-04, -7.4623e-04],\n",
            "          [-7.0080e-04, -6.9883e-04, -7.7247e-04]]],\n",
            "\n",
            "\n",
            "        [[[-2.3509e-03, -2.3621e-03, -2.3472e-03],\n",
            "          [-2.2089e-03, -2.2166e-03, -2.1897e-03],\n",
            "          [-2.1275e-03, -2.1122e-03, -2.0589e-03]],\n",
            "\n",
            "         [[ 7.8759e-03,  8.2832e-03,  8.1121e-03],\n",
            "          [ 7.8858e-03,  7.7526e-03,  7.6041e-03],\n",
            "          [ 7.3431e-03,  7.3052e-03,  7.3816e-03]],\n",
            "\n",
            "         [[ 7.1683e-04,  8.6365e-04,  8.1665e-04],\n",
            "          [ 5.7840e-04,  5.8412e-04,  4.9498e-04],\n",
            "          [ 4.4173e-04,  4.3161e-04,  3.8930e-04]],\n",
            "\n",
            "         ...,\n",
            "\n",
            "         [[-3.2310e-03, -3.5069e-03, -3.4236e-03],\n",
            "          [-3.0023e-03, -2.8122e-03, -2.8682e-03],\n",
            "          [-3.0687e-03, -2.8661e-03, -3.1277e-03]],\n",
            "\n",
            "         [[-4.4016e-04, -4.3116e-04, -4.5280e-04],\n",
            "          [ 1.0201e-04,  1.3296e-04,  1.4539e-04],\n",
            "          [ 2.6658e-04,  2.7449e-04,  3.4982e-04]],\n",
            "\n",
            "         [[-4.5311e-03, -4.2591e-03, -4.1108e-03],\n",
            "          [-3.9220e-03, -3.6785e-03, -3.4774e-03],\n",
            "          [-3.5565e-03, -3.2452e-03, -3.0913e-03]]]], requires_grad=True)\n",
            "Parameter containing:\n",
            "tensor([0.7675, 0.7681, 0.7676, 0.7679, 0.7677, 0.7684, 0.7677, 0.7678, 0.7678,\n",
            "        0.7676, 0.7679, 0.7678, 0.7677, 0.7675, 0.7678, 0.7677, 0.7682, 0.7674,\n",
            "        0.7673, 0.7680, 0.7678, 0.7680, 0.7674, 0.7679, 0.7676, 0.7677, 0.7675,\n",
            "        0.7676, 0.7677, 0.7676, 0.7676, 0.7679, 0.7676, 0.7677, 0.7676, 0.7677,\n",
            "        0.7681, 0.7674, 0.7679, 0.7675, 0.7677, 0.7681, 0.7678, 0.7676, 0.7678,\n",
            "        0.7678, 0.7681, 0.7676, 0.7680, 0.7680, 0.7678, 0.7679, 0.7674, 0.7677,\n",
            "        0.7676, 0.7674, 0.7676, 0.7677, 0.7674, 0.7679, 0.7677, 0.7679, 0.7674,\n",
            "        0.7671, 0.7679, 0.7678, 0.7679, 0.7675, 0.7675, 0.7678, 0.7677, 0.7678,\n",
            "        0.7680, 0.7684, 0.7678, 0.7676, 0.7678, 0.7678, 0.7677, 0.7676, 0.7677,\n",
            "        0.7678, 0.7678, 0.7674, 0.7679, 0.7675, 0.7680, 0.7680, 0.7677, 0.7676,\n",
            "        0.7676, 0.7677, 0.7678, 0.7681, 0.7677, 0.7674, 0.7677, 0.7678, 0.7675,\n",
            "        0.7677, 0.7675, 0.7679, 0.7681, 0.7683, 0.7677, 0.7679, 0.7678, 0.7681,\n",
            "        0.7681, 0.7679, 0.7680, 0.7681, 0.7677, 0.7678, 0.7679, 0.7676, 0.7678,\n",
            "        0.7674, 0.7679, 0.7676, 0.7678, 0.7676, 0.7679, 0.7678, 0.7681, 0.7677,\n",
            "        0.7680, 0.7676, 0.7673, 0.7675, 0.7679, 0.7680, 0.7681, 0.7679, 0.7676,\n",
            "        0.7677, 0.7679, 0.7676, 0.7677, 0.7680, 0.7675, 0.7677, 0.7677, 0.7679,\n",
            "        0.7675, 0.7676, 0.7676, 0.7676, 0.7677, 0.7677, 0.7685, 0.7680, 0.7679,\n",
            "        0.7676, 0.7678, 0.7689, 0.7678, 0.7679, 0.7679, 0.7674, 0.7679, 0.7678,\n",
            "        0.7680, 0.7678, 0.7676, 0.7675, 0.7679, 0.7678, 0.7681, 0.7678, 0.7677,\n",
            "        0.7677, 0.7676, 0.7680, 0.7676, 0.7677, 0.7676, 0.7678, 0.7677, 0.7679,\n",
            "        0.7675, 0.7677, 0.7680, 0.7679, 0.7684, 0.7672, 0.7678, 0.7676, 0.7676,\n",
            "        0.7679, 0.7678, 0.7676, 0.7679, 0.7676, 0.7679, 0.7683, 0.7676, 0.7676,\n",
            "        0.7679, 0.7677, 0.7680, 0.7677, 0.7682, 0.7676, 0.7675, 0.7678, 0.7677,\n",
            "        0.7679, 0.7676, 0.7673, 0.7681, 0.7674, 0.7678, 0.7681, 0.7678, 0.7679,\n",
            "        0.7676, 0.7681, 0.7682, 0.7677, 0.7686, 0.7679, 0.7675, 0.7679, 0.7682,\n",
            "        0.7677, 0.7676, 0.7678, 0.7677, 0.7685, 0.7675, 0.7680, 0.7682, 0.7681,\n",
            "        0.7679, 0.7676, 0.7680, 0.7674, 0.7675, 0.7676, 0.7677, 0.7678, 0.7672,\n",
            "        0.7678, 0.7678, 0.7680, 0.7675, 0.7681, 0.7678, 0.7681, 0.7678, 0.7675,\n",
            "        0.7681, 0.7682, 0.7674, 0.7681], requires_grad=True)\n",
            "Parameter containing:\n",
            "tensor([-3.4964e-04, -1.9748e-03,  9.9632e-04,  2.3432e-04, -2.1515e-03,\n",
            "        -2.7490e-05, -1.1755e-03, -2.6533e-03, -3.3973e-03, -1.8978e-03,\n",
            "        -1.2956e-03, -2.5065e-03, -5.0461e-03, -3.0593e-03, -2.5847e-03,\n",
            "        -1.8388e-03, -2.5750e-03, -1.8493e-03, -2.1566e-03, -3.1735e-03,\n",
            "        -2.3457e-03, -2.9850e-03,  1.3648e-03, -2.5626e-03, -3.6266e-03,\n",
            "         1.1694e-03, -2.6208e-03, -2.3829e-03, -3.8743e-04, -2.6429e-03,\n",
            "         6.7662e-04,  2.8330e-04, -2.2272e-05, -2.3596e-03, -2.1322e-03,\n",
            "        -2.3061e-03, -2.3051e-03, -2.2855e-03, -2.0683e-03, -2.0162e-03,\n",
            "        -1.6960e-03,  1.1120e-04, -2.4938e-03,  1.6752e-03,  1.5406e-03,\n",
            "        -2.8011e-03, -2.1907e-03, -1.7229e-03, -1.9052e-03, -3.9255e-03,\n",
            "        -3.6088e-03, -5.0035e-03, -1.8052e-03,  1.0234e-03,  9.9995e-05,\n",
            "         1.4171e-03, -1.9622e-03,  1.6595e-04, -1.9936e-03, -2.9415e-03,\n",
            "        -1.8420e-03, -2.3900e-03, -1.9700e-03, -1.7817e-03, -6.1012e-04,\n",
            "        -2.2231e-03, -3.1907e-03, -1.6838e-03,  6.1866e-04, -2.5635e-03,\n",
            "        -2.5640e-03, -1.8335e-03, -3.9114e-03, -3.6234e-03, -1.9530e-03,\n",
            "         1.7919e-04, -2.1969e-03, -1.7340e-03,  3.1401e-04, -1.7993e-03,\n",
            "        -4.6683e-04,  1.1842e-03, -1.5045e-03, -2.1559e-03, -3.2161e-04,\n",
            "        -6.3773e-04,  9.2889e-04, -2.5775e-03, -2.2007e-03, -2.7143e-03,\n",
            "         8.2611e-04, -2.6176e-03,  1.1500e-03,  3.5469e-04, -2.5897e-03,\n",
            "        -1.8659e-03, -1.6671e-03, -1.0573e-03, -3.5196e-04, -1.6028e-03,\n",
            "        -1.9177e-03, -6.8996e-04, -2.9406e-03,  9.3456e-04, -2.5402e-03,\n",
            "        -2.3218e-03, -1.5521e-03, -1.3093e-03, -2.8482e-03, -4.0773e-03,\n",
            "        -3.2131e-03, -4.2303e-03, -1.0781e-03,  9.1756e-04, -2.3826e-03,\n",
            "        -1.9914e-03, -2.7988e-03, -2.0653e-03, -1.8880e-03,  7.0167e-04,\n",
            "        -3.3664e-03, -2.0976e-03, -1.7770e-03,  1.3362e-04, -2.6384e-03,\n",
            "        -5.1350e-04,  8.9029e-04, -2.3701e-03, -1.7159e-03, -1.8610e-03,\n",
            "        -2.8404e-03, -2.2584e-03,  7.4427e-06, -1.9488e-03, -2.2049e-03,\n",
            "        -2.5720e-03,  1.0750e-03, -1.1625e-03,  1.2296e-03, -1.5337e-03,\n",
            "         6.2840e-04, -2.1365e-03, -2.0508e-03, -2.5665e-03, -2.8957e-04,\n",
            "         9.1902e-04,  2.8847e-04, -7.0526e-04, -1.8027e-03, -1.8266e-04,\n",
            "        -3.5421e-03, -3.0836e-03, -2.3048e-03, -1.1594e-03, -8.5808e-04,\n",
            "        -2.1275e-03,  7.3439e-04, -1.9012e-03, -2.1985e-03, -4.5558e-04,\n",
            "        -2.1024e-03, -9.5788e-04, -3.3117e-03, -3.3688e-03, -4.3076e-04,\n",
            "        -1.8907e-03, -3.9923e-03,  8.4772e-04, -2.5009e-03, -4.8135e-03,\n",
            "         7.3082e-04, -2.0917e-03, -1.9688e-03,  6.6433e-04, -2.1532e-03,\n",
            "         1.3317e-03, -8.5303e-04, -1.5681e-03, -1.9670e-03, -2.2539e-03,\n",
            "        -3.2032e-03,  1.3124e-03, -1.8022e-03, -3.2391e-04, -1.7708e-03,\n",
            "         3.9449e-05, -1.7286e-03, -2.0229e-03, -2.8345e-03, -1.8001e-03,\n",
            "         5.5772e-04, -1.9708e-03, -1.8565e-03, -2.1286e-03, -2.1158e-04,\n",
            "        -7.6925e-04,  8.1514e-04, -2.6999e-03, -3.0616e-03, -1.9149e-04,\n",
            "        -4.4098e-03, -3.9559e-03, -1.3421e-03, -3.1290e-03,  5.4006e-04,\n",
            "        -1.9079e-03, -3.4892e-03,  2.6271e-03, -1.9516e-03, -1.8673e-03,\n",
            "        -3.9204e-03, -1.7232e-05, -2.6112e-03,  1.5461e-03, -2.2216e-03,\n",
            "        -4.8872e-04, -4.7631e-04, -3.5385e-03, -1.3277e-03, -2.2820e-03,\n",
            "        -1.9628e-03, -1.6776e-03,  1.4463e-04, -1.6234e-03, -1.6367e-03,\n",
            "        -2.2377e-03, -3.4156e-04, -1.9358e-03, -1.7692e-03, -6.0762e-04,\n",
            "        -2.3051e-03, -3.7329e-03, -2.0424e-03, -1.9433e-03, -2.1344e-03,\n",
            "        -3.7209e-04, -1.2707e-03, -3.1483e-03, -3.3428e-04,  1.4689e-03,\n",
            "        -2.8721e-03, -2.1074e-03, -1.8222e-03,  9.7578e-04, -2.2141e-03,\n",
            "        -1.6110e-03, -2.0919e-03, -1.9543e-03,  2.1422e-04, -1.6119e-03,\n",
            "        -2.7342e-03, -1.9662e-03,  7.3341e-04, -4.2668e-03, -1.8379e-03,\n",
            "        -2.3766e-03], requires_grad=True)\n",
            "Parameter containing:\n",
            "tensor([[[[ 1.2607e-03,  1.5814e-03,  1.7171e-03],\n",
            "          [ 1.2134e-03,  1.5710e-03,  1.7691e-03],\n",
            "          [ 8.4110e-04,  1.1266e-03,  1.3480e-03]],\n",
            "\n",
            "         [[-9.9957e-04, -8.4172e-04, -8.2492e-04],\n",
            "          [-1.0825e-03, -8.6673e-04, -7.9083e-04],\n",
            "          [-1.5585e-03, -1.4558e-03, -1.3218e-03]],\n",
            "\n",
            "         [[ 9.3401e-05,  4.0728e-05,  7.8673e-05],\n",
            "          [-4.4048e-05, -1.1362e-04, -4.3224e-05],\n",
            "          [-6.5409e-05, -1.3590e-04, -8.3423e-05]],\n",
            "\n",
            "         ...,\n",
            "\n",
            "         [[-8.6492e-04, -7.2035e-04, -7.9575e-04],\n",
            "          [-1.0679e-03, -9.2535e-04, -9.1281e-04],\n",
            "          [-1.5945e-03, -1.4772e-03, -1.4811e-03]],\n",
            "\n",
            "         [[-9.9793e-04, -8.5104e-04, -8.4953e-04],\n",
            "          [-1.0892e-03, -8.9176e-04, -8.5266e-04],\n",
            "          [-1.5705e-03, -1.4994e-03, -1.4052e-03]],\n",
            "\n",
            "         [[-4.3039e-05, -7.6763e-05, -8.8216e-05],\n",
            "          [-1.9971e-04, -9.8343e-05, -1.3750e-04],\n",
            "          [-2.0349e-04, -1.1687e-04, -1.0645e-04]]],\n",
            "\n",
            "\n",
            "        [[[-7.8446e-05,  3.5911e-05,  1.6019e-04],\n",
            "          [-4.8813e-06,  8.2688e-05,  1.4248e-04],\n",
            "          [ 9.3357e-05,  2.8610e-04,  4.0151e-04]],\n",
            "\n",
            "         [[ 1.1798e-03,  1.3350e-03,  1.2002e-03],\n",
            "          [ 8.4656e-04,  7.5851e-04,  5.3080e-04],\n",
            "          [ 5.7344e-04,  3.9594e-04,  1.2354e-04]],\n",
            "\n",
            "         [[ 1.4299e-04,  1.9928e-04,  1.8544e-04],\n",
            "          [ 2.0870e-04,  1.7626e-04,  1.4050e-04],\n",
            "          [ 2.7966e-04,  3.9799e-04,  2.5745e-04]],\n",
            "\n",
            "         ...,\n",
            "\n",
            "         [[ 1.1101e-03,  1.2758e-03,  1.1561e-03],\n",
            "          [ 7.9969e-04,  6.9030e-04,  4.4654e-04],\n",
            "          [ 5.4973e-04,  3.7879e-04,  8.1055e-05]],\n",
            "\n",
            "         [[ 1.1180e-03,  1.3202e-03,  1.1950e-03],\n",
            "          [ 8.3642e-04,  7.4765e-04,  4.8675e-04],\n",
            "          [ 5.7652e-04,  4.3572e-04,  1.0779e-04]],\n",
            "\n",
            "         [[ 1.6673e-03,  1.8324e-03,  1.2865e-03],\n",
            "          [ 1.2518e-03,  1.1679e-03,  5.6148e-04],\n",
            "          [ 9.3402e-04,  7.0486e-04,  1.3979e-04]]],\n",
            "\n",
            "\n",
            "        [[[ 1.2486e-03,  1.3188e-03,  1.3598e-03],\n",
            "          [ 1.3014e-03,  1.3643e-03,  1.3434e-03],\n",
            "          [ 1.4829e-03,  1.5389e-03,  1.5319e-03]],\n",
            "\n",
            "         [[-4.2402e-03, -3.9475e-03, -3.9287e-03],\n",
            "          [-4.1105e-03, -3.7652e-03, -3.5972e-03],\n",
            "          [-3.9606e-03, -3.5385e-03, -3.3134e-03]],\n",
            "\n",
            "         [[ 1.8926e-03,  1.9776e-03,  2.1965e-03],\n",
            "          [ 1.9918e-03,  2.0610e-03,  2.2561e-03],\n",
            "          [ 2.1739e-03,  2.2277e-03,  2.3651e-03]],\n",
            "\n",
            "         ...,\n",
            "\n",
            "         [[-4.0177e-03, -3.6638e-03, -3.6811e-03],\n",
            "          [-3.8547e-03, -3.3445e-03, -3.2790e-03],\n",
            "          [-3.5432e-03, -3.0547e-03, -2.8581e-03]],\n",
            "\n",
            "         [[-3.4948e-03, -3.3779e-03, -3.5370e-03],\n",
            "          [-3.3779e-03, -3.1857e-03, -3.2589e-03],\n",
            "          [-3.3289e-03, -3.1606e-03, -3.1389e-03]],\n",
            "\n",
            "         [[-1.1221e-03, -7.1939e-04, -3.7366e-04],\n",
            "          [-1.2604e-03, -8.4451e-04, -5.3046e-04],\n",
            "          [-6.3698e-04, -1.2208e-04,  2.2307e-04]]],\n",
            "\n",
            "\n",
            "        ...,\n",
            "\n",
            "\n",
            "        [[[-1.8204e-03, -2.4336e-03, -2.5510e-03],\n",
            "          [-2.0626e-03, -2.7401e-03, -2.8898e-03],\n",
            "          [-1.9107e-03, -2.5555e-03, -2.7160e-03]],\n",
            "\n",
            "         [[ 1.6937e-03,  1.3519e-03,  1.4447e-03],\n",
            "          [ 1.6372e-03,  1.2735e-03,  1.3680e-03],\n",
            "          [ 2.2292e-03,  1.8782e-03,  2.0183e-03]],\n",
            "\n",
            "         [[ 2.5680e-04,  2.5361e-04,  2.0651e-04],\n",
            "          [ 1.8394e-04,  1.9066e-04,  1.5270e-04],\n",
            "          [ 1.7066e-04,  1.7068e-04,  1.3452e-04]],\n",
            "\n",
            "         ...,\n",
            "\n",
            "         [[ 1.8058e-03,  1.5575e-03,  1.8483e-03],\n",
            "          [ 1.7427e-03,  1.4515e-03,  1.7641e-03],\n",
            "          [ 2.1484e-03,  1.9196e-03,  2.2174e-03]],\n",
            "\n",
            "         [[ 1.7434e-03,  1.3422e-03,  1.4250e-03],\n",
            "          [ 1.6463e-03,  1.2270e-03,  1.3583e-03],\n",
            "          [ 2.2545e-03,  1.8865e-03,  2.0321e-03]],\n",
            "\n",
            "         [[-1.7945e-05,  1.7880e-05,  1.5914e-04],\n",
            "          [-4.3942e-05, -7.0333e-06,  5.9382e-05],\n",
            "          [ 3.7754e-05,  2.9067e-05,  1.3251e-04]]],\n",
            "\n",
            "\n",
            "        [[[-3.1392e-04, -3.7887e-04, -4.3610e-04],\n",
            "          [-4.8037e-04, -4.8666e-04, -5.5710e-04],\n",
            "          [-3.3094e-04, -3.5847e-04, -3.4494e-04]],\n",
            "\n",
            "         [[-3.9880e-03, -4.0457e-03, -4.3270e-03],\n",
            "          [-3.8431e-03, -3.8248e-03, -4.1311e-03],\n",
            "          [-4.1545e-03, -4.2939e-03, -4.6629e-03]],\n",
            "\n",
            "         [[-1.5675e-03, -1.7473e-03, -1.7995e-03],\n",
            "          [-1.6840e-03, -1.8546e-03, -1.8744e-03],\n",
            "          [-1.8248e-03, -2.0154e-03, -1.9640e-03]],\n",
            "\n",
            "         ...,\n",
            "\n",
            "         [[-4.1330e-03, -4.1728e-03, -4.4811e-03],\n",
            "          [-3.9661e-03, -3.9242e-03, -4.2886e-03],\n",
            "          [-4.2362e-03, -4.3452e-03, -4.7511e-03]],\n",
            "\n",
            "         [[-4.0177e-03, -4.0731e-03, -4.3152e-03],\n",
            "          [-3.8537e-03, -3.8743e-03, -4.1608e-03],\n",
            "          [-4.1928e-03, -4.3447e-03, -4.7129e-03]],\n",
            "\n",
            "         [[-4.5308e-03, -4.3355e-03, -4.6155e-03],\n",
            "          [-4.4325e-03, -4.9369e-03, -4.8064e-03],\n",
            "          [-4.4678e-03, -4.9813e-03, -4.6485e-03]]],\n",
            "\n",
            "\n",
            "        [[[-9.6174e-04, -9.3580e-04, -7.9806e-04],\n",
            "          [-3.7017e-04, -4.1038e-04, -8.2460e-04],\n",
            "          [-4.6953e-04, -4.8459e-04, -6.5991e-04]],\n",
            "\n",
            "         [[-4.7644e-04, -3.9908e-04, -6.3504e-04],\n",
            "          [-9.9138e-04, -7.3657e-04, -6.5094e-04],\n",
            "          [-1.3967e-03, -1.3023e-03, -1.2395e-03]],\n",
            "\n",
            "         [[-9.1583e-04, -1.3257e-03, -1.4368e-03],\n",
            "          [-8.3632e-04, -7.8822e-04, -8.2533e-04],\n",
            "          [-9.4582e-04, -9.2907e-04, -7.1993e-04]],\n",
            "\n",
            "         ...,\n",
            "\n",
            "         [[-5.2280e-04, -5.0149e-04, -9.2910e-04],\n",
            "          [ 3.7629e-04,  4.6596e-04, -1.9626e-04],\n",
            "          [-7.9990e-05, -3.4246e-05, -6.4082e-04]],\n",
            "\n",
            "         [[-5.5200e-04, -4.4226e-04, -6.2313e-04],\n",
            "          [-1.0928e-03, -8.2014e-04, -6.9389e-04],\n",
            "          [-1.4105e-03, -1.2991e-03, -1.2274e-03]],\n",
            "\n",
            "         [[-3.8126e-04, -4.1570e-04, -6.5666e-04],\n",
            "          [-1.4617e-04, -7.5378e-05, -1.6743e-04],\n",
            "          [-3.5368e-04, -3.0826e-04, -4.5719e-04]]]], requires_grad=True)\n",
            "Parameter containing:\n",
            "tensor([0.7677, 0.7680, 0.7675, 0.7677, 0.7677, 0.7676, 0.7674, 0.7678, 0.7679,\n",
            "        0.7675, 0.7679, 0.7678, 0.7678, 0.7679, 0.7679, 0.7680, 0.7679, 0.7687,\n",
            "        0.7679, 0.7675, 0.7674, 0.7679, 0.7676, 0.7674, 0.7682, 0.7674, 0.7678,\n",
            "        0.7677, 0.7681, 0.7676, 0.7678, 0.7686, 0.7674, 0.7676, 0.7675, 0.7677,\n",
            "        0.7678, 0.7675, 0.7684, 0.7678, 0.7679, 0.7679, 0.7681, 0.7678, 0.7678,\n",
            "        0.7686, 0.7677, 0.7677, 0.7676, 0.7680, 0.7680, 0.7679, 0.7675, 0.7679,\n",
            "        0.7676, 0.7674, 0.7674, 0.7678, 0.7675, 0.7679, 0.7682, 0.7678, 0.7676,\n",
            "        0.7676, 0.7679, 0.7677, 0.7679, 0.7674, 0.7676, 0.7674, 0.7673, 0.7681,\n",
            "        0.7674, 0.7678, 0.7677, 0.7679, 0.7675, 0.7678, 0.7682, 0.7682, 0.7677,\n",
            "        0.7677, 0.7677, 0.7678, 0.7674, 0.7675, 0.7681, 0.7679, 0.7677, 0.7684,\n",
            "        0.7678, 0.7678, 0.7672, 0.7679, 0.7677, 0.7681, 0.7678, 0.7676, 0.7678,\n",
            "        0.7679, 0.7680, 0.7683, 0.7680, 0.7677, 0.7680, 0.7677, 0.7678, 0.7676,\n",
            "        0.7678, 0.7681, 0.7684, 0.7677, 0.7676, 0.7678, 0.7679, 0.7679, 0.7682,\n",
            "        0.7683, 0.7678, 0.7677, 0.7675, 0.7675, 0.7678, 0.7676, 0.7679, 0.7674,\n",
            "        0.7680, 0.7678, 0.7681, 0.7677, 0.7678, 0.7675, 0.7678, 0.7677, 0.7675,\n",
            "        0.7680, 0.7676, 0.7676, 0.7680, 0.7677, 0.7677, 0.7674, 0.7681, 0.7677,\n",
            "        0.7679, 0.7675, 0.7675, 0.7671, 0.7678, 0.7673, 0.7674, 0.7681, 0.7680,\n",
            "        0.7677, 0.7676, 0.7678, 0.7681, 0.7676, 0.7677, 0.7677, 0.7678, 0.7679,\n",
            "        0.7682, 0.7679, 0.7682, 0.7682, 0.7672, 0.7677, 0.7685, 0.7680, 0.7678,\n",
            "        0.7677, 0.7681, 0.7678, 0.7679, 0.7677, 0.7677, 0.7678, 0.7679, 0.7681,\n",
            "        0.7674, 0.7680, 0.7677, 0.7675, 0.7675, 0.7685, 0.7677, 0.7680, 0.7677,\n",
            "        0.7674, 0.7677, 0.7679, 0.7678, 0.7677, 0.7672, 0.7677, 0.7674, 0.7677,\n",
            "        0.7673, 0.7676, 0.7674, 0.7679, 0.7673, 0.7677, 0.7676, 0.7681, 0.7682,\n",
            "        0.7679, 0.7678, 0.7680, 0.7678, 0.7678, 0.7680, 0.7678, 0.7674, 0.7674,\n",
            "        0.7679, 0.7678, 0.7676, 0.7675, 0.7675, 0.7683, 0.7683, 0.7678, 0.7679,\n",
            "        0.7678, 0.7676, 0.7674, 0.7676, 0.7677, 0.7681, 0.7676, 0.7678, 0.7676,\n",
            "        0.7676, 0.7678, 0.7676, 0.7675, 0.7679, 0.7676, 0.7673, 0.7680, 0.7676,\n",
            "        0.7680, 0.7678, 0.7677, 0.7677, 0.7680, 0.7675, 0.7678, 0.7679, 0.7676,\n",
            "        0.7675, 0.7675, 0.7680, 0.7679], requires_grad=True)\n",
            "Parameter containing:\n",
            "tensor([ 1.9735e-04, -3.4959e-04, -1.9878e-04,  4.5111e-04, -6.2374e-04,\n",
            "         1.4648e-04,  2.2429e-04, -2.7530e-04, -5.2129e-04, -3.0628e-04,\n",
            "        -3.2270e-04,  1.7084e-05, -1.7522e-05, -4.1748e-04, -5.1497e-04,\n",
            "        -5.1707e-05, -4.0032e-04,  8.1654e-05,  1.0754e-04, -3.3713e-04,\n",
            "        -3.0189e-04, -6.3404e-04, -2.4942e-05,  1.4167e-04, -5.3878e-04,\n",
            "        -4.4759e-05, -1.1427e-04, -3.2662e-04, -4.0616e-04,  9.5535e-05,\n",
            "         6.0165e-04,  2.9838e-04,  3.2495e-04, -1.0330e-04,  8.7930e-05,\n",
            "         7.1795e-05, -2.0336e-04,  5.4187e-04,  3.0746e-04, -1.9798e-04,\n",
            "        -3.0625e-04, -4.1581e-04, -5.1431e-04, -1.1546e-04,  3.9504e-04,\n",
            "         5.1114e-05,  1.6814e-04,  2.8918e-04,  2.2601e-04,  3.7834e-04,\n",
            "        -4.3507e-04,  6.3206e-05,  2.0821e-04, -3.8477e-04,  4.2139e-05,\n",
            "        -2.6870e-04,  2.0873e-04,  1.5382e-04,  4.1109e-04,  3.5549e-04,\n",
            "        -2.4899e-04,  1.9842e-04,  4.7644e-04, -2.9068e-04,  1.6107e-04,\n",
            "        -3.4227e-04,  3.2515e-05,  1.7534e-04,  2.0336e-04, -3.4789e-05,\n",
            "         9.1679e-05, -1.0442e-04, -1.3880e-04,  2.1258e-04, -1.4508e-04,\n",
            "         3.2045e-04,  4.3355e-04, -4.5196e-04, -2.5927e-05,  7.7704e-04,\n",
            "         6.6415e-04, -6.6580e-05, -2.2174e-04, -3.1489e-04,  2.7670e-04,\n",
            "         2.2294e-04, -4.2646e-04, -7.3010e-05, -2.4353e-04, -3.8703e-04,\n",
            "         1.0773e-04, -2.6041e-04, -1.1001e-04, -4.4740e-04, -6.2603e-04,\n",
            "        -3.2760e-04,  2.2105e-04, -5.8315e-04,  2.9876e-04, -3.1429e-04,\n",
            "         7.9988e-06, -2.6073e-04, -3.0579e-04, -1.7799e-04,  1.9978e-04,\n",
            "         4.2716e-04, -1.2250e-04,  1.4097e-04,  2.9789e-04,  3.1964e-04,\n",
            "         5.0762e-04,  3.7703e-04, -4.4547e-04, -9.8997e-05,  2.9091e-05,\n",
            "        -3.5110e-04, -2.9610e-04, -5.7343e-04, -2.4571e-05, -1.6339e-04,\n",
            "         2.9420e-04, -7.1044e-05,  2.1404e-04, -1.1484e-04,  5.8002e-04,\n",
            "        -4.5219e-04, -2.8613e-04,  1.2775e-04,  9.8107e-05, -3.6415e-04,\n",
            "         4.6686e-04, -2.1382e-05, -2.5253e-04, -9.2773e-05,  5.5752e-04,\n",
            "         8.2014e-05, -3.5413e-04, -5.3985e-04,  5.2068e-04,  4.5446e-04,\n",
            "         1.6755e-04, -1.1298e-04, -7.2010e-05, -1.0202e-04,  2.9819e-04,\n",
            "         1.8088e-04,  2.5914e-04,  4.7194e-05,  2.7469e-04,  1.2552e-04,\n",
            "        -1.4499e-04, -5.4201e-04, -3.9086e-04,  3.9600e-04, -4.7856e-04,\n",
            "        -4.8749e-04,  7.9729e-05,  2.7359e-04, -1.7790e-04, -4.4723e-05,\n",
            "        -5.4459e-05,  6.2436e-05,  1.9614e-05,  3.7750e-05,  5.0256e-04,\n",
            "        -2.7139e-04, -3.1970e-04, -6.0294e-05, -3.2596e-04,  3.8779e-04,\n",
            "         1.4683e-04, -2.4004e-04, -2.0984e-05, -4.9490e-04,  3.2498e-04,\n",
            "        -5.5504e-04,  6.3660e-04,  5.1322e-04, -1.9010e-04,  1.0344e-04,\n",
            "         3.9999e-04,  4.9501e-04, -3.5977e-04,  2.6004e-04,  1.4897e-04,\n",
            "         1.6332e-05,  6.1113e-04,  2.2123e-04, -5.2447e-05,  2.0314e-04,\n",
            "         1.2789e-04, -9.3081e-05, -7.0268e-04,  4.7749e-05,  1.8570e-04,\n",
            "         1.6277e-04,  9.7438e-05,  3.1559e-04,  1.7485e-04,  3.5411e-04,\n",
            "        -2.3470e-04, -2.5383e-04, -7.8074e-05,  2.4831e-04,  2.6410e-04,\n",
            "         1.4459e-04,  4.7028e-04, -5.2251e-04, -3.8808e-04,  5.2831e-04,\n",
            "        -2.2155e-04, -4.4158e-04, -4.2466e-04, -3.3761e-04, -1.2046e-04,\n",
            "         4.2672e-04, -2.4740e-04,  1.7248e-04, -2.5843e-04, -1.1415e-05,\n",
            "        -1.6376e-04,  4.6193e-04,  5.5774e-04,  5.0118e-04,  5.2965e-05,\n",
            "        -5.4119e-04, -3.2438e-04,  4.3597e-04,  2.1933e-04,  1.8319e-04,\n",
            "        -4.3670e-07, -4.7020e-04,  1.4552e-04,  2.7175e-04,  3.8387e-04,\n",
            "         1.6595e-04,  1.1933e-04,  1.7772e-04, -3.2698e-04,  5.5894e-04,\n",
            "         5.1676e-04,  4.6625e-04,  3.9217e-04, -4.2222e-04, -1.6698e-04,\n",
            "         2.9453e-04, -2.6614e-04,  6.4311e-04, -1.3406e-04,  1.7832e-04,\n",
            "        -3.2955e-04, -2.7408e-04, -6.2188e-04, -4.1832e-04,  5.8553e-04,\n",
            "         5.6672e-04], requires_grad=True)\n",
            "Parameter containing:\n",
            "tensor([[[[ 4.6297e-04]],\n",
            "\n",
            "         [[-1.1727e-03]],\n",
            "\n",
            "         [[-6.5900e-03]],\n",
            "\n",
            "         ...,\n",
            "\n",
            "         [[ 2.5911e-03]],\n",
            "\n",
            "         [[ 9.5651e-04]],\n",
            "\n",
            "         [[ 7.9466e-03]]],\n",
            "\n",
            "\n",
            "        [[[ 3.6990e-03]],\n",
            "\n",
            "         [[-3.2545e-03]],\n",
            "\n",
            "         [[ 1.2108e-02]],\n",
            "\n",
            "         ...,\n",
            "\n",
            "         [[ 5.6122e-03]],\n",
            "\n",
            "         [[-3.9292e-03]],\n",
            "\n",
            "         [[ 3.6369e-03]]],\n",
            "\n",
            "\n",
            "        [[[ 1.5543e-03]],\n",
            "\n",
            "         [[ 2.4461e-03]],\n",
            "\n",
            "         [[ 1.0052e-03]],\n",
            "\n",
            "         ...,\n",
            "\n",
            "         [[-4.7338e-03]],\n",
            "\n",
            "         [[-2.5079e-03]],\n",
            "\n",
            "         [[-5.1197e-03]]],\n",
            "\n",
            "\n",
            "        ...,\n",
            "\n",
            "\n",
            "        [[[ 8.0934e-03]],\n",
            "\n",
            "         [[-1.5748e-04]],\n",
            "\n",
            "         [[ 5.3855e-03]],\n",
            "\n",
            "         ...,\n",
            "\n",
            "         [[-5.2770e-05]],\n",
            "\n",
            "         [[-1.3031e-02]],\n",
            "\n",
            "         [[-4.6859e-03]]],\n",
            "\n",
            "\n",
            "        [[[ 1.8547e-03]],\n",
            "\n",
            "         [[-1.9700e-03]],\n",
            "\n",
            "         [[-1.4740e-03]],\n",
            "\n",
            "         ...,\n",
            "\n",
            "         [[ 2.7655e-03]],\n",
            "\n",
            "         [[ 2.8089e-03]],\n",
            "\n",
            "         [[ 3.8947e-03]]],\n",
            "\n",
            "\n",
            "        [[[ 2.2787e-03]],\n",
            "\n",
            "         [[-2.0423e-03]],\n",
            "\n",
            "         [[-9.2810e-04]],\n",
            "\n",
            "         ...,\n",
            "\n",
            "         [[ 3.5657e-03]],\n",
            "\n",
            "         [[ 7.3972e-04]],\n",
            "\n",
            "         [[ 4.2249e-03]]]], requires_grad=True)\n",
            "Parameter containing:\n",
            "tensor([0.7674, 0.7676, 0.7675, 0.7679, 0.7674, 0.7677, 0.7677, 0.7682, 0.7676,\n",
            "        0.7675, 0.7679, 0.7677, 0.7675, 0.7677, 0.7679, 0.7680, 0.7676, 0.7676,\n",
            "        0.7679, 0.7678, 0.7676, 0.7678, 0.7678, 0.7677, 0.7681, 0.7675, 0.7679,\n",
            "        0.7676, 0.7674, 0.7678, 0.7679, 0.7675, 0.7678, 0.7676, 0.7680, 0.7678,\n",
            "        0.7676, 0.7671, 0.7680, 0.7677, 0.7678, 0.7679, 0.7679, 0.7679, 0.7679,\n",
            "        0.7678, 0.7676, 0.7679, 0.7676, 0.7678, 0.7683, 0.7679, 0.7678, 0.7677,\n",
            "        0.7675, 0.7678, 0.7676, 0.7680, 0.7675, 0.7674, 0.7678, 0.7684, 0.7675,\n",
            "        0.7677, 0.7678, 0.7677, 0.7679, 0.7680, 0.7677, 0.7679, 0.7680, 0.7680,\n",
            "        0.7678, 0.7678, 0.7677, 0.7678, 0.7675, 0.7680, 0.7679, 0.7676, 0.7678,\n",
            "        0.7676, 0.7681, 0.7675, 0.7678, 0.7680, 0.7676, 0.7680, 0.7679, 0.7676,\n",
            "        0.7677, 0.7679, 0.7675, 0.7677, 0.7677, 0.7678, 0.7675, 0.7682, 0.7678,\n",
            "        0.7679, 0.7680, 0.7680, 0.7680, 0.7680, 0.7676, 0.7677, 0.7679, 0.7678,\n",
            "        0.7680, 0.7681, 0.7678, 0.7677, 0.7682, 0.7679, 0.7676, 0.7680, 0.7679,\n",
            "        0.7678, 0.7677, 0.7676, 0.7677, 0.7676, 0.7676, 0.7678, 0.7679, 0.7682,\n",
            "        0.7676, 0.7679, 0.7679, 0.7676, 0.7681, 0.7678, 0.7680, 0.7677, 0.7675,\n",
            "        0.7677, 0.7675, 0.7676, 0.7680, 0.7677, 0.7678, 0.7676, 0.7679, 0.7679,\n",
            "        0.7680, 0.7675, 0.7674, 0.7677, 0.7675, 0.7680, 0.7676, 0.7679, 0.7679,\n",
            "        0.7675, 0.7678, 0.7681, 0.7677, 0.7679, 0.7673, 0.7677, 0.7678, 0.7679,\n",
            "        0.7680, 0.7677, 0.7682, 0.7675, 0.7678, 0.7682, 0.7675, 0.7678, 0.7676,\n",
            "        0.7677, 0.7675, 0.7679, 0.7677, 0.7677, 0.7677, 0.7677, 0.7680, 0.7678,\n",
            "        0.7678, 0.7682, 0.7675, 0.7679, 0.7676, 0.7677, 0.7679, 0.7676, 0.7674,\n",
            "        0.7676, 0.7678, 0.7679, 0.7676, 0.7675, 0.7676, 0.7675, 0.7679, 0.7677,\n",
            "        0.7680, 0.7678, 0.7678, 0.7680, 0.7678, 0.7680, 0.7677, 0.7679, 0.7675,\n",
            "        0.7678, 0.7684, 0.7676, 0.7679, 0.7677, 0.7681, 0.7679, 0.7679, 0.7677,\n",
            "        0.7676, 0.7675, 0.7675, 0.7676, 0.7677, 0.7677, 0.7684, 0.7679, 0.7678,\n",
            "        0.7676, 0.7675, 0.7673, 0.7675, 0.7678, 0.7681, 0.7678, 0.7676, 0.7679,\n",
            "        0.7680, 0.7677, 0.7678, 0.7677, 0.7676, 0.7675, 0.7678, 0.7678, 0.7680,\n",
            "        0.7678, 0.7678, 0.7676, 0.7677, 0.7679, 0.7681, 0.7676, 0.7675, 0.7675,\n",
            "        0.7678, 0.7679, 0.7682, 0.7678], requires_grad=True)\n",
            "Parameter containing:\n",
            "tensor([ 1.9735e-04, -3.4959e-04, -1.9878e-04,  4.5111e-04, -6.2374e-04,\n",
            "         1.4648e-04,  2.2429e-04, -2.7530e-04, -5.2129e-04, -3.0628e-04,\n",
            "        -3.2270e-04,  1.7084e-05, -1.7522e-05, -4.1748e-04, -5.1497e-04,\n",
            "        -5.1707e-05, -4.0032e-04,  8.1654e-05,  1.0754e-04, -3.3713e-04,\n",
            "        -3.0189e-04, -6.3404e-04, -2.4942e-05,  1.4167e-04, -5.3878e-04,\n",
            "        -4.4759e-05, -1.1427e-04, -3.2662e-04, -4.0616e-04,  9.5535e-05,\n",
            "         6.0165e-04,  2.9838e-04,  3.2495e-04, -1.0330e-04,  8.7930e-05,\n",
            "         7.1795e-05, -2.0336e-04,  5.4187e-04,  3.0746e-04, -1.9798e-04,\n",
            "        -3.0625e-04, -4.1581e-04, -5.1431e-04, -1.1546e-04,  3.9504e-04,\n",
            "         5.1114e-05,  1.6814e-04,  2.8918e-04,  2.2601e-04,  3.7834e-04,\n",
            "        -4.3507e-04,  6.3206e-05,  2.0821e-04, -3.8477e-04,  4.2139e-05,\n",
            "        -2.6870e-04,  2.0873e-04,  1.5382e-04,  4.1109e-04,  3.5549e-04,\n",
            "        -2.4899e-04,  1.9842e-04,  4.7644e-04, -2.9068e-04,  1.6107e-04,\n",
            "        -3.4227e-04,  3.2515e-05,  1.7534e-04,  2.0336e-04, -3.4789e-05,\n",
            "         9.1679e-05, -1.0442e-04, -1.3880e-04,  2.1258e-04, -1.4508e-04,\n",
            "         3.2045e-04,  4.3355e-04, -4.5196e-04, -2.5927e-05,  7.7704e-04,\n",
            "         6.6415e-04, -6.6580e-05, -2.2174e-04, -3.1489e-04,  2.7670e-04,\n",
            "         2.2294e-04, -4.2646e-04, -7.3010e-05, -2.4353e-04, -3.8703e-04,\n",
            "         1.0773e-04, -2.6041e-04, -1.1001e-04, -4.4740e-04, -6.2603e-04,\n",
            "        -3.2760e-04,  2.2105e-04, -5.8315e-04,  2.9876e-04, -3.1429e-04,\n",
            "         7.9988e-06, -2.6073e-04, -3.0579e-04, -1.7799e-04,  1.9978e-04,\n",
            "         4.2716e-04, -1.2250e-04,  1.4097e-04,  2.9789e-04,  3.1964e-04,\n",
            "         5.0762e-04,  3.7703e-04, -4.4547e-04, -9.8997e-05,  2.9091e-05,\n",
            "        -3.5110e-04, -2.9610e-04, -5.7343e-04, -2.4571e-05, -1.6339e-04,\n",
            "         2.9420e-04, -7.1044e-05,  2.1404e-04, -1.1484e-04,  5.8002e-04,\n",
            "        -4.5219e-04, -2.8613e-04,  1.2775e-04,  9.8107e-05, -3.6415e-04,\n",
            "         4.6686e-04, -2.1382e-05, -2.5253e-04, -9.2773e-05,  5.5752e-04,\n",
            "         8.2014e-05, -3.5413e-04, -5.3985e-04,  5.2068e-04,  4.5446e-04,\n",
            "         1.6755e-04, -1.1298e-04, -7.2010e-05, -1.0202e-04,  2.9819e-04,\n",
            "         1.8088e-04,  2.5914e-04,  4.7194e-05,  2.7469e-04,  1.2552e-04,\n",
            "        -1.4499e-04, -5.4201e-04, -3.9086e-04,  3.9600e-04, -4.7856e-04,\n",
            "        -4.8749e-04,  7.9729e-05,  2.7359e-04, -1.7790e-04, -4.4723e-05,\n",
            "        -5.4459e-05,  6.2436e-05,  1.9614e-05,  3.7750e-05,  5.0256e-04,\n",
            "        -2.7139e-04, -3.1970e-04, -6.0294e-05, -3.2596e-04,  3.8779e-04,\n",
            "         1.4683e-04, -2.4004e-04, -2.0984e-05, -4.9490e-04,  3.2498e-04,\n",
            "        -5.5504e-04,  6.3660e-04,  5.1322e-04, -1.9010e-04,  1.0344e-04,\n",
            "         3.9999e-04,  4.9501e-04, -3.5977e-04,  2.6004e-04,  1.4897e-04,\n",
            "         1.6332e-05,  6.1113e-04,  2.2123e-04, -5.2447e-05,  2.0314e-04,\n",
            "         1.2789e-04, -9.3081e-05, -7.0268e-04,  4.7749e-05,  1.8570e-04,\n",
            "         1.6277e-04,  9.7438e-05,  3.1559e-04,  1.7485e-04,  3.5411e-04,\n",
            "        -2.3470e-04, -2.5383e-04, -7.8074e-05,  2.4831e-04,  2.6410e-04,\n",
            "         1.4459e-04,  4.7028e-04, -5.2251e-04, -3.8808e-04,  5.2831e-04,\n",
            "        -2.2155e-04, -4.4158e-04, -4.2466e-04, -3.3761e-04, -1.2046e-04,\n",
            "         4.2672e-04, -2.4740e-04,  1.7248e-04, -2.5843e-04, -1.1415e-05,\n",
            "        -1.6376e-04,  4.6193e-04,  5.5774e-04,  5.0118e-04,  5.2965e-05,\n",
            "        -5.4119e-04, -3.2438e-04,  4.3597e-04,  2.1933e-04,  1.8319e-04,\n",
            "        -4.3670e-07, -4.7020e-04,  1.4552e-04,  2.7175e-04,  3.8387e-04,\n",
            "         1.6595e-04,  1.1933e-04,  1.7772e-04, -3.2698e-04,  5.5894e-04,\n",
            "         5.1676e-04,  4.6625e-04,  3.9217e-04, -4.2222e-04, -1.6698e-04,\n",
            "         2.9453e-04, -2.6614e-04,  6.4311e-04, -1.3406e-04,  1.7832e-04,\n",
            "        -3.2955e-04, -2.7408e-04, -6.2188e-04, -4.1832e-04,  5.8553e-04,\n",
            "         5.6672e-04], requires_grad=True)\n",
            "Parameter containing:\n",
            "tensor([[[[-1.4668e-03, -1.1701e-03, -1.6759e-03],\n",
            "          [-7.6265e-04, -2.6700e-04, -6.8856e-04],\n",
            "          [-1.1276e-03, -6.0445e-04, -1.0881e-03]],\n",
            "\n",
            "         [[ 6.5390e-04,  7.8178e-04,  7.4921e-04],\n",
            "          [ 5.8308e-04,  6.9922e-04,  7.1539e-04],\n",
            "          [ 5.4163e-04,  6.0298e-04,  5.8052e-04]],\n",
            "\n",
            "         [[ 8.8246e-04,  8.8014e-04,  1.2866e-03],\n",
            "          [ 3.4676e-04,  1.9867e-04,  5.4002e-04],\n",
            "          [ 6.2862e-04,  5.2564e-04,  8.4802e-04]],\n",
            "\n",
            "         ...,\n",
            "\n",
            "         [[ 1.1417e-03,  7.4353e-04,  1.2878e-03],\n",
            "          [ 4.6746e-04, -1.1783e-04,  2.8801e-04],\n",
            "          [ 9.4103e-04,  3.3114e-04,  6.7468e-04]],\n",
            "\n",
            "         [[-8.9514e-05,  2.6675e-04, -2.8239e-04],\n",
            "          [ 4.4523e-04,  1.0558e-03,  5.4868e-04],\n",
            "          [-2.4955e-04,  3.2001e-04, -9.1967e-05]],\n",
            "\n",
            "         [[-2.0410e-04,  9.7827e-04,  5.8056e-04],\n",
            "          [ 3.0185e-04,  2.0822e-03,  2.0445e-03],\n",
            "          [ 5.2911e-06,  1.7169e-03,  1.6308e-03]]],\n",
            "\n",
            "\n",
            "        [[[-2.1152e-04, -1.9074e-04,  1.0394e-04],\n",
            "          [ 1.0565e-04,  1.5940e-04,  2.0651e-04],\n",
            "          [-5.8873e-06,  3.4867e-05,  3.5779e-05]],\n",
            "\n",
            "         [[ 2.2537e-04,  2.4928e-04,  2.5611e-04],\n",
            "          [ 1.9086e-04,  1.7993e-04,  1.5130e-04],\n",
            "          [ 1.4258e-04,  7.9198e-05,  3.4029e-05]],\n",
            "\n",
            "         [[ 3.2891e-04,  2.1140e-04,  1.1682e-04],\n",
            "          [ 1.8908e-04,  1.0993e-04, -9.0280e-06],\n",
            "          [ 1.5898e-04,  7.3125e-05, -1.5137e-04]],\n",
            "\n",
            "         ...,\n",
            "\n",
            "         [[-2.3511e-04, -3.6311e-04, -4.4810e-04],\n",
            "          [-9.2645e-05, -1.8540e-04, -2.5510e-04],\n",
            "          [ 2.0837e-05, -5.3174e-05, -1.1472e-04]],\n",
            "\n",
            "         [[-2.7270e-04, -1.6011e-04, -5.4403e-05],\n",
            "          [-7.8421e-04, -6.4845e-04, -3.8850e-04],\n",
            "          [-6.8365e-04, -6.4095e-04, -5.4592e-04]],\n",
            "\n",
            "         [[-6.0233e-05,  1.1073e-04,  2.4828e-04],\n",
            "          [-1.3800e-04, -5.6753e-05,  7.4527e-05],\n",
            "          [-1.6900e-04, -1.2418e-04, -2.3980e-05]]],\n",
            "\n",
            "\n",
            "        [[[-8.6948e-04, -1.2286e-03, -1.4609e-03],\n",
            "          [-6.1430e-04, -7.6859e-04, -9.9629e-04],\n",
            "          [-6.8875e-04, -6.7739e-04, -8.5482e-04]],\n",
            "\n",
            "         [[ 1.0092e-04,  1.2722e-04,  1.3895e-04],\n",
            "          [ 2.4659e-04,  2.0865e-04,  2.5218e-04],\n",
            "          [-1.5419e-04, -2.3577e-04, -2.3194e-04]],\n",
            "\n",
            "         [[ 1.3342e-03,  1.5238e-03,  1.7514e-03],\n",
            "          [ 1.0619e-03,  1.0863e-03,  1.2976e-03],\n",
            "          [ 7.8375e-04,  7.5988e-04,  9.3354e-04]],\n",
            "\n",
            "         ...,\n",
            "\n",
            "         [[-3.8264e-04,  3.3722e-04,  5.6898e-04],\n",
            "          [-7.4945e-04, -7.5518e-05,  1.7710e-04],\n",
            "          [-3.8363e-04, -4.4380e-05,  1.3059e-04]],\n",
            "\n",
            "         [[-1.1312e-03, -1.1981e-03, -1.5695e-03],\n",
            "          [-4.9053e-04, -6.7251e-04, -9.5329e-04],\n",
            "          [-5.3938e-04, -5.0692e-04, -7.0753e-04]],\n",
            "\n",
            "         [[-1.4176e-03, -1.4013e-03, -1.7667e-03],\n",
            "          [-9.1608e-04, -8.1817e-04, -1.1140e-03],\n",
            "          [-8.0150e-04, -6.1144e-04, -8.4314e-04]]],\n",
            "\n",
            "\n",
            "        ...,\n",
            "\n",
            "\n",
            "        [[[-8.4593e-04, -1.4092e-04, -8.8167e-04],\n",
            "          [ 5.6188e-04,  1.0959e-03,  3.9294e-04],\n",
            "          [-2.9774e-05,  2.9873e-04, -6.1203e-04]],\n",
            "\n",
            "         [[ 3.3381e-04,  5.5185e-04,  7.4077e-04],\n",
            "          [ 1.2559e-04,  1.2600e-04,  3.9086e-04],\n",
            "          [ 5.2946e-04,  4.2861e-04,  4.9368e-04]],\n",
            "\n",
            "         [[ 4.8399e-04, -3.5625e-05,  4.0778e-04],\n",
            "          [-3.0545e-04, -6.4467e-04, -1.6304e-04],\n",
            "          [ 1.7828e-04,  1.9660e-06,  6.6988e-04]],\n",
            "\n",
            "         ...,\n",
            "\n",
            "         [[ 8.2113e-05, -7.3835e-04, -6.9353e-05],\n",
            "          [-1.2617e-03, -1.8686e-03, -1.2141e-03],\n",
            "          [-4.5125e-04, -8.2959e-04,  3.5256e-05]],\n",
            "\n",
            "         [[ 4.8802e-04,  1.2501e-03,  4.5753e-04],\n",
            "          [ 1.4312e-03,  2.0142e-03,  1.3511e-03],\n",
            "          [ 7.1119e-04,  9.5325e-04,  2.0184e-05]],\n",
            "\n",
            "         [[-2.2029e-05,  1.0022e-03,  2.9866e-04],\n",
            "          [ 9.7299e-04,  1.7742e-03,  1.1524e-03],\n",
            "          [ 3.1847e-04,  8.6253e-04, -4.6706e-05]]],\n",
            "\n",
            "\n",
            "        [[[ 2.6526e-04,  3.5036e-04,  3.4282e-04],\n",
            "          [ 3.7291e-04,  4.5330e-04,  4.2843e-04],\n",
            "          [ 2.4437e-04,  3.9873e-04,  5.2515e-04]],\n",
            "\n",
            "         [[ 7.2737e-05, -5.0873e-05, -2.2075e-06],\n",
            "          [-5.8107e-05, -2.2078e-04, -2.0766e-04],\n",
            "          [-7.6907e-05, -1.9193e-04, -1.7907e-04]],\n",
            "\n",
            "         [[ 7.7329e-04,  9.2860e-04,  8.8622e-04],\n",
            "          [ 1.0039e-03,  1.1857e-03,  1.1645e-03],\n",
            "          [ 1.0934e-03,  1.2010e-03,  1.1485e-03]],\n",
            "\n",
            "         ...,\n",
            "\n",
            "         [[-2.1505e-04, -3.6304e-04, -3.0573e-04],\n",
            "          [-3.6973e-04, -3.1948e-04, -3.0673e-04],\n",
            "          [-2.8412e-04, -3.3297e-04, -4.5842e-04]],\n",
            "\n",
            "         [[-5.1379e-04, -4.2364e-04, -5.4127e-04],\n",
            "          [-5.7555e-04, -4.5045e-04, -5.9755e-04],\n",
            "          [-7.7191e-04, -5.7667e-04, -6.8145e-04]],\n",
            "\n",
            "         [[-6.6086e-06,  1.0716e-04,  4.7685e-05],\n",
            "          [ 3.6115e-05,  1.1382e-04,  9.9153e-05],\n",
            "          [-2.0780e-04, -3.1729e-05,  4.1431e-05]]],\n",
            "\n",
            "\n",
            "        [[[ 4.3409e-05, -1.8140e-05,  3.3359e-06],\n",
            "          [-5.1421e-04, -5.3194e-04, -3.6054e-04],\n",
            "          [-9.3608e-04, -1.0653e-03, -8.9968e-04]],\n",
            "\n",
            "         [[-3.7339e-04, -4.9233e-04, -5.1401e-04],\n",
            "          [-4.4973e-04, -4.7996e-04, -4.1655e-04],\n",
            "          [-4.1953e-04, -5.8116e-04, -5.0440e-04]],\n",
            "\n",
            "         [[ 1.4189e-03,  1.7726e-03,  1.8870e-03],\n",
            "          [ 2.6167e-03,  3.0122e-03,  3.0795e-03],\n",
            "          [ 2.8058e-03,  3.2028e-03,  3.3468e-03]],\n",
            "\n",
            "         ...,\n",
            "\n",
            "         [[ 1.4193e-03,  1.8007e-03,  1.9121e-03],\n",
            "          [ 2.1975e-03,  2.6823e-03,  2.8168e-03],\n",
            "          [ 2.3011e-03,  2.7923e-03,  2.9934e-03]],\n",
            "\n",
            "         [[-2.0442e-03, -2.4901e-03, -2.6476e-03],\n",
            "          [-2.5081e-03, -3.1012e-03, -3.2835e-03],\n",
            "          [-2.4715e-03, -3.0358e-03, -3.3248e-03]],\n",
            "\n",
            "         [[-1.7284e-03, -2.1836e-03, -2.3480e-03],\n",
            "          [-2.4496e-03, -2.9371e-03, -3.1167e-03],\n",
            "          [-2.4723e-03, -2.9682e-03, -3.2167e-03]]]], requires_grad=True)\n",
            "Parameter containing:\n",
            "tensor([0.7680, 0.7677, 0.7677, 0.7674, 0.7676, 0.7677, 0.7678, 0.7677, 0.7674,\n",
            "        0.7680, 0.7677, 0.7677, 0.7678, 0.7677, 0.7675, 0.7675, 0.7680, 0.7676,\n",
            "        0.7678, 0.7678, 0.7679, 0.7676, 0.7680, 0.7676, 0.7679, 0.7674, 0.7680,\n",
            "        0.7674, 0.7676, 0.7685, 0.7678, 0.7675, 0.7679, 0.7677, 0.7677, 0.7680,\n",
            "        0.7677, 0.7676, 0.7678, 0.7677, 0.7681, 0.7678, 0.7678, 0.7681, 0.7678,\n",
            "        0.7678, 0.7683, 0.7677, 0.7677, 0.7678, 0.7678, 0.7676, 0.7678, 0.7681,\n",
            "        0.7674, 0.7676, 0.7675, 0.7675, 0.7677, 0.7678, 0.7677, 0.7677, 0.7678,\n",
            "        0.7678, 0.7677, 0.7675, 0.7679, 0.7682, 0.7675, 0.7675, 0.7677, 0.7676,\n",
            "        0.7678, 0.7680, 0.7675, 0.7678, 0.7676, 0.7678, 0.7677, 0.7680, 0.7678,\n",
            "        0.7675, 0.7676, 0.7677, 0.7675, 0.7677, 0.7676, 0.7679, 0.7678, 0.7675,\n",
            "        0.7675, 0.7676, 0.7676, 0.7677, 0.7677, 0.7678, 0.7678, 0.7676, 0.7679,\n",
            "        0.7675, 0.7680, 0.7676, 0.7676, 0.7675, 0.7677, 0.7677, 0.7679, 0.7677,\n",
            "        0.7674, 0.7677, 0.7678, 0.7677, 0.7675, 0.7674, 0.7675, 0.7676, 0.7678,\n",
            "        0.7676, 0.7677, 0.7678, 0.7678, 0.7680, 0.7675, 0.7674, 0.7677, 0.7678,\n",
            "        0.7676, 0.7675, 0.7675, 0.7680, 0.7677, 0.7675, 0.7673, 0.7677, 0.7681,\n",
            "        0.7678, 0.7675, 0.7677, 0.7676, 0.7677, 0.7677, 0.7675, 0.7676, 0.7677,\n",
            "        0.7676, 0.7678, 0.7674, 0.7675, 0.7676, 0.7675, 0.7679, 0.7676, 0.7678,\n",
            "        0.7675, 0.7677, 0.7676, 0.7678, 0.7677, 0.7672, 0.7676, 0.7677, 0.7676,\n",
            "        0.7678, 0.7676, 0.7677, 0.7679, 0.7676, 0.7676, 0.7676, 0.7676, 0.7676,\n",
            "        0.7676, 0.7674, 0.7677, 0.7678, 0.7678, 0.7676, 0.7678, 0.7678, 0.7685,\n",
            "        0.7675, 0.7676, 0.7677, 0.7676, 0.7678, 0.7678, 0.7675, 0.7680, 0.7676,\n",
            "        0.7674, 0.7677, 0.7676, 0.7675, 0.7680, 0.7678, 0.7677, 0.7676, 0.7677,\n",
            "        0.7678, 0.7678, 0.7676, 0.7675, 0.7679, 0.7677, 0.7675, 0.7675, 0.7675,\n",
            "        0.7679, 0.7678, 0.7676, 0.7676, 0.7673, 0.7674, 0.7675, 0.7678, 0.7678,\n",
            "        0.7677, 0.7678, 0.7677, 0.7676, 0.7678, 0.7675, 0.7681, 0.7680, 0.7679,\n",
            "        0.7675, 0.7677, 0.7676, 0.7681, 0.7676, 0.7674, 0.7679, 0.7680, 0.7678,\n",
            "        0.7678, 0.7677, 0.7674, 0.7675, 0.7675, 0.7679, 0.7676, 0.7675, 0.7677,\n",
            "        0.7678, 0.7675, 0.7678, 0.7683, 0.7678, 0.7675, 0.7676, 0.7676, 0.7677,\n",
            "        0.7677, 0.7673, 0.7674, 0.7677], requires_grad=True)\n",
            "Parameter containing:\n",
            "tensor([-4.5404e-03,  1.5097e-04, -4.5115e-03, -2.3196e-03,  1.3047e-03,\n",
            "        -4.8462e-04, -2.4642e-03,  2.5451e-03,  4.6102e-04,  1.6934e-03,\n",
            "         1.9808e-03, -1.4611e-05,  3.5895e-04,  2.8839e-03, -2.0805e-03,\n",
            "         1.2566e-03, -3.3333e-03, -2.4764e-03, -2.4389e-03, -3.7388e-03,\n",
            "         2.6309e-04, -1.3199e-03,  1.8876e-04,  2.4122e-03,  7.7282e-04,\n",
            "        -5.8939e-04, -2.1713e-04,  5.0606e-04, -5.9115e-03,  8.9064e-04,\n",
            "         4.9470e-04,  6.8213e-04,  1.7495e-04,  1.4772e-03,  3.3144e-04,\n",
            "        -9.1158e-03, -3.8409e-03, -5.1360e-03,  1.1337e-04,  6.5994e-04,\n",
            "        -4.4819e-04, -3.7394e-03, -4.6436e-03,  1.5480e-03, -4.4418e-03,\n",
            "        -2.4160e-04, -2.7026e-03, -4.5031e-03, -4.7969e-03, -3.5987e-03,\n",
            "         7.3669e-04,  9.9635e-04, -1.7658e-04, -5.5656e-03, -3.2698e-03,\n",
            "        -4.5163e-03, -7.6117e-04,  1.5216e-03,  3.3400e-04, -4.3157e-04,\n",
            "        -3.3126e-03, -1.4555e-05,  8.1034e-04,  4.8597e-04, -8.3536e-04,\n",
            "         9.0461e-04,  1.3021e-03,  2.8675e-03, -2.1244e-03, -2.2259e-03,\n",
            "        -3.4865e-03,  1.4633e-03, -4.4988e-03, -4.5916e-03, -1.9158e-03,\n",
            "         2.8895e-04,  4.0001e-04,  6.9805e-04,  6.8714e-04, -5.1125e-03,\n",
            "        -5.7081e-04,  8.9135e-05, -7.4676e-03, -4.0219e-04,  7.1853e-04,\n",
            "        -3.3713e-03,  5.8311e-04,  1.6049e-03, -5.3112e-03,  3.5202e-04,\n",
            "         5.3201e-04,  2.4911e-04,  5.8617e-04,  7.5700e-04, -2.6814e-03,\n",
            "        -5.7867e-04, -1.6486e-03,  8.1451e-04,  1.1463e-03,  6.9081e-04,\n",
            "         2.1391e-03, -1.8220e-03, -2.2128e-03, -2.7554e-03, -9.4824e-04,\n",
            "        -1.3986e-04, -4.1231e-03, -2.1966e-03,  4.6339e-04, -8.3769e-04,\n",
            "        -2.4320e-03, -2.7318e-03, -2.1430e-03, -8.8105e-04,  7.3495e-04,\n",
            "        -2.2390e-03, -1.2234e-03, -1.2191e-04, -4.0540e-03, -5.1269e-05,\n",
            "         1.0710e-04, -5.3989e-03, -2.4224e-03,  4.3846e-04, -4.6817e-03,\n",
            "         3.3866e-04,  1.3432e-03,  1.1076e-03, -3.1350e-03, -6.3782e-03,\n",
            "         7.1295e-04,  1.0068e-03, -1.8363e-03, -3.3790e-03, -7.2221e-03,\n",
            "        -5.0594e-03,  5.7109e-04, -2.2764e-03,  4.0085e-04,  1.2959e-03,\n",
            "         5.9820e-04, -3.6387e-03,  2.2809e-03, -1.1634e-03,  5.7507e-04,\n",
            "         6.4066e-04, -2.2164e-03, -1.5959e-04,  2.1985e-03,  3.6276e-04,\n",
            "         1.5676e-03, -3.2116e-03, -4.7979e-03, -2.5768e-03,  2.5210e-04,\n",
            "         1.0237e-03,  1.5195e-03, -1.0997e-03, -6.0081e-04, -2.5088e-03,\n",
            "        -2.2938e-03, -1.7957e-03, -1.6898e-03,  6.7683e-04, -2.9034e-03,\n",
            "         6.6469e-04,  9.8364e-04, -2.0662e-03,  5.0265e-04, -1.9403e-04,\n",
            "        -3.8713e-03, -2.2118e-03, -3.4754e-03, -2.6409e-03, -8.2739e-04,\n",
            "        -3.0298e-03, -2.9725e-03, -3.1534e-03, -6.5971e-04,  1.7097e-03,\n",
            "         1.8417e-03,  1.5403e-03,  9.9447e-04,  2.9078e-04,  7.8961e-04,\n",
            "         7.7751e-04, -3.4672e-03,  4.1430e-04, -6.7367e-03, -3.6553e-04,\n",
            "        -1.6061e-03,  1.9764e-03, -5.0268e-03, -1.5450e-03, -4.7226e-04,\n",
            "        -1.4699e-03, -3.0656e-03, -6.8871e-04, -5.0480e-03,  3.3630e-04,\n",
            "        -9.0941e-05,  1.7794e-03, -3.1760e-04,  7.3618e-05,  4.5780e-04,\n",
            "        -2.8311e-03, -1.6065e-03, -8.4973e-04, -1.0342e-03,  1.3884e-04,\n",
            "         1.0152e-03, -5.0337e-04, -1.5198e-04, -2.9200e-03, -2.2476e-04,\n",
            "        -1.2835e-05, -3.3097e-03, -1.4423e-03,  6.2447e-04, -6.3554e-03,\n",
            "        -2.9299e-03,  2.2793e-04, -9.7959e-04,  8.7237e-04, -1.5091e-03,\n",
            "        -2.7752e-03,  5.4578e-04, -3.3405e-04,  9.1604e-04, -4.9466e-03,\n",
            "        -1.7023e-03, -6.0012e-07, -6.8373e-03, -2.8740e-04, -1.2226e-03,\n",
            "         6.8655e-04, -2.3797e-03,  9.1675e-04,  9.4678e-04, -3.0671e-04,\n",
            "        -5.2987e-03,  1.6205e-03,  3.2995e-03, -4.1829e-03, -5.0193e-03,\n",
            "        -4.0808e-04, -1.9083e-03,  2.4626e-04, -3.7831e-03, -3.8511e-03,\n",
            "         1.0217e-03, -3.1967e-03,  2.3421e-05, -4.9909e-03,  8.2443e-04,\n",
            "         1.3539e-04], requires_grad=True)\n",
            "Parameter containing:\n",
            "tensor([[[[-1.4057e-03, -1.8712e-03, -1.9545e-03],\n",
            "          [-6.7195e-04, -1.0443e-03, -1.2138e-03],\n",
            "          [ 3.0872e-04,  5.8241e-05, -2.0793e-04]],\n",
            "\n",
            "         [[-9.6541e-04, -1.2186e-03, -1.2369e-03],\n",
            "          [-1.3229e-03, -1.5002e-03, -1.4870e-03],\n",
            "          [-1.4458e-03, -1.6233e-03, -1.6440e-03]],\n",
            "\n",
            "         [[ 2.1084e-03,  2.3291e-03,  2.0427e-03],\n",
            "          [ 2.6888e-03,  2.8791e-03,  2.5960e-03],\n",
            "          [ 3.3326e-03,  3.6545e-03,  3.3494e-03]],\n",
            "\n",
            "         ...,\n",
            "\n",
            "         [[ 4.8489e-05, -9.7636e-05, -1.5953e-04],\n",
            "          [ 1.0790e-03,  9.8053e-04,  7.8568e-04],\n",
            "          [ 2.1720e-03,  2.0994e-03,  1.8937e-03]],\n",
            "\n",
            "         [[-6.3291e-04, -7.8626e-04, -7.5352e-04],\n",
            "          [-8.0201e-04, -9.1517e-04, -8.8214e-04],\n",
            "          [-8.3431e-04, -9.5314e-04, -9.2141e-04]],\n",
            "\n",
            "         [[-7.6884e-04, -9.5902e-04, -1.0382e-03],\n",
            "          [-5.7549e-04, -6.3297e-04, -6.4977e-04],\n",
            "          [ 2.2811e-04,  2.2842e-04, -3.7077e-05]]],\n",
            "\n",
            "\n",
            "        [[[ 8.4600e-04,  7.8546e-04,  8.0140e-04],\n",
            "          [ 9.8689e-04,  8.6007e-04,  7.5837e-04],\n",
            "          [ 1.1222e-03,  9.8800e-04,  8.5283e-04]],\n",
            "\n",
            "         [[ 2.2896e-04,  2.1513e-04,  2.4256e-04],\n",
            "          [ 2.7012e-04,  2.8501e-04,  2.9057e-04],\n",
            "          [ 2.3755e-04,  2.4322e-04,  2.4305e-04]],\n",
            "\n",
            "         [[ 7.4544e-05,  7.9802e-05,  1.1900e-04],\n",
            "          [ 2.2558e-04,  2.3458e-04,  2.8545e-04],\n",
            "          [ 6.6825e-04,  6.3651e-04,  6.4861e-04]],\n",
            "\n",
            "         ...,\n",
            "\n",
            "         [[ 5.0519e-04,  3.7967e-04,  3.4818e-04],\n",
            "          [ 5.9047e-04,  4.6680e-04,  4.3684e-04],\n",
            "          [ 9.9948e-04,  8.7774e-04,  7.9422e-04]],\n",
            "\n",
            "         [[ 2.5781e-04,  1.3585e-04,  7.8757e-05],\n",
            "          [ 1.6258e-04,  9.4031e-05,  7.6476e-05],\n",
            "          [ 1.0991e-04,  7.2605e-05,  3.9797e-05]],\n",
            "\n",
            "         [[-8.1450e-04, -8.7538e-04, -7.6649e-04],\n",
            "          [-9.1168e-04, -9.8345e-04, -7.2840e-04],\n",
            "          [-7.3978e-04, -8.1550e-04, -7.4698e-04]]],\n",
            "\n",
            "\n",
            "        [[[-4.6863e-04, -6.2480e-04, -1.3464e-03],\n",
            "          [-3.7243e-05, -1.5706e-04, -8.5209e-04],\n",
            "          [-5.4189e-04, -6.7892e-04, -1.2750e-03]],\n",
            "\n",
            "         [[ 8.9084e-04,  8.9423e-04,  8.8859e-04],\n",
            "          [ 8.0706e-04,  8.0754e-04,  8.1223e-04],\n",
            "          [ 9.2730e-04,  9.2912e-04,  9.5771e-04]],\n",
            "\n",
            "         [[-1.0408e-03, -1.2251e-03, -1.7484e-03],\n",
            "          [-5.3555e-04, -6.3879e-04, -1.2032e-03],\n",
            "          [-8.1444e-04, -9.6484e-04, -1.4714e-03]],\n",
            "\n",
            "         ...,\n",
            "\n",
            "         [[-9.8228e-04, -1.1850e-03, -1.8304e-03],\n",
            "          [-6.8944e-04, -8.5253e-04, -1.5304e-03],\n",
            "          [-1.2257e-03, -1.3841e-03, -1.9899e-03]],\n",
            "\n",
            "         [[ 1.2008e-03,  1.2119e-03,  1.1836e-03],\n",
            "          [ 1.1437e-03,  1.1429e-03,  1.1133e-03],\n",
            "          [ 1.2575e-03,  1.2508e-03,  1.2437e-03]],\n",
            "\n",
            "         [[-3.6019e-04, -4.7183e-04, -1.0476e-03],\n",
            "          [-1.7368e-04, -2.1901e-04, -8.0146e-04],\n",
            "          [-8.2565e-04, -9.0465e-04, -1.3650e-03]]],\n",
            "\n",
            "\n",
            "        ...,\n",
            "\n",
            "\n",
            "        [[[ 2.2011e-04,  2.1215e-04,  3.7989e-04],\n",
            "          [-1.2196e-04, -2.1015e-04,  5.7730e-06],\n",
            "          [-8.6967e-05, -1.7016e-04,  2.3846e-05]],\n",
            "\n",
            "         [[ 4.9412e-04,  5.5972e-04,  6.0032e-04],\n",
            "          [ 5.8148e-04,  6.4619e-04,  6.4597e-04],\n",
            "          [ 5.1722e-04,  5.4872e-04,  5.2898e-04]],\n",
            "\n",
            "         [[ 6.4589e-04,  6.0402e-04,  6.1492e-04],\n",
            "          [ 1.3042e-04, -6.3386e-05,  4.9978e-05],\n",
            "          [ 6.1587e-05, -8.5764e-05,  2.0723e-05]],\n",
            "\n",
            "         ...,\n",
            "\n",
            "         [[ 2.9648e-04,  3.7350e-04,  5.6552e-04],\n",
            "          [ 2.5176e-04,  3.5401e-04,  4.9645e-04],\n",
            "          [ 4.8551e-04,  5.3592e-04,  6.2169e-04]],\n",
            "\n",
            "         [[ 3.9920e-04,  5.2121e-04,  5.1719e-04],\n",
            "          [ 5.1583e-04,  6.2662e-04,  6.2933e-04],\n",
            "          [ 5.3104e-04,  6.0627e-04,  5.9076e-04]],\n",
            "\n",
            "         [[ 1.6351e-04,  3.2597e-06,  9.6379e-05],\n",
            "          [-2.3609e-04, -4.2116e-04, -2.4445e-04],\n",
            "          [-1.0220e-04, -2.9752e-04, -1.0118e-04]]],\n",
            "\n",
            "\n",
            "        [[[-8.2915e-04, -8.8625e-04, -1.3179e-03],\n",
            "          [-4.6465e-04, -6.6484e-04, -1.3396e-03],\n",
            "          [-5.5334e-04, -8.8424e-04, -1.6868e-03]],\n",
            "\n",
            "         [[-4.1952e-04, -4.4845e-04, -5.8344e-04],\n",
            "          [-5.9772e-04, -6.3778e-04, -7.8379e-04],\n",
            "          [-5.2654e-04, -5.4121e-04, -6.1834e-04]],\n",
            "\n",
            "         [[-1.5420e-03, -1.5123e-03, -1.8132e-03],\n",
            "          [-9.3496e-04, -8.9437e-04, -1.3651e-03],\n",
            "          [-1.3148e-03, -1.3758e-03, -1.8822e-03]],\n",
            "\n",
            "         ...,\n",
            "\n",
            "         [[-1.2968e-03, -1.4113e-03, -1.8705e-03],\n",
            "          [-1.2022e-03, -1.4149e-03, -2.0128e-03],\n",
            "          [-1.6510e-03, -1.9962e-03, -2.6920e-03]],\n",
            "\n",
            "         [[-6.0882e-04, -6.3794e-04, -6.9031e-04],\n",
            "          [-7.8316e-04, -8.1816e-04, -8.7037e-04],\n",
            "          [-6.5268e-04, -6.8122e-04, -6.9369e-04]],\n",
            "\n",
            "         [[-6.0123e-04, -4.7646e-04, -9.5104e-04],\n",
            "          [-3.3492e-04, -2.3239e-04, -8.3282e-04],\n",
            "          [-8.4808e-04, -8.1749e-04, -1.4315e-03]]],\n",
            "\n",
            "\n",
            "        [[[-6.3870e-04, -5.8201e-04, -7.6778e-04],\n",
            "          [-2.4883e-04, -3.3241e-04, -6.8367e-04],\n",
            "          [-6.3665e-04, -8.2233e-04, -1.2320e-03]],\n",
            "\n",
            "         [[-3.2228e-04, -3.9336e-04, -3.7584e-04],\n",
            "          [-3.8855e-04, -4.9150e-04, -4.8320e-04],\n",
            "          [-3.3483e-04, -4.0433e-04, -3.9509e-04]],\n",
            "\n",
            "         [[-6.2143e-04, -3.6032e-04, -4.1815e-04],\n",
            "          [-2.0232e-04,  7.5321e-06, -3.1654e-04],\n",
            "          [-5.5721e-04, -5.5056e-04, -8.0349e-04]],\n",
            "\n",
            "         ...,\n",
            "\n",
            "         [[-7.0620e-04, -5.8484e-04, -6.8570e-04],\n",
            "          [-5.4602e-04, -5.7030e-04, -8.3443e-04],\n",
            "          [-1.0213e-03, -1.2908e-03, -1.5976e-03]],\n",
            "\n",
            "         [[-5.8059e-04, -6.4091e-04, -6.0346e-04],\n",
            "          [-6.4687e-04, -7.2564e-04, -6.9638e-04],\n",
            "          [-6.2375e-04, -7.0897e-04, -6.5682e-04]],\n",
            "\n",
            "         [[-4.3644e-04, -5.9110e-04, -7.0847e-04],\n",
            "          [-3.3517e-04, -5.6868e-04, -8.4317e-04],\n",
            "          [-7.0976e-04, -1.0949e-03, -1.4018e-03]]]], requires_grad=True)\n",
            "Parameter containing:\n",
            "tensor([0.7676, 0.7676, 0.7675, 0.7678, 0.7680, 0.7678, 0.7676, 0.7675, 0.7675,\n",
            "        0.7677, 0.7677, 0.7677, 0.7680, 0.7674, 0.7675, 0.7671, 0.7677, 0.7678,\n",
            "        0.7681, 0.7676, 0.7672, 0.7680, 0.7680, 0.7673, 0.7676, 0.7677, 0.7676,\n",
            "        0.7678, 0.7678, 0.7679, 0.7674, 0.7673, 0.7677, 0.7675, 0.7679, 0.7676,\n",
            "        0.7676, 0.7678, 0.7672, 0.7677, 0.7678, 0.7672, 0.7674, 0.7676, 0.7677,\n",
            "        0.7674, 0.7679, 0.7679, 0.7676, 0.7678, 0.7672, 0.7677, 0.7678, 0.7678,\n",
            "        0.7675, 0.7677, 0.7674, 0.7672, 0.7681, 0.7677, 0.7684, 0.7671, 0.7680,\n",
            "        0.7677, 0.7675, 0.7673, 0.7675, 0.7674, 0.7677, 0.7677, 0.7675, 0.7674,\n",
            "        0.7676, 0.7678, 0.7677, 0.7674, 0.7678, 0.7679, 0.7674, 0.7674, 0.7677,\n",
            "        0.7679, 0.7674, 0.7676, 0.7679, 0.7674, 0.7676, 0.7674, 0.7675, 0.7675,\n",
            "        0.7677, 0.7675, 0.7677, 0.7676, 0.7678, 0.7674, 0.7678, 0.7675, 0.7678,\n",
            "        0.7677, 0.7675, 0.7674, 0.7671, 0.7675, 0.7673, 0.7681, 0.7676, 0.7673,\n",
            "        0.7684, 0.7673, 0.7678, 0.7678, 0.7673, 0.7675, 0.7677, 0.7679, 0.7673,\n",
            "        0.7677, 0.7676, 0.7678, 0.7678, 0.7679, 0.7676, 0.7674, 0.7680, 0.7675,\n",
            "        0.7675, 0.7672, 0.7673, 0.7677, 0.7679, 0.7678, 0.7675, 0.7677, 0.7683,\n",
            "        0.7672, 0.7678, 0.7678, 0.7680, 0.7676, 0.7678, 0.7670, 0.7673, 0.7680,\n",
            "        0.7675, 0.7678, 0.7680, 0.7677, 0.7680, 0.7675, 0.7676, 0.7681, 0.7675,\n",
            "        0.7677, 0.7678, 0.7676, 0.7682, 0.7676, 0.7679, 0.7676, 0.7675, 0.7672,\n",
            "        0.7675, 0.7674, 0.7678, 0.7679, 0.7678, 0.7675, 0.7674, 0.7677, 0.7678,\n",
            "        0.7676, 0.7672, 0.7677, 0.7677, 0.7677, 0.7676, 0.7678, 0.7674, 0.7682,\n",
            "        0.7674, 0.7671, 0.7677, 0.7677, 0.7680, 0.7679, 0.7680, 0.7676, 0.7680,\n",
            "        0.7676, 0.7678, 0.7673, 0.7676, 0.7675, 0.7682, 0.7676, 0.7677, 0.7677,\n",
            "        0.7674, 0.7682, 0.7677, 0.7673, 0.7676, 0.7674, 0.7676, 0.7675, 0.7674,\n",
            "        0.7675, 0.7675, 0.7678, 0.7676, 0.7679, 0.7682, 0.7675, 0.7672, 0.7678,\n",
            "        0.7677, 0.7675, 0.7677, 0.7672, 0.7680, 0.7678, 0.7672, 0.7680, 0.7675,\n",
            "        0.7677, 0.7678, 0.7678, 0.7679, 0.7677, 0.7674, 0.7679, 0.7678, 0.7675,\n",
            "        0.7673, 0.7676, 0.7673, 0.7678, 0.7678, 0.7676, 0.7677, 0.7676, 0.7674,\n",
            "        0.7676, 0.7676, 0.7677, 0.7678, 0.7676, 0.7677, 0.7681, 0.7675, 0.7677,\n",
            "        0.7677, 0.7677, 0.7674, 0.7681], requires_grad=True)\n",
            "Parameter containing:\n",
            "tensor([ 1.7402e-05, -8.5589e-05,  3.3369e-05,  6.4150e-05, -1.9994e-04,\n",
            "         8.4692e-05,  3.8784e-05,  6.8951e-06, -5.7641e-06,  2.8930e-04,\n",
            "         2.8985e-05, -2.6501e-04,  6.0466e-05, -1.7546e-04, -2.2117e-04,\n",
            "        -2.3379e-04, -2.1974e-04, -2.7395e-05, -5.3606e-05, -2.8085e-05,\n",
            "        -4.6431e-05, -1.7294e-04, -2.6022e-05,  1.5224e-04, -1.0116e-04,\n",
            "        -6.6774e-05, -1.3045e-04,  1.0285e-05, -8.8945e-05,  1.1682e-04,\n",
            "         1.1351e-04,  1.0168e-04,  2.3947e-05, -2.2881e-05, -1.0993e-04,\n",
            "        -2.2220e-04, -7.1067e-05,  2.2962e-04,  7.5164e-06,  1.4157e-05,\n",
            "         5.2330e-05, -1.7440e-04, -1.3995e-04,  1.0226e-04,  1.1234e-04,\n",
            "         2.1071e-04,  6.9630e-05,  1.1009e-04,  1.4713e-04, -2.0601e-05,\n",
            "        -7.7937e-05,  4.4778e-05,  1.9087e-04, -3.1599e-05, -2.9373e-04,\n",
            "        -1.9137e-04, -1.2340e-04,  7.3701e-05,  7.9105e-05,  1.4752e-04,\n",
            "        -2.3046e-04,  1.2115e-04,  6.5782e-05,  3.8693e-05,  8.4522e-05,\n",
            "        -8.7009e-05, -4.5788e-05,  2.4727e-04, -8.2143e-05, -1.0711e-04,\n",
            "         4.5936e-05,  4.6944e-05, -2.3279e-04,  5.1909e-05,  7.3106e-05,\n",
            "         1.4893e-04,  2.2996e-04, -7.8219e-05, -1.7514e-04,  1.7347e-04,\n",
            "         1.5360e-04,  1.2982e-04, -5.0054e-05,  8.8163e-05,  2.5091e-04,\n",
            "         3.4823e-05, -9.8415e-05,  2.4388e-05, -5.8522e-05, -9.0003e-05,\n",
            "        -5.6796e-05,  4.0018e-05,  8.0102e-05, -1.4894e-04, -2.1446e-04,\n",
            "         4.1305e-05,  7.4396e-05, -2.0817e-04,  1.1812e-05, -4.2764e-05,\n",
            "        -1.1881e-04,  5.9479e-05,  5.6575e-05, -8.8812e-06, -2.5533e-05,\n",
            "         2.2231e-04,  8.9924e-05,  8.5546e-05,  1.5899e-04,  7.4362e-05,\n",
            "         2.8131e-04,  5.2786e-05, -8.9377e-05,  3.4849e-05,  1.3128e-04,\n",
            "        -4.6650e-05, -1.7189e-04, -7.0380e-05, -7.2176e-05, -1.8663e-04,\n",
            "         4.7325e-05,  5.0822e-05, -6.0035e-05, -8.0092e-05,  6.4929e-05,\n",
            "        -1.0908e-04, -1.3309e-04, -1.4532e-04,  1.2644e-04, -1.2991e-05,\n",
            "         1.0786e-04,  3.4739e-05,  9.8301e-06,  5.7126e-06,  2.1017e-04,\n",
            "         8.1050e-05, -3.5778e-05, -1.1424e-04,  1.7134e-04,  2.1729e-04,\n",
            "        -3.8392e-05,  1.1464e-04, -4.3549e-05, -4.1729e-05,  1.1454e-04,\n",
            "         1.0908e-04, -1.2667e-04, -3.8834e-05,  3.2179e-04,  1.1020e-04,\n",
            "         9.3420e-05, -2.4927e-05, -2.0377e-04,  1.1046e-04, -7.5601e-05,\n",
            "        -1.5092e-04, -9.3540e-05, -1.2393e-04, -3.1885e-05, -2.4907e-05,\n",
            "         1.2804e-04,  5.9467e-05,  5.3321e-05,  2.3485e-04,  1.8693e-04,\n",
            "        -6.0249e-05, -2.0542e-04,  1.0385e-04, -1.1382e-04,  1.9142e-04,\n",
            "        -1.3916e-05, -7.8412e-05,  2.9489e-05, -1.6221e-04, -6.7592e-05,\n",
            "        -1.6940e-04,  1.3301e-04,  8.6225e-05,  4.1605e-05, -7.6344e-05,\n",
            "        -1.9124e-05,  3.4228e-04, -9.1154e-05,  2.1355e-05, -1.3551e-04,\n",
            "        -5.4071e-05,  1.6855e-04, -2.3968e-05, -1.1993e-04,  1.1635e-04,\n",
            "         9.7267e-05,  2.9813e-05, -1.4965e-04, -3.9196e-05, -4.3674e-05,\n",
            "        -6.8429e-05,  2.1600e-05,  2.2361e-04,  7.6167e-05,  1.0449e-04,\n",
            "         2.2969e-05, -5.0779e-05,  2.8646e-05, -7.3633e-05,  1.4922e-04,\n",
            "         1.9720e-05,  1.8235e-04, -1.2428e-04, -1.5985e-04,  2.3251e-04,\n",
            "        -2.9120e-06, -3.1266e-05, -2.1393e-04, -6.4253e-05,  6.6048e-05,\n",
            "         1.8856e-04, -3.6045e-05,  6.7456e-05, -5.3328e-05, -6.6922e-06,\n",
            "        -8.2963e-05, -7.4470e-05, -5.0094e-05,  8.4251e-05,  2.1605e-04,\n",
            "        -5.4355e-05, -6.9367e-05,  8.2905e-05,  6.5048e-05, -1.8353e-04,\n",
            "        -4.9085e-05, -1.3924e-04,  1.4424e-04, -7.6070e-06,  1.2929e-04,\n",
            "        -1.5654e-05,  4.8231e-05, -7.5263e-05,  8.2285e-05,  8.5717e-05,\n",
            "         2.3663e-04, -1.2770e-05,  1.8180e-04, -1.9024e-04,  6.6152e-05,\n",
            "         8.0707e-05, -2.3120e-05,  7.3200e-05, -1.1735e-05,  1.0812e-04,\n",
            "        -1.7258e-04,  1.3826e-05, -2.5201e-04, -1.4742e-05,  2.4682e-04,\n",
            "         1.2400e-04], requires_grad=True)\n",
            "Parameter containing:\n",
            "tensor([[[[-9.1181e-05, -2.1623e-04, -2.0722e-04],\n",
            "          [-2.3032e-04, -3.7419e-04, -3.6312e-04],\n",
            "          [-2.1228e-04, -3.0715e-04, -2.6162e-04]],\n",
            "\n",
            "         [[-6.7926e-04, -6.3576e-04, -5.9326e-04],\n",
            "          [-1.7464e-04, -2.6874e-04, -2.8135e-04],\n",
            "          [-4.5099e-04, -4.3834e-04, -3.9967e-04]],\n",
            "\n",
            "         [[-3.4398e-04, -4.7680e-04, -3.6618e-04],\n",
            "          [-2.8518e-04, -3.7783e-04, -3.4581e-04],\n",
            "          [-2.7001e-04, -3.7738e-04, -3.4932e-04]],\n",
            "\n",
            "         ...,\n",
            "\n",
            "         [[ 4.3440e-04,  3.9094e-04,  2.3765e-04],\n",
            "          [-3.2040e-05, -9.5474e-05, -1.7534e-04],\n",
            "          [ 3.3558e-05, -2.0793e-06, -1.4890e-04]],\n",
            "\n",
            "         [[ 3.4602e-04,  3.7705e-04,  4.0441e-04],\n",
            "          [-6.1227e-05, -3.4879e-05,  4.1926e-06],\n",
            "          [ 1.3604e-04,  7.5072e-05,  9.6599e-05]],\n",
            "\n",
            "         [[ 5.2664e-04,  5.3235e-04,  6.2479e-04],\n",
            "          [-2.5128e-04, -1.3864e-04,  9.1714e-05],\n",
            "          [ 1.5095e-04,  1.7348e-05,  2.3727e-04]]],\n",
            "\n",
            "\n",
            "        [[[-5.5939e-04, -4.9789e-04, -5.6004e-04],\n",
            "          [-3.3135e-04, -1.7337e-04, -2.0570e-04],\n",
            "          [ 2.6813e-05,  1.9725e-04,  1.0938e-04]],\n",
            "\n",
            "         [[ 4.6408e-04,  4.0041e-04,  3.9683e-04],\n",
            "          [ 4.5733e-04,  3.7762e-04,  3.7757e-04],\n",
            "          [ 4.1073e-04,  3.5681e-04,  3.7395e-04]],\n",
            "\n",
            "         [[-2.6298e-04, -1.5428e-04, -1.0178e-04],\n",
            "          [-1.2886e-04, -4.4587e-05, -9.8051e-06],\n",
            "          [-1.4810e-04, -5.3447e-05,  2.4935e-06]],\n",
            "\n",
            "         ...,\n",
            "\n",
            "         [[ 3.9562e-04,  5.0853e-04,  5.8409e-04],\n",
            "          [ 5.2694e-04,  5.3179e-04,  5.5605e-04],\n",
            "          [ 4.7310e-04,  5.1104e-04,  5.5975e-04]],\n",
            "\n",
            "         [[-4.1402e-04, -3.5624e-04, -5.1611e-04],\n",
            "          [-9.1211e-05,  9.9226e-05, -7.3871e-05],\n",
            "          [ 2.5897e-04,  2.3771e-04, -2.1161e-05]],\n",
            "\n",
            "         [[-9.4696e-04, -9.4734e-04, -1.0101e-03],\n",
            "          [-8.1472e-04, -7.0958e-04, -7.7272e-04],\n",
            "          [-5.7257e-04, -5.3063e-04, -6.1841e-04]]],\n",
            "\n",
            "\n",
            "        [[[ 4.5851e-04,  4.2386e-05, -1.6778e-04],\n",
            "          [ 6.1812e-04,  3.2981e-04,  3.6772e-04],\n",
            "          [ 6.7791e-04,  8.9377e-04,  7.8898e-04]],\n",
            "\n",
            "         [[-4.5542e-04, -6.0497e-04, -3.7460e-04],\n",
            "          [-1.5807e-04, -3.4292e-04, -8.2372e-05],\n",
            "          [-6.9703e-04, -5.9222e-04, -4.1822e-04]],\n",
            "\n",
            "         [[ 5.6207e-05,  3.4326e-04,  1.5871e-04],\n",
            "          [-1.6532e-04,  2.1655e-04, -8.0515e-05],\n",
            "          [ 6.0801e-05,  1.1502e-04,  4.7909e-05]],\n",
            "\n",
            "         ...,\n",
            "\n",
            "         [[-9.2682e-04, -7.7103e-04, -5.1409e-04],\n",
            "          [-1.0343e-03, -8.7384e-04, -8.9812e-04],\n",
            "          [-9.5035e-04, -1.0760e-03, -9.9293e-04]],\n",
            "\n",
            "         [[ 1.4564e-03,  1.0447e-03,  4.4227e-04],\n",
            "          [ 1.6099e-03,  1.3736e-03,  1.2750e-03],\n",
            "          [ 1.3403e-03,  1.6444e-03,  1.5259e-03]],\n",
            "\n",
            "         [[ 4.2409e-04,  3.5709e-04,  1.1365e-04],\n",
            "          [ 3.3432e-04,  3.6721e-04,  4.8426e-04],\n",
            "          [ 3.5090e-04,  5.7492e-04,  5.0245e-04]]],\n",
            "\n",
            "\n",
            "        ...,\n",
            "\n",
            "\n",
            "        [[[ 1.3402e-03,  2.2382e-03,  1.2635e-03],\n",
            "          [ 1.1723e-03,  1.2925e-03,  1.1367e-03],\n",
            "          [ 1.6821e-03,  1.7355e-03,  1.3299e-03]],\n",
            "\n",
            "         [[-3.6304e-04, -1.9104e-04, -6.3527e-05],\n",
            "          [-1.0635e-03, -1.2243e-03, -5.6525e-04],\n",
            "          [-1.4401e-03, -1.2371e-03, -5.1882e-04]],\n",
            "\n",
            "         [[ 3.0882e-04, -2.3396e-04, -3.0280e-04],\n",
            "          [ 8.8812e-04,  9.6636e-04,  2.1406e-04],\n",
            "          [ 1.1818e-03,  9.9428e-04,  2.3161e-04]],\n",
            "\n",
            "         ...,\n",
            "\n",
            "         [[-1.7486e-03, -2.3860e-03, -1.7364e-03],\n",
            "          [-1.3657e-03, -1.6155e-03, -1.4157e-03],\n",
            "          [-8.1894e-04, -1.0904e-03, -7.0388e-04]],\n",
            "\n",
            "         [[ 2.2964e-03,  2.7171e-03,  1.6446e-03],\n",
            "          [ 2.3086e-03,  2.4186e-03,  1.6559e-03],\n",
            "          [ 1.5986e-03,  1.6720e-03,  7.3909e-04]],\n",
            "\n",
            "         [[ 2.1849e-03,  2.5708e-03,  1.5470e-03],\n",
            "          [ 2.0459e-03,  2.1488e-03,  1.4889e-03],\n",
            "          [ 1.4621e-03,  1.4555e-03,  6.2457e-04]]],\n",
            "\n",
            "\n",
            "        [[[-6.5736e-04, -1.3206e-04, -2.5624e-04],\n",
            "          [ 1.0954e-04,  5.2146e-04,  4.1122e-04],\n",
            "          [-1.2191e-04,  1.3826e-04, -4.1230e-05]],\n",
            "\n",
            "         [[ 4.8239e-04,  6.0034e-04,  7.6964e-04],\n",
            "          [ 2.1233e-04,  7.2375e-04,  1.0019e-03],\n",
            "          [ 5.5595e-04,  9.5955e-04,  1.2104e-03]],\n",
            "\n",
            "         [[ 2.4191e-04, -2.3384e-04, -2.7890e-04],\n",
            "          [ 2.8606e-04, -6.8500e-05, -8.7993e-05],\n",
            "          [ 6.3652e-04,  4.7593e-04,  4.8845e-04]],\n",
            "\n",
            "         ...,\n",
            "\n",
            "         [[ 7.9839e-04,  8.8297e-05,  2.0765e-04],\n",
            "          [ 6.5795e-04,  3.1811e-05,  1.2567e-04],\n",
            "          [ 9.7044e-04,  4.7470e-04,  6.2037e-04]],\n",
            "\n",
            "         [[-3.1583e-04, -3.4501e-04, -9.2756e-04],\n",
            "          [-6.3185e-04, -5.6902e-04, -1.0220e-03],\n",
            "          [-2.2220e-04, -9.5789e-04, -1.2085e-03]],\n",
            "\n",
            "         [[-7.2790e-04, -5.6159e-04, -6.5891e-04],\n",
            "          [-5.7974e-04, -4.8190e-04, -6.5090e-04],\n",
            "          [-9.5279e-04, -1.1069e-03, -1.2959e-03]]],\n",
            "\n",
            "\n",
            "        [[[-2.5590e-04, -3.4148e-07,  1.1229e-04],\n",
            "          [ 4.4915e-04,  6.7908e-04,  6.2918e-04],\n",
            "          [ 4.8938e-04,  7.1204e-04,  8.1117e-04]],\n",
            "\n",
            "         [[ 1.2622e-04,  2.7372e-04,  4.6794e-04],\n",
            "          [ 1.7051e-04,  1.5691e-04,  2.5704e-04],\n",
            "          [ 1.5195e-04,  1.7843e-04,  2.2007e-04]],\n",
            "\n",
            "         [[ 2.8022e-04,  1.9254e-04,  1.0854e-04],\n",
            "          [ 1.3312e-05,  5.8673e-05,  1.1061e-04],\n",
            "          [ 5.6383e-05,  1.4590e-04,  2.1567e-04]],\n",
            "\n",
            "         ...,\n",
            "\n",
            "         [[-5.2351e-04, -8.7655e-04, -9.6646e-04],\n",
            "          [-7.8302e-04, -1.0910e-03, -9.4407e-04],\n",
            "          [-5.4930e-04, -8.3364e-04, -7.2937e-04]],\n",
            "\n",
            "         [[ 2.1106e-04,  4.4530e-04,  3.7473e-04],\n",
            "          [ 6.7719e-04,  8.8802e-04,  8.0192e-04],\n",
            "          [ 5.5642e-04,  6.8128e-04,  4.6200e-04]],\n",
            "\n",
            "         [[ 4.5178e-04,  7.7721e-04,  6.1889e-04],\n",
            "          [ 8.6422e-04,  1.1751e-03,  9.5087e-04],\n",
            "          [ 4.7089e-04,  6.9687e-04,  4.4598e-04]]]], requires_grad=True)\n",
            "Parameter containing:\n",
            "tensor([0.7676, 0.7676, 0.7675, 0.7678, 0.7678, 0.7674, 0.7674, 0.7676, 0.7677,\n",
            "        0.7677, 0.7674, 0.7678, 0.7674, 0.7676, 0.7676, 0.7677, 0.7678, 0.7677,\n",
            "        0.7677, 0.7677, 0.7678, 0.7677, 0.7679, 0.7678, 0.7679, 0.7677, 0.7678,\n",
            "        0.7677, 0.7677, 0.7674, 0.7678, 0.7678, 0.7677, 0.7677, 0.7674, 0.7678,\n",
            "        0.7678, 0.7677, 0.7679, 0.7679, 0.7678, 0.7676, 0.7674, 0.7678, 0.7678,\n",
            "        0.7673, 0.7679, 0.7675, 0.7678, 0.7679, 0.7678, 0.7677, 0.7677, 0.7677,\n",
            "        0.7677, 0.7677, 0.7677, 0.7677, 0.7675, 0.7678, 0.7678, 0.7679, 0.7676,\n",
            "        0.7679, 0.7677, 0.7674, 0.7676, 0.7678, 0.7677, 0.7674, 0.7677, 0.7677,\n",
            "        0.7676, 0.7676, 0.7679, 0.7677, 0.7677, 0.7673, 0.7678, 0.7677, 0.7678,\n",
            "        0.7679, 0.7678, 0.7674, 0.7676, 0.7677, 0.7679, 0.7678, 0.7678, 0.7677,\n",
            "        0.7678, 0.7676, 0.7676, 0.7677, 0.7678, 0.7678, 0.7677, 0.7678, 0.7679,\n",
            "        0.7677, 0.7677, 0.7678, 0.7677, 0.7678, 0.7678, 0.7677, 0.7675, 0.7678,\n",
            "        0.7678, 0.7677, 0.7677, 0.7678, 0.7678, 0.7677, 0.7677, 0.7679, 0.7678,\n",
            "        0.7674, 0.7677, 0.7678, 0.7678, 0.7675, 0.7678, 0.7677, 0.7677, 0.7678,\n",
            "        0.7679, 0.7678, 0.7676, 0.7676, 0.7678, 0.7675, 0.7677, 0.7677, 0.7677,\n",
            "        0.7678, 0.7676, 0.7674, 0.7676, 0.7675, 0.7678, 0.7675, 0.7674, 0.7676,\n",
            "        0.7678, 0.7678, 0.7677, 0.7678, 0.7677, 0.7679, 0.7677, 0.7676, 0.7679,\n",
            "        0.7676, 0.7678, 0.7678, 0.7674, 0.7677, 0.7676, 0.7678, 0.7677, 0.7676,\n",
            "        0.7677, 0.7674, 0.7676, 0.7677, 0.7676, 0.7677, 0.7678, 0.7679, 0.7678,\n",
            "        0.7674, 0.7676, 0.7677, 0.7677, 0.7678, 0.7676, 0.7675, 0.7678, 0.7677,\n",
            "        0.7676, 0.7677, 0.7677, 0.7677, 0.7677, 0.7678, 0.7679, 0.7676, 0.7675,\n",
            "        0.7677, 0.7678, 0.7677, 0.7675, 0.7676, 0.7678, 0.7678, 0.7677, 0.7673,\n",
            "        0.7674, 0.7676, 0.7676, 0.7678, 0.7678, 0.7678, 0.7678, 0.7677, 0.7677,\n",
            "        0.7678, 0.7679, 0.7676, 0.7679, 0.7677, 0.7678, 0.7676, 0.7674, 0.7676,\n",
            "        0.7674, 0.7675, 0.7676, 0.7678, 0.7678, 0.7678, 0.7678, 0.7676, 0.7676,\n",
            "        0.7678, 0.7676, 0.7676, 0.7679, 0.7675, 0.7679, 0.7677, 0.7677, 0.7678,\n",
            "        0.7677, 0.7678, 0.7677, 0.7677, 0.7677, 0.7677, 0.7674, 0.7678, 0.7676,\n",
            "        0.7675, 0.7677, 0.7677, 0.7677, 0.7677, 0.7677, 0.7677, 0.7676, 0.7677,\n",
            "        0.7677, 0.7677, 0.7677, 0.7677, 0.7679, 0.7679, 0.7677, 0.7678, 0.7677,\n",
            "        0.7677, 0.7676, 0.7674, 0.7678, 0.7678, 0.7675, 0.7678, 0.7676, 0.7679,\n",
            "        0.7676, 0.7675, 0.7677, 0.7678, 0.7678, 0.7678, 0.7675, 0.7679, 0.7677,\n",
            "        0.7679, 0.7678, 0.7678, 0.7678, 0.7677, 0.7677, 0.7677, 0.7677, 0.7676,\n",
            "        0.7674, 0.7676, 0.7678, 0.7679, 0.7678, 0.7677, 0.7678, 0.7678, 0.7675,\n",
            "        0.7677, 0.7677, 0.7677, 0.7677, 0.7676, 0.7675, 0.7677, 0.7679, 0.7678,\n",
            "        0.7677, 0.7675, 0.7678, 0.7678, 0.7679, 0.7677, 0.7676, 0.7677, 0.7678,\n",
            "        0.7678, 0.7677, 0.7673, 0.7675, 0.7679, 0.7677, 0.7674, 0.7677, 0.7676,\n",
            "        0.7677, 0.7675, 0.7678, 0.7678, 0.7677, 0.7675, 0.7675, 0.7673, 0.7678,\n",
            "        0.7675, 0.7677, 0.7678, 0.7677, 0.7675, 0.7677, 0.7678, 0.7677, 0.7678,\n",
            "        0.7675, 0.7676, 0.7677, 0.7677, 0.7676, 0.7673, 0.7679, 0.7678, 0.7678,\n",
            "        0.7677, 0.7678, 0.7673, 0.7674, 0.7677, 0.7679, 0.7674, 0.7677, 0.7676,\n",
            "        0.7677, 0.7677, 0.7677, 0.7677, 0.7677, 0.7674, 0.7673, 0.7677, 0.7678,\n",
            "        0.7677, 0.7677, 0.7676, 0.7677, 0.7678, 0.7676, 0.7678, 0.7677, 0.7677,\n",
            "        0.7677, 0.7678, 0.7675, 0.7675, 0.7679, 0.7677, 0.7678, 0.7677, 0.7677,\n",
            "        0.7676, 0.7677, 0.7675, 0.7678, 0.7674, 0.7677, 0.7678, 0.7677, 0.7678,\n",
            "        0.7676, 0.7678, 0.7676, 0.7677, 0.7678, 0.7678, 0.7672, 0.7676, 0.7678,\n",
            "        0.7677, 0.7674, 0.7679, 0.7677, 0.7678, 0.7677, 0.7677, 0.7677, 0.7674,\n",
            "        0.7677, 0.7678, 0.7677, 0.7679, 0.7677, 0.7676, 0.7678, 0.7678, 0.7678,\n",
            "        0.7678, 0.7676, 0.7678, 0.7678, 0.7677, 0.7677, 0.7679, 0.7677, 0.7678,\n",
            "        0.7675, 0.7678, 0.7678, 0.7674, 0.7677, 0.7673, 0.7678, 0.7678, 0.7676,\n",
            "        0.7677, 0.7677, 0.7679, 0.7676, 0.7676, 0.7678, 0.7678, 0.7675, 0.7677,\n",
            "        0.7676, 0.7673, 0.7677, 0.7676, 0.7678, 0.7678, 0.7672, 0.7675, 0.7673,\n",
            "        0.7677, 0.7678, 0.7676, 0.7677, 0.7677, 0.7678, 0.7676, 0.7674, 0.7679,\n",
            "        0.7675, 0.7679, 0.7677, 0.7674, 0.7676, 0.7678, 0.7676, 0.7674, 0.7675,\n",
            "        0.7677, 0.7677, 0.7678, 0.7676, 0.7675, 0.7674, 0.7677, 0.7679, 0.7679,\n",
            "        0.7676, 0.7678, 0.7676, 0.7675, 0.7677, 0.7677, 0.7676, 0.7678, 0.7677,\n",
            "        0.7674, 0.7675, 0.7679, 0.7679, 0.7678, 0.7673, 0.7673, 0.7673, 0.7674,\n",
            "        0.7677, 0.7678, 0.7678, 0.7677, 0.7676, 0.7677, 0.7678, 0.7676],\n",
            "       requires_grad=True)\n",
            "Parameter containing:\n",
            "tensor([-4.2469e-04, -1.5437e-03,  2.0595e-04, -1.3494e-04, -4.8095e-04,\n",
            "        -2.4453e-04, -7.8900e-03,  3.1374e-04, -1.2581e-03,  2.6566e-04,\n",
            "        -6.4613e-04, -2.0132e-04, -2.5510e-03, -4.0112e-03, -1.0151e-03,\n",
            "        -2.2591e-04, -2.6395e-03,  7.8803e-05, -9.6229e-04, -1.3949e-03,\n",
            "        -1.7969e-03,  6.4788e-04,  8.0242e-04, -2.7442e-03,  2.3452e-04,\n",
            "         2.3267e-04, -1.7523e-03, -1.4822e-03,  3.1441e-04, -5.2884e-04,\n",
            "        -6.0827e-04, -2.8116e-03,  4.2372e-04, -1.9065e-03, -1.1943e-04,\n",
            "        -1.4219e-03, -1.2305e-03,  3.5296e-04,  2.6386e-04, -2.3506e-03,\n",
            "        -4.1272e-03, -6.4795e-05, -5.4647e-04,  3.7391e-04,  2.0532e-04,\n",
            "         5.8367e-05, -2.7398e-03, -6.1121e-04, -1.2338e-03,  1.2263e-03,\n",
            "        -1.8246e-03, -3.1670e-04, -3.2271e-06, -1.1959e-03, -4.2320e-03,\n",
            "        -6.0374e-04, -1.1152e-04, -2.1973e-04, -7.5914e-04, -1.0188e-04,\n",
            "        -1.1442e-03, -8.7362e-04, -1.6703e-03,  3.1053e-04, -1.5323e-03,\n",
            "        -5.3765e-04, -2.6995e-04,  8.3597e-05, -2.3014e-03, -6.2115e-04,\n",
            "         5.5761e-05, -6.0189e-03,  1.1685e-04,  2.4398e-05, -1.3509e-03,\n",
            "         9.9707e-04, -5.3532e-04, -1.1247e-03, -2.5297e-04, -5.4443e-03,\n",
            "        -1.7685e-05, -1.7684e-03, -1.2193e-03, -1.0811e-03, -9.2671e-04,\n",
            "        -2.2707e-04, -3.5112e-03, -6.9142e-04,  1.5619e-04, -8.2666e-04,\n",
            "         6.3473e-04, -5.7718e-04, -3.9301e-03, -2.0832e-03,  1.7454e-03,\n",
            "         1.9270e-04, -2.1568e-03, -1.8728e-03, -1.3156e-03,  2.2355e-04,\n",
            "        -1.7421e-03,  8.2333e-05, -2.3008e-03, -1.0183e-03, -2.4222e-03,\n",
            "         6.3794e-04, -1.9399e-03, -3.6335e-04, -1.1820e-04,  2.1779e-04,\n",
            "        -4.2437e-04,  8.8125e-05, -2.8079e-04,  1.3242e-03, -6.2134e-03,\n",
            "        -2.5126e-03, -8.0031e-04,  1.6935e-04, -1.3359e-03, -1.1822e-03,\n",
            "         3.5789e-04,  1.1686e-04, -3.1207e-04, -6.3583e-04, -5.1861e-06,\n",
            "        -2.2557e-03, -2.0025e-03, -1.2059e-03, -3.3251e-03, -1.9080e-03,\n",
            "        -1.5148e-03, -8.5734e-04, -1.1586e-04,  3.9541e-05, -3.1445e-04,\n",
            "        -2.8451e-04, -2.6558e-03, -1.2693e-03, -1.1497e-03, -3.9006e-03,\n",
            "        -1.7037e-03, -2.4754e-03, -1.3175e-03, -1.3685e-03, -1.7653e-03,\n",
            "         3.2060e-04, -1.3426e-03, -1.0415e-03, -1.3060e-03, -6.7537e-04,\n",
            "        -1.1345e-03, -7.9965e-05,  9.0699e-05, -4.2431e-05, -4.0666e-05,\n",
            "        -1.4344e-03, -1.7063e-03, -1.5971e-03, -1.9128e-03, -2.7037e-04,\n",
            "        -1.9437e-03,  1.4796e-04, -2.1159e-03, -1.3734e-03,  5.0268e-04,\n",
            "        -2.5706e-03,  1.2380e-04,  1.0740e-04, -8.1274e-04, -8.8256e-04,\n",
            "        -8.0148e-04, -1.1834e-03, -2.7769e-03, -1.1362e-04, -1.7233e-03,\n",
            "        -4.6722e-05, -4.4560e-04,  5.6056e-04, -4.1607e-03, -5.9836e-06,\n",
            "        -8.4649e-04, -2.5456e-04, -1.5498e-03, -1.0489e-03, -3.8106e-03,\n",
            "        -2.4419e-04, -4.6617e-04, -1.8769e-03, -4.8863e-04, -1.4874e-03,\n",
            "         1.1424e-04, -7.6921e-04, -5.8087e-04, -8.9586e-06, -1.3527e-03,\n",
            "        -4.0008e-04, -1.3208e-03, -4.9579e-04, -1.6973e-04, -1.7076e-03,\n",
            "        -5.4966e-04, -7.9801e-04, -1.7620e-03,  1.6794e-04, -5.7815e-04,\n",
            "         5.6685e-04, -2.2538e-04, -2.0277e-03, -7.4606e-04, -1.8114e-03,\n",
            "        -2.1832e-03, -1.2576e-03, -9.2741e-04, -1.5132e-03, -2.2132e-04,\n",
            "         9.2669e-05, -4.0094e-04, -2.9642e-04, -8.0158e-04, -8.9825e-04,\n",
            "        -2.1675e-03, -2.0413e-03, -3.3100e-04, -4.8353e-04, -1.7881e-03,\n",
            "        -1.8429e-03,  4.3159e-04, -5.4194e-05, -4.3430e-03, -1.3728e-03,\n",
            "        -1.0708e-03,  2.9133e-04, -2.8928e-04, -1.7149e-03,  5.5982e-05,\n",
            "        -1.5349e-03, -1.8858e-03, -9.5894e-04, -1.5592e-04, -2.1264e-03,\n",
            "         4.7537e-05, -4.3813e-03,  5.0764e-04, -9.9447e-05, -1.9110e-04,\n",
            "         1.4654e-04,  3.9168e-04, -2.2439e-04,  2.1920e-04,  1.4224e-04,\n",
            "        -8.4432e-04, -7.3644e-04, -3.2029e-04, -1.1828e-03, -1.3232e-03,\n",
            "        -2.4728e-04, -9.2419e-04, -5.6574e-03, -7.3589e-04, -1.2141e-03,\n",
            "        -5.1650e-04, -3.3582e-04, -4.2352e-03, -1.1900e-03, -8.9314e-04,\n",
            "        -2.5403e-03, -6.5901e-04,  2.8465e-04, -2.5634e-03,  2.2362e-04,\n",
            "         1.2894e-04, -8.4619e-04, -3.2271e-03,  4.0704e-04, -1.3660e-03,\n",
            "        -8.1300e-04, -1.2483e-04, -1.6256e-03, -3.6871e-04, -2.4699e-03,\n",
            "        -5.8817e-04, -1.7611e-05,  2.2197e-04,  4.8015e-04, -3.4870e-04,\n",
            "        -1.5768e-03,  3.2719e-05,  8.9273e-04, -2.8915e-04,  6.7244e-05,\n",
            "        -1.8703e-03, -4.3005e-03, -4.2905e-04, -1.3358e-03, -1.1697e-04,\n",
            "        -7.0809e-04, -7.9047e-04,  3.5767e-05, -1.1437e-03, -2.1874e-03,\n",
            "        -9.7573e-04, -1.4627e-04, -5.6983e-04, -8.9317e-04, -1.3394e-04,\n",
            "        -2.0343e-03, -1.7489e-03, -9.8779e-04, -4.9975e-03, -1.2969e-03,\n",
            "        -2.6074e-03, -2.1219e-03, -2.8232e-03,  5.2023e-04, -7.6652e-04,\n",
            "        -1.8467e-03, -4.0153e-05, -2.3552e-03, -6.5235e-04, -5.2930e-04,\n",
            "        -1.0597e-04, -5.5069e-04, -9.4145e-05, -8.6034e-05, -4.2227e-04,\n",
            "        -2.8641e-03, -1.3979e-03, -4.6500e-04, -1.9787e-03, -8.8372e-04,\n",
            "         4.0752e-05, -7.0457e-04, -3.0165e-04, -1.7664e-03, -1.5186e-03,\n",
            "        -1.6488e-04,  1.1252e-04, -7.8697e-04,  3.5336e-04, -9.0180e-05,\n",
            "        -5.3964e-06,  6.2078e-04, -8.5875e-04, -7.6783e-04, -8.9881e-04,\n",
            "        -1.9943e-03, -2.2847e-03, -1.6977e-04, -1.7625e-04,  2.9905e-04,\n",
            "        -1.5798e-05,  6.8847e-04, -7.3172e-04, -1.7972e-03, -9.0297e-04,\n",
            "         4.0348e-04,  1.6428e-05,  1.3008e-04, -1.5072e-03, -8.6881e-04,\n",
            "        -1.1489e-03,  1.9322e-04, -2.1946e-04, -3.8442e-04, -1.1945e-03,\n",
            "        -2.7604e-04, -2.5825e-04,  1.3658e-04, -3.3042e-04,  5.8729e-04,\n",
            "        -1.4128e-03, -2.8029e-03, -1.0891e-03, -1.2363e-03, -1.4679e-03,\n",
            "        -2.5670e-03,  1.8262e-04,  4.1060e-04, -1.1960e-03,  9.5625e-05,\n",
            "         2.2424e-04,  1.0177e-05, -3.1191e-03, -5.5750e-04,  3.3453e-06,\n",
            "        -2.9888e-03,  1.0439e-04, -4.7127e-04,  6.8017e-04, -1.7590e-03,\n",
            "        -2.4877e-03, -1.0015e-03, -1.3886e-03, -1.5809e-05, -1.6876e-03,\n",
            "        -5.9012e-04, -2.7207e-03, -1.5613e-03,  3.1837e-05,  1.4622e-04,\n",
            "        -9.8080e-05, -7.7980e-04, -1.3040e-03,  5.3118e-05, -4.9069e-04,\n",
            "        -5.1804e-03, -1.1121e-03, -2.9519e-03, -1.1085e-03,  4.7409e-05,\n",
            "        -2.3451e-03, -4.7164e-04, -8.6828e-04, -1.5902e-03, -1.8411e-04,\n",
            "        -1.6566e-03, -1.2259e-03, -5.8788e-03,  7.1719e-04, -3.2042e-04,\n",
            "        -8.2824e-04,  9.7683e-05, -1.9001e-04, -6.0724e-04, -3.5197e-03,\n",
            "        -7.8818e-04, -1.6912e-03, -2.3534e-03, -1.4916e-03,  1.5939e-04,\n",
            "        -8.4123e-04, -1.3993e-04, -1.6922e-03, -1.0374e-03, -3.8447e-03,\n",
            "        -1.4591e-03, -1.7010e-03, -1.8960e-04,  1.4585e-04, -1.7831e-05,\n",
            "         1.9035e-04, -1.4065e-03, -6.5737e-04, -2.1906e-04, -7.2510e-04,\n",
            "         3.1839e-04, -2.2199e-03, -3.3679e-04, -1.1686e-03, -1.9253e-03,\n",
            "         3.0701e-04, -9.5085e-04,  3.1325e-04, -1.5617e-03, -3.5864e-04,\n",
            "        -8.3493e-05, -1.9466e-03, -1.5563e-03, -1.2462e-03, -4.2037e-04,\n",
            "         1.1233e-04, -9.6410e-04, -2.3080e-03, -1.9512e-03, -2.0754e-04,\n",
            "        -1.4211e-03, -2.6738e-04, -1.7221e-03,  2.9819e-05, -1.1790e-03,\n",
            "        -2.3527e-04, -8.6543e-04, -1.2269e-04, -1.1286e-03, -1.2273e-03,\n",
            "        -5.3921e-03, -1.5144e-03, -2.6927e-07, -3.7914e-03,  9.5166e-05,\n",
            "        -6.3141e-05, -2.5647e-03, -2.0069e-04, -1.8507e-03,  1.2443e-04,\n",
            "        -1.0066e-03,  1.3620e-04, -2.7355e-04, -6.1484e-04, -3.8645e-04,\n",
            "        -2.3777e-03, -8.7345e-04,  4.5499e-05, -1.4603e-03, -6.5177e-04,\n",
            "         2.2839e-04, -2.9070e-03,  3.8140e-05, -1.0106e-03, -1.7808e-03,\n",
            "        -7.2403e-04,  4.1526e-04, -1.2315e-03,  2.5116e-04, -4.2890e-04,\n",
            "        -3.0574e-04, -2.6905e-03, -2.4770e-03, -5.1030e-04, -6.3053e-04,\n",
            "        -5.6924e-04, -9.5155e-04], requires_grad=True)\n",
            "Parameter containing:\n",
            "tensor([[[[ 1.3553e-03,  1.2476e-03,  1.0140e-03],\n",
            "          [ 1.3742e-03,  1.2606e-03,  1.0987e-03],\n",
            "          [ 1.3422e-03,  1.3407e-03,  1.2405e-03]],\n",
            "\n",
            "         [[-9.7595e-03, -9.7313e-03, -9.5565e-03],\n",
            "          [-8.6213e-03, -8.5269e-03, -8.5126e-03],\n",
            "          [-8.2040e-03, -8.0915e-03, -8.0253e-03]],\n",
            "\n",
            "         [[-9.6272e-03, -9.6558e-03, -9.5601e-03],\n",
            "          [-8.5065e-03, -8.5302e-03, -8.5190e-03],\n",
            "          [-8.1261e-03, -8.1072e-03, -8.0794e-03]],\n",
            "\n",
            "         ...,\n",
            "\n",
            "         [[-9.0057e-03, -8.9686e-03, -8.9492e-03],\n",
            "          [-7.9692e-03, -8.0902e-03, -8.2195e-03],\n",
            "          [-7.7481e-03, -7.9199e-03, -7.8152e-03]],\n",
            "\n",
            "         [[-1.0123e-02, -1.0336e-02, -9.6608e-03],\n",
            "          [-9.8992e-03, -1.0037e-02, -9.2985e-03],\n",
            "          [-9.1923e-03, -9.2083e-03, -8.4535e-03]],\n",
            "\n",
            "         [[-1.0042e-02, -9.9279e-03, -9.5722e-03],\n",
            "          [-8.5067e-03, -8.2465e-03, -8.0135e-03],\n",
            "          [-7.2590e-03, -7.3546e-03, -6.9355e-03]]],\n",
            "\n",
            "\n",
            "        [[[-2.9939e-05, -5.3414e-06,  1.3309e-04],\n",
            "          [-3.1541e-05, -8.7899e-05, -2.2342e-05],\n",
            "          [ 1.3046e-04,  5.2410e-05,  7.7043e-05]],\n",
            "\n",
            "         [[-8.2924e-04, -8.4220e-04, -1.1179e-03],\n",
            "          [-7.8511e-04, -6.4820e-04, -1.0513e-03],\n",
            "          [-1.0976e-03, -8.7694e-04, -1.1774e-03]],\n",
            "\n",
            "         [[-4.2109e-04, -5.7489e-04, -6.5221e-04],\n",
            "          [-3.7512e-04, -2.7593e-04, -5.2791e-04],\n",
            "          [-3.1230e-04, -1.9518e-04, -4.2288e-04]],\n",
            "\n",
            "         ...,\n",
            "\n",
            "         [[-1.7095e-03, -1.8627e-03, -1.7775e-03],\n",
            "          [-1.8483e-03, -1.7935e-03, -1.8638e-03],\n",
            "          [-1.9956e-03, -1.7890e-03, -1.8858e-03]],\n",
            "\n",
            "         [[-1.0030e-03, -9.6943e-04, -1.0689e-03],\n",
            "          [-9.3185e-04, -8.9352e-04, -9.7427e-04],\n",
            "          [-1.0719e-03, -1.0251e-03, -1.0674e-03]],\n",
            "\n",
            "         [[-1.9653e-03, -2.2222e-03, -1.9765e-03],\n",
            "          [-2.3379e-03, -2.3508e-03, -2.0963e-03],\n",
            "          [-2.2948e-03, -1.9388e-03, -1.9509e-03]]],\n",
            "\n",
            "\n",
            "        [[[-5.0821e-04, -4.6625e-04, -4.0984e-04],\n",
            "          [-5.1535e-04, -4.8358e-04, -4.4440e-04],\n",
            "          [-5.7032e-04, -5.7061e-04, -5.4608e-04]],\n",
            "\n",
            "         [[ 9.6610e-04,  8.3935e-04,  7.2409e-04],\n",
            "          [ 4.7100e-04,  3.1362e-04,  3.3994e-04],\n",
            "          [ 5.1103e-04,  5.5756e-04,  6.5527e-04]],\n",
            "\n",
            "         [[ 1.0344e-03,  9.2947e-04,  8.0836e-04],\n",
            "          [ 5.8428e-04,  4.1536e-04,  3.9725e-04],\n",
            "          [ 5.0058e-04,  5.0683e-04,  5.7042e-04]],\n",
            "\n",
            "         ...,\n",
            "\n",
            "         [[ 9.8812e-04,  8.3641e-04,  7.0577e-04],\n",
            "          [ 5.2171e-04,  3.6012e-04,  3.6209e-04],\n",
            "          [ 6.4996e-04,  7.0451e-04,  7.4565e-04]],\n",
            "\n",
            "         [[ 1.5554e-03,  1.3788e-03,  7.5582e-04],\n",
            "          [ 2.0841e-03,  2.0358e-03,  1.3465e-03],\n",
            "          [ 2.3070e-03,  2.4626e-03,  1.8801e-03]],\n",
            "\n",
            "         [[ 4.6108e-04,  5.3394e-04,  3.5545e-04],\n",
            "          [ 5.2506e-04,  6.0792e-04,  4.8964e-04],\n",
            "          [ 5.6100e-04,  5.8521e-04,  5.3649e-04]]],\n",
            "\n",
            "\n",
            "        ...,\n",
            "\n",
            "\n",
            "        [[[ 3.5185e-04,  4.4815e-04,  5.1380e-04],\n",
            "          [ 1.3041e-04,  2.4843e-04,  4.3587e-04],\n",
            "          [ 3.2795e-04,  4.1683e-04,  4.7668e-04]],\n",
            "\n",
            "         [[ 9.4075e-05,  2.8879e-04, -2.0981e-04],\n",
            "          [-2.6638e-05, -2.6646e-04, -3.4047e-04],\n",
            "          [ 6.7350e-04,  2.2871e-03,  3.4028e-03]],\n",
            "\n",
            "         [[-1.3298e-04, -1.5934e-04, -1.7385e-04],\n",
            "          [-4.5130e-04, -4.5030e-04,  1.4293e-04],\n",
            "          [ 6.6798e-05,  1.7360e-03,  3.2836e-03]],\n",
            "\n",
            "         ...,\n",
            "\n",
            "         [[ 5.2373e-04,  3.7180e-04, -1.5781e-04],\n",
            "          [-1.8260e-04, -5.1966e-04, -3.8203e-04],\n",
            "          [-4.3393e-04, -3.1092e-04, -3.2709e-04]],\n",
            "\n",
            "         [[ 5.3239e-04,  4.7883e-04,  3.6808e-04],\n",
            "          [ 4.8555e-04,  5.3630e-04,  4.5741e-04],\n",
            "          [ 5.2878e-04,  3.2481e-04, -4.4159e-05]],\n",
            "\n",
            "         [[-9.3061e-05, -2.3483e-04, -2.1615e-04],\n",
            "          [ 1.3915e-05, -1.0565e-04, -1.3018e-04],\n",
            "          [-2.1780e-05, -3.2914e-05,  1.3580e-04]]],\n",
            "\n",
            "\n",
            "        [[[ 2.4414e-04,  6.4530e-04,  5.5409e-04],\n",
            "          [ 2.9336e-04,  6.4074e-04,  6.0040e-04],\n",
            "          [ 1.6852e-04,  4.8901e-04,  4.7403e-04]],\n",
            "\n",
            "         [[-5.9006e-05,  2.5560e-04,  2.3423e-04],\n",
            "          [ 2.0040e-04,  5.2027e-04,  4.9273e-04],\n",
            "          [ 1.6261e-04,  4.7588e-04,  5.1236e-04]],\n",
            "\n",
            "         [[-9.2186e-05,  1.9133e-04,  2.0624e-04],\n",
            "          [ 2.5773e-04,  5.9002e-04,  5.7512e-04],\n",
            "          [ 1.9179e-04,  5.1708e-04,  5.7763e-04]],\n",
            "\n",
            "         ...,\n",
            "\n",
            "         [[-5.3766e-04, -2.4064e-04, -1.3472e-04],\n",
            "          [-2.7013e-04,  6.7520e-06,  2.1043e-04],\n",
            "          [-3.0550e-04,  8.7558e-05,  3.1762e-04]],\n",
            "\n",
            "         [[ 3.9035e-04,  4.0043e-04,  4.1897e-04],\n",
            "          [ 8.1010e-05,  2.6879e-04,  2.6748e-04],\n",
            "          [ 1.4768e-04,  3.4799e-04,  3.4715e-04]],\n",
            "\n",
            "         [[-6.7347e-04, -5.4504e-04, -4.1203e-04],\n",
            "          [-1.0216e-03, -7.0139e-04, -5.1820e-04],\n",
            "          [-8.6764e-04, -5.6085e-04, -2.5973e-04]]],\n",
            "\n",
            "\n",
            "        [[[-4.6983e-04, -4.6893e-04, -3.7162e-04],\n",
            "          [-4.8000e-04, -4.8272e-04, -3.9146e-04],\n",
            "          [-2.4130e-04, -2.3263e-04, -1.8478e-04]],\n",
            "\n",
            "         [[-3.5562e-04, -9.1159e-04, -8.7574e-04],\n",
            "          [ 6.7617e-04,  8.6262e-04,  3.4323e-04],\n",
            "          [ 6.1372e-04,  8.9233e-04,  5.2338e-04]],\n",
            "\n",
            "         [[-6.1377e-04, -1.0265e-03, -8.1334e-04],\n",
            "          [ 6.4615e-04,  8.0605e-04,  2.3883e-04],\n",
            "          [ 6.5158e-04,  9.3535e-04,  5.2887e-04]],\n",
            "\n",
            "         ...,\n",
            "\n",
            "         [[-5.4513e-04, -7.3793e-04, -8.0789e-04],\n",
            "          [ 7.6545e-04,  8.8245e-04,  3.1438e-04],\n",
            "          [ 6.4364e-04,  7.7361e-04,  3.4021e-04]],\n",
            "\n",
            "         [[-1.9586e-04, -7.3397e-04, -8.0298e-04],\n",
            "          [ 3.5934e-05,  1.8274e-04,  1.6189e-04],\n",
            "          [ 7.1257e-05,  1.2316e-04,  1.6503e-04]],\n",
            "\n",
            "         [[-7.8526e-04, -1.0402e-03, -1.0596e-03],\n",
            "          [-7.8313e-04, -3.6274e-04, -5.5301e-04],\n",
            "          [-6.2919e-04, -2.6930e-04, -5.4033e-04]]]], requires_grad=True)\n",
            "Parameter containing:\n",
            "tensor([0.7676, 0.7676, 0.7678, 0.7678, 0.7676, 0.7677, 0.7680, 0.7675, 0.7677,\n",
            "        0.7676, 0.7679, 0.7675, 0.7675, 0.7679, 0.7678, 0.7677, 0.7679, 0.7677,\n",
            "        0.7678, 0.7678, 0.7678, 0.7677, 0.7677, 0.7676, 0.7676, 0.7675, 0.7677,\n",
            "        0.7674, 0.7678, 0.7677, 0.7677, 0.7678, 0.7677, 0.7676, 0.7679, 0.7674,\n",
            "        0.7678, 0.7680, 0.7677, 0.7678, 0.7677, 0.7675, 0.7677, 0.7678, 0.7677,\n",
            "        0.7678, 0.7676, 0.7678, 0.7677, 0.7679, 0.7675, 0.7675, 0.7679, 0.7679,\n",
            "        0.7676, 0.7678, 0.7677, 0.7673, 0.7678, 0.7676, 0.7677, 0.7678, 0.7677,\n",
            "        0.7675, 0.7678, 0.7678, 0.7676, 0.7678, 0.7675, 0.7680, 0.7678, 0.7677,\n",
            "        0.7676, 0.7680, 0.7678, 0.7677, 0.7676, 0.7677, 0.7676, 0.7678, 0.7679,\n",
            "        0.7679, 0.7675, 0.7679, 0.7677, 0.7678, 0.7677, 0.7677, 0.7677, 0.7677,\n",
            "        0.7675, 0.7680, 0.7679, 0.7674, 0.7677, 0.7676, 0.7677, 0.7679, 0.7675,\n",
            "        0.7676, 0.7678, 0.7679, 0.7678, 0.7678, 0.7675, 0.7676, 0.7676, 0.7678,\n",
            "        0.7675, 0.7678, 0.7678, 0.7679, 0.7676, 0.7678, 0.7678, 0.7679, 0.7675,\n",
            "        0.7675, 0.7675, 0.7674, 0.7677, 0.7676, 0.7679, 0.7679, 0.7678, 0.7677,\n",
            "        0.7675, 0.7680, 0.7678, 0.7677, 0.7679, 0.7678, 0.7677, 0.7676, 0.7677,\n",
            "        0.7678, 0.7677, 0.7678, 0.7677, 0.7676, 0.7676, 0.7677, 0.7679, 0.7676,\n",
            "        0.7677, 0.7675, 0.7676, 0.7678, 0.7676, 0.7679, 0.7675, 0.7676, 0.7677,\n",
            "        0.7678, 0.7676, 0.7676, 0.7676, 0.7678, 0.7678, 0.7678, 0.7680, 0.7679,\n",
            "        0.7677, 0.7678, 0.7678, 0.7678, 0.7674, 0.7675, 0.7679, 0.7678, 0.7678,\n",
            "        0.7677, 0.7676, 0.7679, 0.7676, 0.7676, 0.7678, 0.7677, 0.7677, 0.7678,\n",
            "        0.7676, 0.7676, 0.7675, 0.7678, 0.7676, 0.7678, 0.7676, 0.7678, 0.7674,\n",
            "        0.7678, 0.7675, 0.7675, 0.7678, 0.7676, 0.7678, 0.7678, 0.7676, 0.7677,\n",
            "        0.7678, 0.7679, 0.7678, 0.7676, 0.7676, 0.7677, 0.7678, 0.7680, 0.7675,\n",
            "        0.7678, 0.7677, 0.7680, 0.7677, 0.7676, 0.7676, 0.7676, 0.7676, 0.7676,\n",
            "        0.7674, 0.7677, 0.7678, 0.7677, 0.7679, 0.7678, 0.7679, 0.7677, 0.7674,\n",
            "        0.7676, 0.7678, 0.7676, 0.7672, 0.7677, 0.7679, 0.7677, 0.7680, 0.7678,\n",
            "        0.7678, 0.7679, 0.7679, 0.7678, 0.7676, 0.7677, 0.7679, 0.7677, 0.7679,\n",
            "        0.7679, 0.7679, 0.7676, 0.7676, 0.7679, 0.7677, 0.7677, 0.7676, 0.7677,\n",
            "        0.7678, 0.7677, 0.7677, 0.7677, 0.7679, 0.7678, 0.7678, 0.7678, 0.7678,\n",
            "        0.7674, 0.7679, 0.7676, 0.7680, 0.7674, 0.7679, 0.7676, 0.7676, 0.7677,\n",
            "        0.7676, 0.7679, 0.7675, 0.7679, 0.7680, 0.7675, 0.7676, 0.7676, 0.7678,\n",
            "        0.7676, 0.7675, 0.7679, 0.7680, 0.7675, 0.7679, 0.7677, 0.7677, 0.7675,\n",
            "        0.7675, 0.7677, 0.7678, 0.7679, 0.7676, 0.7677, 0.7678, 0.7678, 0.7678,\n",
            "        0.7674, 0.7677, 0.7677, 0.7679, 0.7679, 0.7676, 0.7678, 0.7677, 0.7677,\n",
            "        0.7678, 0.7676, 0.7675, 0.7677, 0.7677, 0.7678, 0.7675, 0.7680, 0.7678,\n",
            "        0.7676, 0.7678, 0.7679, 0.7678, 0.7676, 0.7677, 0.7676, 0.7676, 0.7677,\n",
            "        0.7680, 0.7677, 0.7679, 0.7676, 0.7679, 0.7675, 0.7677, 0.7677, 0.7675,\n",
            "        0.7677, 0.7679, 0.7677, 0.7677, 0.7679, 0.7676, 0.7677, 0.7677, 0.7679,\n",
            "        0.7678, 0.7678, 0.7675, 0.7678, 0.7679, 0.7678, 0.7676, 0.7678, 0.7678,\n",
            "        0.7680, 0.7678, 0.7679, 0.7676, 0.7677, 0.7677, 0.7675, 0.7679, 0.7677,\n",
            "        0.7674, 0.7679, 0.7677, 0.7680, 0.7675, 0.7677, 0.7677, 0.7676, 0.7677,\n",
            "        0.7676, 0.7677, 0.7677, 0.7674, 0.7678, 0.7674, 0.7678, 0.7677, 0.7678,\n",
            "        0.7678, 0.7677, 0.7677, 0.7674, 0.7676, 0.7677, 0.7675, 0.7676, 0.7675,\n",
            "        0.7679, 0.7676, 0.7679, 0.7677, 0.7678, 0.7677, 0.7674, 0.7678, 0.7676,\n",
            "        0.7679, 0.7676, 0.7678, 0.7678, 0.7679, 0.7675, 0.7676, 0.7678, 0.7679,\n",
            "        0.7677, 0.7678, 0.7676, 0.7676, 0.7673, 0.7678, 0.7676, 0.7680, 0.7677,\n",
            "        0.7679, 0.7677, 0.7680, 0.7678, 0.7678, 0.7676, 0.7676, 0.7676, 0.7678,\n",
            "        0.7676, 0.7675, 0.7677, 0.7676, 0.7680, 0.7677, 0.7679, 0.7679, 0.7676,\n",
            "        0.7677, 0.7677, 0.7675, 0.7678, 0.7676, 0.7678, 0.7680, 0.7676, 0.7678,\n",
            "        0.7677, 0.7675, 0.7680, 0.7678, 0.7677, 0.7674, 0.7676, 0.7676, 0.7678,\n",
            "        0.7675, 0.7677, 0.7679, 0.7674, 0.7676, 0.7678, 0.7676, 0.7678, 0.7675,\n",
            "        0.7678, 0.7677, 0.7677, 0.7676, 0.7679, 0.7677, 0.7677, 0.7679, 0.7677,\n",
            "        0.7675, 0.7677, 0.7675, 0.7679, 0.7677, 0.7677, 0.7676, 0.7679, 0.7676,\n",
            "        0.7677, 0.7677, 0.7678, 0.7678, 0.7677, 0.7675, 0.7677, 0.7677, 0.7677,\n",
            "        0.7676, 0.7676, 0.7679, 0.7674, 0.7676, 0.7678, 0.7675, 0.7677, 0.7678,\n",
            "        0.7677, 0.7677, 0.7677, 0.7679, 0.7681, 0.7678, 0.7678, 0.7678, 0.7678,\n",
            "        0.7678, 0.7677, 0.7675, 0.7679, 0.7677, 0.7675, 0.7677, 0.7676],\n",
            "       requires_grad=True)\n",
            "Parameter containing:\n",
            "tensor([ 0.0416,  0.0262, -0.0183, -0.0224,  0.0084,  0.0002, -0.0369,  0.0316,\n",
            "         0.0177, -0.0290,  0.0321,  0.0236,  0.0197, -0.0311, -0.0305,  0.0334,\n",
            "         0.0241, -0.0282,  0.0297,  0.0249,  0.0278, -0.0284, -0.0231,  0.0348,\n",
            "         0.0267, -0.0386,  0.0223,  0.0333,  0.0290,  0.0214, -0.0033, -0.0234,\n",
            "        -0.0277, -0.0301, -0.0345,  0.0320, -0.0298,  0.0363,  0.0345, -0.0296,\n",
            "         0.0135,  0.0375,  0.0261,  0.0343, -0.0152,  0.0315,  0.0303, -0.0121,\n",
            "        -0.0351,  0.0212,  0.0100,  0.0292, -0.0343, -0.0406, -0.0187,  0.0227,\n",
            "        -0.0317, -0.0297,  0.0270,  0.0009,  0.0326,  0.0134, -0.0022, -0.0280,\n",
            "         0.0243, -0.0295,  0.0218, -0.0277, -0.0173, -0.0303,  0.0299, -0.0201,\n",
            "        -0.0181,  0.0382, -0.0300, -0.0081, -0.0070,  0.0154,  0.0063, -0.0293,\n",
            "         0.0273,  0.0324,  0.0317, -0.0305,  0.0308, -0.0282,  0.0183,  0.0306,\n",
            "        -0.0115, -0.0038,  0.0255,  0.0222, -0.0324, -0.0307, -0.0011,  0.0021,\n",
            "        -0.0350, -0.0294,  0.0292,  0.0166, -0.0107, -0.0284,  0.0210, -0.0281,\n",
            "        -0.0258, -0.0054,  0.0055, -0.0360, -0.0360, -0.0331,  0.0238, -0.0325,\n",
            "        -0.0260,  0.0331,  0.0294, -0.0237,  0.0294, -0.0133, -0.0104, -0.0306,\n",
            "        -0.0074, -0.0356, -0.0293, -0.0328, -0.0089, -0.0253,  0.0173,  0.0301,\n",
            "         0.0328,  0.0271,  0.0269, -0.0294, -0.0120,  0.0330, -0.0268,  0.0293,\n",
            "        -0.0005,  0.0153, -0.0243,  0.0238, -0.0111,  0.0189, -0.0327, -0.0084,\n",
            "        -0.0257, -0.0225,  0.0213, -0.0369, -0.0205,  0.0217,  0.0331, -0.0082,\n",
            "         0.0284,  0.0146,  0.0277, -0.0147,  0.0268, -0.0288,  0.0115, -0.0197,\n",
            "        -0.0292, -0.0329,  0.0207,  0.0269, -0.0299, -0.0282, -0.0334, -0.0271,\n",
            "         0.0300, -0.0352, -0.0228,  0.0290,  0.0038,  0.0266, -0.0274, -0.0069,\n",
            "         0.0108,  0.0196, -0.0200,  0.0205, -0.0373,  0.0297, -0.0341,  0.0367,\n",
            "         0.0094, -0.0335,  0.0021, -0.0304,  0.0315, -0.0301,  0.0347,  0.0352,\n",
            "        -0.0248,  0.0298,  0.0277, -0.0178, -0.0236, -0.0241,  0.0378,  0.0336,\n",
            "        -0.0323,  0.0065, -0.0041, -0.0170, -0.0325,  0.0370,  0.0242, -0.0217,\n",
            "        -0.0297, -0.0397,  0.0020, -0.0213, -0.0327, -0.0169, -0.0300, -0.0105,\n",
            "        -0.0277, -0.0310,  0.0378,  0.0236,  0.0247,  0.0257,  0.0302, -0.0193,\n",
            "         0.0207,  0.0425, -0.0317,  0.0329,  0.0295,  0.0232,  0.0331, -0.0280,\n",
            "         0.0343,  0.0209, -0.0348, -0.0249, -0.0086, -0.0271,  0.0229, -0.0198,\n",
            "         0.0385, -0.0246,  0.0270, -0.0339,  0.0411, -0.0336, -0.0263,  0.0311,\n",
            "        -0.0344, -0.0323, -0.0234,  0.0137,  0.0088, -0.0235, -0.0323, -0.0326,\n",
            "         0.0311, -0.0288, -0.0129, -0.0287,  0.0084,  0.0356,  0.0332, -0.0087,\n",
            "         0.0286, -0.0331,  0.0274, -0.0007,  0.0314, -0.0144, -0.0254, -0.0262,\n",
            "        -0.0223,  0.0292, -0.0309, -0.0243, -0.0359, -0.0229, -0.0161, -0.0300,\n",
            "        -0.0277, -0.0321, -0.0354,  0.0297, -0.0340, -0.0272, -0.0146,  0.0317,\n",
            "         0.0315, -0.0278, -0.0142,  0.0337,  0.0125,  0.0199,  0.0370, -0.0167,\n",
            "         0.0259, -0.0339, -0.0323, -0.0099,  0.0338,  0.0397,  0.0010, -0.0318,\n",
            "         0.0265, -0.0066,  0.0283, -0.0259, -0.0316,  0.0218,  0.0225, -0.0144,\n",
            "        -0.0338,  0.0304, -0.0194, -0.0320,  0.0276, -0.0241,  0.0251,  0.0131,\n",
            "         0.0170, -0.0277,  0.0344,  0.0153, -0.0293, -0.0169, -0.0340,  0.0300,\n",
            "        -0.0371, -0.0268,  0.0158,  0.0020, -0.0271, -0.0052, -0.0303, -0.0278,\n",
            "         0.0315,  0.0140,  0.0167, -0.0236, -0.0295, -0.0141, -0.0348,  0.0336,\n",
            "        -0.0238, -0.0158,  0.0225,  0.0335,  0.0116,  0.0246,  0.0192, -0.0288,\n",
            "        -0.0158,  0.0317,  0.0045,  0.0319, -0.0299,  0.0239,  0.0317,  0.0351,\n",
            "        -0.0262, -0.0354,  0.0281, -0.0336,  0.0181,  0.0061,  0.0157, -0.0073,\n",
            "         0.0197,  0.0233,  0.0177, -0.0308, -0.0248, -0.0355, -0.0336,  0.0275,\n",
            "         0.0125,  0.0194, -0.0154,  0.0247,  0.0323,  0.0315,  0.0307,  0.0106,\n",
            "         0.0266,  0.0320, -0.0262,  0.0313, -0.0156,  0.0357,  0.0110,  0.0241,\n",
            "         0.0193,  0.0246, -0.0309, -0.0108,  0.0193, -0.0249,  0.0346,  0.0292,\n",
            "        -0.0337,  0.0279, -0.0026, -0.0188, -0.0303, -0.0196, -0.0017, -0.0234,\n",
            "        -0.0176, -0.0344, -0.0311,  0.0295,  0.0332, -0.0009,  0.0210,  0.0047,\n",
            "         0.0392,  0.0350, -0.0146,  0.0054, -0.0177,  0.0061, -0.0307,  0.0002,\n",
            "        -0.0189,  0.0266, -0.0120,  0.0371,  0.0340, -0.0143, -0.0384, -0.0137,\n",
            "        -0.0201, -0.0176,  0.0292,  0.0356,  0.0314, -0.0054, -0.0363,  0.0301,\n",
            "         0.0004,  0.0226,  0.0150, -0.0415, -0.0354,  0.0218,  0.0286, -0.0117,\n",
            "        -0.0328,  0.0231, -0.0260,  0.0351, -0.0172,  0.0332,  0.0182, -0.0174,\n",
            "        -0.0328, -0.0207,  0.0217,  0.0154,  0.0061, -0.0264, -0.0277,  0.0324,\n",
            "        -0.0351,  0.0001,  0.0244, -0.0023,  0.0159,  0.0001, -0.0250, -0.0290,\n",
            "         0.0270, -0.0103,  0.0127,  0.0321, -0.0187,  0.0259, -0.0318, -0.0255,\n",
            "        -0.0413, -0.0337, -0.0356,  0.0123, -0.0242, -0.0328,  0.0174,  0.0209,\n",
            "         0.0238,  0.0172, -0.0268, -0.0374,  0.0178, -0.0117, -0.0245, -0.0296,\n",
            "        -0.0051,  0.0204,  0.0213, -0.0335, -0.0336,  0.0126,  0.0272,  0.0332,\n",
            "         0.0273,  0.0175, -0.0335,  0.0340,  0.0023,  0.0097, -0.0282,  0.0208],\n",
            "       requires_grad=True)\n",
            "Parameter containing:\n",
            "tensor([[[[ 0.0021]],\n",
            "\n",
            "         [[-0.0031]],\n",
            "\n",
            "         [[ 0.0025]],\n",
            "\n",
            "         ...,\n",
            "\n",
            "         [[ 0.0011]],\n",
            "\n",
            "         [[ 0.0027]],\n",
            "\n",
            "         [[ 0.0020]]],\n",
            "\n",
            "\n",
            "        [[[-0.0003]],\n",
            "\n",
            "         [[-0.0024]],\n",
            "\n",
            "         [[ 0.0007]],\n",
            "\n",
            "         ...,\n",
            "\n",
            "         [[ 0.0008]],\n",
            "\n",
            "         [[-0.0018]],\n",
            "\n",
            "         [[-0.0007]]],\n",
            "\n",
            "\n",
            "        [[[-0.0017]],\n",
            "\n",
            "         [[ 0.0051]],\n",
            "\n",
            "         [[-0.0064]],\n",
            "\n",
            "         ...,\n",
            "\n",
            "         [[ 0.0008]],\n",
            "\n",
            "         [[-0.0051]],\n",
            "\n",
            "         [[-0.0051]]],\n",
            "\n",
            "\n",
            "        ...,\n",
            "\n",
            "\n",
            "        [[[ 0.0023]],\n",
            "\n",
            "         [[ 0.0052]],\n",
            "\n",
            "         [[-0.0009]],\n",
            "\n",
            "         ...,\n",
            "\n",
            "         [[-0.0015]],\n",
            "\n",
            "         [[ 0.0031]],\n",
            "\n",
            "         [[ 0.0033]]],\n",
            "\n",
            "\n",
            "        [[[-0.0047]],\n",
            "\n",
            "         [[ 0.0031]],\n",
            "\n",
            "         [[-0.0007]],\n",
            "\n",
            "         ...,\n",
            "\n",
            "         [[-0.0001]],\n",
            "\n",
            "         [[-0.0039]],\n",
            "\n",
            "         [[-0.0026]]],\n",
            "\n",
            "\n",
            "        [[[ 0.0056]],\n",
            "\n",
            "         [[-0.0026]],\n",
            "\n",
            "         [[-0.0018]],\n",
            "\n",
            "         ...,\n",
            "\n",
            "         [[-0.0020]],\n",
            "\n",
            "         [[ 0.0028]],\n",
            "\n",
            "         [[ 0.0034]]]], requires_grad=True)\n",
            "Parameter containing:\n",
            "tensor([0.7680, 0.7679, 0.7678, 0.7679, 0.7678, 0.7677, 0.7679, 0.7678, 0.7678,\n",
            "        0.7677, 0.7676, 0.7677, 0.7676, 0.7679, 0.7679, 0.7679, 0.7679, 0.7679,\n",
            "        0.7679, 0.7678, 0.7677, 0.7679, 0.7679, 0.7679, 0.7678, 0.7675, 0.7678,\n",
            "        0.7679, 0.7677, 0.7677, 0.7676, 0.7678, 0.7679, 0.7676, 0.7680, 0.7676,\n",
            "        0.7675, 0.7679, 0.7679, 0.7679, 0.7678, 0.7677, 0.7678, 0.7678, 0.7678,\n",
            "        0.7676, 0.7679, 0.7678, 0.7678, 0.7678, 0.7677, 0.7678, 0.7679, 0.7679,\n",
            "        0.7676, 0.7678, 0.7678, 0.7678, 0.7679, 0.7676, 0.7678, 0.7676, 0.7678,\n",
            "        0.7677, 0.7676, 0.7679, 0.7676, 0.7678, 0.7677, 0.7679, 0.7680, 0.7675,\n",
            "        0.7678, 0.7679, 0.7676, 0.7676, 0.7678, 0.7675, 0.7677, 0.7677, 0.7679,\n",
            "        0.7678, 0.7676, 0.7678, 0.7679, 0.7678, 0.7678, 0.7678, 0.7677, 0.7677,\n",
            "        0.7678, 0.7678, 0.7679, 0.7679, 0.7678, 0.7677, 0.7679, 0.7679, 0.7677,\n",
            "        0.7677, 0.7678, 0.7678, 0.7678, 0.7678, 0.7677, 0.7677, 0.7676, 0.7678,\n",
            "        0.7679, 0.7678, 0.7679, 0.7680, 0.7676, 0.7678, 0.7679, 0.7679, 0.7679,\n",
            "        0.7676, 0.7677, 0.7678, 0.7677, 0.7676, 0.7677, 0.7678, 0.7677, 0.7678,\n",
            "        0.7677, 0.7678, 0.7680, 0.7678, 0.7676, 0.7678, 0.7677, 0.7679, 0.7678,\n",
            "        0.7678, 0.7677, 0.7677, 0.7679, 0.7678, 0.7677, 0.7678, 0.7678, 0.7677,\n",
            "        0.7675, 0.7677, 0.7676, 0.7678, 0.7677, 0.7676, 0.7675, 0.7677, 0.7676,\n",
            "        0.7677, 0.7679, 0.7677, 0.7678, 0.7679, 0.7678, 0.7676, 0.7678, 0.7677,\n",
            "        0.7679, 0.7677, 0.7675, 0.7675, 0.7677, 0.7677, 0.7677, 0.7676, 0.7676,\n",
            "        0.7675, 0.7677, 0.7679, 0.7677, 0.7677, 0.7678, 0.7677, 0.7678, 0.7678,\n",
            "        0.7678, 0.7678, 0.7679, 0.7679, 0.7676, 0.7677, 0.7677, 0.7678, 0.7678,\n",
            "        0.7678, 0.7678, 0.7678, 0.7677, 0.7678, 0.7679, 0.7678, 0.7678, 0.7675,\n",
            "        0.7680, 0.7677, 0.7678, 0.7677, 0.7677, 0.7678, 0.7679, 0.7679, 0.7679,\n",
            "        0.7678, 0.7679, 0.7679, 0.7677, 0.7677, 0.7678, 0.7677, 0.7678, 0.7677,\n",
            "        0.7675, 0.7680, 0.7679, 0.7678, 0.7678, 0.7678, 0.7679, 0.7678, 0.7677,\n",
            "        0.7679, 0.7678, 0.7679, 0.7679, 0.7677, 0.7678, 0.7678, 0.7679, 0.7677,\n",
            "        0.7677, 0.7677, 0.7679, 0.7676, 0.7678, 0.7676, 0.7680, 0.7677, 0.7678,\n",
            "        0.7676, 0.7679, 0.7678, 0.7678, 0.7680, 0.7678, 0.7678, 0.7678, 0.7678,\n",
            "        0.7676, 0.7678, 0.7679, 0.7678, 0.7678, 0.7679, 0.7676, 0.7677, 0.7678,\n",
            "        0.7679, 0.7678, 0.7677, 0.7678, 0.7678, 0.7678, 0.7678, 0.7679, 0.7676,\n",
            "        0.7678, 0.7679, 0.7677, 0.7678, 0.7679, 0.7677, 0.7678, 0.7677, 0.7677,\n",
            "        0.7679, 0.7677, 0.7678, 0.7680, 0.7678, 0.7678, 0.7679, 0.7677, 0.7678,\n",
            "        0.7678, 0.7678, 0.7678, 0.7679, 0.7676, 0.7678, 0.7678, 0.7679, 0.7678,\n",
            "        0.7678, 0.7675, 0.7678, 0.7678, 0.7679, 0.7677, 0.7679, 0.7678, 0.7678,\n",
            "        0.7678, 0.7676, 0.7675, 0.7678, 0.7676, 0.7678, 0.7679, 0.7677, 0.7677,\n",
            "        0.7678, 0.7677, 0.7678, 0.7679, 0.7679, 0.7679, 0.7677, 0.7676, 0.7678,\n",
            "        0.7680, 0.7677, 0.7679, 0.7678, 0.7679, 0.7678, 0.7677, 0.7676, 0.7680,\n",
            "        0.7677, 0.7678, 0.7678, 0.7678, 0.7678, 0.7677, 0.7678, 0.7679, 0.7675,\n",
            "        0.7679, 0.7676, 0.7677, 0.7677, 0.7679, 0.7680, 0.7677, 0.7678, 0.7678,\n",
            "        0.7678, 0.7678, 0.7679, 0.7677, 0.7679, 0.7679, 0.7678, 0.7678, 0.7676,\n",
            "        0.7678, 0.7678, 0.7679, 0.7679, 0.7677, 0.7677, 0.7677, 0.7677, 0.7677,\n",
            "        0.7678, 0.7677, 0.7678, 0.7678, 0.7675, 0.7678, 0.7678, 0.7677, 0.7678,\n",
            "        0.7678, 0.7676, 0.7678, 0.7675, 0.7678, 0.7677, 0.7678, 0.7679, 0.7677,\n",
            "        0.7679, 0.7677, 0.7678, 0.7678, 0.7678, 0.7678, 0.7677, 0.7678, 0.7677,\n",
            "        0.7679, 0.7677, 0.7679, 0.7676, 0.7679, 0.7678, 0.7677, 0.7678, 0.7678,\n",
            "        0.7678, 0.7678, 0.7679, 0.7679, 0.7679, 0.7676, 0.7678, 0.7678, 0.7677,\n",
            "        0.7676, 0.7678, 0.7679, 0.7679, 0.7677, 0.7677, 0.7676, 0.7676, 0.7678,\n",
            "        0.7677, 0.7678, 0.7676, 0.7677, 0.7679, 0.7679, 0.7676, 0.7680, 0.7678,\n",
            "        0.7676, 0.7678, 0.7676, 0.7678, 0.7679, 0.7676, 0.7676, 0.7676, 0.7676,\n",
            "        0.7677, 0.7677, 0.7679, 0.7678, 0.7679, 0.7679, 0.7677, 0.7675, 0.7678,\n",
            "        0.7678, 0.7678, 0.7678, 0.7678, 0.7677, 0.7678, 0.7675, 0.7677, 0.7678,\n",
            "        0.7677, 0.7678, 0.7679, 0.7679, 0.7676, 0.7678, 0.7677, 0.7679, 0.7677,\n",
            "        0.7678, 0.7676, 0.7678, 0.7679, 0.7677, 0.7677, 0.7678, 0.7679, 0.7678,\n",
            "        0.7679, 0.7678, 0.7678, 0.7677, 0.7678, 0.7675, 0.7677, 0.7677, 0.7678,\n",
            "        0.7678, 0.7677, 0.7678, 0.7677, 0.7678, 0.7680, 0.7679, 0.7677, 0.7678,\n",
            "        0.7678, 0.7677, 0.7678, 0.7679, 0.7679, 0.7679, 0.7679, 0.7678, 0.7677,\n",
            "        0.7677, 0.7678, 0.7678, 0.7679, 0.7677, 0.7677, 0.7679, 0.7677],\n",
            "       requires_grad=True)\n",
            "Parameter containing:\n",
            "tensor([ 0.0416,  0.0262, -0.0183, -0.0224,  0.0084,  0.0002, -0.0369,  0.0316,\n",
            "         0.0177, -0.0290,  0.0321,  0.0236,  0.0197, -0.0311, -0.0305,  0.0334,\n",
            "         0.0241, -0.0282,  0.0297,  0.0249,  0.0278, -0.0284, -0.0231,  0.0348,\n",
            "         0.0267, -0.0386,  0.0223,  0.0333,  0.0290,  0.0214, -0.0033, -0.0234,\n",
            "        -0.0277, -0.0301, -0.0345,  0.0320, -0.0298,  0.0363,  0.0345, -0.0296,\n",
            "         0.0135,  0.0375,  0.0261,  0.0343, -0.0152,  0.0315,  0.0303, -0.0121,\n",
            "        -0.0351,  0.0212,  0.0100,  0.0292, -0.0343, -0.0406, -0.0187,  0.0227,\n",
            "        -0.0317, -0.0297,  0.0270,  0.0009,  0.0326,  0.0134, -0.0022, -0.0280,\n",
            "         0.0243, -0.0295,  0.0218, -0.0277, -0.0173, -0.0303,  0.0299, -0.0201,\n",
            "        -0.0181,  0.0382, -0.0300, -0.0081, -0.0070,  0.0154,  0.0063, -0.0293,\n",
            "         0.0273,  0.0324,  0.0317, -0.0305,  0.0308, -0.0282,  0.0183,  0.0306,\n",
            "        -0.0115, -0.0038,  0.0255,  0.0222, -0.0324, -0.0307, -0.0011,  0.0021,\n",
            "        -0.0350, -0.0294,  0.0292,  0.0166, -0.0107, -0.0284,  0.0210, -0.0281,\n",
            "        -0.0258, -0.0054,  0.0055, -0.0360, -0.0360, -0.0331,  0.0238, -0.0325,\n",
            "        -0.0260,  0.0331,  0.0294, -0.0237,  0.0294, -0.0133, -0.0104, -0.0306,\n",
            "        -0.0074, -0.0356, -0.0293, -0.0328, -0.0089, -0.0253,  0.0173,  0.0301,\n",
            "         0.0328,  0.0271,  0.0269, -0.0294, -0.0120,  0.0330, -0.0268,  0.0293,\n",
            "        -0.0005,  0.0153, -0.0243,  0.0238, -0.0111,  0.0189, -0.0327, -0.0084,\n",
            "        -0.0257, -0.0225,  0.0213, -0.0369, -0.0205,  0.0217,  0.0331, -0.0082,\n",
            "         0.0284,  0.0146,  0.0277, -0.0147,  0.0268, -0.0288,  0.0115, -0.0197,\n",
            "        -0.0292, -0.0329,  0.0207,  0.0269, -0.0299, -0.0282, -0.0334, -0.0271,\n",
            "         0.0300, -0.0352, -0.0228,  0.0290,  0.0038,  0.0266, -0.0274, -0.0069,\n",
            "         0.0108,  0.0196, -0.0200,  0.0205, -0.0373,  0.0297, -0.0341,  0.0367,\n",
            "         0.0094, -0.0335,  0.0021, -0.0304,  0.0315, -0.0301,  0.0347,  0.0352,\n",
            "        -0.0248,  0.0298,  0.0277, -0.0178, -0.0236, -0.0241,  0.0378,  0.0336,\n",
            "        -0.0323,  0.0065, -0.0041, -0.0170, -0.0325,  0.0370,  0.0242, -0.0217,\n",
            "        -0.0297, -0.0397,  0.0020, -0.0213, -0.0327, -0.0169, -0.0300, -0.0105,\n",
            "        -0.0277, -0.0310,  0.0378,  0.0236,  0.0247,  0.0257,  0.0302, -0.0193,\n",
            "         0.0207,  0.0425, -0.0317,  0.0329,  0.0295,  0.0232,  0.0331, -0.0280,\n",
            "         0.0343,  0.0209, -0.0348, -0.0249, -0.0086, -0.0271,  0.0229, -0.0198,\n",
            "         0.0385, -0.0246,  0.0270, -0.0339,  0.0411, -0.0336, -0.0263,  0.0311,\n",
            "        -0.0344, -0.0323, -0.0234,  0.0137,  0.0088, -0.0235, -0.0323, -0.0326,\n",
            "         0.0311, -0.0288, -0.0129, -0.0287,  0.0084,  0.0356,  0.0332, -0.0087,\n",
            "         0.0286, -0.0331,  0.0274, -0.0007,  0.0314, -0.0144, -0.0254, -0.0262,\n",
            "        -0.0223,  0.0292, -0.0309, -0.0243, -0.0359, -0.0229, -0.0161, -0.0300,\n",
            "        -0.0277, -0.0321, -0.0354,  0.0297, -0.0340, -0.0272, -0.0146,  0.0317,\n",
            "         0.0315, -0.0278, -0.0142,  0.0337,  0.0125,  0.0199,  0.0370, -0.0167,\n",
            "         0.0259, -0.0339, -0.0323, -0.0099,  0.0338,  0.0397,  0.0010, -0.0318,\n",
            "         0.0265, -0.0066,  0.0283, -0.0259, -0.0316,  0.0218,  0.0225, -0.0144,\n",
            "        -0.0338,  0.0304, -0.0194, -0.0320,  0.0276, -0.0241,  0.0251,  0.0131,\n",
            "         0.0170, -0.0277,  0.0344,  0.0153, -0.0293, -0.0169, -0.0340,  0.0300,\n",
            "        -0.0371, -0.0268,  0.0158,  0.0020, -0.0271, -0.0052, -0.0303, -0.0278,\n",
            "         0.0315,  0.0140,  0.0167, -0.0236, -0.0295, -0.0141, -0.0348,  0.0336,\n",
            "        -0.0238, -0.0158,  0.0225,  0.0335,  0.0116,  0.0246,  0.0192, -0.0288,\n",
            "        -0.0158,  0.0317,  0.0045,  0.0319, -0.0299,  0.0239,  0.0317,  0.0351,\n",
            "        -0.0262, -0.0354,  0.0281, -0.0336,  0.0181,  0.0061,  0.0157, -0.0073,\n",
            "         0.0197,  0.0233,  0.0177, -0.0308, -0.0248, -0.0355, -0.0336,  0.0275,\n",
            "         0.0125,  0.0194, -0.0154,  0.0247,  0.0323,  0.0315,  0.0307,  0.0106,\n",
            "         0.0266,  0.0320, -0.0262,  0.0313, -0.0156,  0.0357,  0.0110,  0.0241,\n",
            "         0.0193,  0.0246, -0.0309, -0.0108,  0.0193, -0.0249,  0.0346,  0.0292,\n",
            "        -0.0337,  0.0279, -0.0026, -0.0188, -0.0303, -0.0196, -0.0017, -0.0234,\n",
            "        -0.0176, -0.0344, -0.0311,  0.0295,  0.0332, -0.0009,  0.0210,  0.0047,\n",
            "         0.0392,  0.0350, -0.0146,  0.0054, -0.0177,  0.0061, -0.0307,  0.0002,\n",
            "        -0.0189,  0.0266, -0.0120,  0.0371,  0.0340, -0.0143, -0.0384, -0.0137,\n",
            "        -0.0201, -0.0176,  0.0292,  0.0356,  0.0314, -0.0054, -0.0363,  0.0301,\n",
            "         0.0004,  0.0226,  0.0150, -0.0415, -0.0354,  0.0218,  0.0286, -0.0117,\n",
            "        -0.0328,  0.0231, -0.0260,  0.0351, -0.0172,  0.0332,  0.0182, -0.0174,\n",
            "        -0.0328, -0.0207,  0.0217,  0.0154,  0.0061, -0.0264, -0.0277,  0.0324,\n",
            "        -0.0351,  0.0001,  0.0244, -0.0023,  0.0159,  0.0001, -0.0250, -0.0290,\n",
            "         0.0270, -0.0103,  0.0127,  0.0321, -0.0187,  0.0259, -0.0318, -0.0255,\n",
            "        -0.0413, -0.0337, -0.0356,  0.0123, -0.0242, -0.0328,  0.0174,  0.0209,\n",
            "         0.0238,  0.0172, -0.0268, -0.0374,  0.0178, -0.0117, -0.0245, -0.0296,\n",
            "        -0.0051,  0.0204,  0.0213, -0.0335, -0.0336,  0.0126,  0.0272,  0.0332,\n",
            "         0.0273,  0.0175, -0.0335,  0.0340,  0.0023,  0.0097, -0.0282,  0.0208],\n",
            "       requires_grad=True)\n",
            "Parameter containing:\n",
            "tensor([[[[-9.9455e-04, -1.3972e-03, -1.6238e-03],\n",
            "          [-7.6636e-04, -9.8826e-04, -1.0060e-03],\n",
            "          [-1.5664e-03, -1.0117e-03, -7.7434e-04]],\n",
            "\n",
            "         [[-2.0238e-04, -5.1168e-04, -5.1183e-04],\n",
            "          [-4.0157e-04, -4.1850e-04, -2.7053e-04],\n",
            "          [-1.0429e-03, -5.1547e-04, -2.7489e-04]],\n",
            "\n",
            "         [[ 5.5667e-04,  5.0667e-04,  7.9962e-04],\n",
            "          [ 4.4421e-04,  2.9687e-04,  5.5686e-04],\n",
            "          [ 9.8854e-04,  8.3518e-04,  1.0046e-03]],\n",
            "\n",
            "         ...,\n",
            "\n",
            "         [[ 5.5678e-04,  1.8003e-04,  1.2280e-04],\n",
            "          [ 7.6035e-04,  3.0038e-04,  1.1682e-04],\n",
            "          [ 9.5926e-04,  5.5973e-04,  2.8080e-04]],\n",
            "\n",
            "         [[-8.4393e-04, -9.0937e-04, -7.1315e-04],\n",
            "          [-1.4952e-03, -1.5174e-03, -1.0149e-03],\n",
            "          [-1.2611e-03, -1.4928e-03, -1.0476e-03]],\n",
            "\n",
            "         [[ 5.6314e-05,  2.7206e-04,  1.5431e-04],\n",
            "          [ 5.6383e-04,  2.8897e-04,  2.0856e-05],\n",
            "          [ 4.6149e-04,  2.4035e-04, -3.9397e-06]]],\n",
            "\n",
            "\n",
            "        [[[-7.3537e-03, -7.0331e-03, -6.5319e-03],\n",
            "          [-7.6907e-03, -7.0342e-03, -6.4236e-03],\n",
            "          [-7.5619e-03, -6.9093e-03, -6.1737e-03]],\n",
            "\n",
            "         [[-7.5812e-03, -7.1498e-03, -6.4956e-03],\n",
            "          [-8.1076e-03, -7.4578e-03, -6.6427e-03],\n",
            "          [-7.2096e-03, -6.7095e-03, -5.8667e-03]],\n",
            "\n",
            "         [[ 7.4860e-03,  7.0800e-03,  6.4122e-03],\n",
            "          [ 7.7779e-03,  7.1903e-03,  6.3237e-03],\n",
            "          [ 6.8410e-03,  6.2904e-03,  5.3094e-03]],\n",
            "\n",
            "         ...,\n",
            "\n",
            "         [[-9.7819e-05, -1.2212e-04, -6.2238e-05],\n",
            "          [-2.9256e-04, -5.5562e-04, -4.0501e-04],\n",
            "          [-2.1129e-03, -2.1362e-03, -1.9362e-03]],\n",
            "\n",
            "         [[-8.7438e-04, -3.9472e-04, -1.6812e-04],\n",
            "          [-5.8243e-04, -4.8097e-04,  6.8553e-05],\n",
            "          [ 1.9026e-04,  1.7417e-04,  9.2735e-04]],\n",
            "\n",
            "         [[ 1.4146e-04, -8.4104e-05, -1.8167e-04],\n",
            "          [ 7.8384e-05, -2.0519e-04, -2.1331e-04],\n",
            "          [ 4.1076e-04,  2.1388e-04,  2.1139e-04]]],\n",
            "\n",
            "\n",
            "        [[[-8.9894e-04, -1.0439e-03, -1.1097e-03],\n",
            "          [-9.7771e-04, -1.0543e-03, -1.1487e-03],\n",
            "          [-1.0544e-03, -1.1342e-03, -1.2080e-03]],\n",
            "\n",
            "         [[-1.2461e-04, -1.7643e-04, -1.0571e-04],\n",
            "          [-1.7891e-04, -2.1892e-04, -1.9309e-04],\n",
            "          [-1.4468e-04, -2.2701e-04, -2.2075e-04]],\n",
            "\n",
            "         [[ 5.8719e-04,  6.0534e-04,  6.4263e-04],\n",
            "          [ 3.7299e-04,  4.9266e-04,  6.0488e-04],\n",
            "          [ 5.8959e-04,  5.1211e-04,  5.6505e-04]],\n",
            "\n",
            "         ...,\n",
            "\n",
            "         [[-3.8300e-04, -3.9602e-04, -4.2608e-04],\n",
            "          [-1.8602e-04, -1.8391e-04, -2.5056e-04],\n",
            "          [-3.6701e-05, -3.6172e-05, -6.2974e-05]],\n",
            "\n",
            "         [[-1.4961e-04, -2.2932e-04, -3.5993e-05],\n",
            "          [-2.7386e-04, -5.2266e-04, -1.5782e-04],\n",
            "          [-3.1220e-04, -4.7755e-04, -3.8044e-04]],\n",
            "\n",
            "         [[-8.8946e-05, -8.4097e-06,  2.5815e-05],\n",
            "          [-1.1879e-04, -8.3936e-05, -9.3810e-05],\n",
            "          [-8.8215e-05, -2.0820e-05, -1.4308e-05]]],\n",
            "\n",
            "\n",
            "        ...,\n",
            "\n",
            "\n",
            "        [[[-1.7166e-03, -2.0065e-03, -2.1107e-03],\n",
            "          [-1.5890e-03, -1.7968e-03, -1.9473e-03],\n",
            "          [-1.6223e-03, -1.7691e-03, -1.9631e-03]],\n",
            "\n",
            "         [[-3.5039e-04, -4.0378e-04, -4.3015e-04],\n",
            "          [-3.1950e-04, -3.7536e-04, -4.4418e-04],\n",
            "          [-3.9892e-04, -4.2863e-04, -4.8556e-04]],\n",
            "\n",
            "         [[ 2.2281e-04,  2.7627e-04,  5.2395e-04],\n",
            "          [-1.6817e-04, -7.6663e-05,  2.2415e-04],\n",
            "          [ 2.0651e-05, -5.0333e-05,  2.1652e-04]],\n",
            "\n",
            "         ...,\n",
            "\n",
            "         [[ 4.8395e-04,  6.8636e-04,  6.5683e-04],\n",
            "          [ 7.4890e-04,  1.0039e-03,  9.6350e-04],\n",
            "          [ 9.3939e-04,  1.2152e-03,  1.0066e-03]],\n",
            "\n",
            "         [[-1.1114e-03, -1.2144e-03, -8.1403e-04],\n",
            "          [-1.6007e-03, -1.7710e-03, -1.3329e-03],\n",
            "          [-1.5328e-03, -1.7676e-03, -1.4267e-03]],\n",
            "\n",
            "         [[-1.0587e-04, -4.5967e-05, -5.8168e-05],\n",
            "          [-7.3889e-05,  7.4600e-05, -1.9065e-05],\n",
            "          [-3.8762e-06,  1.2620e-04,  7.3408e-05]]],\n",
            "\n",
            "\n",
            "        [[[ 8.2427e-05, -5.1984e-04, -7.6648e-04],\n",
            "          [ 1.3255e-05, -4.0580e-04, -6.7261e-04],\n",
            "          [-2.9706e-04, -5.1938e-04, -6.2313e-04]],\n",
            "\n",
            "         [[-3.1583e-04, -3.7119e-04, -2.9395e-04],\n",
            "          [-3.5400e-04, -4.1800e-04, -3.5681e-04],\n",
            "          [-4.2755e-04, -5.0825e-04, -4.0382e-04]],\n",
            "\n",
            "         [[-6.4097e-04, -4.2201e-04,  4.9191e-05],\n",
            "          [-5.7677e-04, -4.7006e-04, -6.0043e-05],\n",
            "          [-2.9014e-04, -3.2662e-04, -6.3260e-05]],\n",
            "\n",
            "         ...,\n",
            "\n",
            "         [[-2.2482e-04, -4.3366e-04, -4.1912e-04],\n",
            "          [-1.4658e-04, -3.1502e-04, -3.8115e-04],\n",
            "          [-9.1109e-05, -2.9334e-04, -2.5430e-04]],\n",
            "\n",
            "         [[-1.1498e-03, -4.3955e-04, -1.8557e-04],\n",
            "          [-1.1016e-03, -6.9355e-04, -3.8948e-04],\n",
            "          [-7.7869e-04, -5.5339e-04, -4.1075e-04]],\n",
            "\n",
            "         [[-1.6999e-04, -7.0555e-05, -1.2009e-04],\n",
            "          [-1.7871e-04, -2.0319e-04, -1.5073e-04],\n",
            "          [-2.0937e-04, -2.1930e-04, -1.6304e-04]]],\n",
            "\n",
            "\n",
            "        [[[-1.0886e-03, -1.6056e-03, -1.6216e-03],\n",
            "          [-8.4901e-04, -1.0138e-03, -1.1711e-03],\n",
            "          [-1.1221e-03, -1.2242e-03, -1.3249e-03]],\n",
            "\n",
            "         [[-6.3021e-04, -9.2507e-04, -6.7225e-04],\n",
            "          [-4.2033e-04, -6.0525e-04, -3.8891e-04],\n",
            "          [-2.5947e-04, -4.9287e-04, -3.9043e-04]],\n",
            "\n",
            "         [[ 5.6329e-04,  4.7763e-04,  4.6458e-04],\n",
            "          [ 2.3771e-04,  7.3776e-05,  2.3893e-04],\n",
            "          [ 3.6250e-04,  3.2164e-04,  5.5702e-04]],\n",
            "\n",
            "         ...,\n",
            "\n",
            "         [[ 4.5481e-04,  7.4632e-04,  6.0628e-04],\n",
            "          [ 6.3878e-04,  8.1205e-04,  9.1904e-04],\n",
            "          [ 1.1998e-03,  1.4636e-03,  1.5315e-03]],\n",
            "\n",
            "         [[-9.9489e-04, -1.0364e-03, -9.9253e-04],\n",
            "          [-1.1160e-03, -1.2888e-03, -1.3422e-03],\n",
            "          [-1.0520e-03, -1.2839e-03, -1.3376e-03]],\n",
            "\n",
            "         [[-1.1605e-04,  4.1520e-04,  2.0827e-04],\n",
            "          [-7.1757e-05,  3.9675e-04,  3.3622e-04],\n",
            "          [-6.0733e-06,  4.4854e-04,  5.2308e-04]]]], requires_grad=True)\n",
            "Parameter containing:\n",
            "tensor([0.7676, 0.7681, 0.7676, 0.7678, 0.7676, 0.7675, 0.7675, 0.7677, 0.7674,\n",
            "        0.7676, 0.7676, 0.7675, 0.7675, 0.7677, 0.7677, 0.7678, 0.7678, 0.7679,\n",
            "        0.7679, 0.7680, 0.7676, 0.7675, 0.7676, 0.7678, 0.7677, 0.7676, 0.7676,\n",
            "        0.7677, 0.7680, 0.7679, 0.7679, 0.7678, 0.7676, 0.7677, 0.7675, 0.7676,\n",
            "        0.7675, 0.7677, 0.7678, 0.7676, 0.7676, 0.7679, 0.7679, 0.7678, 0.7676,\n",
            "        0.7677, 0.7680, 0.7675, 0.7676, 0.7675, 0.7676, 0.7675, 0.7677, 0.7676,\n",
            "        0.7677, 0.7675, 0.7678, 0.7675, 0.7677, 0.7679, 0.7677, 0.7678, 0.7677,\n",
            "        0.7677, 0.7678, 0.7676, 0.7678, 0.7675, 0.7678, 0.7676, 0.7677, 0.7676,\n",
            "        0.7679, 0.7681, 0.7676, 0.7677, 0.7677, 0.7676, 0.7678, 0.7676, 0.7677,\n",
            "        0.7677, 0.7677, 0.7676, 0.7678, 0.7680, 0.7677, 0.7679, 0.7677, 0.7680,\n",
            "        0.7678, 0.7676, 0.7677, 0.7675, 0.7676, 0.7678, 0.7675, 0.7677, 0.7676,\n",
            "        0.7677, 0.7680, 0.7680, 0.7679, 0.7678, 0.7678, 0.7676, 0.7674, 0.7676,\n",
            "        0.7680, 0.7676, 0.7677, 0.7677, 0.7676, 0.7678, 0.7676, 0.7676, 0.7676,\n",
            "        0.7679, 0.7676, 0.7676, 0.7678, 0.7675, 0.7677, 0.7676, 0.7678, 0.7677,\n",
            "        0.7679, 0.7677, 0.7677, 0.7680, 0.7677, 0.7675, 0.7677, 0.7676, 0.7676,\n",
            "        0.7675, 0.7676, 0.7676, 0.7676, 0.7676, 0.7677, 0.7676, 0.7675, 0.7676,\n",
            "        0.7676, 0.7677, 0.7675, 0.7676, 0.7677, 0.7676, 0.7678, 0.7677, 0.7678,\n",
            "        0.7675, 0.7677, 0.7678, 0.7677, 0.7678, 0.7676, 0.7678, 0.7676, 0.7675,\n",
            "        0.7676, 0.7674, 0.7677, 0.7676, 0.7676, 0.7676, 0.7675, 0.7676, 0.7676,\n",
            "        0.7676, 0.7677, 0.7676, 0.7676, 0.7675, 0.7675, 0.7676, 0.7678, 0.7676,\n",
            "        0.7676, 0.7676, 0.7676, 0.7678, 0.7675, 0.7675, 0.7676, 0.7675, 0.7678,\n",
            "        0.7681, 0.7675, 0.7679, 0.7676, 0.7677, 0.7678, 0.7676, 0.7677, 0.7677,\n",
            "        0.7677, 0.7677, 0.7678, 0.7675, 0.7675, 0.7676, 0.7678, 0.7678, 0.7677,\n",
            "        0.7676, 0.7680, 0.7677, 0.7675, 0.7678, 0.7680, 0.7677, 0.7676, 0.7674,\n",
            "        0.7676, 0.7678, 0.7679, 0.7677, 0.7679, 0.7678, 0.7678, 0.7680, 0.7675,\n",
            "        0.7675, 0.7675, 0.7674, 0.7675, 0.7677, 0.7678, 0.7677, 0.7677, 0.7678,\n",
            "        0.7675, 0.7676, 0.7680, 0.7677, 0.7678, 0.7675, 0.7678, 0.7676, 0.7676,\n",
            "        0.7679, 0.7676, 0.7676, 0.7679, 0.7676, 0.7674, 0.7676, 0.7679, 0.7675,\n",
            "        0.7680, 0.7678, 0.7675, 0.7675, 0.7681, 0.7677, 0.7676, 0.7676, 0.7681,\n",
            "        0.7677, 0.7676, 0.7676, 0.7676, 0.7676, 0.7676, 0.7676, 0.7677, 0.7678,\n",
            "        0.7678, 0.7678, 0.7677, 0.7676, 0.7678, 0.7676, 0.7677, 0.7676, 0.7680,\n",
            "        0.7676, 0.7678, 0.7678, 0.7677, 0.7675, 0.7677, 0.7677, 0.7678, 0.7677,\n",
            "        0.7676, 0.7677, 0.7676, 0.7675, 0.7677, 0.7678, 0.7678, 0.7677, 0.7677,\n",
            "        0.7677, 0.7677, 0.7678, 0.7678, 0.7678, 0.7676, 0.7678, 0.7677, 0.7677,\n",
            "        0.7675, 0.7677, 0.7677, 0.7676, 0.7675, 0.7676, 0.7677, 0.7678, 0.7675,\n",
            "        0.7677, 0.7676, 0.7676, 0.7676, 0.7676, 0.7677, 0.7675, 0.7675, 0.7679,\n",
            "        0.7679, 0.7676, 0.7679, 0.7675, 0.7676, 0.7676, 0.7679, 0.7676, 0.7675,\n",
            "        0.7677, 0.7677, 0.7676, 0.7676, 0.7676, 0.7677, 0.7676, 0.7677, 0.7676,\n",
            "        0.7679, 0.7679, 0.7678, 0.7677, 0.7675, 0.7675, 0.7676, 0.7677, 0.7679,\n",
            "        0.7675, 0.7676, 0.7675, 0.7678, 0.7678, 0.7677, 0.7678, 0.7677, 0.7676,\n",
            "        0.7677, 0.7677, 0.7678, 0.7675, 0.7677, 0.7676, 0.7680, 0.7678, 0.7680,\n",
            "        0.7675, 0.7681, 0.7677, 0.7678, 0.7677, 0.7678, 0.7677, 0.7675, 0.7676,\n",
            "        0.7677, 0.7675, 0.7676, 0.7675, 0.7677, 0.7677, 0.7680, 0.7675, 0.7676,\n",
            "        0.7679, 0.7675, 0.7679, 0.7678, 0.7675, 0.7675, 0.7678, 0.7674, 0.7677,\n",
            "        0.7677, 0.7680, 0.7678, 0.7676, 0.7676, 0.7678, 0.7677, 0.7676, 0.7675,\n",
            "        0.7678, 0.7677, 0.7676, 0.7676, 0.7676, 0.7679, 0.7680, 0.7676, 0.7676,\n",
            "        0.7676, 0.7678, 0.7677, 0.7676, 0.7678, 0.7675, 0.7676, 0.7674, 0.7677,\n",
            "        0.7677, 0.7676, 0.7677, 0.7675, 0.7674, 0.7680, 0.7678, 0.7680, 0.7678,\n",
            "        0.7676, 0.7678, 0.7677, 0.7677, 0.7679, 0.7679, 0.7678, 0.7677, 0.7677,\n",
            "        0.7676, 0.7679, 0.7675, 0.7676, 0.7677, 0.7676, 0.7677, 0.7677, 0.7676,\n",
            "        0.7676, 0.7676, 0.7677, 0.7676, 0.7677, 0.7681, 0.7675, 0.7677, 0.7677,\n",
            "        0.7676, 0.7676, 0.7675, 0.7676, 0.7678, 0.7682, 0.7676, 0.7677, 0.7677,\n",
            "        0.7678, 0.7677, 0.7676, 0.7676, 0.7677, 0.7679, 0.7678, 0.7679, 0.7677,\n",
            "        0.7679, 0.7676, 0.7676, 0.7676, 0.7677, 0.7675, 0.7675, 0.7676, 0.7680,\n",
            "        0.7676, 0.7678, 0.7679, 0.7676, 0.7681, 0.7678, 0.7676, 0.7681, 0.7676,\n",
            "        0.7676, 0.7674, 0.7676, 0.7676, 0.7679, 0.7682, 0.7676, 0.7677, 0.7675,\n",
            "        0.7676, 0.7680, 0.7676, 0.7680, 0.7676, 0.7675, 0.7677, 0.7677],\n",
            "       requires_grad=True)\n",
            "Parameter containing:\n",
            "tensor([-2.1599e-03, -3.5401e-03,  1.2093e-04, -2.6491e-03, -3.2087e-04,\n",
            "         1.2662e-04, -7.5796e-04, -1.3249e-03, -6.3606e-04,  3.4974e-05,\n",
            "        -4.1095e-03, -6.4645e-04, -1.8168e-04, -8.3284e-04, -1.0945e-03,\n",
            "        -9.2618e-04, -4.4110e-03, -1.0531e-03,  2.8042e-03, -2.3205e-03,\n",
            "        -3.4857e-04, -8.1118e-04, -1.1300e-03, -1.0877e-04, -4.0710e-04,\n",
            "        -2.9436e-04, -1.4751e-04, -9.9166e-04, -2.4390e-03, -4.7819e-03,\n",
            "        -6.6369e-03, -1.4324e-03, -6.1375e-04, -4.9932e-04,  1.3484e-03,\n",
            "        -1.4881e-04, -1.7869e-03, -5.3355e-04, -2.4013e-04, -1.3476e-04,\n",
            "        -7.0403e-04, -2.8866e-03, -2.0175e-03, -8.7135e-05, -2.8617e-03,\n",
            "        -7.9865e-04, -2.9297e-03, -1.5215e-03, -4.2606e-05,  9.8483e-06,\n",
            "        -4.4206e-04, -2.9052e-04, -6.2851e-04, -2.9804e-03, -1.5862e-03,\n",
            "        -8.3149e-04, -2.9037e-03, -8.0296e-04,  2.0546e-04, -2.6654e-03,\n",
            "        -5.4619e-04, -2.7182e-04, -5.5063e-04, -6.8281e-04, -1.1594e-03,\n",
            "         3.0402e-06, -2.7168e-03, -4.9779e-04,  2.2682e-04, -7.3430e-04,\n",
            "        -5.1017e-04, -7.0398e-04, -4.2621e-03, -3.2467e-03,  6.8600e-04,\n",
            "        -2.3510e-03, -4.3797e-04, -3.3617e-04, -2.3851e-03, -2.1248e-04,\n",
            "        -3.0745e-03,  2.5260e-03, -1.8873e-03, -5.5662e-04, -3.4169e-03,\n",
            "        -3.0652e-03, -4.6076e-04,  9.2816e-04, -7.3678e-04, -2.6090e-03,\n",
            "        -3.9419e-03, -1.9542e-03,  6.8920e-04, -1.4724e-03,  1.3055e-03,\n",
            "        -4.2695e-03, -7.2518e-04, -5.9097e-04, -1.6853e-04, -1.2697e-03,\n",
            "        -2.5287e-03, -1.6175e-03, -1.3462e-04, -3.6305e-04, -1.2674e-03,\n",
            "        -7.7614e-04, -5.4738e-04, -8.3760e-04, -3.0076e-03, -4.0306e-04,\n",
            "        -2.2006e-04, -1.8047e-03, -1.2217e-03, -1.2068e-03, -3.1336e-04,\n",
            "        -1.1100e-03, -5.7976e-04, -1.6969e-03, -3.4350e-04, -6.7766e-04,\n",
            "        -1.0842e-03,  7.1324e-04, -7.5046e-04, -5.2552e-04, -1.5645e-03,\n",
            "        -1.7860e-04, -3.4384e-03, -9.4725e-05, -6.6444e-04, -3.8538e-03,\n",
            "         1.2720e-03, -9.1326e-04, -8.6470e-04, -7.6873e-04,  6.7515e-05,\n",
            "        -1.0975e-03, -1.4779e-03, -9.0469e-04, -1.3117e-04, -7.6400e-04,\n",
            "        -2.2542e-03, -1.4718e-03, -2.3953e-04,  1.4237e-03, -1.0342e-03,\n",
            "         4.0000e-04, -2.8231e-03,  2.4550e-04, -1.6578e-03, -2.9725e-03,\n",
            "        -1.3468e-03,  5.1834e-04,  3.2369e-04, -1.2697e-03, -3.9174e-03,\n",
            "        -1.9845e-03,  3.7321e-04, -2.7438e-04, -5.1971e-05, -2.4319e-03,\n",
            "        -1.2977e-03, -8.3447e-04,  2.8942e-05, -2.8630e-04, -7.0076e-04,\n",
            "        -3.7028e-03,  1.2957e-03, -1.3208e-03, -2.9918e-04, -1.0781e-03,\n",
            "        -2.6662e-03, -1.8698e-04, -1.8732e-05,  2.9806e-04, -2.9031e-03,\n",
            "        -8.3515e-04, -2.4917e-04, -3.6385e-04, -3.3090e-04, -8.5729e-05,\n",
            "        -1.1017e-03,  6.7932e-04, -3.0739e-03, -1.9129e-03, -8.7659e-06,\n",
            "        -8.3802e-04, -2.8574e-04, -3.7201e-03, -1.5015e-03, -4.1336e-03,\n",
            "        -4.4418e-04, -6.6139e-04, -7.8423e-04,  3.5541e-03, -2.0142e-04,\n",
            "        -8.7503e-04, -2.6586e-03, -2.2433e-03, -3.0706e-03, -2.3980e-03,\n",
            "        -9.8866e-04, -7.3764e-04, -9.1148e-04, -1.0894e-03, -1.5459e-03,\n",
            "        -1.3979e-04, -4.7227e-04, -5.9787e-04, -2.0026e-03,  1.2963e-04,\n",
            "        -7.9067e-04, -6.8969e-04, -3.9487e-03, -2.9465e-03, -9.7813e-05,\n",
            "        -2.2130e-03, -2.3601e-03, -4.0718e-04, -2.1537e-03, -5.0433e-04,\n",
            "        -2.0596e-04,  1.3159e-03, -7.1605e-04, -2.3113e-03, -2.7078e-03,\n",
            "        -1.7885e-03,  2.9309e-04, -9.3224e-04, -6.4192e-04,  1.8255e-04,\n",
            "        -6.1627e-04, -6.4227e-04,  1.4758e-04, -3.0261e-03, -1.4341e-04,\n",
            "        -7.0313e-04, -3.1003e-03, -1.3690e-03, -3.5054e-03,  1.0858e-03,\n",
            "        -9.9585e-04,  1.0236e-03, -2.2286e-03, -3.8006e-03, -1.3919e-03,\n",
            "        -5.6615e-04, -3.0146e-03, -1.2894e-03, -3.5887e-04,  1.5669e-05,\n",
            "        -4.7979e-03, -7.0932e-04, -3.2895e-03,  2.0369e-03, -3.4223e-03,\n",
            "         2.0602e-04, -4.1590e-03, -2.7234e-03, -6.1882e-04,  6.2629e-04,\n",
            "        -4.9117e-03,  8.7330e-06, -1.2845e-04, -1.2453e-03,  1.3031e-03,\n",
            "        -3.7534e-04,  4.8109e-04, -3.3853e-04, -2.0101e-03, -1.3491e-04,\n",
            "        -1.7495e-03, -1.9663e-03, -1.7136e-03, -1.3401e-03, -8.7633e-04,\n",
            "        -7.5241e-04, -1.6862e-03, -8.9233e-04, -3.5188e-03, -5.6707e-04,\n",
            "        -7.3373e-04, -2.5482e-03,  9.1827e-04, -1.3283e-03, -4.0276e-03,\n",
            "        -5.2712e-05, -1.5478e-03, -6.8189e-04, -4.1893e-04, -1.1608e-03,\n",
            "        -7.0253e-04, -1.5442e-03, -4.7641e-04, -6.8779e-04,  7.0056e-04,\n",
            "        -2.3777e-03, -1.8358e-04,  2.0449e-04, -2.1667e-04, -1.9079e-03,\n",
            "         1.8149e-04, -4.7596e-03, -4.0510e-04, -4.0609e-03, -1.6945e-03,\n",
            "        -1.7884e-03, -1.3968e-03,  2.0821e-04, -1.8799e-03, -7.7225e-04,\n",
            "        -9.8822e-04, -2.6636e-04, -1.0804e-03, -4.0667e-04, -3.6096e-03,\n",
            "        -3.4575e-04,  1.7864e-03,  1.5128e-04, -1.0534e-03, -1.1860e-03,\n",
            "        -1.6604e-03, -1.6452e-03, -7.6282e-04, -7.5598e-04, -2.5175e-03,\n",
            "        -1.9580e-03, -2.2723e-03, -5.8615e-04, -2.3188e-03,  6.7971e-04,\n",
            "         8.7353e-04, -7.1972e-04, -9.2226e-04, -7.1846e-04, -3.3603e-04,\n",
            "        -3.4001e-04, -1.1381e-03, -1.5830e-03, -9.4736e-03, -1.4737e-03,\n",
            "        -8.5037e-04, -8.1356e-04, -7.3657e-04, -2.8485e-03, -7.9104e-04,\n",
            "        -1.1929e-03,  1.4348e-03, -8.2187e-04, -2.6028e-03, -1.8177e-03,\n",
            "        -1.9089e-03, -1.3838e-03, -7.4456e-04,  2.5468e-04, -2.6697e-03,\n",
            "         3.0234e-04, -1.8722e-03, -5.7569e-04, -7.3610e-04, -2.5746e-03,\n",
            "        -1.4705e-03,  1.0540e-04, -2.1361e-03, -6.9722e-04, -2.6290e-03,\n",
            "        -2.5315e-04, -2.4147e-03,  8.7394e-04, -3.9405e-03, -6.9867e-04,\n",
            "        -2.6483e-03, -3.1157e-04, -2.5944e-03, -9.4464e-04, -8.4837e-04,\n",
            "        -1.3311e-03, -1.3086e-03, -7.6807e-04, -2.0843e-03, -9.6786e-06,\n",
            "        -2.7189e-04, -7.6164e-04,  1.5503e-03, -1.1355e-03, -4.0917e-03,\n",
            "        -9.4700e-04,  3.9803e-04, -2.4439e-03, -6.6146e-05, -3.6172e-03,\n",
            "         3.1177e-03, -1.4499e-03, -5.9672e-04, -2.7240e-03, -4.2766e-04,\n",
            "        -2.0858e-03, -2.1894e-03, -2.8082e-03,  1.6581e-03,  1.2623e-03,\n",
            "        -3.6021e-04, -1.9022e-03, -2.9173e-04, -5.2711e-04, -8.3206e-04,\n",
            "        -6.7125e-04, -1.6866e-03, -6.2601e-04, -7.0195e-04, -4.9519e-04,\n",
            "        -4.6306e-03, -2.7155e-03, -1.8156e-04, -3.1105e-03, -1.8840e-03,\n",
            "        -3.4999e-04, -4.2431e-04, -1.7170e-03, -1.2901e-04, -4.9468e-04,\n",
            "        -2.5327e-03, -9.1747e-04, -5.3694e-04,  4.6336e-04, -7.6564e-04,\n",
            "        -3.0615e-03, -6.9873e-04, -4.5808e-04, -2.7286e-03, -2.1744e-03,\n",
            "        -2.5824e-03, -7.3459e-04,  1.1184e-03, -2.1020e-04, -2.7757e-03,\n",
            "        -5.0199e-04, -2.9184e-03, -2.5526e-03, -3.7494e-03, -5.5798e-04,\n",
            "         1.4519e-03, -5.3706e-04, -4.4928e-05, -5.5678e-04, -2.8375e-03,\n",
            "        -8.6559e-04, -8.3971e-04, -1.3698e-03,  3.5260e-04, -5.7477e-04,\n",
            "        -7.4150e-05, -2.1661e-04, -2.9260e-03, -3.3797e-03, -1.2869e-04,\n",
            "        -5.0202e-03, -8.8464e-04, -1.1336e-03, -7.5332e-04, -1.0450e-04,\n",
            "        -1.4212e-04, -1.7375e-03,  2.1877e-04,  3.4086e-03, -3.8309e-03,\n",
            "        -3.7317e-03, -8.9656e-04, -5.6873e-04, -1.3364e-03, -4.3648e-03,\n",
            "        -2.4831e-03, -6.8681e-05, -3.2120e-03,  1.5047e-03, -7.8716e-04,\n",
            "        -5.0316e-04, -3.9568e-04, -8.3167e-04, -6.9495e-04, -1.1537e-03,\n",
            "         6.7556e-04, -1.3393e-03, -6.3512e-04, -8.0313e-04, -6.2111e-04,\n",
            "        -1.6863e-03,  8.4961e-05, -2.5539e-03, -1.0057e-03, -7.1728e-04,\n",
            "        -3.3727e-03,  1.6712e-04,  1.7472e-05, -3.0184e-04, -1.3224e-03,\n",
            "        -8.4319e-05, -1.0262e-03, -2.2850e-04, -7.5322e-04, -3.9844e-04,\n",
            "        -2.6831e-03,  1.4243e-03, -9.8055e-04, -6.0526e-04, -2.9004e-03,\n",
            "         2.1277e-03,  9.5906e-04, -4.1529e-03, -3.4112e-04, -1.4377e-03,\n",
            "        -4.5472e-04, -3.6478e-03], requires_grad=True)\n",
            "Parameter containing:\n",
            "tensor([[[[ 1.0822e-03,  1.2844e-03,  1.1889e-03],\n",
            "          [ 1.1773e-03,  1.3689e-03,  1.2988e-03],\n",
            "          [ 1.0407e-03,  1.2315e-03,  1.1498e-03]],\n",
            "\n",
            "         [[-6.6478e-03, -6.7844e-03, -6.0983e-03],\n",
            "          [-6.5634e-03, -6.5870e-03, -5.8715e-03],\n",
            "          [-5.9924e-03, -6.0254e-03, -5.3115e-03]],\n",
            "\n",
            "         [[ 1.4928e-03,  1.6823e-03,  1.6289e-03],\n",
            "          [ 1.6191e-03,  1.8013e-03,  1.7513e-03],\n",
            "          [ 1.5493e-03,  1.7514e-03,  1.6980e-03]],\n",
            "\n",
            "         ...,\n",
            "\n",
            "         [[ 1.2179e-03,  1.4392e-03,  1.3825e-03],\n",
            "          [ 1.3243e-03,  1.5127e-03,  1.4732e-03],\n",
            "          [ 1.1916e-03,  1.4436e-03,  1.3975e-03]],\n",
            "\n",
            "         [[ 1.0805e-03,  1.1953e-03,  1.2103e-03],\n",
            "          [ 1.1052e-03,  1.2358e-03,  1.2691e-03],\n",
            "          [ 1.1571e-03,  1.2710e-03,  1.2773e-03]],\n",
            "\n",
            "         [[ 9.7977e-04,  1.1915e-03,  1.0289e-03],\n",
            "          [ 1.2213e-03,  1.3947e-03,  1.2290e-03],\n",
            "          [ 1.0880e-03,  1.3820e-03,  1.1666e-03]]],\n",
            "\n",
            "\n",
            "        [[[ 3.6709e-04,  4.4132e-04,  4.2735e-04],\n",
            "          [ 3.7038e-04,  4.4940e-04,  3.8953e-04],\n",
            "          [ 3.9278e-04,  4.5177e-04,  4.3580e-04]],\n",
            "\n",
            "         [[ 5.3281e-03,  5.2611e-03,  4.3580e-03],\n",
            "          [ 5.8800e-03,  5.7517e-03,  4.8479e-03],\n",
            "          [ 5.1022e-03,  5.0338e-03,  4.1487e-03]],\n",
            "\n",
            "         [[ 2.0534e-04,  2.0995e-04,  2.2401e-04],\n",
            "          [ 1.8707e-04,  2.1499e-04,  2.2102e-04],\n",
            "          [ 1.9754e-04,  2.1688e-04,  2.3032e-04]],\n",
            "\n",
            "         ...,\n",
            "\n",
            "         [[ 3.1886e-04,  3.7512e-04,  3.4082e-04],\n",
            "          [ 3.2033e-04,  2.8859e-04,  2.6330e-04],\n",
            "          [ 3.3337e-04,  2.9789e-04,  2.9140e-04]],\n",
            "\n",
            "         [[-4.3965e-05, -1.0664e-05,  3.6839e-05],\n",
            "          [-4.2093e-05, -4.9226e-05,  4.8127e-06],\n",
            "          [-6.4786e-06, -1.8445e-05, -2.6724e-07]],\n",
            "\n",
            "         [[ 4.0579e-04,  5.0113e-04,  4.2119e-04],\n",
            "          [ 4.5845e-04,  5.7577e-04,  5.0132e-04],\n",
            "          [ 4.2392e-04,  5.5482e-04,  4.8558e-04]]],\n",
            "\n",
            "\n",
            "        [[[-8.0507e-04, -1.1865e-03, -7.9372e-04],\n",
            "          [-8.6663e-04, -1.1721e-03, -1.0711e-03],\n",
            "          [-7.6373e-04, -1.0979e-03, -9.7417e-04]],\n",
            "\n",
            "         [[-1.1641e-03, -1.9348e-03, -2.0869e-03],\n",
            "          [-2.0578e-03, -2.9368e-03, -3.0465e-03],\n",
            "          [-2.3271e-03, -3.1584e-03, -3.2517e-03]],\n",
            "\n",
            "         [[-6.0345e-04, -7.7354e-04, -6.4378e-04],\n",
            "          [-7.3864e-04, -8.4800e-04, -7.9565e-04],\n",
            "          [-4.9238e-04, -8.1908e-04, -6.3711e-04]],\n",
            "\n",
            "         ...,\n",
            "\n",
            "         [[-7.3998e-04, -1.0186e-03, -8.9384e-04],\n",
            "          [-9.2305e-04, -1.1986e-03, -1.0827e-03],\n",
            "          [-7.7431e-04, -1.1229e-03, -9.7403e-04]],\n",
            "\n",
            "         [[-3.0983e-04, -4.8484e-04, -3.5831e-04],\n",
            "          [-3.9974e-04, -5.8457e-04, -5.3883e-04],\n",
            "          [-3.1116e-04, -4.8357e-04, -4.9014e-04]],\n",
            "\n",
            "         [[-7.9716e-04, -9.7791e-04, -7.2640e-04],\n",
            "          [-9.4077e-04, -1.2087e-03, -1.0126e-03],\n",
            "          [-7.2337e-04, -1.2112e-03, -1.1014e-03]]],\n",
            "\n",
            "\n",
            "        ...,\n",
            "\n",
            "\n",
            "        [[[ 4.3567e-04,  5.6480e-04,  4.8186e-04],\n",
            "          [ 4.8627e-04,  6.1653e-04,  5.5634e-04],\n",
            "          [ 3.7177e-04,  4.8528e-04,  4.8392e-04]],\n",
            "\n",
            "         [[-5.5138e-04, -5.4834e-04, -5.8693e-04],\n",
            "          [-6.3829e-04, -5.9748e-04, -6.2226e-04],\n",
            "          [-7.3226e-04, -7.0039e-04, -7.6378e-04]],\n",
            "\n",
            "         [[ 3.7677e-04,  4.5499e-04,  4.1841e-04],\n",
            "          [ 4.1614e-04,  5.0512e-04,  4.6918e-04],\n",
            "          [ 3.5616e-04,  4.5269e-04,  4.2516e-04]],\n",
            "\n",
            "         ...,\n",
            "\n",
            "         [[-4.6709e-06,  7.8360e-05,  6.8468e-05],\n",
            "          [ 3.9577e-05,  1.7409e-04,  8.6464e-05],\n",
            "          [ 7.6969e-05,  3.4470e-05, -2.4143e-05]],\n",
            "\n",
            "         [[ 6.1467e-05,  8.6839e-05,  1.0719e-05],\n",
            "          [ 6.9557e-05,  1.0627e-04,  3.3861e-05],\n",
            "          [ 7.3722e-05,  1.4981e-05, -4.4664e-05]],\n",
            "\n",
            "         [[ 6.2472e-04,  7.5124e-04,  6.4325e-04],\n",
            "          [ 6.9389e-04,  8.1851e-04,  7.3573e-04],\n",
            "          [ 5.8177e-04,  7.3916e-04,  6.4144e-04]]],\n",
            "\n",
            "\n",
            "        [[[ 2.3483e-04,  8.5665e-05,  1.2026e-04],\n",
            "          [ 2.0537e-04,  1.0231e-04,  1.2667e-04],\n",
            "          [ 1.3089e-04,  1.1348e-04,  1.4193e-04]],\n",
            "\n",
            "         [[-3.0944e-04, -2.4143e-04, -9.3667e-05],\n",
            "          [-3.8835e-04, -3.0188e-04, -1.6980e-04],\n",
            "          [-2.4994e-04, -1.6408e-04, -3.0026e-06]],\n",
            "\n",
            "         [[ 2.5006e-04,  1.3107e-04,  1.2230e-04],\n",
            "          [ 2.0165e-04,  9.2951e-05,  1.0616e-04],\n",
            "          [ 2.6927e-04,  1.1628e-04,  1.2936e-04]],\n",
            "\n",
            "         ...,\n",
            "\n",
            "         [[ 1.7527e-04,  8.4058e-05,  8.7899e-05],\n",
            "          [ 1.8615e-04,  5.6982e-05,  6.2466e-05],\n",
            "          [ 2.1123e-04,  8.5338e-05,  8.5939e-05]],\n",
            "\n",
            "         [[ 2.3765e-04,  1.6447e-04,  1.6620e-04],\n",
            "          [ 2.5962e-04,  2.0749e-04,  2.0600e-04],\n",
            "          [ 2.6076e-04,  1.9534e-04,  1.9999e-04]],\n",
            "\n",
            "         [[ 1.5942e-04,  1.8076e-04,  2.8193e-04],\n",
            "          [ 2.1592e-04,  7.6565e-05,  2.0306e-04],\n",
            "          [ 2.0806e-04, -1.0946e-04,  1.7979e-04]]],\n",
            "\n",
            "\n",
            "        [[[ 1.1147e-03,  1.3172e-03,  1.1537e-03],\n",
            "          [ 1.2133e-03,  1.4223e-03,  1.2465e-03],\n",
            "          [ 1.1219e-03,  1.2366e-03,  1.0666e-03]],\n",
            "\n",
            "         [[-3.4449e-03, -3.7036e-03, -3.3104e-03],\n",
            "          [-3.6238e-03, -3.8538e-03, -3.4457e-03],\n",
            "          [-3.4065e-03, -3.6322e-03, -3.2067e-03]],\n",
            "\n",
            "         [[ 1.0339e-03,  1.2431e-03,  1.0875e-03],\n",
            "          [ 1.1838e-03,  1.3821e-03,  1.2437e-03],\n",
            "          [ 1.0692e-03,  1.2672e-03,  1.1268e-03]],\n",
            "\n",
            "         ...,\n",
            "\n",
            "         [[ 9.7927e-04,  1.2227e-03,  1.1132e-03],\n",
            "          [ 1.1691e-03,  1.4435e-03,  1.3038e-03],\n",
            "          [ 9.9546e-04,  1.2692e-03,  1.1687e-03]],\n",
            "\n",
            "         [[ 7.3732e-04,  8.6541e-04,  7.6749e-04],\n",
            "          [ 8.2912e-04,  9.7645e-04,  9.3220e-04],\n",
            "          [ 7.5689e-04,  9.2467e-04,  8.3476e-04]],\n",
            "\n",
            "         [[ 1.0503e-03,  1.3453e-03,  1.0953e-03],\n",
            "          [ 1.2938e-03,  1.6235e-03,  1.3329e-03],\n",
            "          [ 1.1652e-03,  1.4218e-03,  1.2241e-03]]]], requires_grad=True)\n",
            "Parameter containing:\n",
            "tensor([0.7678, 0.7677, 0.7675, 0.7678, 0.7677, 0.7676, 0.7679, 0.7677, 0.7675,\n",
            "        0.7676, 0.7678, 0.7677, 0.7677, 0.7677, 0.7679, 0.7673, 0.7677, 0.7675,\n",
            "        0.7678, 0.7678, 0.7678, 0.7678, 0.7673, 0.7678, 0.7677, 0.7677, 0.7676,\n",
            "        0.7674, 0.7679, 0.7674, 0.7677, 0.7678, 0.7676, 0.7678, 0.7677, 0.7678,\n",
            "        0.7677, 0.7675, 0.7675, 0.7678, 0.7676, 0.7675, 0.7677, 0.7675, 0.7677,\n",
            "        0.7678, 0.7678, 0.7677, 0.7679, 0.7675, 0.7677, 0.7676, 0.7676, 0.7675,\n",
            "        0.7677, 0.7675, 0.7678, 0.7678, 0.7675, 0.7677, 0.7678, 0.7677, 0.7677,\n",
            "        0.7679, 0.7678, 0.7678, 0.7677, 0.7677, 0.7677, 0.7678, 0.7678, 0.7676,\n",
            "        0.7677, 0.7677, 0.7679, 0.7676, 0.7677, 0.7677, 0.7677, 0.7676, 0.7679,\n",
            "        0.7676, 0.7677, 0.7677, 0.7676, 0.7676, 0.7677, 0.7677, 0.7676, 0.7675,\n",
            "        0.7675, 0.7676, 0.7674, 0.7678, 0.7677, 0.7676, 0.7673, 0.7677, 0.7678,\n",
            "        0.7675, 0.7677, 0.7676, 0.7678, 0.7677, 0.7678, 0.7676, 0.7677, 0.7678,\n",
            "        0.7677, 0.7677, 0.7676, 0.7678, 0.7676, 0.7676, 0.7678, 0.7676, 0.7674,\n",
            "        0.7677, 0.7675, 0.7676, 0.7676, 0.7678, 0.7678, 0.7678, 0.7677, 0.7677,\n",
            "        0.7677, 0.7677, 0.7674, 0.7675, 0.7676, 0.7675, 0.7677, 0.7674, 0.7678,\n",
            "        0.7679, 0.7677, 0.7676, 0.7676, 0.7675, 0.7677, 0.7675, 0.7678, 0.7677,\n",
            "        0.7677, 0.7677, 0.7677, 0.7676, 0.7676, 0.7677, 0.7672, 0.7677, 0.7677,\n",
            "        0.7677, 0.7678, 0.7677, 0.7678, 0.7677, 0.7677, 0.7676, 0.7678, 0.7677,\n",
            "        0.7677, 0.7674, 0.7679, 0.7674, 0.7676, 0.7678, 0.7679, 0.7676, 0.7678,\n",
            "        0.7677, 0.7677, 0.7677, 0.7679, 0.7677, 0.7676, 0.7677, 0.7677, 0.7676,\n",
            "        0.7676, 0.7677, 0.7676, 0.7676, 0.7677, 0.7676, 0.7677, 0.7677, 0.7675,\n",
            "        0.7677, 0.7678, 0.7678, 0.7676, 0.7676, 0.7677, 0.7677, 0.7676, 0.7678,\n",
            "        0.7675, 0.7673, 0.7678, 0.7677, 0.7676, 0.7678, 0.7676, 0.7676, 0.7677,\n",
            "        0.7678, 0.7675, 0.7677, 0.7677, 0.7676, 0.7676, 0.7677, 0.7677, 0.7677,\n",
            "        0.7675, 0.7676, 0.7678, 0.7675, 0.7678, 0.7677, 0.7677, 0.7678, 0.7677,\n",
            "        0.7678, 0.7678, 0.7674, 0.7676, 0.7677, 0.7676, 0.7676, 0.7677, 0.7676,\n",
            "        0.7677, 0.7678, 0.7677, 0.7677, 0.7677, 0.7678, 0.7672, 0.7678, 0.7677,\n",
            "        0.7678, 0.7678, 0.7677, 0.7676, 0.7679, 0.7675, 0.7676, 0.7676, 0.7677,\n",
            "        0.7677, 0.7675, 0.7677, 0.7677, 0.7677, 0.7678, 0.7676, 0.7679, 0.7676,\n",
            "        0.7677, 0.7679, 0.7677, 0.7677, 0.7676, 0.7678, 0.7677, 0.7677, 0.7678,\n",
            "        0.7678, 0.7675, 0.7679, 0.7677, 0.7679, 0.7677, 0.7677, 0.7676, 0.7676,\n",
            "        0.7674, 0.7674, 0.7674, 0.7678, 0.7678, 0.7673, 0.7676, 0.7678, 0.7677,\n",
            "        0.7677, 0.7677, 0.7677, 0.7678, 0.7677, 0.7677, 0.7678, 0.7677, 0.7678,\n",
            "        0.7679, 0.7676, 0.7677, 0.7679, 0.7677, 0.7677, 0.7678, 0.7676, 0.7677,\n",
            "        0.7674, 0.7677, 0.7678, 0.7677, 0.7678, 0.7677, 0.7673, 0.7677, 0.7677,\n",
            "        0.7678, 0.7679, 0.7678, 0.7678, 0.7676, 0.7675, 0.7673, 0.7675, 0.7675,\n",
            "        0.7673, 0.7677, 0.7679, 0.7678, 0.7677, 0.7678, 0.7676, 0.7676, 0.7678,\n",
            "        0.7676, 0.7676, 0.7675, 0.7677, 0.7676, 0.7674, 0.7677, 0.7677, 0.7677,\n",
            "        0.7678, 0.7677, 0.7677, 0.7677, 0.7676, 0.7676, 0.7678, 0.7679, 0.7677,\n",
            "        0.7676, 0.7676, 0.7677, 0.7676, 0.7673, 0.7677, 0.7674, 0.7677, 0.7675,\n",
            "        0.7677, 0.7677, 0.7676, 0.7675, 0.7674, 0.7677, 0.7676, 0.7677, 0.7677,\n",
            "        0.7676, 0.7677, 0.7675, 0.7678, 0.7678, 0.7676, 0.7676, 0.7677, 0.7675,\n",
            "        0.7677, 0.7677, 0.7678, 0.7678, 0.7678, 0.7677, 0.7678, 0.7678, 0.7677,\n",
            "        0.7678, 0.7677, 0.7676, 0.7677, 0.7677, 0.7677, 0.7676, 0.7678, 0.7677,\n",
            "        0.7676, 0.7676, 0.7676, 0.7678, 0.7679, 0.7676, 0.7677, 0.7677, 0.7678,\n",
            "        0.7678, 0.7677, 0.7678, 0.7676, 0.7677, 0.7677, 0.7678, 0.7679, 0.7677,\n",
            "        0.7678, 0.7676, 0.7678, 0.7678, 0.7677, 0.7676, 0.7677, 0.7677, 0.7678,\n",
            "        0.7677, 0.7678, 0.7676, 0.7677, 0.7677, 0.7678, 0.7676, 0.7677, 0.7677,\n",
            "        0.7677, 0.7677, 0.7678, 0.7674, 0.7677, 0.7676, 0.7677, 0.7675, 0.7676,\n",
            "        0.7675, 0.7677, 0.7675, 0.7677, 0.7675, 0.7678, 0.7677, 0.7677, 0.7674,\n",
            "        0.7678, 0.7678, 0.7676, 0.7676, 0.7677, 0.7677, 0.7676, 0.7677, 0.7676,\n",
            "        0.7678, 0.7676, 0.7678, 0.7678, 0.7676, 0.7677, 0.7676, 0.7678, 0.7677,\n",
            "        0.7676, 0.7676, 0.7678, 0.7674, 0.7673, 0.7676, 0.7677, 0.7678, 0.7677,\n",
            "        0.7678, 0.7673, 0.7677, 0.7675, 0.7677, 0.7676, 0.7677, 0.7678, 0.7678,\n",
            "        0.7677, 0.7677, 0.7677, 0.7677, 0.7678, 0.7677, 0.7677, 0.7677, 0.7677,\n",
            "        0.7677, 0.7677, 0.7677, 0.7677, 0.7677, 0.7672, 0.7678, 0.7677, 0.7676,\n",
            "        0.7677, 0.7678, 0.7678, 0.7678, 0.7677, 0.7677, 0.7678, 0.7678],\n",
            "       requires_grad=True)\n",
            "Parameter containing:\n",
            "tensor([ 0.0414,  0.0260, -0.0182, -0.0221,  0.0083,  0.0002, -0.0365,  0.0315,\n",
            "         0.0175, -0.0288,  0.0319,  0.0236,  0.0196, -0.0309, -0.0302,  0.0332,\n",
            "         0.0237, -0.0282,  0.0295,  0.0246,  0.0278, -0.0283, -0.0230,  0.0345,\n",
            "         0.0263, -0.0384,  0.0220,  0.0332,  0.0288,  0.0214, -0.0034, -0.0234,\n",
            "        -0.0275, -0.0300, -0.0342,  0.0320, -0.0296,  0.0361,  0.0344, -0.0292,\n",
            "         0.0135,  0.0375,  0.0260,  0.0341, -0.0150,  0.0314,  0.0302, -0.0121,\n",
            "        -0.0351,  0.0208,  0.0100,  0.0290, -0.0340, -0.0405, -0.0187,  0.0226,\n",
            "        -0.0315, -0.0296,  0.0268,  0.0006,  0.0324,  0.0134, -0.0023, -0.0278,\n",
            "         0.0242, -0.0293,  0.0219, -0.0275, -0.0173, -0.0300,  0.0298, -0.0200,\n",
            "        -0.0182,  0.0379, -0.0297, -0.0081, -0.0074,  0.0155,  0.0062, -0.0293,\n",
            "         0.0269,  0.0321,  0.0317, -0.0302,  0.0306, -0.0280,  0.0182,  0.0303,\n",
            "        -0.0114, -0.0038,  0.0255,  0.0219, -0.0321, -0.0306, -0.0008,  0.0023,\n",
            "        -0.0347, -0.0290,  0.0290,  0.0165, -0.0107, -0.0280,  0.0207, -0.0279,\n",
            "        -0.0256, -0.0053,  0.0053, -0.0357, -0.0359, -0.0327,  0.0235, -0.0322,\n",
            "        -0.0261,  0.0328,  0.0291, -0.0235,  0.0292, -0.0132, -0.0105, -0.0305,\n",
            "        -0.0073, -0.0356, -0.0290, -0.0325, -0.0090, -0.0251,  0.0172,  0.0299,\n",
            "         0.0325,  0.0270,  0.0267, -0.0292, -0.0119,  0.0328, -0.0266,  0.0291,\n",
            "        -0.0007,  0.0152, -0.0242,  0.0237, -0.0112,  0.0186, -0.0324, -0.0084,\n",
            "        -0.0256, -0.0223,  0.0213, -0.0367, -0.0203,  0.0216,  0.0331, -0.0081,\n",
            "         0.0283,  0.0146,  0.0274, -0.0147,  0.0267, -0.0285,  0.0113, -0.0195,\n",
            "        -0.0287, -0.0327,  0.0206,  0.0266, -0.0297, -0.0280, -0.0333, -0.0270,\n",
            "         0.0298, -0.0350, -0.0225,  0.0290,  0.0035,  0.0264, -0.0272, -0.0069,\n",
            "         0.0107,  0.0192, -0.0201,  0.0203, -0.0370,  0.0296, -0.0341,  0.0365,\n",
            "         0.0097, -0.0333,  0.0020, -0.0301,  0.0314, -0.0299,  0.0344,  0.0351,\n",
            "        -0.0245,  0.0296,  0.0275, -0.0176, -0.0234, -0.0240,  0.0375,  0.0334,\n",
            "        -0.0321,  0.0070, -0.0043, -0.0169, -0.0323,  0.0367,  0.0241, -0.0215,\n",
            "        -0.0295, -0.0394,  0.0019, -0.0212, -0.0326, -0.0165, -0.0299, -0.0107,\n",
            "        -0.0278, -0.0306,  0.0376,  0.0233,  0.0244,  0.0254,  0.0300, -0.0189,\n",
            "         0.0206,  0.0421, -0.0315,  0.0326,  0.0295,  0.0230,  0.0330, -0.0278,\n",
            "         0.0339,  0.0208, -0.0348, -0.0247, -0.0089, -0.0269,  0.0228, -0.0198,\n",
            "         0.0383, -0.0244,  0.0267, -0.0337,  0.0408, -0.0332, -0.0262,  0.0307,\n",
            "        -0.0342, -0.0321, -0.0232,  0.0136,  0.0086, -0.0232, -0.0321, -0.0322,\n",
            "         0.0308, -0.0287, -0.0128, -0.0284,  0.0087,  0.0354,  0.0327, -0.0088,\n",
            "         0.0282, -0.0331,  0.0270, -0.0007,  0.0314, -0.0142, -0.0253, -0.0260,\n",
            "        -0.0223,  0.0290, -0.0306, -0.0243, -0.0358, -0.0227, -0.0157, -0.0299,\n",
            "        -0.0276, -0.0318, -0.0351,  0.0295, -0.0338, -0.0270, -0.0144,  0.0315,\n",
            "         0.0313, -0.0277, -0.0140,  0.0334,  0.0124,  0.0198,  0.0368, -0.0165,\n",
            "         0.0257, -0.0338, -0.0323, -0.0098,  0.0335,  0.0395,  0.0011, -0.0316,\n",
            "         0.0264, -0.0065,  0.0281, -0.0257, -0.0317,  0.0216,  0.0223, -0.0144,\n",
            "        -0.0337,  0.0302, -0.0194, -0.0318,  0.0273, -0.0240,  0.0249,  0.0130,\n",
            "         0.0168, -0.0276,  0.0342,  0.0152, -0.0290, -0.0168, -0.0336,  0.0296,\n",
            "        -0.0368, -0.0266,  0.0157,  0.0019, -0.0270, -0.0055, -0.0302, -0.0275,\n",
            "         0.0315,  0.0139,  0.0165, -0.0235, -0.0295, -0.0140, -0.0347,  0.0334,\n",
            "        -0.0236, -0.0156,  0.0221,  0.0333,  0.0115,  0.0244,  0.0189, -0.0285,\n",
            "        -0.0155,  0.0315,  0.0044,  0.0317, -0.0297,  0.0238,  0.0313,  0.0349,\n",
            "        -0.0263, -0.0352,  0.0280, -0.0334,  0.0180,  0.0061,  0.0156, -0.0070,\n",
            "         0.0195,  0.0230,  0.0176, -0.0306, -0.0249, -0.0354, -0.0335,  0.0274,\n",
            "         0.0124,  0.0193, -0.0154,  0.0245,  0.0321,  0.0314,  0.0305,  0.0107,\n",
            "         0.0264,  0.0319, -0.0261,  0.0310, -0.0156,  0.0356,  0.0112,  0.0239,\n",
            "         0.0191,  0.0246, -0.0305, -0.0107,  0.0190, -0.0249,  0.0345,  0.0289,\n",
            "        -0.0335,  0.0278, -0.0027, -0.0186, -0.0300, -0.0193, -0.0012, -0.0234,\n",
            "        -0.0173, -0.0345, -0.0309,  0.0293,  0.0329, -0.0004,  0.0208,  0.0047,\n",
            "         0.0388,  0.0348, -0.0145,  0.0055, -0.0178,  0.0060, -0.0305, -0.0002,\n",
            "        -0.0189,  0.0266, -0.0120,  0.0367,  0.0339, -0.0142, -0.0381, -0.0137,\n",
            "        -0.0201, -0.0175,  0.0291,  0.0354,  0.0313, -0.0053, -0.0361,  0.0300,\n",
            "         0.0005,  0.0225,  0.0151, -0.0412, -0.0351,  0.0216,  0.0286, -0.0117,\n",
            "        -0.0326,  0.0229, -0.0260,  0.0348, -0.0170,  0.0330,  0.0182, -0.0171,\n",
            "        -0.0326, -0.0207,  0.0215,  0.0153,  0.0063, -0.0261, -0.0277,  0.0324,\n",
            "        -0.0349,  0.0003,  0.0242, -0.0017,  0.0160,  0.0004, -0.0249, -0.0288,\n",
            "         0.0269, -0.0102,  0.0127,  0.0318, -0.0186,  0.0258, -0.0316, -0.0251,\n",
            "        -0.0410, -0.0337, -0.0357,  0.0122, -0.0241, -0.0328,  0.0176,  0.0208,\n",
            "         0.0234,  0.0173, -0.0266, -0.0371,  0.0179, -0.0116, -0.0241, -0.0295,\n",
            "        -0.0051,  0.0204,  0.0211, -0.0333, -0.0334,  0.0123,  0.0269,  0.0330,\n",
            "         0.0273,  0.0173, -0.0334,  0.0337,  0.0022,  0.0096, -0.0281,  0.0208],\n",
            "       requires_grad=True)\n",
            "Parameter containing:\n",
            "tensor([[ 4.0146e-04,  3.2327e-04, -7.2729e-04,  ...,  8.2237e-04,\n",
            "         -2.7222e-04,  5.0779e-04],\n",
            "        [ 1.1301e-01,  6.0393e-02, -4.4546e-02,  ...,  2.6226e-02,\n",
            "         -7.8127e-02,  4.9529e-02],\n",
            "        [ 1.5857e-04,  2.1747e-04, -7.5322e-04,  ...,  8.3614e-04,\n",
            "         -5.0830e-04,  4.0601e-04],\n",
            "        ...,\n",
            "        [ 9.3467e-05,  2.8364e-04, -7.8180e-04,  ...,  8.2380e-04,\n",
            "         -6.5820e-04,  3.8410e-04],\n",
            "        [ 1.1608e-04, -8.5070e-05, -7.8171e-04,  ...,  7.4471e-04,\n",
            "         -6.5838e-04,  5.1966e-04],\n",
            "        [ 1.9991e-04,  1.8285e-04, -7.0537e-04,  ...,  7.3370e-04,\n",
            "         -6.7502e-04,  5.0107e-04]], requires_grad=True)\n",
            "Parameter containing:\n",
            "tensor([-0.0034,  0.1732, -0.0039, -0.0030, -0.0037, -0.0034, -0.0042, -0.0037,\n",
            "        -0.0040, -0.0034, -0.0034, -0.0034, -0.0041, -0.0040, -0.0041, -0.0033,\n",
            "        -0.0020, -0.0028, -0.0024, -0.0037, -0.0003, -0.0012, -0.0027, -0.0013,\n",
            "        -0.0028, -0.0018, -0.0034, -0.0039, -0.0034, -0.0041, -0.0034, -0.0035,\n",
            "        -0.0038, -0.0039, -0.0031, -0.0032, -0.0034, -0.0029, -0.0039, -0.0037,\n",
            "        -0.0035, -0.0039, -0.0035, -0.0034, -0.0038, -0.0041, -0.0043, -0.0003,\n",
            "        -0.0021, -0.0036, -0.0028,  0.0030, -0.0021, -0.0016, -0.0028, -0.0019,\n",
            "         0.0024,  0.0231, -0.0027, -0.0040, -0.0041, -0.0019,  0.0022, -0.0036,\n",
            "        -0.0009, -0.0033, -0.0040, -0.0014, -0.0041, -0.0034, -0.0038, -0.0040,\n",
            "        -0.0038, -0.0035, -0.0033, -0.0040, -0.0034, -0.0034, -0.0038, -0.0034,\n",
            "        -0.0037, -0.0038, -0.0039, -0.0034, -0.0035, -0.0034, -0.0034, -0.0036,\n",
            "        -0.0041, -0.0034, -0.0041, -0.0037, -0.0040, -0.0034, -0.0040, -0.0041,\n",
            "        -0.0034, -0.0041, -0.0034], requires_grad=True)\n"
          ],
          "name": "stdout"
        }
      ]
    },
    {
      "cell_type": "code",
      "metadata": {
        "id": "zOOylkxFzNqu"
      },
      "source": [
        "import torch.optim as optim\n",
        "import torch.nn as nn\n",
        "\n",
        "optim_params= dict(\n",
        "    lr=0.001,\n",
        "    betas=(0.9, 0.999),\n",
        "    eps=1e-05,\n",
        "    weight_decay=0.01,\n",
        "    amsgrad=False,\n",
        ")\n",
        "optimizer = torch.optim.Adam(model.parameters(), **optim_params)\n",
        "criterion = nn.CrossEntropyLoss().to(device)"
      ],
      "execution_count": null,
      "outputs": []
    },
    {
      "cell_type": "code",
      "metadata": {
        "colab": {
          "base_uri": "https://localhost:8080/"
        },
        "id": "1pC4DE7rxiH7",
        "outputId": "89ab8985-5a95-4951-cc97-380ca9501546"
      },
      "source": [
        "model.to(device)\n",
        "softmax = nn.Softmax()\n",
        "img_id_list = []\n",
        "for epoch in range(1):\n",
        "  counter = 0\n",
        "  running_loss = 0\n",
        "  mini_batch_counter = 0\n",
        "  for batch in tqdm(train_dl):\n",
        "    \n",
        "    # extract images and labels\n",
        "    image_batch, label_batch, annot_batch = [x[0] for x in batch], [x[1] for x in batch], [x[2] for x in batch]\n",
        "    img_ids_to_append = [int(item[0]) for item in label_batch]\n",
        "    img_id_list.append(img_ids_to_append)\n",
        "    targets = torch.LongTensor([int(item) for item in label_batch]).to(device)\n",
        "    image_batch = torch.stack(image_batch).to(device)\n",
        "    \n",
        "\n",
        "    # zero the parameter gradients\n",
        "    optimizer.zero_grad()\n",
        "\n",
        "    # forward + backward + optimize\n",
        "    outputs = model(image_batch)\n",
        "    \n",
        "    outputs = softmax(outputs).to(device)\n",
        "    loss = criterion(outputs, targets)\n",
        "    print(loss)\n",
        "    loss.backward()\n",
        "    optimizer.step()\n",
        "\n",
        "    # print stats\n",
        "    running_loss += loss.item()\n",
        "    if counter % 10 == 9:\n",
        "      print('[Epoch: %d, batch: %5d] average loss: %.3f' %\n",
        "                  (epoch + 1, counter + 1, running_loss /  (counter + 1)))\n",
        "      running_loss = 0.0\n",
        "    counter += 1\n",
        "    torch.save(model.state_dict(), \"/content/drive/MyDrive/model/mini-resnet.pth\")\n",
        "\n",
        "\n"
      ],
      "execution_count": null,
      "outputs": [
        {
          "output_type": "stream",
          "text": [
            "\n",
            "  0%|          | 0/169 [00:00<?, ?it/s]\u001b[A/usr/local/lib/python3.7/dist-packages/ipykernel_launcher.py:24: UserWarning: Implicit dimension choice for softmax has been deprecated. Change the call to include dim=X as an argument.\n"
          ],
          "name": "stderr"
        },
        {
          "output_type": "stream",
          "text": [
            "tensor(4.3199, grad_fn=<NllLossBackward>)\n"
          ],
          "name": "stdout"
        },
        {
          "output_type": "stream",
          "text": [
            "\n",
            "  1%|          | 1/169 [00:10<29:29, 10.53s/it]\u001b[A"
          ],
          "name": "stderr"
        },
        {
          "output_type": "stream",
          "text": [
            "tensor(4.1622, grad_fn=<NllLossBackward>)\n"
          ],
          "name": "stdout"
        },
        {
          "output_type": "stream",
          "text": [
            "\n",
            "  1%|          | 2/169 [00:17<26:05,  9.37s/it]\u001b[A"
          ],
          "name": "stderr"
        },
        {
          "output_type": "stream",
          "text": [
            "tensor(4.3670, grad_fn=<NllLossBackward>)\n"
          ],
          "name": "stdout"
        },
        {
          "output_type": "stream",
          "text": [
            "\n",
            "  2%|▏         | 3/169 [00:23<23:19,  8.43s/it]\u001b[A"
          ],
          "name": "stderr"
        },
        {
          "output_type": "stream",
          "text": [
            "tensor(4.3274, grad_fn=<NllLossBackward>)\n"
          ],
          "name": "stdout"
        },
        {
          "output_type": "stream",
          "text": [
            "\n",
            "  2%|▏         | 4/169 [00:29<21:29,  7.82s/it]\u001b[A"
          ],
          "name": "stderr"
        },
        {
          "output_type": "stream",
          "text": [
            "tensor(4.2336, grad_fn=<NllLossBackward>)\n"
          ],
          "name": "stdout"
        },
        {
          "output_type": "stream",
          "text": [
            "\n",
            "  3%|▎         | 5/169 [00:36<20:11,  7.39s/it]\u001b[A"
          ],
          "name": "stderr"
        },
        {
          "output_type": "stream",
          "text": [
            "tensor(4.1897, grad_fn=<NllLossBackward>)\n"
          ],
          "name": "stdout"
        },
        {
          "output_type": "stream",
          "text": [
            "\n",
            "  4%|▎         | 6/169 [00:42<19:18,  7.11s/it]\u001b[A"
          ],
          "name": "stderr"
        },
        {
          "output_type": "stream",
          "text": [
            "tensor(4.3144, grad_fn=<NllLossBackward>)\n"
          ],
          "name": "stdout"
        },
        {
          "output_type": "stream",
          "text": [
            "\n",
            "  4%|▍         | 7/169 [00:48<18:24,  6.82s/it]\u001b[A"
          ],
          "name": "stderr"
        },
        {
          "output_type": "stream",
          "text": [
            "tensor(4.2355, grad_fn=<NllLossBackward>)\n"
          ],
          "name": "stdout"
        },
        {
          "output_type": "stream",
          "text": [
            "\n",
            "  5%|▍         | 8/169 [00:55<17:50,  6.65s/it]\u001b[A"
          ],
          "name": "stderr"
        },
        {
          "output_type": "stream",
          "text": [
            "tensor(4.2859, grad_fn=<NllLossBackward>)\n"
          ],
          "name": "stdout"
        },
        {
          "output_type": "stream",
          "text": [
            "\n",
            "  5%|▌         | 9/169 [01:01<17:30,  6.56s/it]\u001b[A"
          ],
          "name": "stderr"
        },
        {
          "output_type": "stream",
          "text": [
            "tensor(4.2621, grad_fn=<NllLossBackward>)\n"
          ],
          "name": "stdout"
        },
        {
          "output_type": "stream",
          "text": [
            "\n",
            "  6%|▌         | 10/169 [01:07<17:18,  6.53s/it]\u001b[A"
          ],
          "name": "stderr"
        },
        {
          "output_type": "stream",
          "text": [
            "[Epoch: 1, batch:    10] average loss: 4.270\n",
            "tensor(4.3338, grad_fn=<NllLossBackward>)\n"
          ],
          "name": "stdout"
        },
        {
          "output_type": "stream",
          "text": [
            "\n",
            "  7%|▋         | 11/169 [01:14<16:53,  6.42s/it]\u001b[A"
          ],
          "name": "stderr"
        },
        {
          "output_type": "stream",
          "text": [
            "tensor(4.2809, grad_fn=<NllLossBackward>)\n"
          ],
          "name": "stdout"
        },
        {
          "output_type": "stream",
          "text": [
            "\n",
            "  7%|▋         | 12/169 [01:20<16:39,  6.36s/it]\u001b[A"
          ],
          "name": "stderr"
        },
        {
          "output_type": "stream",
          "text": [
            "tensor(4.3200, grad_fn=<NllLossBackward>)\n"
          ],
          "name": "stdout"
        },
        {
          "output_type": "stream",
          "text": [
            "\n",
            "  8%|▊         | 13/169 [01:26<16:28,  6.34s/it]\u001b[A"
          ],
          "name": "stderr"
        },
        {
          "output_type": "stream",
          "text": [
            "tensor(4.3395, grad_fn=<NllLossBackward>)\n"
          ],
          "name": "stdout"
        },
        {
          "output_type": "stream",
          "text": [
            "\n",
            "  8%|▊         | 14/169 [01:32<16:25,  6.36s/it]\u001b[A"
          ],
          "name": "stderr"
        },
        {
          "output_type": "stream",
          "text": [
            "tensor(4.1843, grad_fn=<NllLossBackward>)\n"
          ],
          "name": "stdout"
        },
        {
          "output_type": "stream",
          "text": [
            "\n",
            "  9%|▉         | 15/169 [01:39<16:06,  6.28s/it]\u001b[A"
          ],
          "name": "stderr"
        },
        {
          "output_type": "stream",
          "text": [
            "tensor(4.4243, grad_fn=<NllLossBackward>)\n"
          ],
          "name": "stdout"
        },
        {
          "output_type": "stream",
          "text": [
            "\n",
            "  9%|▉         | 16/169 [01:45<15:59,  6.27s/it]\u001b[A"
          ],
          "name": "stderr"
        },
        {
          "output_type": "stream",
          "text": [
            "tensor(4.3528, grad_fn=<NllLossBackward>)\n"
          ],
          "name": "stdout"
        },
        {
          "output_type": "stream",
          "text": [
            "\n",
            " 10%|█         | 17/169 [01:51<15:51,  6.26s/it]\u001b[A"
          ],
          "name": "stderr"
        },
        {
          "output_type": "stream",
          "text": [
            "tensor(4.3596, grad_fn=<NllLossBackward>)\n"
          ],
          "name": "stdout"
        },
        {
          "output_type": "stream",
          "text": [
            "\n",
            " 11%|█         | 18/169 [01:57<15:47,  6.28s/it]\u001b[A"
          ],
          "name": "stderr"
        },
        {
          "output_type": "stream",
          "text": [
            "tensor(4.2348, grad_fn=<NllLossBackward>)\n"
          ],
          "name": "stdout"
        },
        {
          "output_type": "stream",
          "text": [
            "\n",
            " 11%|█         | 19/169 [02:03<15:31,  6.21s/it]\u001b[A"
          ],
          "name": "stderr"
        },
        {
          "output_type": "stream",
          "text": [
            "tensor(4.2819, grad_fn=<NllLossBackward>)\n"
          ],
          "name": "stdout"
        },
        {
          "output_type": "stream",
          "text": [
            "\n",
            " 12%|█▏        | 20/169 [02:10<15:26,  6.22s/it]\u001b[A"
          ],
          "name": "stderr"
        },
        {
          "output_type": "stream",
          "text": [
            "[Epoch: 1, batch:    20] average loss: 2.156\n",
            "tensor(4.2021, grad_fn=<NllLossBackward>)\n"
          ],
          "name": "stdout"
        },
        {
          "output_type": "stream",
          "text": [
            "\n",
            " 12%|█▏        | 21/169 [02:16<15:20,  6.22s/it]\u001b[A"
          ],
          "name": "stderr"
        },
        {
          "output_type": "stream",
          "text": [
            "tensor(4.3965, grad_fn=<NllLossBackward>)\n"
          ],
          "name": "stdout"
        },
        {
          "output_type": "stream",
          "text": [
            "\n",
            " 13%|█▎        | 22/169 [02:22<15:28,  6.32s/it]\u001b[A"
          ],
          "name": "stderr"
        },
        {
          "output_type": "stream",
          "text": [
            "tensor(4.3476, grad_fn=<NllLossBackward>)\n"
          ],
          "name": "stdout"
        },
        {
          "output_type": "stream",
          "text": [
            "\n",
            " 14%|█▎        | 23/169 [02:29<15:13,  6.26s/it]\u001b[A"
          ],
          "name": "stderr"
        },
        {
          "output_type": "stream",
          "text": [
            "tensor(4.2705, grad_fn=<NllLossBackward>)\n"
          ],
          "name": "stdout"
        },
        {
          "output_type": "stream",
          "text": [
            "\n",
            " 14%|█▍        | 24/169 [02:35<15:10,  6.28s/it]\u001b[A"
          ],
          "name": "stderr"
        },
        {
          "output_type": "stream",
          "text": [
            "tensor(4.2579, grad_fn=<NllLossBackward>)\n"
          ],
          "name": "stdout"
        },
        {
          "output_type": "stream",
          "text": [
            "\n",
            " 15%|█▍        | 25/169 [02:41<15:04,  6.28s/it]\u001b[A"
          ],
          "name": "stderr"
        },
        {
          "output_type": "stream",
          "text": [
            "tensor(4.2625, grad_fn=<NllLossBackward>)\n"
          ],
          "name": "stdout"
        },
        {
          "output_type": "stream",
          "text": [
            "\n",
            " 15%|█▌        | 26/169 [02:48<15:08,  6.35s/it]\u001b[A"
          ],
          "name": "stderr"
        },
        {
          "output_type": "stream",
          "text": [
            "tensor(4.3437, grad_fn=<NllLossBackward>)\n"
          ],
          "name": "stdout"
        },
        {
          "output_type": "stream",
          "text": [
            "\n",
            " 16%|█▌        | 27/169 [02:54<14:53,  6.29s/it]\u001b[A"
          ],
          "name": "stderr"
        },
        {
          "output_type": "stream",
          "text": [
            "tensor(4.2215, grad_fn=<NllLossBackward>)\n"
          ],
          "name": "stdout"
        },
        {
          "output_type": "stream",
          "text": [
            "\n",
            " 17%|█▋        | 28/169 [03:00<14:49,  6.31s/it]\u001b[A"
          ],
          "name": "stderr"
        },
        {
          "output_type": "stream",
          "text": [
            "tensor(4.2764, grad_fn=<NllLossBackward>)\n"
          ],
          "name": "stdout"
        },
        {
          "output_type": "stream",
          "text": [
            "\n",
            " 17%|█▋        | 29/169 [03:06<14:41,  6.30s/it]\u001b[A"
          ],
          "name": "stderr"
        },
        {
          "output_type": "stream",
          "text": [
            "tensor(4.1423, grad_fn=<NllLossBackward>)\n"
          ],
          "name": "stdout"
        },
        {
          "output_type": "stream",
          "text": [
            "\n",
            " 18%|█▊        | 30/169 [03:13<14:40,  6.33s/it]\u001b[A"
          ],
          "name": "stderr"
        },
        {
          "output_type": "stream",
          "text": [
            "[Epoch: 1, batch:    30] average loss: 1.424\n",
            "tensor(4.2359, grad_fn=<NllLossBackward>)\n"
          ],
          "name": "stdout"
        },
        {
          "output_type": "stream",
          "text": [
            "\n",
            " 18%|█▊        | 31/169 [03:19<14:24,  6.27s/it]\u001b[A"
          ],
          "name": "stderr"
        },
        {
          "output_type": "stream",
          "text": [
            "tensor(4.1879, grad_fn=<NllLossBackward>)\n"
          ],
          "name": "stdout"
        },
        {
          "output_type": "stream",
          "text": [
            "\n",
            " 19%|█▉        | 32/169 [03:25<14:17,  6.26s/it]\u001b[A"
          ],
          "name": "stderr"
        },
        {
          "output_type": "stream",
          "text": [
            "tensor(4.2369, grad_fn=<NllLossBackward>)\n"
          ],
          "name": "stdout"
        },
        {
          "output_type": "stream",
          "text": [
            "\n",
            " 20%|█▉        | 33/169 [03:31<14:12,  6.27s/it]\u001b[A"
          ],
          "name": "stderr"
        },
        {
          "output_type": "stream",
          "text": [
            "tensor(4.2027, grad_fn=<NllLossBackward>)\n"
          ],
          "name": "stdout"
        },
        {
          "output_type": "stream",
          "text": [
            "\n",
            " 20%|██        | 34/169 [03:38<14:16,  6.34s/it]\u001b[A"
          ],
          "name": "stderr"
        },
        {
          "output_type": "stream",
          "text": [
            "tensor(4.2226, grad_fn=<NllLossBackward>)\n"
          ],
          "name": "stdout"
        },
        {
          "output_type": "stream",
          "text": [
            "\n",
            " 21%|██        | 35/169 [03:44<14:03,  6.29s/it]\u001b[A"
          ],
          "name": "stderr"
        },
        {
          "output_type": "stream",
          "text": [
            "tensor(4.1449, grad_fn=<NllLossBackward>)\n"
          ],
          "name": "stdout"
        },
        {
          "output_type": "stream",
          "text": [
            "\n",
            " 21%|██▏       | 36/169 [03:50<13:54,  6.27s/it]\u001b[A"
          ],
          "name": "stderr"
        },
        {
          "output_type": "stream",
          "text": [
            "tensor(4.2176, grad_fn=<NllLossBackward>)\n"
          ],
          "name": "stdout"
        },
        {
          "output_type": "stream",
          "text": [
            "\n",
            " 22%|██▏       | 37/169 [03:57<13:47,  6.27s/it]\u001b[A"
          ],
          "name": "stderr"
        },
        {
          "output_type": "stream",
          "text": [
            "tensor(4.1572, grad_fn=<NllLossBackward>)\n"
          ],
          "name": "stdout"
        },
        {
          "output_type": "stream",
          "text": [
            "\n",
            " 22%|██▏       | 38/169 [04:03<13:48,  6.33s/it]\u001b[A"
          ],
          "name": "stderr"
        },
        {
          "output_type": "stream",
          "text": [
            "tensor(4.3835, grad_fn=<NllLossBackward>)\n"
          ],
          "name": "stdout"
        },
        {
          "output_type": "stream",
          "text": [
            "\n",
            " 23%|██▎       | 39/169 [04:09<13:34,  6.27s/it]\u001b[A"
          ],
          "name": "stderr"
        },
        {
          "output_type": "stream",
          "text": [
            "tensor(4.2067, grad_fn=<NllLossBackward>)\n"
          ],
          "name": "stdout"
        },
        {
          "output_type": "stream",
          "text": [
            "\n",
            " 24%|██▎       | 40/169 [04:16<13:28,  6.27s/it]\u001b[A"
          ],
          "name": "stderr"
        },
        {
          "output_type": "stream",
          "text": [
            "[Epoch: 1, batch:    40] average loss: 1.055\n",
            "tensor(4.2235, grad_fn=<NllLossBackward>)\n"
          ],
          "name": "stdout"
        },
        {
          "output_type": "stream",
          "text": [
            "\n",
            " 24%|██▍       | 41/169 [04:22<13:21,  6.26s/it]\u001b[A"
          ],
          "name": "stderr"
        },
        {
          "output_type": "stream",
          "text": [
            "tensor(4.2686, grad_fn=<NllLossBackward>)\n"
          ],
          "name": "stdout"
        },
        {
          "output_type": "stream",
          "text": [
            "\n",
            " 25%|██▍       | 42/169 [04:28<13:24,  6.33s/it]\u001b[A"
          ],
          "name": "stderr"
        },
        {
          "output_type": "stream",
          "text": [
            "tensor(4.2112, grad_fn=<NllLossBackward>)\n"
          ],
          "name": "stdout"
        },
        {
          "output_type": "stream",
          "text": [
            "\n",
            " 25%|██▌       | 43/169 [04:35<13:34,  6.47s/it]\u001b[A"
          ],
          "name": "stderr"
        },
        {
          "output_type": "stream",
          "text": [
            "tensor(4.1579, grad_fn=<NllLossBackward>)\n"
          ],
          "name": "stdout"
        },
        {
          "output_type": "stream",
          "text": [
            "\n",
            " 26%|██▌       | 44/169 [04:44<15:18,  7.35s/it]\u001b[A"
          ],
          "name": "stderr"
        },
        {
          "output_type": "stream",
          "text": [
            "tensor(4.3049, grad_fn=<NllLossBackward>)\n"
          ],
          "name": "stdout"
        },
        {
          "output_type": "stream",
          "text": [
            "\n",
            " 27%|██▋       | 45/169 [04:54<16:31,  7.99s/it]\u001b[A"
          ],
          "name": "stderr"
        },
        {
          "output_type": "stream",
          "text": [
            "tensor(4.2115, grad_fn=<NllLossBackward>)\n"
          ],
          "name": "stdout"
        },
        {
          "output_type": "stream",
          "text": [
            "\n",
            " 27%|██▋       | 46/169 [05:02<16:11,  7.90s/it]\u001b[A"
          ],
          "name": "stderr"
        },
        {
          "output_type": "stream",
          "text": [
            "tensor(4.2103, grad_fn=<NllLossBackward>)\n"
          ],
          "name": "stdout"
        },
        {
          "output_type": "stream",
          "text": [
            "\n",
            " 28%|██▊       | 47/169 [05:08<14:59,  7.37s/it]\u001b[A"
          ],
          "name": "stderr"
        },
        {
          "output_type": "stream",
          "text": [
            "tensor(4.2498, grad_fn=<NllLossBackward>)\n"
          ],
          "name": "stdout"
        },
        {
          "output_type": "stream",
          "text": [
            "\n",
            " 28%|██▊       | 48/169 [05:14<14:13,  7.06s/it]\u001b[A"
          ],
          "name": "stderr"
        },
        {
          "output_type": "stream",
          "text": [
            "tensor(4.2570, grad_fn=<NllLossBackward>)\n"
          ],
          "name": "stdout"
        },
        {
          "output_type": "stream",
          "text": [
            "\n",
            " 29%|██▉       | 49/169 [05:20<13:38,  6.82s/it]\u001b[A"
          ],
          "name": "stderr"
        },
        {
          "output_type": "stream",
          "text": [
            "tensor(4.2334, grad_fn=<NllLossBackward>)\n"
          ],
          "name": "stdout"
        },
        {
          "output_type": "stream",
          "text": [
            "\n",
            " 30%|██▉       | 50/169 [05:27<13:22,  6.75s/it]\u001b[A"
          ],
          "name": "stderr"
        },
        {
          "output_type": "stream",
          "text": [
            "[Epoch: 1, batch:    50] average loss: 0.847\n",
            "tensor(4.2417, grad_fn=<NllLossBackward>)\n"
          ],
          "name": "stdout"
        },
        {
          "output_type": "stream",
          "text": [
            "\n",
            " 30%|███       | 51/169 [05:33<12:53,  6.56s/it]\u001b[A"
          ],
          "name": "stderr"
        },
        {
          "output_type": "stream",
          "text": [
            "tensor(4.3372, grad_fn=<NllLossBackward>)\n"
          ],
          "name": "stdout"
        },
        {
          "output_type": "stream",
          "text": [
            "\n",
            " 31%|███       | 52/169 [05:39<12:37,  6.47s/it]\u001b[A"
          ],
          "name": "stderr"
        },
        {
          "output_type": "stream",
          "text": [
            "tensor(4.1324, grad_fn=<NllLossBackward>)\n"
          ],
          "name": "stdout"
        },
        {
          "output_type": "stream",
          "text": [
            "\n",
            " 31%|███▏      | 53/169 [05:46<12:25,  6.42s/it]\u001b[A"
          ],
          "name": "stderr"
        },
        {
          "output_type": "stream",
          "text": [
            "tensor(4.1405, grad_fn=<NllLossBackward>)\n"
          ],
          "name": "stdout"
        },
        {
          "output_type": "stream",
          "text": [
            "\n",
            " 32%|███▏      | 54/169 [05:52<12:19,  6.43s/it]\u001b[A"
          ],
          "name": "stderr"
        },
        {
          "output_type": "stream",
          "text": [
            "tensor(4.2687, grad_fn=<NllLossBackward>)\n"
          ],
          "name": "stdout"
        },
        {
          "output_type": "stream",
          "text": [
            "\n",
            " 33%|███▎      | 55/169 [05:58<12:01,  6.33s/it]\u001b[A"
          ],
          "name": "stderr"
        },
        {
          "output_type": "stream",
          "text": [
            "tensor(4.2452, grad_fn=<NllLossBackward>)\n"
          ],
          "name": "stdout"
        },
        {
          "output_type": "stream",
          "text": [
            "\n",
            " 33%|███▎      | 56/169 [06:04<11:51,  6.29s/it]\u001b[A"
          ],
          "name": "stderr"
        },
        {
          "output_type": "stream",
          "text": [
            "tensor(4.3021, grad_fn=<NllLossBackward>)\n"
          ],
          "name": "stdout"
        },
        {
          "output_type": "stream",
          "text": [
            "\n",
            " 34%|███▎      | 57/169 [06:11<11:46,  6.31s/it]\u001b[A"
          ],
          "name": "stderr"
        },
        {
          "output_type": "stream",
          "text": [
            "tensor(4.2010, grad_fn=<NllLossBackward>)\n"
          ],
          "name": "stdout"
        },
        {
          "output_type": "stream",
          "text": [
            "\n",
            " 34%|███▍      | 58/169 [06:17<11:48,  6.38s/it]\u001b[A"
          ],
          "name": "stderr"
        },
        {
          "output_type": "stream",
          "text": [
            "tensor(4.1774, grad_fn=<NllLossBackward>)\n"
          ],
          "name": "stdout"
        },
        {
          "output_type": "stream",
          "text": [
            "\n",
            " 35%|███▍      | 59/169 [06:23<11:32,  6.30s/it]\u001b[A"
          ],
          "name": "stderr"
        },
        {
          "output_type": "stream",
          "text": [
            "tensor(4.3140, grad_fn=<NllLossBackward>)\n"
          ],
          "name": "stdout"
        },
        {
          "output_type": "stream",
          "text": [
            "\n",
            " 36%|███▌      | 60/169 [06:30<11:26,  6.30s/it]\u001b[A"
          ],
          "name": "stderr"
        },
        {
          "output_type": "stream",
          "text": [
            "[Epoch: 1, batch:    60] average loss: 0.706\n",
            "tensor(4.2211, grad_fn=<NllLossBackward>)\n"
          ],
          "name": "stdout"
        },
        {
          "output_type": "stream",
          "text": [
            "\n",
            " 36%|███▌      | 61/169 [06:36<11:19,  6.29s/it]\u001b[A"
          ],
          "name": "stderr"
        },
        {
          "output_type": "stream",
          "text": [
            "tensor(4.3040, grad_fn=<NllLossBackward>)\n"
          ],
          "name": "stdout"
        },
        {
          "output_type": "stream",
          "text": [
            "\n",
            " 37%|███▋      | 62/169 [06:42<11:20,  6.36s/it]\u001b[A"
          ],
          "name": "stderr"
        },
        {
          "output_type": "stream",
          "text": [
            "tensor(4.2091, grad_fn=<NllLossBackward>)\n"
          ],
          "name": "stdout"
        },
        {
          "output_type": "stream",
          "text": [
            "\n",
            " 37%|███▋      | 63/169 [06:49<11:05,  6.28s/it]\u001b[A"
          ],
          "name": "stderr"
        },
        {
          "output_type": "stream",
          "text": [
            "tensor(4.2650, grad_fn=<NllLossBackward>)\n"
          ],
          "name": "stdout"
        },
        {
          "output_type": "stream",
          "text": [
            "\n",
            " 38%|███▊      | 64/169 [06:55<10:56,  6.26s/it]\u001b[A"
          ],
          "name": "stderr"
        },
        {
          "output_type": "stream",
          "text": [
            "tensor(4.2280, grad_fn=<NllLossBackward>)\n"
          ],
          "name": "stdout"
        },
        {
          "output_type": "stream",
          "text": [
            "\n",
            " 38%|███▊      | 65/169 [07:01<10:53,  6.29s/it]\u001b[A"
          ],
          "name": "stderr"
        },
        {
          "output_type": "stream",
          "text": [
            "tensor(4.1917, grad_fn=<NllLossBackward>)\n"
          ],
          "name": "stdout"
        },
        {
          "output_type": "stream",
          "text": [
            "\n",
            " 39%|███▉      | 66/169 [07:08<10:53,  6.34s/it]\u001b[A"
          ],
          "name": "stderr"
        },
        {
          "output_type": "stream",
          "text": [
            "tensor(4.2379, grad_fn=<NllLossBackward>)\n"
          ],
          "name": "stdout"
        },
        {
          "output_type": "stream",
          "text": [
            "\n",
            " 40%|███▉      | 67/169 [07:14<10:40,  6.28s/it]\u001b[A"
          ],
          "name": "stderr"
        },
        {
          "output_type": "stream",
          "text": [
            "tensor(4.2623, grad_fn=<NllLossBackward>)\n"
          ],
          "name": "stdout"
        },
        {
          "output_type": "stream",
          "text": [
            "\n",
            " 40%|████      | 68/169 [07:20<10:33,  6.28s/it]\u001b[A"
          ],
          "name": "stderr"
        },
        {
          "output_type": "stream",
          "text": [
            "tensor(4.2056, grad_fn=<NllLossBackward>)\n"
          ],
          "name": "stdout"
        },
        {
          "output_type": "stream",
          "text": [
            "\n",
            " 41%|████      | 69/169 [07:26<10:26,  6.27s/it]\u001b[A"
          ],
          "name": "stderr"
        },
        {
          "output_type": "stream",
          "text": [
            "tensor(4.3074, grad_fn=<NllLossBackward>)\n"
          ],
          "name": "stdout"
        },
        {
          "output_type": "stream",
          "text": [
            "\n",
            " 41%|████▏     | 70/169 [07:33<10:26,  6.33s/it]\u001b[A"
          ],
          "name": "stderr"
        },
        {
          "output_type": "stream",
          "text": [
            "[Epoch: 1, batch:    70] average loss: 0.606\n",
            "tensor(4.2366, grad_fn=<NllLossBackward>)\n"
          ],
          "name": "stdout"
        },
        {
          "output_type": "stream",
          "text": [
            "\n",
            " 42%|████▏     | 71/169 [07:39<10:15,  6.28s/it]\u001b[A"
          ],
          "name": "stderr"
        },
        {
          "output_type": "stream",
          "text": [
            "tensor(4.1220, grad_fn=<NllLossBackward>)\n"
          ],
          "name": "stdout"
        },
        {
          "output_type": "stream",
          "text": [
            "\n",
            " 43%|████▎     | 72/169 [07:45<10:07,  6.27s/it]\u001b[A"
          ],
          "name": "stderr"
        },
        {
          "output_type": "stream",
          "text": [
            "tensor(4.2245, grad_fn=<NllLossBackward>)\n"
          ],
          "name": "stdout"
        },
        {
          "output_type": "stream",
          "text": [
            "\n",
            " 43%|████▎     | 73/169 [07:51<10:02,  6.27s/it]\u001b[A"
          ],
          "name": "stderr"
        },
        {
          "output_type": "stream",
          "text": [
            "tensor(4.1049, grad_fn=<NllLossBackward>)\n"
          ],
          "name": "stdout"
        },
        {
          "output_type": "stream",
          "text": [
            "\n",
            " 44%|████▍     | 74/169 [07:58<10:00,  6.32s/it]\u001b[A"
          ],
          "name": "stderr"
        },
        {
          "output_type": "stream",
          "text": [
            "tensor(4.2047, grad_fn=<NllLossBackward>)\n"
          ],
          "name": "stdout"
        },
        {
          "output_type": "stream",
          "text": [
            "\n",
            " 44%|████▍     | 75/169 [08:04<09:49,  6.27s/it]\u001b[A"
          ],
          "name": "stderr"
        },
        {
          "output_type": "stream",
          "text": [
            "tensor(4.3138, grad_fn=<NllLossBackward>)\n"
          ],
          "name": "stdout"
        },
        {
          "output_type": "stream",
          "text": [
            "\n",
            " 45%|████▍     | 76/169 [08:10<09:43,  6.27s/it]\u001b[A"
          ],
          "name": "stderr"
        },
        {
          "output_type": "stream",
          "text": [
            "tensor(4.1587, grad_fn=<NllLossBackward>)\n"
          ],
          "name": "stdout"
        },
        {
          "output_type": "stream",
          "text": [
            "\n",
            " 46%|████▌     | 77/169 [08:17<09:36,  6.26s/it]\u001b[A"
          ],
          "name": "stderr"
        },
        {
          "output_type": "stream",
          "text": [
            "tensor(4.2333, grad_fn=<NllLossBackward>)\n"
          ],
          "name": "stdout"
        },
        {
          "output_type": "stream",
          "text": [
            "\n",
            " 46%|████▌     | 78/169 [08:23<09:35,  6.32s/it]\u001b[A"
          ],
          "name": "stderr"
        },
        {
          "output_type": "stream",
          "text": [
            "tensor(4.1470, grad_fn=<NllLossBackward>)\n"
          ],
          "name": "stdout"
        },
        {
          "output_type": "stream",
          "text": [
            "\n",
            " 47%|████▋     | 79/169 [08:29<09:24,  6.28s/it]\u001b[A"
          ],
          "name": "stderr"
        },
        {
          "output_type": "stream",
          "text": [
            "tensor(4.3134, grad_fn=<NllLossBackward>)\n"
          ],
          "name": "stdout"
        },
        {
          "output_type": "stream",
          "text": [
            "\n",
            " 47%|████▋     | 80/169 [08:36<09:20,  6.30s/it]\u001b[A"
          ],
          "name": "stderr"
        },
        {
          "output_type": "stream",
          "text": [
            "[Epoch: 1, batch:    80] average loss: 0.526\n",
            "tensor(4.2665, grad_fn=<NllLossBackward>)\n"
          ],
          "name": "stdout"
        },
        {
          "output_type": "stream",
          "text": [
            "\n",
            " 48%|████▊     | 81/169 [08:42<09:14,  6.30s/it]\u001b[A"
          ],
          "name": "stderr"
        },
        {
          "output_type": "stream",
          "text": [
            "tensor(4.1617, grad_fn=<NllLossBackward>)\n"
          ],
          "name": "stdout"
        },
        {
          "output_type": "stream",
          "text": [
            "\n",
            " 49%|████▊     | 82/169 [08:48<09:13,  6.36s/it]\u001b[A"
          ],
          "name": "stderr"
        },
        {
          "output_type": "stream",
          "text": [
            "tensor(4.2434, grad_fn=<NllLossBackward>)\n"
          ],
          "name": "stdout"
        },
        {
          "output_type": "stream",
          "text": [
            "\n",
            " 49%|████▉     | 83/169 [08:55<09:03,  6.32s/it]\u001b[A"
          ],
          "name": "stderr"
        },
        {
          "output_type": "stream",
          "text": [
            "tensor(4.2516, grad_fn=<NllLossBackward>)\n"
          ],
          "name": "stdout"
        },
        {
          "output_type": "stream",
          "text": [
            "\n",
            " 50%|████▉     | 84/169 [09:01<08:57,  6.32s/it]\u001b[A"
          ],
          "name": "stderr"
        },
        {
          "output_type": "stream",
          "text": [
            "tensor(4.1809, grad_fn=<NllLossBackward>)\n"
          ],
          "name": "stdout"
        },
        {
          "output_type": "stream",
          "text": [
            "\n",
            " 50%|█████     | 85/169 [09:07<08:48,  6.30s/it]\u001b[A"
          ],
          "name": "stderr"
        },
        {
          "output_type": "stream",
          "text": [
            "tensor(4.2123, grad_fn=<NllLossBackward>)\n"
          ],
          "name": "stdout"
        },
        {
          "output_type": "stream",
          "text": [
            "\n",
            " 51%|█████     | 86/169 [09:13<08:43,  6.31s/it]\u001b[A"
          ],
          "name": "stderr"
        },
        {
          "output_type": "stream",
          "text": [
            "tensor(4.3082, grad_fn=<NllLossBackward>)\n"
          ],
          "name": "stdout"
        },
        {
          "output_type": "stream",
          "text": [
            "\n",
            " 51%|█████▏    | 87/169 [09:20<08:32,  6.25s/it]\u001b[A"
          ],
          "name": "stderr"
        },
        {
          "output_type": "stream",
          "text": [
            "tensor(4.2263, grad_fn=<NllLossBackward>)\n"
          ],
          "name": "stdout"
        },
        {
          "output_type": "stream",
          "text": [
            "\n",
            " 52%|█████▏    | 88/169 [09:26<08:26,  6.25s/it]\u001b[A"
          ],
          "name": "stderr"
        },
        {
          "output_type": "stream",
          "text": [
            "tensor(4.2523, grad_fn=<NllLossBackward>)\n"
          ],
          "name": "stdout"
        },
        {
          "output_type": "stream",
          "text": [
            "\n",
            " 53%|█████▎    | 89/169 [09:32<08:21,  6.27s/it]\u001b[A"
          ],
          "name": "stderr"
        },
        {
          "output_type": "stream",
          "text": [
            "tensor(4.3577, grad_fn=<NllLossBackward>)\n"
          ],
          "name": "stdout"
        },
        {
          "output_type": "stream",
          "text": [
            "\n",
            " 53%|█████▎    | 90/169 [09:39<08:20,  6.33s/it]\u001b[A"
          ],
          "name": "stderr"
        },
        {
          "output_type": "stream",
          "text": [
            "[Epoch: 1, batch:    90] average loss: 0.472\n",
            "tensor(4.2260, grad_fn=<NllLossBackward>)\n"
          ],
          "name": "stdout"
        },
        {
          "output_type": "stream",
          "text": [
            "\n",
            " 54%|█████▍    | 91/169 [09:45<08:11,  6.30s/it]\u001b[A"
          ],
          "name": "stderr"
        },
        {
          "output_type": "stream",
          "text": [
            "tensor(4.1853, grad_fn=<NllLossBackward>)\n"
          ],
          "name": "stdout"
        },
        {
          "output_type": "stream",
          "text": [
            "\n",
            " 54%|█████▍    | 92/169 [09:51<08:03,  6.28s/it]\u001b[A"
          ],
          "name": "stderr"
        },
        {
          "output_type": "stream",
          "text": [
            "tensor(4.1898, grad_fn=<NllLossBackward>)\n"
          ],
          "name": "stdout"
        },
        {
          "output_type": "stream",
          "text": [
            "\n",
            " 55%|█████▌    | 93/169 [09:57<07:59,  6.31s/it]\u001b[A"
          ],
          "name": "stderr"
        },
        {
          "output_type": "stream",
          "text": [
            "tensor(4.2513, grad_fn=<NllLossBackward>)\n"
          ],
          "name": "stdout"
        },
        {
          "output_type": "stream",
          "text": [
            "\n",
            " 56%|█████▌    | 94/169 [10:04<07:56,  6.35s/it]\u001b[A"
          ],
          "name": "stderr"
        },
        {
          "output_type": "stream",
          "text": [
            "tensor(4.1273, grad_fn=<NllLossBackward>)\n"
          ],
          "name": "stdout"
        },
        {
          "output_type": "stream",
          "text": [
            "\n",
            " 56%|█████▌    | 95/169 [10:10<07:43,  6.27s/it]\u001b[A"
          ],
          "name": "stderr"
        },
        {
          "output_type": "stream",
          "text": [
            "tensor(4.1424, grad_fn=<NllLossBackward>)\n"
          ],
          "name": "stdout"
        },
        {
          "output_type": "stream",
          "text": [
            "\n",
            " 57%|█████▋    | 96/169 [10:16<07:35,  6.24s/it]\u001b[A"
          ],
          "name": "stderr"
        },
        {
          "output_type": "stream",
          "text": [
            "tensor(4.2370, grad_fn=<NllLossBackward>)\n"
          ],
          "name": "stdout"
        },
        {
          "output_type": "stream",
          "text": [
            "\n",
            " 57%|█████▋    | 97/169 [10:22<07:28,  6.23s/it]\u001b[A"
          ],
          "name": "stderr"
        },
        {
          "output_type": "stream",
          "text": [
            "tensor(4.2048, grad_fn=<NllLossBackward>)\n"
          ],
          "name": "stdout"
        },
        {
          "output_type": "stream",
          "text": [
            "\n",
            " 58%|█████▊    | 98/169 [10:29<07:26,  6.29s/it]\u001b[A"
          ],
          "name": "stderr"
        },
        {
          "output_type": "stream",
          "text": [
            "tensor(4.2815, grad_fn=<NllLossBackward>)\n"
          ],
          "name": "stdout"
        },
        {
          "output_type": "stream",
          "text": [
            "\n",
            " 59%|█████▊    | 99/169 [10:35<07:17,  6.24s/it]\u001b[A"
          ],
          "name": "stderr"
        },
        {
          "output_type": "stream",
          "text": [
            "tensor(4.1553, grad_fn=<NllLossBackward>)\n"
          ],
          "name": "stdout"
        },
        {
          "output_type": "stream",
          "text": [
            "\n",
            " 59%|█████▉    | 100/169 [10:41<07:09,  6.23s/it]\u001b[A"
          ],
          "name": "stderr"
        },
        {
          "output_type": "stream",
          "text": [
            "[Epoch: 1, batch:   100] average loss: 0.420\n",
            "tensor(4.2360, grad_fn=<NllLossBackward>)\n"
          ],
          "name": "stdout"
        },
        {
          "output_type": "stream",
          "text": [
            "\n",
            " 60%|█████▉    | 101/169 [10:47<07:02,  6.22s/it]\u001b[A"
          ],
          "name": "stderr"
        },
        {
          "output_type": "stream",
          "text": [
            "tensor(4.2365, grad_fn=<NllLossBackward>)\n"
          ],
          "name": "stdout"
        },
        {
          "output_type": "stream",
          "text": [
            "\n",
            " 60%|██████    | 102/169 [10:54<06:58,  6.24s/it]\u001b[A"
          ],
          "name": "stderr"
        },
        {
          "output_type": "stream",
          "text": [
            "tensor(4.3150, grad_fn=<NllLossBackward>)\n"
          ],
          "name": "stdout"
        },
        {
          "output_type": "stream",
          "text": [
            "\n",
            " 61%|██████    | 103/169 [11:00<06:48,  6.19s/it]\u001b[A"
          ],
          "name": "stderr"
        },
        {
          "output_type": "stream",
          "text": [
            "tensor(4.2371, grad_fn=<NllLossBackward>)\n"
          ],
          "name": "stdout"
        },
        {
          "output_type": "stream",
          "text": [
            "\n",
            " 62%|██████▏   | 104/169 [11:06<06:41,  6.18s/it]\u001b[A"
          ],
          "name": "stderr"
        },
        {
          "output_type": "stream",
          "text": [
            "tensor(4.2036, grad_fn=<NllLossBackward>)\n"
          ],
          "name": "stdout"
        },
        {
          "output_type": "stream",
          "text": [
            "\n",
            " 62%|██████▏   | 105/169 [11:12<06:35,  6.18s/it]\u001b[A"
          ],
          "name": "stderr"
        },
        {
          "output_type": "stream",
          "text": [
            "tensor(4.3280, grad_fn=<NllLossBackward>)\n"
          ],
          "name": "stdout"
        },
        {
          "output_type": "stream",
          "text": [
            "\n",
            " 63%|██████▎   | 106/169 [11:18<06:31,  6.22s/it]\u001b[A"
          ],
          "name": "stderr"
        },
        {
          "output_type": "stream",
          "text": [
            "tensor(4.2475, grad_fn=<NllLossBackward>)\n"
          ],
          "name": "stdout"
        },
        {
          "output_type": "stream",
          "text": [
            "\n",
            " 63%|██████▎   | 107/169 [11:24<06:23,  6.19s/it]\u001b[A"
          ],
          "name": "stderr"
        },
        {
          "output_type": "stream",
          "text": [
            "tensor(4.2364, grad_fn=<NllLossBackward>)\n"
          ],
          "name": "stdout"
        },
        {
          "output_type": "stream",
          "text": [
            "\n",
            " 64%|██████▍   | 108/169 [11:31<06:16,  6.18s/it]\u001b[A"
          ],
          "name": "stderr"
        },
        {
          "output_type": "stream",
          "text": [
            "tensor(4.0931, grad_fn=<NllLossBackward>)\n"
          ],
          "name": "stdout"
        },
        {
          "output_type": "stream",
          "text": [
            "\n",
            " 64%|██████▍   | 109/169 [11:37<06:11,  6.19s/it]\u001b[A"
          ],
          "name": "stderr"
        },
        {
          "output_type": "stream",
          "text": [
            "tensor(4.1271, grad_fn=<NllLossBackward>)\n"
          ],
          "name": "stdout"
        },
        {
          "output_type": "stream",
          "text": [
            "\n",
            " 65%|██████▌   | 110/169 [11:43<06:06,  6.22s/it]\u001b[A"
          ],
          "name": "stderr"
        },
        {
          "output_type": "stream",
          "text": [
            "[Epoch: 1, batch:   110] average loss: 0.384\n",
            "tensor(4.3019, grad_fn=<NllLossBackward>)\n"
          ],
          "name": "stdout"
        },
        {
          "output_type": "stream",
          "text": [
            "\n",
            " 66%|██████▌   | 111/169 [11:49<05:57,  6.17s/it]\u001b[A"
          ],
          "name": "stderr"
        },
        {
          "output_type": "stream",
          "text": [
            "tensor(4.1522, grad_fn=<NllLossBackward>)\n"
          ],
          "name": "stdout"
        },
        {
          "output_type": "stream",
          "text": [
            "\n",
            " 66%|██████▋   | 112/169 [11:55<05:51,  6.17s/it]\u001b[A"
          ],
          "name": "stderr"
        },
        {
          "output_type": "stream",
          "text": [
            "tensor(4.2060, grad_fn=<NllLossBackward>)\n"
          ],
          "name": "stdout"
        },
        {
          "output_type": "stream",
          "text": [
            "\n",
            " 67%|██████▋   | 113/169 [12:01<05:45,  6.16s/it]\u001b[A"
          ],
          "name": "stderr"
        },
        {
          "output_type": "stream",
          "text": [
            "tensor(4.2630, grad_fn=<NllLossBackward>)\n"
          ],
          "name": "stdout"
        },
        {
          "output_type": "stream",
          "text": [
            "\n",
            " 67%|██████▋   | 114/169 [12:08<05:41,  6.22s/it]\u001b[A"
          ],
          "name": "stderr"
        },
        {
          "output_type": "stream",
          "text": [
            "tensor(4.1769, grad_fn=<NllLossBackward>)\n"
          ],
          "name": "stdout"
        },
        {
          "output_type": "stream",
          "text": [
            "\n",
            " 68%|██████▊   | 115/169 [12:14<05:33,  6.18s/it]\u001b[A"
          ],
          "name": "stderr"
        },
        {
          "output_type": "stream",
          "text": [
            "tensor(4.3177, grad_fn=<NllLossBackward>)\n"
          ],
          "name": "stdout"
        },
        {
          "output_type": "stream",
          "text": [
            "\n",
            " 69%|██████▊   | 116/169 [12:20<05:28,  6.20s/it]\u001b[A"
          ],
          "name": "stderr"
        },
        {
          "output_type": "stream",
          "text": [
            "tensor(4.2042, grad_fn=<NllLossBackward>)\n"
          ],
          "name": "stdout"
        },
        {
          "output_type": "stream",
          "text": [
            "\n",
            " 69%|██████▉   | 117/169 [12:26<05:22,  6.20s/it]\u001b[A"
          ],
          "name": "stderr"
        },
        {
          "output_type": "stream",
          "text": [
            "tensor(4.2367, grad_fn=<NllLossBackward>)\n"
          ],
          "name": "stdout"
        },
        {
          "output_type": "stream",
          "text": [
            "\n",
            " 70%|██████▉   | 118/169 [12:33<05:18,  6.24s/it]\u001b[A"
          ],
          "name": "stderr"
        },
        {
          "output_type": "stream",
          "text": [
            "tensor(4.1631, grad_fn=<NllLossBackward>)\n"
          ],
          "name": "stdout"
        },
        {
          "output_type": "stream",
          "text": [
            "\n",
            " 70%|███████   | 119/169 [12:39<05:10,  6.20s/it]\u001b[A"
          ],
          "name": "stderr"
        },
        {
          "output_type": "stream",
          "text": [
            "tensor(4.2989, grad_fn=<NllLossBackward>)\n"
          ],
          "name": "stdout"
        },
        {
          "output_type": "stream",
          "text": [
            "\n",
            " 71%|███████   | 120/169 [12:45<05:03,  6.18s/it]\u001b[A"
          ],
          "name": "stderr"
        },
        {
          "output_type": "stream",
          "text": [
            "[Epoch: 1, batch:   120] average loss: 0.353\n",
            "tensor(4.2201, grad_fn=<NllLossBackward>)\n"
          ],
          "name": "stdout"
        },
        {
          "output_type": "stream",
          "text": [
            "\n",
            " 72%|███████▏  | 121/169 [12:51<04:56,  6.19s/it]\u001b[A"
          ],
          "name": "stderr"
        },
        {
          "output_type": "stream",
          "text": [
            "tensor(4.2239, grad_fn=<NllLossBackward>)\n"
          ],
          "name": "stdout"
        },
        {
          "output_type": "stream",
          "text": [
            "\n",
            " 72%|███████▏  | 122/169 [12:57<04:53,  6.24s/it]\u001b[A"
          ],
          "name": "stderr"
        },
        {
          "output_type": "stream",
          "text": [
            "tensor(4.1916, grad_fn=<NllLossBackward>)\n"
          ],
          "name": "stdout"
        },
        {
          "output_type": "stream",
          "text": [
            "\n",
            " 73%|███████▎  | 123/169 [13:04<04:44,  6.18s/it]\u001b[A"
          ],
          "name": "stderr"
        },
        {
          "output_type": "stream",
          "text": [
            "tensor(4.1593, grad_fn=<NllLossBackward>)\n"
          ],
          "name": "stdout"
        },
        {
          "output_type": "stream",
          "text": [
            "\n",
            " 73%|███████▎  | 124/169 [13:10<04:37,  6.17s/it]\u001b[A"
          ],
          "name": "stderr"
        },
        {
          "output_type": "stream",
          "text": [
            "tensor(4.3024, grad_fn=<NllLossBackward>)\n"
          ],
          "name": "stdout"
        },
        {
          "output_type": "stream",
          "text": [
            "\n",
            " 74%|███████▍  | 125/169 [13:16<04:30,  6.16s/it]\u001b[A"
          ],
          "name": "stderr"
        },
        {
          "output_type": "stream",
          "text": [
            "tensor(4.1911, grad_fn=<NllLossBackward>)\n"
          ],
          "name": "stdout"
        },
        {
          "output_type": "stream",
          "text": [
            "\n",
            " 75%|███████▍  | 126/169 [13:22<04:26,  6.20s/it]\u001b[A"
          ],
          "name": "stderr"
        },
        {
          "output_type": "stream",
          "text": [
            "tensor(4.1470, grad_fn=<NllLossBackward>)\n"
          ],
          "name": "stdout"
        },
        {
          "output_type": "stream",
          "text": [
            "\n",
            " 75%|███████▌  | 127/169 [13:28<04:18,  6.16s/it]\u001b[A"
          ],
          "name": "stderr"
        },
        {
          "output_type": "stream",
          "text": [
            "tensor(4.1841, grad_fn=<NllLossBackward>)\n"
          ],
          "name": "stdout"
        },
        {
          "output_type": "stream",
          "text": [
            "\n",
            " 76%|███████▌  | 128/169 [13:34<04:13,  6.18s/it]\u001b[A"
          ],
          "name": "stderr"
        },
        {
          "output_type": "stream",
          "text": [
            "tensor(4.2632, grad_fn=<NllLossBackward>)\n"
          ],
          "name": "stdout"
        },
        {
          "output_type": "stream",
          "text": [
            "\n",
            " 76%|███████▋  | 129/169 [13:41<04:08,  6.21s/it]\u001b[A"
          ],
          "name": "stderr"
        },
        {
          "output_type": "stream",
          "text": [
            "tensor(4.1821, grad_fn=<NllLossBackward>)\n"
          ],
          "name": "stdout"
        },
        {
          "output_type": "stream",
          "text": [
            "\n",
            " 77%|███████▋  | 130/169 [13:47<04:02,  6.23s/it]\u001b[A"
          ],
          "name": "stderr"
        },
        {
          "output_type": "stream",
          "text": [
            "[Epoch: 1, batch:   130] average loss: 0.324\n",
            "tensor(4.2404, grad_fn=<NllLossBackward>)\n"
          ],
          "name": "stdout"
        },
        {
          "output_type": "stream",
          "text": [
            "\n",
            " 78%|███████▊  | 131/169 [13:53<03:55,  6.19s/it]\u001b[A"
          ],
          "name": "stderr"
        },
        {
          "output_type": "stream",
          "text": [
            "tensor(4.2663, grad_fn=<NllLossBackward>)\n"
          ],
          "name": "stdout"
        },
        {
          "output_type": "stream",
          "text": [
            "\n",
            " 78%|███████▊  | 132/169 [13:59<03:49,  6.20s/it]\u001b[A"
          ],
          "name": "stderr"
        },
        {
          "output_type": "stream",
          "text": [
            "tensor(4.2300, grad_fn=<NllLossBackward>)\n"
          ],
          "name": "stdout"
        },
        {
          "output_type": "stream",
          "text": [
            "\n",
            " 79%|███████▊  | 133/169 [14:06<03:43,  6.22s/it]\u001b[A"
          ],
          "name": "stderr"
        },
        {
          "output_type": "stream",
          "text": [
            "tensor(4.2645, grad_fn=<NllLossBackward>)\n"
          ],
          "name": "stdout"
        },
        {
          "output_type": "stream",
          "text": [
            "\n",
            " 79%|███████▉  | 134/169 [14:12<03:38,  6.24s/it]\u001b[A"
          ],
          "name": "stderr"
        },
        {
          "output_type": "stream",
          "text": [
            "tensor(4.2074, grad_fn=<NllLossBackward>)\n"
          ],
          "name": "stdout"
        },
        {
          "output_type": "stream",
          "text": [
            "\n",
            " 80%|███████▉  | 135/169 [14:18<03:31,  6.21s/it]\u001b[A"
          ],
          "name": "stderr"
        },
        {
          "output_type": "stream",
          "text": [
            "tensor(4.2219, grad_fn=<NllLossBackward>)\n"
          ],
          "name": "stdout"
        },
        {
          "output_type": "stream",
          "text": [
            "\n",
            " 80%|████████  | 136/169 [14:24<03:24,  6.20s/it]\u001b[A"
          ],
          "name": "stderr"
        },
        {
          "output_type": "stream",
          "text": [
            "tensor(4.2692, grad_fn=<NllLossBackward>)\n"
          ],
          "name": "stdout"
        },
        {
          "output_type": "stream",
          "text": [
            "\n",
            " 81%|████████  | 137/169 [14:30<03:19,  6.22s/it]\u001b[A"
          ],
          "name": "stderr"
        },
        {
          "output_type": "stream",
          "text": [
            "tensor(4.1582, grad_fn=<NllLossBackward>)\n"
          ],
          "name": "stdout"
        },
        {
          "output_type": "stream",
          "text": [
            "\n",
            " 82%|████████▏ | 138/169 [14:37<03:14,  6.26s/it]\u001b[A"
          ],
          "name": "stderr"
        },
        {
          "output_type": "stream",
          "text": [
            "tensor(4.2995, grad_fn=<NllLossBackward>)\n"
          ],
          "name": "stdout"
        },
        {
          "output_type": "stream",
          "text": [
            "\n",
            " 82%|████████▏ | 139/169 [14:43<03:06,  6.21s/it]\u001b[A"
          ],
          "name": "stderr"
        },
        {
          "output_type": "stream",
          "text": [
            "tensor(4.1824, grad_fn=<NllLossBackward>)\n"
          ],
          "name": "stdout"
        },
        {
          "output_type": "stream",
          "text": [
            "\n",
            " 83%|████████▎ | 140/169 [14:49<03:00,  6.22s/it]\u001b[A"
          ],
          "name": "stderr"
        },
        {
          "output_type": "stream",
          "text": [
            "[Epoch: 1, batch:   140] average loss: 0.302\n",
            "tensor(4.2530, grad_fn=<NllLossBackward>)\n"
          ],
          "name": "stdout"
        },
        {
          "output_type": "stream",
          "text": [
            "\n",
            " 83%|████████▎ | 141/169 [14:55<02:53,  6.21s/it]\u001b[A"
          ],
          "name": "stderr"
        },
        {
          "output_type": "stream",
          "text": [
            "tensor(4.2121, grad_fn=<NllLossBackward>)\n"
          ],
          "name": "stdout"
        },
        {
          "output_type": "stream",
          "text": [
            "\n",
            " 84%|████████▍ | 142/169 [15:04<03:08,  6.99s/it]\u001b[A"
          ],
          "name": "stderr"
        },
        {
          "output_type": "stream",
          "text": [
            "tensor(4.1732, grad_fn=<NllLossBackward>)\n"
          ],
          "name": "stdout"
        },
        {
          "output_type": "stream",
          "text": [
            "\n",
            " 85%|████████▍ | 143/169 [15:15<03:32,  8.17s/it]\u001b[A"
          ],
          "name": "stderr"
        },
        {
          "output_type": "stream",
          "text": [
            "tensor(4.1771, grad_fn=<NllLossBackward>)\n"
          ],
          "name": "stdout"
        },
        {
          "output_type": "stream",
          "text": [
            "\n",
            " 85%|████████▌ | 144/169 [15:22<03:14,  7.76s/it]\u001b[A"
          ],
          "name": "stderr"
        },
        {
          "output_type": "stream",
          "text": [
            "tensor(4.2459, grad_fn=<NllLossBackward>)\n"
          ],
          "name": "stdout"
        },
        {
          "output_type": "stream",
          "text": [
            "\n",
            " 86%|████████▌ | 145/169 [15:28<02:56,  7.35s/it]\u001b[A"
          ],
          "name": "stderr"
        },
        {
          "output_type": "stream",
          "text": [
            "tensor(4.2851, grad_fn=<NllLossBackward>)\n"
          ],
          "name": "stdout"
        },
        {
          "output_type": "stream",
          "text": [
            "\n",
            " 86%|████████▋ | 146/169 [15:35<02:43,  7.11s/it]\u001b[A"
          ],
          "name": "stderr"
        },
        {
          "output_type": "stream",
          "text": [
            "tensor(4.1448, grad_fn=<NllLossBackward>)\n"
          ],
          "name": "stdout"
        },
        {
          "output_type": "stream",
          "text": [
            "\n",
            " 87%|████████▋ | 147/169 [15:41<02:30,  6.86s/it]\u001b[A"
          ],
          "name": "stderr"
        },
        {
          "output_type": "stream",
          "text": [
            "tensor(4.2044, grad_fn=<NllLossBackward>)\n"
          ],
          "name": "stdout"
        },
        {
          "output_type": "stream",
          "text": [
            "\n",
            " 88%|████████▊ | 148/169 [15:47<02:20,  6.70s/it]\u001b[A"
          ],
          "name": "stderr"
        },
        {
          "output_type": "stream",
          "text": [
            "tensor(4.3040, grad_fn=<NllLossBackward>)\n"
          ],
          "name": "stdout"
        },
        {
          "output_type": "stream",
          "text": [
            "\n",
            " 88%|████████▊ | 149/169 [15:54<02:11,  6.60s/it]\u001b[A"
          ],
          "name": "stderr"
        },
        {
          "output_type": "stream",
          "text": [
            "tensor(4.2504, grad_fn=<NllLossBackward>)\n"
          ],
          "name": "stdout"
        },
        {
          "output_type": "stream",
          "text": [
            "\n",
            " 89%|████████▉ | 150/169 [16:00<02:04,  6.57s/it]\u001b[A"
          ],
          "name": "stderr"
        },
        {
          "output_type": "stream",
          "text": [
            "[Epoch: 1, batch:   150] average loss: 0.282\n",
            "tensor(4.1434, grad_fn=<NllLossBackward>)\n"
          ],
          "name": "stdout"
        },
        {
          "output_type": "stream",
          "text": [
            "\n",
            " 89%|████████▉ | 151/169 [16:06<01:56,  6.46s/it]\u001b[A"
          ],
          "name": "stderr"
        },
        {
          "output_type": "stream",
          "text": [
            "tensor(4.1570, grad_fn=<NllLossBackward>)\n"
          ],
          "name": "stdout"
        },
        {
          "output_type": "stream",
          "text": [
            "\n",
            " 90%|████████▉ | 152/169 [16:13<01:49,  6.42s/it]\u001b[A"
          ],
          "name": "stderr"
        },
        {
          "output_type": "stream",
          "text": [
            "tensor(4.2679, grad_fn=<NllLossBackward>)\n"
          ],
          "name": "stdout"
        },
        {
          "output_type": "stream",
          "text": [
            "\n",
            " 91%|█████████ | 153/169 [16:19<01:42,  6.38s/it]\u001b[A"
          ],
          "name": "stderr"
        },
        {
          "output_type": "stream",
          "text": [
            "tensor(4.1580, grad_fn=<NllLossBackward>)\n"
          ],
          "name": "stdout"
        },
        {
          "output_type": "stream",
          "text": [
            "\n",
            " 91%|█████████ | 154/169 [16:26<01:36,  6.42s/it]\u001b[A"
          ],
          "name": "stderr"
        },
        {
          "output_type": "stream",
          "text": [
            "tensor(4.1267, grad_fn=<NllLossBackward>)\n"
          ],
          "name": "stdout"
        },
        {
          "output_type": "stream",
          "text": [
            "\n",
            " 92%|█████████▏| 155/169 [16:32<01:29,  6.37s/it]\u001b[A"
          ],
          "name": "stderr"
        },
        {
          "output_type": "stream",
          "text": [
            "tensor(4.1803, grad_fn=<NllLossBackward>)\n"
          ],
          "name": "stdout"
        },
        {
          "output_type": "stream",
          "text": [
            "\n",
            " 92%|█████████▏| 156/169 [16:38<01:22,  6.38s/it]\u001b[A"
          ],
          "name": "stderr"
        },
        {
          "output_type": "stream",
          "text": [
            "tensor(4.1712, grad_fn=<NllLossBackward>)\n"
          ],
          "name": "stdout"
        },
        {
          "output_type": "stream",
          "text": [
            "\n",
            " 93%|█████████▎| 157/169 [16:45<01:16,  6.38s/it]\u001b[A"
          ],
          "name": "stderr"
        },
        {
          "output_type": "stream",
          "text": [
            "tensor(4.2673, grad_fn=<NllLossBackward>)\n"
          ],
          "name": "stdout"
        },
        {
          "output_type": "stream",
          "text": [
            "\n",
            " 93%|█████████▎| 158/169 [16:51<01:10,  6.40s/it]\u001b[A"
          ],
          "name": "stderr"
        },
        {
          "output_type": "stream",
          "text": [
            "tensor(4.1529, grad_fn=<NllLossBackward>)\n"
          ],
          "name": "stdout"
        },
        {
          "output_type": "stream",
          "text": [
            "\n",
            " 94%|█████████▍| 159/169 [16:57<01:03,  6.33s/it]\u001b[A"
          ],
          "name": "stderr"
        },
        {
          "output_type": "stream",
          "text": [
            "tensor(4.2212, grad_fn=<NllLossBackward>)\n"
          ],
          "name": "stdout"
        },
        {
          "output_type": "stream",
          "text": [
            "\n",
            " 95%|█████████▍| 160/169 [17:04<00:57,  6.34s/it]\u001b[A"
          ],
          "name": "stderr"
        },
        {
          "output_type": "stream",
          "text": [
            "[Epoch: 1, batch:   160] average loss: 0.262\n",
            "tensor(4.1577, grad_fn=<NllLossBackward>)\n"
          ],
          "name": "stdout"
        },
        {
          "output_type": "stream",
          "text": [
            "\n",
            " 95%|█████████▌| 161/169 [17:10<00:50,  6.33s/it]\u001b[A"
          ],
          "name": "stderr"
        },
        {
          "output_type": "stream",
          "text": [
            "tensor(4.2099, grad_fn=<NllLossBackward>)\n"
          ],
          "name": "stdout"
        },
        {
          "output_type": "stream",
          "text": [
            "\n",
            " 96%|█████████▌| 162/169 [17:16<00:44,  6.37s/it]\u001b[A"
          ],
          "name": "stderr"
        },
        {
          "output_type": "stream",
          "text": [
            "tensor(4.2514, grad_fn=<NllLossBackward>)\n"
          ],
          "name": "stdout"
        },
        {
          "output_type": "stream",
          "text": [
            "\n",
            " 96%|█████████▋| 163/169 [17:23<00:37,  6.31s/it]\u001b[A"
          ],
          "name": "stderr"
        },
        {
          "output_type": "stream",
          "text": [
            "tensor(4.1898, grad_fn=<NllLossBackward>)\n"
          ],
          "name": "stdout"
        },
        {
          "output_type": "stream",
          "text": [
            "\n",
            " 97%|█████████▋| 164/169 [17:29<00:31,  6.31s/it]\u001b[A"
          ],
          "name": "stderr"
        },
        {
          "output_type": "stream",
          "text": [
            "tensor(4.1587, grad_fn=<NllLossBackward>)\n"
          ],
          "name": "stdout"
        },
        {
          "output_type": "stream",
          "text": [
            "\n",
            " 98%|█████████▊| 165/169 [17:35<00:25,  6.31s/it]\u001b[A"
          ],
          "name": "stderr"
        },
        {
          "output_type": "stream",
          "text": [
            "tensor(4.2827, grad_fn=<NllLossBackward>)\n"
          ],
          "name": "stdout"
        },
        {
          "output_type": "stream",
          "text": [
            "\n",
            " 98%|█████████▊| 166/169 [17:41<00:18,  6.30s/it]\u001b[A"
          ],
          "name": "stderr"
        },
        {
          "output_type": "stream",
          "text": [
            "tensor(4.2182, grad_fn=<NllLossBackward>)\n"
          ],
          "name": "stdout"
        },
        {
          "output_type": "stream",
          "text": [
            "\n",
            " 99%|█████████▉| 167/169 [17:48<00:12,  6.26s/it]\u001b[A"
          ],
          "name": "stderr"
        },
        {
          "output_type": "stream",
          "text": [
            "tensor(4.2057, grad_fn=<NllLossBackward>)\n"
          ],
          "name": "stdout"
        },
        {
          "output_type": "stream",
          "text": [
            "\n",
            " 99%|█████████▉| 168/169 [17:54<00:06,  6.25s/it]\u001b[A"
          ],
          "name": "stderr"
        },
        {
          "output_type": "stream",
          "text": [
            "tensor(4.2106, grad_fn=<NllLossBackward>)\n"
          ],
          "name": "stdout"
        },
        {
          "output_type": "stream",
          "text": [
            "\n",
            "100%|██████████| 169/169 [18:00<00:00,  6.39s/it]\n"
          ],
          "name": "stderr"
        }
      ]
    },
    {
      "cell_type": "code",
      "metadata": {
        "colab": {
          "base_uri": "https://localhost:8080/"
        },
        "id": "hT3yJq3gQM5w",
        "outputId": "bb91cd2c-8730-444c-dbec-f62be24a99e9"
      },
      "source": [
        "len(train_dataset.ids)"
      ],
      "execution_count": null,
      "outputs": [
        {
          "output_type": "execute_result",
          "data": {
            "text/plain": [
              "10816"
            ]
          },
          "metadata": {
            "tags": []
          },
          "execution_count": 47
        }
      ]
    },
    {
      "cell_type": "markdown",
      "metadata": {
        "id": "5aOE-4BDb13k"
      },
      "source": [
        "Slice model"
      ]
    },
    {
      "cell_type": "code",
      "metadata": {
        "colab": {
          "base_uri": "https://localhost:8080/"
        },
        "id": "mJ3kjla2b1jg",
        "outputId": "c11070e3-343f-4ca7-d840-63cce3a4201d"
      },
      "source": [
        "from torch import nn\n",
        "from torchsummary import summary\n",
        "\n",
        "# Dropping output layer (the ResNet classifier)\n",
        "\n",
        "def slice_model(original_model, from_layer=None, to_layer=None):\n",
        "    return nn.Sequential(*list(original_model.children())[from_layer:to_layer])\n",
        "model_conv_features = slice_model(model, to_layer=-1).to(device)\n",
        "summary(model_conv_features, input_size=(3,224,224))"
      ],
      "execution_count": null,
      "outputs": [
        {
          "output_type": "stream",
          "text": [
            "----------------------------------------------------------------\n",
            "        Layer (type)               Output Shape         Param #\n",
            "================================================================\n",
            "            Conv2d-1         [-1, 64, 112, 112]           9,408\n",
            "       BatchNorm2d-2         [-1, 64, 112, 112]             128\n",
            "              ReLU-3         [-1, 64, 112, 112]               0\n",
            "         MaxPool2d-4           [-1, 64, 56, 56]               0\n",
            "        Conv2dAuto-5           [-1, 64, 56, 56]          36,864\n",
            "       BatchNorm2d-6           [-1, 64, 56, 56]             128\n",
            "              ReLU-7           [-1, 64, 56, 56]               0\n",
            "        Conv2dAuto-8           [-1, 64, 56, 56]          36,864\n",
            "       BatchNorm2d-9           [-1, 64, 56, 56]             128\n",
            " ResNetBasicBlock-10           [-1, 64, 56, 56]               0\n",
            "       Conv2dAuto-11           [-1, 64, 56, 56]          36,864\n",
            "      BatchNorm2d-12           [-1, 64, 56, 56]             128\n",
            "             ReLU-13           [-1, 64, 56, 56]               0\n",
            "       Conv2dAuto-14           [-1, 64, 56, 56]          36,864\n",
            "      BatchNorm2d-15           [-1, 64, 56, 56]             128\n",
            " ResNetBasicBlock-16           [-1, 64, 56, 56]               0\n",
            "      ResNetLayer-17           [-1, 64, 56, 56]               0\n",
            "           Conv2d-18          [-1, 128, 28, 28]           8,192\n",
            "      BatchNorm2d-19          [-1, 128, 28, 28]             256\n",
            "       Conv2dAuto-20          [-1, 128, 28, 28]          73,728\n",
            "      BatchNorm2d-21          [-1, 128, 28, 28]             256\n",
            "             ReLU-22          [-1, 128, 28, 28]               0\n",
            "       Conv2dAuto-23          [-1, 128, 28, 28]         147,456\n",
            "      BatchNorm2d-24          [-1, 128, 28, 28]             256\n",
            " ResNetBasicBlock-25          [-1, 128, 28, 28]               0\n",
            "       Conv2dAuto-26          [-1, 128, 28, 28]         147,456\n",
            "      BatchNorm2d-27          [-1, 128, 28, 28]             256\n",
            "             ReLU-28          [-1, 128, 28, 28]               0\n",
            "       Conv2dAuto-29          [-1, 128, 28, 28]         147,456\n",
            "      BatchNorm2d-30          [-1, 128, 28, 28]             256\n",
            " ResNetBasicBlock-31          [-1, 128, 28, 28]               0\n",
            "      ResNetLayer-32          [-1, 128, 28, 28]               0\n",
            "           Conv2d-33          [-1, 256, 14, 14]          32,768\n",
            "      BatchNorm2d-34          [-1, 256, 14, 14]             512\n",
            "       Conv2dAuto-35          [-1, 256, 14, 14]         294,912\n",
            "      BatchNorm2d-36          [-1, 256, 14, 14]             512\n",
            "             ReLU-37          [-1, 256, 14, 14]               0\n",
            "       Conv2dAuto-38          [-1, 256, 14, 14]         589,824\n",
            "      BatchNorm2d-39          [-1, 256, 14, 14]             512\n",
            " ResNetBasicBlock-40          [-1, 256, 14, 14]               0\n",
            "       Conv2dAuto-41          [-1, 256, 14, 14]         589,824\n",
            "      BatchNorm2d-42          [-1, 256, 14, 14]             512\n",
            "             ReLU-43          [-1, 256, 14, 14]               0\n",
            "       Conv2dAuto-44          [-1, 256, 14, 14]         589,824\n",
            "      BatchNorm2d-45          [-1, 256, 14, 14]             512\n",
            " ResNetBasicBlock-46          [-1, 256, 14, 14]               0\n",
            "      ResNetLayer-47          [-1, 256, 14, 14]               0\n",
            "           Conv2d-48            [-1, 512, 7, 7]         131,072\n",
            "      BatchNorm2d-49            [-1, 512, 7, 7]           1,024\n",
            "       Conv2dAuto-50            [-1, 512, 7, 7]       1,179,648\n",
            "      BatchNorm2d-51            [-1, 512, 7, 7]           1,024\n",
            "             ReLU-52            [-1, 512, 7, 7]               0\n",
            "       Conv2dAuto-53            [-1, 512, 7, 7]       2,359,296\n",
            "      BatchNorm2d-54            [-1, 512, 7, 7]           1,024\n",
            " ResNetBasicBlock-55            [-1, 512, 7, 7]               0\n",
            "       Conv2dAuto-56            [-1, 512, 7, 7]       2,359,296\n",
            "      BatchNorm2d-57            [-1, 512, 7, 7]           1,024\n",
            "             ReLU-58            [-1, 512, 7, 7]               0\n",
            "       Conv2dAuto-59            [-1, 512, 7, 7]       2,359,296\n",
            "      BatchNorm2d-60            [-1, 512, 7, 7]           1,024\n",
            " ResNetBasicBlock-61            [-1, 512, 7, 7]               0\n",
            "      ResNetLayer-62            [-1, 512, 7, 7]               0\n",
            "    ResNetEncoder-63            [-1, 512, 7, 7]               0\n",
            "================================================================\n",
            "Total params: 11,176,512\n",
            "Trainable params: 11,176,512\n",
            "Non-trainable params: 0\n",
            "----------------------------------------------------------------\n",
            "Input size (MB): 0.57\n",
            "Forward/backward pass size (MB): 60.10\n",
            "Params size (MB): 42.64\n",
            "Estimated Total Size (MB): 103.31\n",
            "----------------------------------------------------------------\n"
          ],
          "name": "stdout"
        }
      ]
    },
    {
      "cell_type": "markdown",
      "metadata": {
        "id": "hMCe67BubP87"
      },
      "source": [
        "Validation dataset and dataloader"
      ]
    },
    {
      "cell_type": "code",
      "metadata": {
        "colab": {
          "base_uri": "https://localhost:8080/"
        },
        "id": "SVTX1ui_VkWz",
        "outputId": "8d6989b1-fed8-46cc-b7ce-0bf8bf2b322a"
      },
      "source": [
        "import os\n",
        "import json\n",
        "with open (os.path.join(numpy_data_path, \"annotations\",\"categories.json\"), 'r') as j:\n",
        "    desired_categories = json.load(j)\n",
        "#with open (os.path.join(numpy_data_path, \"annotations\", \"imgs_by_supercategory.json\"), 'r') as f:\n",
        "#    imgid_by_supercat = json.load(f)\n",
        "valid_annot = COCO(\"/content/drive/MyDrive/numpy_images/annotations/instances_val2014.json\")\n",
        "category_ids = [cat[\"id\"] for cat in desired_categories]\n",
        "img_ids = [valid_annot.getImgIds(catIds=[id]) for id in category_ids]\n",
        "\n",
        "\n",
        "# flatten to a list of imgids\n",
        "desired_img_ids = list(set([ii for img_id in img_ids for ii in img_id]))"
      ],
      "execution_count": null,
      "outputs": [
        {
          "output_type": "stream",
          "text": [
            "loading annotations into memory...\n",
            "Done (t=8.19s)\n",
            "creating index...\n",
            "index created!\n"
          ],
          "name": "stdout"
        }
      ]
    },
    {
      "cell_type": "code",
      "metadata": {
        "id": "5VDLb0sybWiU"
      },
      "source": [
        "test = valid_annot.loadImgs(desired_img_ids)\n",
        "subset_list = os.listdir(\"/content/drive/MyDrive/numpy_images/data/valid_subset\")\n",
        "test_dict = dict(zip(desired_img_ids, [item[\"file_name\"].replace(\".jpg\",\".np\") for item in test]))\n",
        "final = {k: v for (k, v) in test_dict.items() if v in subset_list}\n",
        "desired_img_ids = list(final.keys())"
      ],
      "execution_count": null,
      "outputs": []
    },
    {
      "cell_type": "code",
      "metadata": {
        "id": "hqt0jAzmcIqc"
      },
      "source": [
        "np_data_dir_val = \"/content/drive/MyDrive/numpy_images/data/valid_subset\"\n",
        "np_annot_dir_val = \"/content/drive/MyDrive/numpy_images/annotations/instances_val2014.json\""
      ],
      "execution_count": null,
      "outputs": []
    },
    {
      "cell_type": "code",
      "metadata": {
        "colab": {
          "base_uri": "https://localhost:8080/"
        },
        "id": "Sw_sYZB6cRAH",
        "outputId": "f1c44dfa-3140-4cc3-9d07-a65ca24acd32"
      },
      "source": [
        "val_coco = COCO(np_annot_dir_val)\n",
        "val_dataset = COCODataset(np_data_dir_val, np_annot_dir_val)"
      ],
      "execution_count": null,
      "outputs": [
        {
          "output_type": "stream",
          "text": [
            "loading annotations into memory...\n",
            "Done (t=9.71s)\n",
            "creating index...\n",
            "index created!\n",
            "loading annotations into memory...\n",
            "Done (t=5.54s)\n",
            "creating index...\n"
          ],
          "name": "stdout"
        },
        {
          "output_type": "stream",
          "text": [
            "  0%|          | 117/40504 [00:00<00:34, 1166.52it/s]"
          ],
          "name": "stderr"
        },
        {
          "output_type": "stream",
          "text": [
            "index created!\n"
          ],
          "name": "stdout"
        },
        {
          "output_type": "stream",
          "text": [
            "100%|██████████| 40504/40504 [00:30<00:00, 1326.47it/s]\n"
          ],
          "name": "stderr"
        }
      ]
    },
    {
      "cell_type": "code",
      "metadata": {
        "colab": {
          "base_uri": "https://localhost:8080/"
        },
        "id": "C8r5wFCC5DQh",
        "outputId": "b75f350b-b461-4c95-cdc0-33e7b5b0b62d"
      },
      "source": [
        "len(val_dataset.ids)"
      ],
      "execution_count": null,
      "outputs": [
        {
          "output_type": "execute_result",
          "data": {
            "text/plain": [
              "20874"
            ]
          },
          "metadata": {
            "tags": []
          },
          "execution_count": 20
        }
      ]
    },
    {
      "cell_type": "code",
      "metadata": {
        "colab": {
          "base_uri": "https://localhost:8080/"
        },
        "id": "w4BPW7ecbczy",
        "outputId": "e4859d1d-adf9-4bbd-cb23-7e2da26c275c"
      },
      "source": [
        "from torch.utils.data import DataLoader\n",
        "from torch.multiprocessing import Pool, Process, set_start_method\n",
        "import torch.multiprocessing\n",
        "cpu_count = torch.multiprocessing.cpu_count()\n",
        "print('cpus', cpu_count)\n",
        "\n",
        "try: \n",
        "  set_start_method(\"spawn\")\n",
        "except RuntimeError:\n",
        "  pass\n",
        "batch_size = 64\n",
        "\n",
        "val_dl = torch.utils.data.DataLoader(dataset=val_dataset, \n",
        "                                          batch_size=batch_size,\n",
        "                                          shuffle=False,\n",
        "                                          num_workers=cpu_count,\n",
        "                                          collate_fn=lambda x: x)"
      ],
      "execution_count": null,
      "outputs": [
        {
          "output_type": "stream",
          "text": [
            "cpus 4\n"
          ],
          "name": "stdout"
        }
      ]
    },
    {
      "cell_type": "markdown",
      "metadata": {
        "id": "AdWXRN8auU9X"
      },
      "source": [
        "Load Model (If required)"
      ]
    },
    {
      "cell_type": "code",
      "metadata": {
        "colab": {
          "base_uri": "https://localhost:8080/"
        },
        "id": "7xW7ZmIhuTyf",
        "outputId": "bf78308c-6755-4f4b-f79c-0b5ee43ee3f0"
      },
      "source": [
        "model =  resnet18(in_channels=3,n_classes=99)\n",
        "model.load_state_dict(torch.load(\"/content/drive/MyDrive/model/mini-resnet.pth\"))\n",
        "\n"
      ],
      "execution_count": null,
      "outputs": [
        {
          "output_type": "execute_result",
          "data": {
            "text/plain": [
              "<All keys matched successfully>"
            ]
          },
          "metadata": {
            "tags": []
          },
          "execution_count": 22
        }
      ]
    },
    {
      "cell_type": "markdown",
      "metadata": {
        "id": "hoG5CcsGuYCo"
      },
      "source": [
        "Evaluate Model"
      ]
    },
    {
      "cell_type": "code",
      "metadata": {
        "colab": {
          "base_uri": "https://localhost:8080/"
        },
        "id": "vokxLuP7uXA8",
        "outputId": "7805bbfd-bc9f-4333-dda6-7eebea10da73"
      },
      "source": [
        "model_conv_features.eval()"
      ],
      "execution_count": null,
      "outputs": [
        {
          "output_type": "execute_result",
          "data": {
            "text/plain": [
              "Sequential(\n",
              "  (0): ResNetEncoder(\n",
              "    (gate): Sequential(\n",
              "      (0): Conv2d(3, 64, kernel_size=(7, 7), stride=(2, 2), padding=(3, 3), bias=False)\n",
              "      (1): BatchNorm2d(64, eps=1e-05, momentum=0.1, affine=True, track_running_stats=True)\n",
              "      (2): ReLU()\n",
              "      (3): MaxPool2d(kernel_size=3, stride=2, padding=1, dilation=1, ceil_mode=False)\n",
              "    )\n",
              "    (blocks): ModuleList(\n",
              "      (0): ResNetLayer(\n",
              "        (blocks): Sequential(\n",
              "          (0): ResNetBasicBlock(\n",
              "            (blocks): Sequential(\n",
              "              (0): Sequential(\n",
              "                (conv): Conv2dAuto(64, 64, kernel_size=(3, 3), stride=(1, 1), padding=(1, 1), bias=False)\n",
              "                (bn): BatchNorm2d(64, eps=1e-05, momentum=0.1, affine=True, track_running_stats=True)\n",
              "              )\n",
              "              (1): ReLU()\n",
              "              (2): Sequential(\n",
              "                (conv): Conv2dAuto(64, 64, kernel_size=(3, 3), stride=(1, 1), padding=(1, 1), bias=False)\n",
              "                (bn): BatchNorm2d(64, eps=1e-05, momentum=0.1, affine=True, track_running_stats=True)\n",
              "              )\n",
              "            )\n",
              "            (shortcut): None\n",
              "          )\n",
              "          (1): ResNetBasicBlock(\n",
              "            (blocks): Sequential(\n",
              "              (0): Sequential(\n",
              "                (conv): Conv2dAuto(64, 64, kernel_size=(3, 3), stride=(1, 1), padding=(1, 1), bias=False)\n",
              "                (bn): BatchNorm2d(64, eps=1e-05, momentum=0.1, affine=True, track_running_stats=True)\n",
              "              )\n",
              "              (1): ReLU()\n",
              "              (2): Sequential(\n",
              "                (conv): Conv2dAuto(64, 64, kernel_size=(3, 3), stride=(1, 1), padding=(1, 1), bias=False)\n",
              "                (bn): BatchNorm2d(64, eps=1e-05, momentum=0.1, affine=True, track_running_stats=True)\n",
              "              )\n",
              "            )\n",
              "            (shortcut): None\n",
              "          )\n",
              "        )\n",
              "      )\n",
              "      (1): ResNetLayer(\n",
              "        (blocks): Sequential(\n",
              "          (0): ResNetBasicBlock(\n",
              "            (blocks): Sequential(\n",
              "              (0): Sequential(\n",
              "                (conv): Conv2dAuto(64, 128, kernel_size=(3, 3), stride=(2, 2), padding=(1, 1), bias=False)\n",
              "                (bn): BatchNorm2d(128, eps=1e-05, momentum=0.1, affine=True, track_running_stats=True)\n",
              "              )\n",
              "              (1): ReLU()\n",
              "              (2): Sequential(\n",
              "                (conv): Conv2dAuto(128, 128, kernel_size=(3, 3), stride=(1, 1), padding=(1, 1), bias=False)\n",
              "                (bn): BatchNorm2d(128, eps=1e-05, momentum=0.1, affine=True, track_running_stats=True)\n",
              "              )\n",
              "            )\n",
              "            (shortcut): Sequential(\n",
              "              (conv): Conv2d(64, 128, kernel_size=(1, 1), stride=(2, 2), bias=False)\n",
              "              (bn): BatchNorm2d(128, eps=1e-05, momentum=0.1, affine=True, track_running_stats=True)\n",
              "            )\n",
              "          )\n",
              "          (1): ResNetBasicBlock(\n",
              "            (blocks): Sequential(\n",
              "              (0): Sequential(\n",
              "                (conv): Conv2dAuto(128, 128, kernel_size=(3, 3), stride=(1, 1), padding=(1, 1), bias=False)\n",
              "                (bn): BatchNorm2d(128, eps=1e-05, momentum=0.1, affine=True, track_running_stats=True)\n",
              "              )\n",
              "              (1): ReLU()\n",
              "              (2): Sequential(\n",
              "                (conv): Conv2dAuto(128, 128, kernel_size=(3, 3), stride=(1, 1), padding=(1, 1), bias=False)\n",
              "                (bn): BatchNorm2d(128, eps=1e-05, momentum=0.1, affine=True, track_running_stats=True)\n",
              "              )\n",
              "            )\n",
              "            (shortcut): None\n",
              "          )\n",
              "        )\n",
              "      )\n",
              "      (2): ResNetLayer(\n",
              "        (blocks): Sequential(\n",
              "          (0): ResNetBasicBlock(\n",
              "            (blocks): Sequential(\n",
              "              (0): Sequential(\n",
              "                (conv): Conv2dAuto(128, 256, kernel_size=(3, 3), stride=(2, 2), padding=(1, 1), bias=False)\n",
              "                (bn): BatchNorm2d(256, eps=1e-05, momentum=0.1, affine=True, track_running_stats=True)\n",
              "              )\n",
              "              (1): ReLU()\n",
              "              (2): Sequential(\n",
              "                (conv): Conv2dAuto(256, 256, kernel_size=(3, 3), stride=(1, 1), padding=(1, 1), bias=False)\n",
              "                (bn): BatchNorm2d(256, eps=1e-05, momentum=0.1, affine=True, track_running_stats=True)\n",
              "              )\n",
              "            )\n",
              "            (shortcut): Sequential(\n",
              "              (conv): Conv2d(128, 256, kernel_size=(1, 1), stride=(2, 2), bias=False)\n",
              "              (bn): BatchNorm2d(256, eps=1e-05, momentum=0.1, affine=True, track_running_stats=True)\n",
              "            )\n",
              "          )\n",
              "          (1): ResNetBasicBlock(\n",
              "            (blocks): Sequential(\n",
              "              (0): Sequential(\n",
              "                (conv): Conv2dAuto(256, 256, kernel_size=(3, 3), stride=(1, 1), padding=(1, 1), bias=False)\n",
              "                (bn): BatchNorm2d(256, eps=1e-05, momentum=0.1, affine=True, track_running_stats=True)\n",
              "              )\n",
              "              (1): ReLU()\n",
              "              (2): Sequential(\n",
              "                (conv): Conv2dAuto(256, 256, kernel_size=(3, 3), stride=(1, 1), padding=(1, 1), bias=False)\n",
              "                (bn): BatchNorm2d(256, eps=1e-05, momentum=0.1, affine=True, track_running_stats=True)\n",
              "              )\n",
              "            )\n",
              "            (shortcut): None\n",
              "          )\n",
              "        )\n",
              "      )\n",
              "      (3): ResNetLayer(\n",
              "        (blocks): Sequential(\n",
              "          (0): ResNetBasicBlock(\n",
              "            (blocks): Sequential(\n",
              "              (0): Sequential(\n",
              "                (conv): Conv2dAuto(256, 512, kernel_size=(3, 3), stride=(2, 2), padding=(1, 1), bias=False)\n",
              "                (bn): BatchNorm2d(512, eps=1e-05, momentum=0.1, affine=True, track_running_stats=True)\n",
              "              )\n",
              "              (1): ReLU()\n",
              "              (2): Sequential(\n",
              "                (conv): Conv2dAuto(512, 512, kernel_size=(3, 3), stride=(1, 1), padding=(1, 1), bias=False)\n",
              "                (bn): BatchNorm2d(512, eps=1e-05, momentum=0.1, affine=True, track_running_stats=True)\n",
              "              )\n",
              "            )\n",
              "            (shortcut): Sequential(\n",
              "              (conv): Conv2d(256, 512, kernel_size=(1, 1), stride=(2, 2), bias=False)\n",
              "              (bn): BatchNorm2d(512, eps=1e-05, momentum=0.1, affine=True, track_running_stats=True)\n",
              "            )\n",
              "          )\n",
              "          (1): ResNetBasicBlock(\n",
              "            (blocks): Sequential(\n",
              "              (0): Sequential(\n",
              "                (conv): Conv2dAuto(512, 512, kernel_size=(3, 3), stride=(1, 1), padding=(1, 1), bias=False)\n",
              "                (bn): BatchNorm2d(512, eps=1e-05, momentum=0.1, affine=True, track_running_stats=True)\n",
              "              )\n",
              "              (1): ReLU()\n",
              "              (2): Sequential(\n",
              "                (conv): Conv2dAuto(512, 512, kernel_size=(3, 3), stride=(1, 1), padding=(1, 1), bias=False)\n",
              "                (bn): BatchNorm2d(512, eps=1e-05, momentum=0.1, affine=True, track_running_stats=True)\n",
              "              )\n",
              "            )\n",
              "            (shortcut): None\n",
              "          )\n",
              "        )\n",
              "      )\n",
              "    )\n",
              "  )\n",
              ")"
            ]
          },
          "metadata": {
            "tags": []
          },
          "execution_count": 24
        }
      ]
    },
    {
      "cell_type": "code",
      "metadata": {
        "colab": {
          "base_uri": "https://localhost:8080/"
        },
        "id": "cs421fE6bc4x",
        "outputId": "4a58b285-47f0-4c87-9694-3b8c1ecae64a"
      },
      "source": [
        "features_list = []\n",
        "labels_list = []\n",
        "annot_list = []\n",
        "image_batches = []\n",
        "\n",
        "# Use GPUs to speed up the inference, this should take around 10 minutes\n",
        "\n",
        "model_conv_features.to(device)\n",
        "for batch in tqdm(val_dl):\n",
        "    image_batch, label_batch, annot_batch = [x[0] for x in batch], [x[1] for x in batch], [x[2] for x in batch]\n",
        "    image_batch = torch.stack(image_batch).to(device) \n",
        "\n",
        "    with torch.no_grad():\n",
        "        features_batch = model_conv_features(image_batch).flatten(start_dim=1)\n",
        "    features_list.append(features_batch)\n",
        "    labels_list.extend(label_batch)\n",
        "    annot_list.extend(annot_batch)\n",
        "    image_batches.extend(image_batch)"
      ],
      "execution_count": null,
      "outputs": [
        {
          "output_type": "stream",
          "text": [
            "100%|██████████| 327/327 [43:54<00:00,  8.06s/it]\n"
          ],
          "name": "stderr"
        }
      ]
    },
    {
      "cell_type": "code",
      "metadata": {
        "id": "T-ieDpAT0o0G"
      },
      "source": [
        "features = torch.cat(features_list)"
      ],
      "execution_count": null,
      "outputs": []
    },
    {
      "cell_type": "code",
      "metadata": {
        "colab": {
          "base_uri": "https://localhost:8080/"
        },
        "id": "ViFEnCLYkPlK",
        "outputId": "bfea14e2-e53f-4e73-b144-713e8d725a99"
      },
      "source": [
        "torch.equal(features[0], features[1])"
      ],
      "execution_count": null,
      "outputs": [
        {
          "output_type": "execute_result",
          "data": {
            "text/plain": [
              "False"
            ]
          },
          "metadata": {
            "tags": []
          },
          "execution_count": 28
        }
      ]
    },
    {
      "cell_type": "code",
      "metadata": {
        "colab": {
          "base_uri": "https://localhost:8080/"
        },
        "id": "0SQv3D2flufi",
        "outputId": "c8cd6b51-8b6b-4d54-dc2f-cd6d51ea10d1"
      },
      "source": [
        "features.size()"
      ],
      "execution_count": null,
      "outputs": [
        {
          "output_type": "execute_result",
          "data": {
            "text/plain": [
              "torch.Size([20874, 25088])"
            ]
          },
          "metadata": {
            "tags": []
          },
          "execution_count": 29
        }
      ]
    },
    {
      "cell_type": "markdown",
      "metadata": {
        "id": "J14F7I7xbomn"
      },
      "source": [
        "Save embeddings"
      ]
    },
    {
      "cell_type": "code",
      "metadata": {
        "id": "UI0EbQyB7lys"
      },
      "source": [
        "image_map = [item[0][\"image_id\"] for item in annot_list]\n",
        "embed_pos_to_image_id = dict(zip(range(len(image_map)), image_map))"
      ],
      "execution_count": null,
      "outputs": []
    },
    {
      "cell_type": "code",
      "metadata": {
        "colab": {
          "base_uri": "https://localhost:8080/"
        },
        "id": "4hpukAQRTkQ0",
        "outputId": "65b98881-c76e-464b-b51a-a362ef3c5878"
      },
      "source": [
        "torch.load(\"/content/mini-resnet18_embeddings-v2.pt\")"
      ],
      "execution_count": null,
      "outputs": [
        {
          "output_type": "execute_result",
          "data": {
            "text/plain": [
              "tensor([[0.6256, 0.5984, 0.5980,  ..., 0.1143, 0.1134, 0.1183],\n",
              "        [0.6259, 0.5989, 0.5987,  ..., 0.1157, 0.1151, 0.1201],\n",
              "        [0.6367, 0.7119, 0.7162,  ..., 0.0233, 0.1248, 0.0822],\n",
              "        ...,\n",
              "        [0.6255, 0.5981, 0.5977,  ..., 0.0514, 0.0568, 0.1260],\n",
              "        [0.6260, 0.5989, 0.5987,  ..., 0.1107, 0.1105, 0.1157],\n",
              "        [0.6262, 0.5924, 0.5920,  ..., 0.2199, 0.1700, 0.0825]])"
            ]
          },
          "metadata": {
            "tags": []
          },
          "execution_count": 41
        }
      ]
    },
    {
      "cell_type": "code",
      "metadata": {
        "id": "qfiHRu1wcZZE"
      },
      "source": [
        "model_name = \"mini-resnet18\"\n",
        "torch.save(features,\"{}_embeddings-v2.pt\".format(model_name))"
      ],
      "execution_count": null,
      "outputs": []
    },
    {
      "cell_type": "code",
      "metadata": {
        "id": "vGBNSwvT-BFA"
      },
      "source": [
        "import json\n",
        "\n",
        "with open('mini-resnet18_embeddings-v2.json', 'w') as fp:\n",
        "    json.dump(embed_pos_to_image_id, fp)"
      ],
      "execution_count": null,
      "outputs": []
    }
  ]
}