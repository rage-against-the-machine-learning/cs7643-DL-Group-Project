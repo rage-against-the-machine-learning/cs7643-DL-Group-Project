{
  "nbformat": 4,
  "nbformat_minor": 0,
  "metadata": {
    "accelerator": "TPU",
    "colab": {
      "name": "faiss_densenet_original.ipynb",
      "provenance": [],
      "collapsed_sections": [],
      "machine_shape": "hm",
      "include_colab_link": true
    },
    "kernelspec": {
      "display_name": "Python 3",
      "name": "python3"
    },
    "language_info": {
      "name": "python"
    }
  },
  "cells": [
    {
      "cell_type": "markdown",
      "metadata": {
        "id": "view-in-github",
        "colab_type": "text"
      },
      "source": [
        "<a href=\"https://colab.research.google.com/github/rage-against-the-machine-learning/cs7643-DL-Group-Project/blob/faiss_densenet/faiss_densenet_original.ipynb\" target=\"_parent\"><img src=\"https://colab.research.google.com/assets/colab-badge.svg\" alt=\"Open In Colab\"/></a>"
      ]
    },
    {
      "cell_type": "code",
      "metadata": {
        "colab": {
          "base_uri": "https://localhost:8080/"
        },
        "id": "fZaxA4MyCNqM",
        "outputId": "66e67f29-7ff3-4bcd-a43c-15a8e97dac0e"
      },
      "source": [
        "from google.colab import drive\n",
        "drive.mount('/content/drive')\n"
      ],
      "execution_count": 1,
      "outputs": [
        {
          "output_type": "stream",
          "text": [
            "Mounted at /content/drive\n"
          ],
          "name": "stdout"
        }
      ]
    },
    {
      "cell_type": "code",
      "metadata": {
        "id": "Ktt1E105-mh6"
      },
      "source": [
        "from google.colab.output import eval_js\n",
        "def shrink(height=\"300\"):\n",
        "    eval_js(f'google.colab.output.setIframeHeight({height})')"
      ],
      "execution_count": 2,
      "outputs": []
    },
    {
      "cell_type": "markdown",
      "metadata": {
        "id": "6w2S5STFSfi1"
      },
      "source": [
        "Get the data - only need to run once"
      ]
    },
    {
      "cell_type": "code",
      "metadata": {
        "id": "ukIKVD9NZL7Y"
      },
      "source": [
        "numpy_data_path = \"/content/drive/MyDrive/numpy_images\""
      ],
      "execution_count": 3,
      "outputs": []
    },
    {
      "cell_type": "markdown",
      "metadata": {
        "id": "2JE2Jd1cSwyR"
      },
      "source": [
        "Set up environment"
      ]
    },
    {
      "cell_type": "code",
      "metadata": {
        "colab": {
          "base_uri": "https://localhost:8080/",
          "height": 300
        },
        "id": "BsLL_jb7DRY5",
        "outputId": "cef85380-732c-4467-bd61-9f6cf1192e42"
      },
      "source": [
        "! pip install --upgrade pip\n",
        "! pip install torch torchvision torchsummary gca pandas numpy matplotlib seaborn scikit-learn==0.23.2 pycocotools tqdm umap-learn kneed\n",
        "! pip install git+https://github.com/waleedka/cocoapi.git#egg=pycocotools&subdirectory=PythonAPI\n",
        "# TODO: install the docem python package via github\n",
        "! pip list\n",
        "shrink()"
      ],
      "execution_count": 4,
      "outputs": [
        {
          "output_type": "stream",
          "text": [
            "Requirement already satisfied: pip in /usr/local/lib/python3.7/dist-packages (21.1.3)\n",
            "Collecting pip\n",
            "  Downloading pip-21.2.2-py3-none-any.whl (1.6 MB)\n",
            "\u001b[K     |████████████████████████████████| 1.6 MB 5.4 MB/s \n",
            "\u001b[?25hInstalling collected packages: pip\n",
            "  Attempting uninstall: pip\n",
            "    Found existing installation: pip 21.1.3\n",
            "    Uninstalling pip-21.1.3:\n",
            "      Successfully uninstalled pip-21.1.3\n",
            "Successfully installed pip-21.2.2\n",
            "Requirement already satisfied: torch in /usr/local/lib/python3.7/dist-packages (1.9.0+cu102)\n",
            "Requirement already satisfied: torchvision in /usr/local/lib/python3.7/dist-packages (0.10.0+cu102)\n",
            "Requirement already satisfied: torchsummary in /usr/local/lib/python3.7/dist-packages (1.5.1)\n",
            "Collecting gca\n",
            "  Downloading gca-0.1.tar.gz (8.7 kB)\n",
            "Requirement already satisfied: pandas in /usr/local/lib/python3.7/dist-packages (1.1.5)\n",
            "Requirement already satisfied: numpy in /usr/local/lib/python3.7/dist-packages (1.19.5)\n",
            "Requirement already satisfied: matplotlib in /usr/local/lib/python3.7/dist-packages (3.2.2)\n",
            "Requirement already satisfied: seaborn in /usr/local/lib/python3.7/dist-packages (0.11.1)\n",
            "Collecting scikit-learn==0.23.2\n",
            "  Downloading scikit_learn-0.23.2-cp37-cp37m-manylinux1_x86_64.whl (6.8 MB)\n",
            "\u001b[K     |████████████████████████████████| 6.8 MB 5.2 MB/s \n",
            "\u001b[?25hRequirement already satisfied: pycocotools in /usr/local/lib/python3.7/dist-packages (2.0.2)\n",
            "Requirement already satisfied: tqdm in /usr/local/lib/python3.7/dist-packages (4.41.1)\n",
            "Collecting umap-learn\n",
            "  Downloading umap-learn-0.5.1.tar.gz (80 kB)\n",
            "\u001b[K     |████████████████████████████████| 80 kB 9.3 MB/s \n",
            "\u001b[?25hCollecting kneed\n",
            "  Downloading kneed-0.7.0-py2.py3-none-any.whl (9.4 kB)\n",
            "Collecting threadpoolctl>=2.0.0\n",
            "  Downloading threadpoolctl-2.2.0-py3-none-any.whl (12 kB)\n",
            "Requirement already satisfied: scipy>=0.19.1 in /usr/local/lib/python3.7/dist-packages (from scikit-learn==0.23.2) (1.4.1)\n",
            "Requirement already satisfied: joblib>=0.11 in /usr/local/lib/python3.7/dist-packages (from scikit-learn==0.23.2) (1.0.1)\n",
            "Requirement already satisfied: typing-extensions in /usr/local/lib/python3.7/dist-packages (from torch) (3.7.4.3)\n",
            "Requirement already satisfied: pillow>=5.3.0 in /usr/local/lib/python3.7/dist-packages (from torchvision) (7.1.2)\n",
            "Requirement already satisfied: pytz>=2017.2 in /usr/local/lib/python3.7/dist-packages (from pandas) (2018.9)\n",
            "Requirement already satisfied: python-dateutil>=2.7.3 in /usr/local/lib/python3.7/dist-packages (from pandas) (2.8.1)\n",
            "Requirement already satisfied: cycler>=0.10 in /usr/local/lib/python3.7/dist-packages (from matplotlib) (0.10.0)\n",
            "Requirement already satisfied: pyparsing!=2.0.4,!=2.1.2,!=2.1.6,>=2.0.1 in /usr/local/lib/python3.7/dist-packages (from matplotlib) (2.4.7)\n",
            "Requirement already satisfied: kiwisolver>=1.0.1 in /usr/local/lib/python3.7/dist-packages (from matplotlib) (1.3.1)\n",
            "Requirement already satisfied: cython>=0.27.3 in /usr/local/lib/python3.7/dist-packages (from pycocotools) (0.29.23)\n",
            "Requirement already satisfied: setuptools>=18.0 in /usr/local/lib/python3.7/dist-packages (from pycocotools) (57.2.0)\n",
            "Requirement already satisfied: numba>=0.49 in /usr/local/lib/python3.7/dist-packages (from umap-learn) (0.51.2)\n",
            "Collecting pynndescent>=0.5\n",
            "  Downloading pynndescent-0.5.4.tar.gz (1.1 MB)\n",
            "\u001b[K     |████████████████████████████████| 1.1 MB 66.8 MB/s \n",
            "\u001b[?25hRequirement already satisfied: six in /usr/local/lib/python3.7/dist-packages (from cycler>=0.10->matplotlib) (1.15.0)\n",
            "Requirement already satisfied: llvmlite<0.35,>=0.34.0.dev0 in /usr/local/lib/python3.7/dist-packages (from numba>=0.49->umap-learn) (0.34.0)\n",
            "Building wheels for collected packages: gca, umap-learn, pynndescent\n",
            "  Building wheel for gca (setup.py) ... \u001b[?25l\u001b[?25hdone\n",
            "  Created wheel for gca: filename=gca-0.1-py3-none-any.whl size=12304 sha256=0fc544eb4297cae6ef2240d5efd4d3fa980f2462c153b98c79677d4ff44ab515\n",
            "  Stored in directory: /root/.cache/pip/wheels/68/85/d1/f5ac3c697ed91a030ee4b8b4055ebc9f4335b6185f9064609a\n",
            "  Building wheel for umap-learn (setup.py) ... \u001b[?25l\u001b[?25hdone\n",
            "  Created wheel for umap-learn: filename=umap_learn-0.5.1-py3-none-any.whl size=76566 sha256=abc9fd627ef398f415f3c9fa1321e58d7b5f4675de70cd701c46ff2443d5333b\n",
            "  Stored in directory: /root/.cache/pip/wheels/01/e7/bb/347dc0e510803d7116a13d592b10cc68262da56a8eec4dd72f\n",
            "  Building wheel for pynndescent (setup.py) ... \u001b[?25l\u001b[?25hdone\n",
            "  Created wheel for pynndescent: filename=pynndescent-0.5.4-py3-none-any.whl size=52372 sha256=b79506e824017aa8d54fe12aae4dd0700b6b3d716f890f2ceba1e7d9ac39c8bb\n",
            "  Stored in directory: /root/.cache/pip/wheels/d0/5b/62/3401692ddad12324249c774c4b15ccb046946021e2b581c043\n",
            "Successfully built gca umap-learn pynndescent\n",
            "Installing collected packages: threadpoolctl, scikit-learn, pynndescent, umap-learn, kneed, gca\n",
            "  Attempting uninstall: scikit-learn\n",
            "    Found existing installation: scikit-learn 0.22.2.post1\n",
            "    Uninstalling scikit-learn-0.22.2.post1:\n",
            "      Successfully uninstalled scikit-learn-0.22.2.post1\n",
            "Successfully installed gca-0.1 kneed-0.7.0 pynndescent-0.5.4 scikit-learn-0.23.2 threadpoolctl-2.2.0 umap-learn-0.5.1\n",
            "\u001b[33mWARNING: Running pip as the 'root' user can result in broken permissions and conflicting behaviour with the system package manager. It is recommended to use a virtual environment instead: https://pip.pypa.io/warnings/venv\u001b[0m\n",
            "Collecting pycocotools\n",
            "  Cloning https://github.com/waleedka/cocoapi.git to /tmp/pip-install-m3o0j8gk/pycocotools_f37dcae0112e4c9da1e1e513e6b7aec1\n",
            "  Running command git clone -q https://github.com/waleedka/cocoapi.git /tmp/pip-install-m3o0j8gk/pycocotools_f37dcae0112e4c9da1e1e513e6b7aec1\n",
            "  fatal: could not read Username for 'https://github.com': No such device or address\n",
            "\u001b[33mWARNING: Discarding git+https://github.com/waleedka/cocoapi.git#egg=pycocotools. Command errored out with exit status 128: git clone -q https://github.com/waleedka/cocoapi.git /tmp/pip-install-m3o0j8gk/pycocotools_f37dcae0112e4c9da1e1e513e6b7aec1 Check the logs for full command output.\u001b[0m\n",
            "\u001b[31mERROR: Could not find a version that satisfies the requirement pycocotools (unavailable) (from versions: 2.0.0, 2.0.1, 2.0.2a1, 2.0.2)\u001b[0m\n",
            "\u001b[31mERROR: No matching distribution found for pycocotools (unavailable)\u001b[0m\n",
            "Package                       Version\n",
            "----------------------------- -------------------\n",
            "absl-py                       0.12.0\n",
            "alabaster                     0.7.12\n",
            "albumentations                0.1.12\n",
            "altair                        4.1.0\n",
            "appdirs                       1.4.4\n",
            "argon2-cffi                   20.1.0\n",
            "arviz                         0.11.2\n",
            "astor                         0.8.1\n",
            "astropy                       4.2.1\n",
            "astunparse                    1.6.3\n",
            "async-generator               1.10\n",
            "atari-py                      0.2.9\n",
            "atomicwrites                  1.4.0\n",
            "attrs                         21.2.0\n",
            "audioread                     2.1.9\n",
            "autograd                      1.3\n",
            "Babel                         2.9.1\n",
            "backcall                      0.2.0\n",
            "beautifulsoup4                4.6.3\n",
            "bleach                        3.3.0\n",
            "blis                          0.4.1\n",
            "bokeh                         2.3.3\n",
            "Bottleneck                    1.3.2\n",
            "branca                        0.4.2\n",
            "bs4                           0.0.1\n",
            "CacheControl                  0.12.6\n",
            "cached-property               1.5.2\n",
            "cachetools                    4.2.2\n",
            "catalogue                     1.0.0\n",
            "certifi                       2021.5.30\n",
            "cffi                          1.14.6\n",
            "cftime                        1.5.0\n",
            "chardet                       3.0.4\n",
            "charset-normalizer            2.0.2\n",
            "click                         7.1.2\n",
            "cloudpickle                   1.3.0\n",
            "cmake                         3.12.0\n",
            "cmdstanpy                     0.9.5\n",
            "colorcet                      2.0.6\n",
            "colorlover                    0.3.0\n",
            "community                     1.0.0b1\n",
            "contextlib2                   0.5.5\n",
            "convertdate                   2.3.2\n",
            "coverage                      3.7.1\n",
            "coveralls                     0.5\n",
            "crcmod                        1.7\n",
            "cufflinks                     0.17.3\n",
            "cvxopt                        1.2.6\n",
            "cvxpy                         1.0.31\n",
            "cycler                        0.10.0\n",
            "cymem                         2.0.5\n",
            "Cython                        0.29.23\n",
            "daft                          0.0.4\n",
            "dask                          2.12.0\n",
            "datascience                   0.10.6\n",
            "debugpy                       1.0.0\n",
            "decorator                     4.4.2\n",
            "defusedxml                    0.7.1\n",
            "descartes                     1.1.0\n",
            "dill                          0.3.4\n",
            "distributed                   1.25.3\n",
            "dlib                          19.18.0\n",
            "dm-tree                       0.1.6\n",
            "docopt                        0.6.2\n",
            "docutils                      0.17.1\n",
            "dopamine-rl                   1.0.5\n",
            "earthengine-api               0.1.272\n",
            "easydict                      1.9\n",
            "ecos                          2.0.7.post1\n",
            "editdistance                  0.5.3\n",
            "en-core-web-sm                2.2.5\n",
            "entrypoints                   0.3\n",
            "ephem                         4.0.0.2\n",
            "et-xmlfile                    1.1.0\n",
            "fa2                           0.3.5\n",
            "fastai                        1.0.61\n",
            "fastdtw                       0.3.4\n",
            "fastprogress                  1.0.0\n",
            "fastrlock                     0.6\n",
            "fbprophet                     0.7.1\n",
            "feather-format                0.4.1\n",
            "filelock                      3.0.12\n",
            "firebase-admin                4.4.0\n",
            "fix-yahoo-finance             0.0.22\n",
            "Flask                         1.1.4\n",
            "flatbuffers                   1.12\n",
            "folium                        0.8.3\n",
            "future                        0.16.0\n",
            "gast                          0.4.0\n",
            "gca                           0.1\n",
            "GDAL                          2.2.2\n",
            "gdown                         3.6.4\n",
            "gensim                        3.6.0\n",
            "geographiclib                 1.52\n",
            "geopy                         1.17.0\n",
            "gin-config                    0.4.0\n",
            "glob2                         0.7\n",
            "google                        2.0.3\n",
            "google-api-core               1.26.3\n",
            "google-api-python-client      1.12.8\n",
            "google-auth                   1.32.1\n",
            "google-auth-httplib2          0.0.4\n",
            "google-auth-oauthlib          0.4.4\n",
            "google-cloud-bigquery         1.21.0\n",
            "google-cloud-bigquery-storage 1.1.0\n",
            "google-cloud-core             1.0.3\n",
            "google-cloud-datastore        1.8.0\n",
            "google-cloud-firestore        1.7.0\n",
            "google-cloud-language         1.2.0\n",
            "google-cloud-storage          1.18.1\n",
            "google-cloud-translate        1.5.0\n",
            "google-colab                  1.0.0\n",
            "google-pasta                  0.2.0\n",
            "google-resumable-media        0.4.1\n",
            "googleapis-common-protos      1.53.0\n",
            "googledrivedownloader         0.4\n",
            "graphviz                      0.10.1\n",
            "greenlet                      1.1.0\n",
            "grpcio                        1.34.1\n",
            "gspread                       3.0.1\n",
            "gspread-dataframe             3.0.8\n",
            "gym                           0.17.3\n",
            "h5py                          3.1.0\n",
            "HeapDict                      1.0.1\n",
            "hijri-converter               2.1.3\n",
            "holidays                      0.10.5.2\n",
            "holoviews                     1.14.4\n",
            "html5lib                      1.0.1\n",
            "httpimport                    0.5.18\n",
            "httplib2                      0.17.4\n",
            "httplib2shim                  0.0.3\n",
            "humanize                      0.5.1\n",
            "hyperopt                      0.1.2\n",
            "ideep4py                      2.0.0.post3\n",
            "idna                          2.10\n",
            "imageio                       2.4.1\n",
            "imagesize                     1.2.0\n",
            "imbalanced-learn              0.4.3\n",
            "imblearn                      0.0\n",
            "imgaug                        0.2.9\n",
            "importlib-metadata            4.6.1\n",
            "importlib-resources           5.2.0\n",
            "imutils                       0.5.4\n",
            "inflect                       2.1.0\n",
            "iniconfig                     1.1.1\n",
            "install                       1.3.4\n",
            "intel-openmp                  2021.3.0\n",
            "intervaltree                  2.1.0\n",
            "ipykernel                     4.10.1\n",
            "ipython                       5.5.0\n",
            "ipython-genutils              0.2.0\n",
            "ipython-sql                   0.3.9\n",
            "ipywidgets                    7.6.3\n",
            "itsdangerous                  1.1.0\n",
            "jax                           0.2.17\n",
            "jaxlib                        0.1.69+cuda110\n",
            "jdcal                         1.4.1\n",
            "jedi                          0.18.0\n",
            "jieba                         0.42.1\n",
            "Jinja2                        2.11.3\n",
            "joblib                        1.0.1\n",
            "jpeg4py                       0.1.4\n",
            "jsonschema                    2.6.0\n",
            "jupyter                       1.0.0\n",
            "jupyter-client                5.3.5\n",
            "jupyter-console               5.2.0\n",
            "jupyter-core                  4.7.1\n",
            "jupyterlab-pygments           0.1.2\n",
            "jupyterlab-widgets            1.0.0\n",
            "kaggle                        1.5.12\n",
            "kapre                         0.3.5\n",
            "Keras                         2.4.3\n",
            "keras-nightly                 2.5.0.dev2021032900\n",
            "Keras-Preprocessing           1.1.2\n",
            "keras-vis                     0.4.1\n",
            "kiwisolver                    1.3.1\n",
            "kneed                         0.7.0\n",
            "korean-lunar-calendar         0.2.1\n",
            "librosa                       0.8.1\n",
            "lightgbm                      2.2.3\n",
            "llvmlite                      0.34.0\n",
            "lmdb                          0.99\n",
            "LunarCalendar                 0.0.9\n",
            "lxml                          4.2.6\n",
            "Markdown                      3.3.4\n",
            "MarkupSafe                    2.0.1\n",
            "matplotlib                    3.2.2\n",
            "matplotlib-inline             0.1.2\n",
            "matplotlib-venn               0.11.6\n",
            "missingno                     0.5.0\n",
            "mistune                       0.8.4\n",
            "mizani                        0.6.0\n",
            "mkl                           2019.0\n",
            "mlxtend                       0.14.0\n",
            "more-itertools                8.8.0\n",
            "moviepy                       0.2.3.5\n",
            "mpmath                        1.2.1\n",
            "msgpack                       1.0.2\n",
            "multiprocess                  0.70.12.2\n",
            "multitasking                  0.0.9\n",
            "murmurhash                    1.0.5\n",
            "music21                       5.5.0\n",
            "natsort                       5.5.0\n",
            "nbclient                      0.5.3\n",
            "nbconvert                     5.6.1\n",
            "nbformat                      5.1.3\n",
            "nest-asyncio                  1.5.1\n",
            "netCDF4                       1.5.7\n",
            "networkx                      2.5.1\n",
            "nibabel                       3.0.2\n",
            "nltk                          3.2.5\n",
            "notebook                      5.3.1\n",
            "numba                         0.51.2\n",
            "numexpr                       2.7.3\n",
            "numpy                         1.19.5\n",
            "nvidia-ml-py3                 7.352.0\n",
            "oauth2client                  4.1.3\n",
            "oauthlib                      3.1.1\n",
            "okgrade                       0.4.3\n",
            "opencv-contrib-python         4.1.2.30\n",
            "opencv-python                 4.1.2.30\n",
            "openpyxl                      2.5.9\n",
            "opt-einsum                    3.3.0\n",
            "osqp                          0.6.2.post0\n",
            "packaging                     21.0\n",
            "palettable                    3.3.0\n",
            "pandas                        1.1.5\n",
            "pandas-datareader             0.9.0\n",
            "pandas-gbq                    0.13.3\n",
            "pandas-profiling              1.4.1\n",
            "pandocfilters                 1.4.3\n",
            "panel                         0.11.3\n",
            "param                         1.11.1\n",
            "parso                         0.8.2\n",
            "pathlib                       1.0.1\n",
            "patsy                         0.5.1\n",
            "pexpect                       4.8.0\n",
            "pickleshare                   0.7.5\n",
            "Pillow                        7.1.2\n",
            "pip                           21.2.2\n",
            "pip-tools                     4.5.1\n",
            "plac                          1.1.3\n",
            "plotly                        4.4.1\n",
            "plotnine                      0.6.0\n",
            "pluggy                        0.7.1\n",
            "pooch                         1.4.0\n",
            "portpicker                    1.3.9\n",
            "prefetch-generator            1.0.1\n",
            "preshed                       3.0.5\n",
            "prettytable                   2.1.0\n",
            "progressbar2                  3.38.0\n",
            "prometheus-client             0.11.0\n",
            "promise                       2.3\n",
            "prompt-toolkit                1.0.18\n",
            "protobuf                      3.17.3\n",
            "psutil                        5.4.8\n",
            "psycopg2                      2.7.6.1\n",
            "ptyprocess                    0.7.0\n",
            "py                            1.10.0\n",
            "pyarrow                       3.0.0\n",
            "pyasn1                        0.4.8\n",
            "pyasn1-modules                0.2.8\n",
            "pycocotools                   2.0.2\n",
            "pycparser                     2.20\n",
            "pyct                          0.4.8\n",
            "pydata-google-auth            1.2.0\n",
            "pydot                         1.3.0\n",
            "pydot-ng                      2.0.0\n",
            "pydotplus                     2.0.2\n",
            "PyDrive                       1.3.1\n",
            "pyemd                         0.5.1\n",
            "pyerfa                        2.0.0\n",
            "pyglet                        1.5.0\n",
            "Pygments                      2.6.1\n",
            "PyGObject                     3.26.1\n",
            "pymc3                         3.11.2\n",
            "PyMeeus                       0.5.11\n",
            "pymongo                       3.11.4\n",
            "pymystem3                     0.2.0\n",
            "pynndescent                   0.5.4\n",
            "PyOpenGL                      3.1.5\n",
            "pyparsing                     2.4.7\n",
            "pyrsistent                    0.18.0\n",
            "pysndfile                     1.3.8\n",
            "PySocks                       1.7.1\n",
            "pystan                        2.19.1.1\n",
            "pytest                        3.6.4\n",
            "python-apt                    0.0.0\n",
            "python-chess                  0.23.11\n",
            "python-dateutil               2.8.1\n",
            "python-louvain                0.15\n",
            "python-slugify                5.0.2\n",
            "python-utils                  2.5.6\n",
            "pytz                          2018.9\n",
            "pyviz-comms                   2.1.0\n",
            "PyWavelets                    1.1.1\n",
            "PyYAML                        3.13\n",
            "pyzmq                         22.1.0\n",
            "qdldl                         0.1.5.post0\n",
            "qtconsole                     5.1.1\n",
            "QtPy                          1.9.0\n",
            "regex                         2019.12.20\n",
            "requests                      2.23.0\n",
            "requests-oauthlib             1.3.0\n",
            "resampy                       0.2.2\n",
            "retrying                      1.3.3\n",
            "rpy2                          3.4.5\n",
            "rsa                           4.7.2\n",
            "scikit-image                  0.16.2\n",
            "scikit-learn                  0.23.2\n",
            "scipy                         1.4.1\n",
            "screen-resolution-extra       0.0.0\n",
            "scs                           2.1.4\n",
            "seaborn                       0.11.1\n",
            "semver                        2.13.0\n",
            "Send2Trash                    1.7.1\n",
            "setuptools                    57.2.0\n",
            "setuptools-git                1.2\n",
            "Shapely                       1.7.1\n",
            "simplegeneric                 0.8.1\n",
            "six                           1.15.0\n",
            "sklearn                       0.0\n",
            "sklearn-pandas                1.8.0\n",
            "smart-open                    5.1.0\n",
            "snowballstemmer               2.1.0\n",
            "sortedcontainers              2.4.0\n",
            "SoundFile                     0.10.3.post1\n",
            "spacy                         2.2.4\n",
            "Sphinx                        1.8.5\n",
            "sphinxcontrib-serializinghtml 1.1.5\n",
            "sphinxcontrib-websupport      1.2.4\n",
            "SQLAlchemy                    1.4.20\n",
            "sqlparse                      0.4.1\n",
            "srsly                         1.0.5\n",
            "statsmodels                   0.10.2\n",
            "sympy                         1.7.1\n",
            "tables                        3.4.4\n",
            "tabulate                      0.8.9\n",
            "tblib                         1.7.0\n",
            "tensorboard                   2.5.0\n",
            "tensorboard-data-server       0.6.1\n",
            "tensorboard-plugin-wit        1.8.0\n",
            "tensorflow                    2.5.0\n",
            "tensorflow-datasets           4.0.1\n",
            "tensorflow-estimator          2.5.0\n",
            "tensorflow-gcs-config         2.5.0\n",
            "tensorflow-hub                0.12.0\n",
            "tensorflow-metadata           1.1.0\n",
            "tensorflow-probability        0.13.0\n",
            "termcolor                     1.1.0\n",
            "terminado                     0.10.1\n",
            "testpath                      0.5.0\n",
            "text-unidecode                1.3\n",
            "textblob                      0.15.3\n",
            "Theano-PyMC                   1.1.2\n",
            "thinc                         7.4.0\n",
            "threadpoolctl                 2.2.0\n",
            "tifffile                      2021.7.2\n",
            "toml                          0.10.2\n",
            "toolz                         0.11.1\n",
            "torch                         1.9.0+cu102\n",
            "torchsummary                  1.5.1\n",
            "torchtext                     0.10.0\n",
            "torchvision                   0.10.0+cu102\n",
            "tornado                       5.1.1\n",
            "tqdm                          4.41.1\n",
            "traitlets                     5.0.5\n",
            "tweepy                        3.10.0\n",
            "typeguard                     2.7.1\n",
            "typing-extensions             3.7.4.3\n",
            "tzlocal                       1.5.1\n",
            "umap-learn                    0.5.1\n",
            "uritemplate                   3.0.1\n",
            "urllib3                       1.24.3\n",
            "vega-datasets                 0.9.0\n",
            "wasabi                        0.8.2\n",
            "wcwidth                       0.2.5\n",
            "webencodings                  0.5.1\n",
            "Werkzeug                      1.0.1\n",
            "wheel                         0.36.2\n",
            "widgetsnbextension            3.5.1\n",
            "wordcloud                     1.5.0\n",
            "wrapt                         1.12.1\n",
            "xarray                        0.18.2\n",
            "xgboost                       0.90\n",
            "xkit                          0.0.0\n",
            "xlrd                          1.1.0\n",
            "xlwt                          1.3.0\n",
            "yellowbrick                   0.9.1\n",
            "zict                          2.0.0\n",
            "zipp                          3.5.0\n"
          ],
          "name": "stdout"
        }
      ]
    },
    {
      "cell_type": "markdown",
      "metadata": {
        "id": "fqlksMouDctC"
      },
      "source": [
        "Choose a GPU runtime"
      ]
    },
    {
      "cell_type": "code",
      "metadata": {
        "colab": {
          "base_uri": "https://localhost:8080/"
        },
        "id": "zNZxLEJ3DbgQ",
        "outputId": "5fd276ef-f0f8-4927-ebf0-780de3f251cd"
      },
      "source": [
        "import torch\n",
        "device = torch.device(\"cuda:0\" if torch.cuda.is_available() else \"cpu\")\n",
        "if torch.cuda.is_available():\n",
        "    print(torch.cuda.current_device())\n",
        "    print(torch.cuda.device_count())\n",
        "    print(torch.cuda.get_device_name(0))\n",
        "    \n",
        "device"
      ],
      "execution_count": 5,
      "outputs": [
        {
          "output_type": "execute_result",
          "data": {
            "text/plain": [
              "device(type='cpu')"
            ]
          },
          "metadata": {
            "tags": []
          },
          "execution_count": 5
        }
      ]
    },
    {
      "cell_type": "code",
      "metadata": {
        "id": "SEr1j4i_G6OO"
      },
      "source": [
        "import os\n",
        "import multiprocessing as mp\n",
        "import random\n",
        "import sys"
      ],
      "execution_count": 6,
      "outputs": []
    },
    {
      "cell_type": "code",
      "metadata": {
        "id": "JrToywvUG6K6"
      },
      "source": [
        "import numpy as np\n",
        "import matplotlib.pyplot as plt\n",
        "from pycocotools.coco import COCO\n",
        "import torch \n",
        "from torch.utils.data import Dataset, DataLoader\n",
        "from tqdm import tqdm"
      ],
      "execution_count": 7,
      "outputs": []
    },
    {
      "cell_type": "code",
      "metadata": {
        "colab": {
          "base_uri": "https://localhost:8080/",
          "height": 458
        },
        "id": "H6_3Z5rjKQmY",
        "outputId": "f717bbd3-6a34-48f6-bca9-b7ff2ee2d0e6"
      },
      "source": [
        "import os\n",
        "import json\n",
        "print(os.getcwd())\n",
        "\n",
        "os.chdir(\"/content/drive/MyDrive/numpy_images/\")\n",
        "print(os.listdir())\n",
        "\n",
        "embeddings_path = \"densenet_pretrained_validation.pt\"\n",
        "mapping_path = \"densenet_pretrained_index2cocoIDs.json\"\n",
        "embeddings = torch.load(embeddings_path,map_location=torch.device('cuda'))\n",
        "\n",
        "with open(mapping_path, 'r') as fp:\n",
        "    idx2Img = json.load(fp)\n",
        "    \n",
        "idx2Img = dict(zip(list(map(int, idx2Img.keys())), list(idx2Img.values())))\n",
        "#print(idx2Img)\n"
      ],
      "execution_count": 9,
      "outputs": [
        {
          "output_type": "stream",
          "text": [
            "/content/drive/My Drive/numpy_images\n",
            "['densenet_pretrained_embs_len_50176.pt', 'data', 'annotations', 'resnext_embeddings.json', 'resnext_embeddings.pt', 'di_index2cocoIDs.json', 'di_embed_val_batch_41.pt', 'faiss.ipynb', 'id_imagecocoid_mapping.npy', 'val_img_emb.pkl', 'densenet_pretrained_index2cocoIDs.json', 'densenet_pretrained_validation.pt']\n"
          ],
          "name": "stdout"
        },
        {
          "output_type": "error",
          "ename": "RuntimeError",
          "evalue": "ignored",
          "traceback": [
            "\u001b[0;31m---------------------------------------------------------------------------\u001b[0m",
            "\u001b[0;31mRuntimeError\u001b[0m                              Traceback (most recent call last)",
            "\u001b[0;32m<ipython-input-9-d8f8e197cff6>\u001b[0m in \u001b[0;36m<module>\u001b[0;34m()\u001b[0m\n\u001b[1;32m      8\u001b[0m \u001b[0membeddings_path\u001b[0m \u001b[0;34m=\u001b[0m \u001b[0;34m\"densenet_pretrained_validation.pt\"\u001b[0m\u001b[0;34m\u001b[0m\u001b[0;34m\u001b[0m\u001b[0m\n\u001b[1;32m      9\u001b[0m \u001b[0mmapping_path\u001b[0m \u001b[0;34m=\u001b[0m \u001b[0;34m\"densenet_pretrained_index2cocoIDs.json\"\u001b[0m\u001b[0;34m\u001b[0m\u001b[0;34m\u001b[0m\u001b[0m\n\u001b[0;32m---> 10\u001b[0;31m \u001b[0membeddings\u001b[0m \u001b[0;34m=\u001b[0m \u001b[0mtorch\u001b[0m\u001b[0;34m.\u001b[0m\u001b[0mload\u001b[0m\u001b[0;34m(\u001b[0m\u001b[0membeddings_path\u001b[0m\u001b[0;34m,\u001b[0m\u001b[0mmap_location\u001b[0m\u001b[0;34m=\u001b[0m\u001b[0mtorch\u001b[0m\u001b[0;34m.\u001b[0m\u001b[0mdevice\u001b[0m\u001b[0;34m(\u001b[0m\u001b[0;34m'cuda'\u001b[0m\u001b[0;34m)\u001b[0m\u001b[0;34m)\u001b[0m\u001b[0;34m\u001b[0m\u001b[0;34m\u001b[0m\u001b[0m\n\u001b[0m\u001b[1;32m     11\u001b[0m \u001b[0;34m\u001b[0m\u001b[0m\n\u001b[1;32m     12\u001b[0m \u001b[0;32mwith\u001b[0m \u001b[0mopen\u001b[0m\u001b[0;34m(\u001b[0m\u001b[0mmapping_path\u001b[0m\u001b[0;34m,\u001b[0m \u001b[0;34m'r'\u001b[0m\u001b[0;34m)\u001b[0m \u001b[0;32mas\u001b[0m \u001b[0mfp\u001b[0m\u001b[0;34m:\u001b[0m\u001b[0;34m\u001b[0m\u001b[0;34m\u001b[0m\u001b[0m\n",
            "\u001b[0;32m/usr/local/lib/python3.7/dist-packages/torch/serialization.py\u001b[0m in \u001b[0;36mload\u001b[0;34m(f, map_location, pickle_module, **pickle_load_args)\u001b[0m\n\u001b[1;32m    605\u001b[0m                     \u001b[0mopened_file\u001b[0m\u001b[0;34m.\u001b[0m\u001b[0mseek\u001b[0m\u001b[0;34m(\u001b[0m\u001b[0morig_position\u001b[0m\u001b[0;34m)\u001b[0m\u001b[0;34m\u001b[0m\u001b[0;34m\u001b[0m\u001b[0m\n\u001b[1;32m    606\u001b[0m                     \u001b[0;32mreturn\u001b[0m \u001b[0mtorch\u001b[0m\u001b[0;34m.\u001b[0m\u001b[0mjit\u001b[0m\u001b[0;34m.\u001b[0m\u001b[0mload\u001b[0m\u001b[0;34m(\u001b[0m\u001b[0mopened_file\u001b[0m\u001b[0;34m)\u001b[0m\u001b[0;34m\u001b[0m\u001b[0;34m\u001b[0m\u001b[0m\n\u001b[0;32m--> 607\u001b[0;31m                 \u001b[0;32mreturn\u001b[0m \u001b[0m_load\u001b[0m\u001b[0;34m(\u001b[0m\u001b[0mopened_zipfile\u001b[0m\u001b[0;34m,\u001b[0m \u001b[0mmap_location\u001b[0m\u001b[0;34m,\u001b[0m \u001b[0mpickle_module\u001b[0m\u001b[0;34m,\u001b[0m \u001b[0;34m**\u001b[0m\u001b[0mpickle_load_args\u001b[0m\u001b[0;34m)\u001b[0m\u001b[0;34m\u001b[0m\u001b[0;34m\u001b[0m\u001b[0m\n\u001b[0m\u001b[1;32m    608\u001b[0m         \u001b[0;32mreturn\u001b[0m \u001b[0m_legacy_load\u001b[0m\u001b[0;34m(\u001b[0m\u001b[0mopened_file\u001b[0m\u001b[0;34m,\u001b[0m \u001b[0mmap_location\u001b[0m\u001b[0;34m,\u001b[0m \u001b[0mpickle_module\u001b[0m\u001b[0;34m,\u001b[0m \u001b[0;34m**\u001b[0m\u001b[0mpickle_load_args\u001b[0m\u001b[0;34m)\u001b[0m\u001b[0;34m\u001b[0m\u001b[0;34m\u001b[0m\u001b[0m\n\u001b[1;32m    609\u001b[0m \u001b[0;34m\u001b[0m\u001b[0m\n",
            "\u001b[0;32m/usr/local/lib/python3.7/dist-packages/torch/serialization.py\u001b[0m in \u001b[0;36m_load\u001b[0;34m(zip_file, map_location, pickle_module, pickle_file, **pickle_load_args)\u001b[0m\n\u001b[1;32m    880\u001b[0m     \u001b[0munpickler\u001b[0m \u001b[0;34m=\u001b[0m \u001b[0mUnpicklerWrapper\u001b[0m\u001b[0;34m(\u001b[0m\u001b[0mdata_file\u001b[0m\u001b[0;34m,\u001b[0m \u001b[0;34m**\u001b[0m\u001b[0mpickle_load_args\u001b[0m\u001b[0;34m)\u001b[0m\u001b[0;34m\u001b[0m\u001b[0;34m\u001b[0m\u001b[0m\n\u001b[1;32m    881\u001b[0m     \u001b[0munpickler\u001b[0m\u001b[0;34m.\u001b[0m\u001b[0mpersistent_load\u001b[0m \u001b[0;34m=\u001b[0m \u001b[0mpersistent_load\u001b[0m\u001b[0;34m\u001b[0m\u001b[0;34m\u001b[0m\u001b[0m\n\u001b[0;32m--> 882\u001b[0;31m     \u001b[0mresult\u001b[0m \u001b[0;34m=\u001b[0m \u001b[0munpickler\u001b[0m\u001b[0;34m.\u001b[0m\u001b[0mload\u001b[0m\u001b[0;34m(\u001b[0m\u001b[0;34m)\u001b[0m\u001b[0;34m\u001b[0m\u001b[0;34m\u001b[0m\u001b[0m\n\u001b[0m\u001b[1;32m    883\u001b[0m \u001b[0;34m\u001b[0m\u001b[0m\n\u001b[1;32m    884\u001b[0m     \u001b[0mtorch\u001b[0m\u001b[0;34m.\u001b[0m\u001b[0m_utils\u001b[0m\u001b[0;34m.\u001b[0m\u001b[0m_validate_loaded_sparse_tensors\u001b[0m\u001b[0;34m(\u001b[0m\u001b[0;34m)\u001b[0m\u001b[0;34m\u001b[0m\u001b[0;34m\u001b[0m\u001b[0m\n",
            "\u001b[0;32m/usr/local/lib/python3.7/dist-packages/torch/serialization.py\u001b[0m in \u001b[0;36mpersistent_load\u001b[0;34m(saved_id)\u001b[0m\n\u001b[1;32m    855\u001b[0m         \u001b[0mdata_type\u001b[0m\u001b[0;34m,\u001b[0m \u001b[0mkey\u001b[0m\u001b[0;34m,\u001b[0m \u001b[0mlocation\u001b[0m\u001b[0;34m,\u001b[0m \u001b[0msize\u001b[0m \u001b[0;34m=\u001b[0m \u001b[0mdata\u001b[0m\u001b[0;34m\u001b[0m\u001b[0;34m\u001b[0m\u001b[0m\n\u001b[1;32m    856\u001b[0m         \u001b[0;32mif\u001b[0m \u001b[0mkey\u001b[0m \u001b[0;32mnot\u001b[0m \u001b[0;32min\u001b[0m \u001b[0mloaded_storages\u001b[0m\u001b[0;34m:\u001b[0m\u001b[0;34m\u001b[0m\u001b[0;34m\u001b[0m\u001b[0m\n\u001b[0;32m--> 857\u001b[0;31m             \u001b[0mload_tensor\u001b[0m\u001b[0;34m(\u001b[0m\u001b[0mdata_type\u001b[0m\u001b[0;34m,\u001b[0m \u001b[0msize\u001b[0m\u001b[0;34m,\u001b[0m \u001b[0mkey\u001b[0m\u001b[0;34m,\u001b[0m \u001b[0m_maybe_decode_ascii\u001b[0m\u001b[0;34m(\u001b[0m\u001b[0mlocation\u001b[0m\u001b[0;34m)\u001b[0m\u001b[0;34m)\u001b[0m\u001b[0;34m\u001b[0m\u001b[0;34m\u001b[0m\u001b[0m\n\u001b[0m\u001b[1;32m    858\u001b[0m         \u001b[0mstorage\u001b[0m \u001b[0;34m=\u001b[0m \u001b[0mloaded_storages\u001b[0m\u001b[0;34m[\u001b[0m\u001b[0mkey\u001b[0m\u001b[0;34m]\u001b[0m\u001b[0;34m\u001b[0m\u001b[0;34m\u001b[0m\u001b[0m\n\u001b[1;32m    859\u001b[0m         \u001b[0;32mreturn\u001b[0m \u001b[0mstorage\u001b[0m\u001b[0;34m\u001b[0m\u001b[0;34m\u001b[0m\u001b[0m\n",
            "\u001b[0;32m/usr/local/lib/python3.7/dist-packages/torch/serialization.py\u001b[0m in \u001b[0;36mload_tensor\u001b[0;34m(data_type, size, key, location)\u001b[0m\n\u001b[1;32m    844\u001b[0m \u001b[0;34m\u001b[0m\u001b[0m\n\u001b[1;32m    845\u001b[0m         \u001b[0mstorage\u001b[0m \u001b[0;34m=\u001b[0m \u001b[0mzip_file\u001b[0m\u001b[0;34m.\u001b[0m\u001b[0mget_storage_from_record\u001b[0m\u001b[0;34m(\u001b[0m\u001b[0mname\u001b[0m\u001b[0;34m,\u001b[0m \u001b[0msize\u001b[0m\u001b[0;34m,\u001b[0m \u001b[0mdtype\u001b[0m\u001b[0;34m)\u001b[0m\u001b[0;34m.\u001b[0m\u001b[0mstorage\u001b[0m\u001b[0;34m(\u001b[0m\u001b[0;34m)\u001b[0m\u001b[0;34m\u001b[0m\u001b[0;34m\u001b[0m\u001b[0m\n\u001b[0;32m--> 846\u001b[0;31m         \u001b[0mloaded_storages\u001b[0m\u001b[0;34m[\u001b[0m\u001b[0mkey\u001b[0m\u001b[0;34m]\u001b[0m \u001b[0;34m=\u001b[0m \u001b[0mrestore_location\u001b[0m\u001b[0;34m(\u001b[0m\u001b[0mstorage\u001b[0m\u001b[0;34m,\u001b[0m \u001b[0mlocation\u001b[0m\u001b[0;34m)\u001b[0m\u001b[0;34m\u001b[0m\u001b[0;34m\u001b[0m\u001b[0m\n\u001b[0m\u001b[1;32m    847\u001b[0m \u001b[0;34m\u001b[0m\u001b[0m\n\u001b[1;32m    848\u001b[0m     \u001b[0;32mdef\u001b[0m \u001b[0mpersistent_load\u001b[0m\u001b[0;34m(\u001b[0m\u001b[0msaved_id\u001b[0m\u001b[0;34m)\u001b[0m\u001b[0;34m:\u001b[0m\u001b[0;34m\u001b[0m\u001b[0;34m\u001b[0m\u001b[0m\n",
            "\u001b[0;32m/usr/local/lib/python3.7/dist-packages/torch/serialization.py\u001b[0m in \u001b[0;36mrestore_location\u001b[0;34m(storage, location)\u001b[0m\n\u001b[1;32m    825\u001b[0m     \u001b[0;32melif\u001b[0m \u001b[0misinstance\u001b[0m\u001b[0;34m(\u001b[0m\u001b[0mmap_location\u001b[0m\u001b[0;34m,\u001b[0m \u001b[0mtorch\u001b[0m\u001b[0;34m.\u001b[0m\u001b[0mdevice\u001b[0m\u001b[0;34m)\u001b[0m\u001b[0;34m:\u001b[0m\u001b[0;34m\u001b[0m\u001b[0;34m\u001b[0m\u001b[0m\n\u001b[1;32m    826\u001b[0m         \u001b[0;32mdef\u001b[0m \u001b[0mrestore_location\u001b[0m\u001b[0;34m(\u001b[0m\u001b[0mstorage\u001b[0m\u001b[0;34m,\u001b[0m \u001b[0mlocation\u001b[0m\u001b[0;34m)\u001b[0m\u001b[0;34m:\u001b[0m\u001b[0;34m\u001b[0m\u001b[0;34m\u001b[0m\u001b[0m\n\u001b[0;32m--> 827\u001b[0;31m             \u001b[0;32mreturn\u001b[0m \u001b[0mdefault_restore_location\u001b[0m\u001b[0;34m(\u001b[0m\u001b[0mstorage\u001b[0m\u001b[0;34m,\u001b[0m \u001b[0mstr\u001b[0m\u001b[0;34m(\u001b[0m\u001b[0mmap_location\u001b[0m\u001b[0;34m)\u001b[0m\u001b[0;34m)\u001b[0m\u001b[0;34m\u001b[0m\u001b[0;34m\u001b[0m\u001b[0m\n\u001b[0m\u001b[1;32m    828\u001b[0m     \u001b[0;32melse\u001b[0m\u001b[0;34m:\u001b[0m\u001b[0;34m\u001b[0m\u001b[0;34m\u001b[0m\u001b[0m\n\u001b[1;32m    829\u001b[0m         \u001b[0;32mdef\u001b[0m \u001b[0mrestore_location\u001b[0m\u001b[0;34m(\u001b[0m\u001b[0mstorage\u001b[0m\u001b[0;34m,\u001b[0m \u001b[0mlocation\u001b[0m\u001b[0;34m)\u001b[0m\u001b[0;34m:\u001b[0m\u001b[0;34m\u001b[0m\u001b[0;34m\u001b[0m\u001b[0m\n",
            "\u001b[0;32m/usr/local/lib/python3.7/dist-packages/torch/serialization.py\u001b[0m in \u001b[0;36mdefault_restore_location\u001b[0;34m(storage, location)\u001b[0m\n\u001b[1;32m    173\u001b[0m \u001b[0;32mdef\u001b[0m \u001b[0mdefault_restore_location\u001b[0m\u001b[0;34m(\u001b[0m\u001b[0mstorage\u001b[0m\u001b[0;34m,\u001b[0m \u001b[0mlocation\u001b[0m\u001b[0;34m)\u001b[0m\u001b[0;34m:\u001b[0m\u001b[0;34m\u001b[0m\u001b[0;34m\u001b[0m\u001b[0m\n\u001b[1;32m    174\u001b[0m     \u001b[0;32mfor\u001b[0m \u001b[0m_\u001b[0m\u001b[0;34m,\u001b[0m \u001b[0m_\u001b[0m\u001b[0;34m,\u001b[0m \u001b[0mfn\u001b[0m \u001b[0;32min\u001b[0m \u001b[0m_package_registry\u001b[0m\u001b[0;34m:\u001b[0m\u001b[0;34m\u001b[0m\u001b[0;34m\u001b[0m\u001b[0m\n\u001b[0;32m--> 175\u001b[0;31m         \u001b[0mresult\u001b[0m \u001b[0;34m=\u001b[0m \u001b[0mfn\u001b[0m\u001b[0;34m(\u001b[0m\u001b[0mstorage\u001b[0m\u001b[0;34m,\u001b[0m \u001b[0mlocation\u001b[0m\u001b[0;34m)\u001b[0m\u001b[0;34m\u001b[0m\u001b[0;34m\u001b[0m\u001b[0m\n\u001b[0m\u001b[1;32m    176\u001b[0m         \u001b[0;32mif\u001b[0m \u001b[0mresult\u001b[0m \u001b[0;32mis\u001b[0m \u001b[0;32mnot\u001b[0m \u001b[0;32mNone\u001b[0m\u001b[0;34m:\u001b[0m\u001b[0;34m\u001b[0m\u001b[0;34m\u001b[0m\u001b[0m\n\u001b[1;32m    177\u001b[0m             \u001b[0;32mreturn\u001b[0m \u001b[0mresult\u001b[0m\u001b[0;34m\u001b[0m\u001b[0;34m\u001b[0m\u001b[0m\n",
            "\u001b[0;32m/usr/local/lib/python3.7/dist-packages/torch/serialization.py\u001b[0m in \u001b[0;36m_cuda_deserialize\u001b[0;34m(obj, location)\u001b[0m\n\u001b[1;32m    149\u001b[0m \u001b[0;32mdef\u001b[0m \u001b[0m_cuda_deserialize\u001b[0m\u001b[0;34m(\u001b[0m\u001b[0mobj\u001b[0m\u001b[0;34m,\u001b[0m \u001b[0mlocation\u001b[0m\u001b[0;34m)\u001b[0m\u001b[0;34m:\u001b[0m\u001b[0;34m\u001b[0m\u001b[0;34m\u001b[0m\u001b[0m\n\u001b[1;32m    150\u001b[0m     \u001b[0;32mif\u001b[0m \u001b[0mlocation\u001b[0m\u001b[0;34m.\u001b[0m\u001b[0mstartswith\u001b[0m\u001b[0;34m(\u001b[0m\u001b[0;34m'cuda'\u001b[0m\u001b[0;34m)\u001b[0m\u001b[0;34m:\u001b[0m\u001b[0;34m\u001b[0m\u001b[0;34m\u001b[0m\u001b[0m\n\u001b[0;32m--> 151\u001b[0;31m         \u001b[0mdevice\u001b[0m \u001b[0;34m=\u001b[0m \u001b[0mvalidate_cuda_device\u001b[0m\u001b[0;34m(\u001b[0m\u001b[0mlocation\u001b[0m\u001b[0;34m)\u001b[0m\u001b[0;34m\u001b[0m\u001b[0;34m\u001b[0m\u001b[0m\n\u001b[0m\u001b[1;32m    152\u001b[0m         \u001b[0;32mif\u001b[0m \u001b[0mgetattr\u001b[0m\u001b[0;34m(\u001b[0m\u001b[0mobj\u001b[0m\u001b[0;34m,\u001b[0m \u001b[0;34m\"_torch_load_uninitialized\"\u001b[0m\u001b[0;34m,\u001b[0m \u001b[0;32mFalse\u001b[0m\u001b[0;34m)\u001b[0m\u001b[0;34m:\u001b[0m\u001b[0;34m\u001b[0m\u001b[0;34m\u001b[0m\u001b[0m\n\u001b[1;32m    153\u001b[0m             \u001b[0mstorage_type\u001b[0m \u001b[0;34m=\u001b[0m \u001b[0mgetattr\u001b[0m\u001b[0;34m(\u001b[0m\u001b[0mtorch\u001b[0m\u001b[0;34m.\u001b[0m\u001b[0mcuda\u001b[0m\u001b[0;34m,\u001b[0m \u001b[0mtype\u001b[0m\u001b[0;34m(\u001b[0m\u001b[0mobj\u001b[0m\u001b[0;34m)\u001b[0m\u001b[0;34m.\u001b[0m\u001b[0m__name__\u001b[0m\u001b[0;34m)\u001b[0m\u001b[0;34m\u001b[0m\u001b[0;34m\u001b[0m\u001b[0m\n",
            "\u001b[0;32m/usr/local/lib/python3.7/dist-packages/torch/serialization.py\u001b[0m in \u001b[0;36mvalidate_cuda_device\u001b[0;34m(location)\u001b[0m\n\u001b[1;32m    133\u001b[0m \u001b[0;34m\u001b[0m\u001b[0m\n\u001b[1;32m    134\u001b[0m     \u001b[0;32mif\u001b[0m \u001b[0;32mnot\u001b[0m \u001b[0mtorch\u001b[0m\u001b[0;34m.\u001b[0m\u001b[0mcuda\u001b[0m\u001b[0;34m.\u001b[0m\u001b[0mis_available\u001b[0m\u001b[0;34m(\u001b[0m\u001b[0;34m)\u001b[0m\u001b[0;34m:\u001b[0m\u001b[0;34m\u001b[0m\u001b[0;34m\u001b[0m\u001b[0m\n\u001b[0;32m--> 135\u001b[0;31m         raise RuntimeError('Attempting to deserialize object on a CUDA '\n\u001b[0m\u001b[1;32m    136\u001b[0m                            \u001b[0;34m'device but torch.cuda.is_available() is False. '\u001b[0m\u001b[0;34m\u001b[0m\u001b[0;34m\u001b[0m\u001b[0m\n\u001b[1;32m    137\u001b[0m                            \u001b[0;34m'If you are running on a CPU-only machine, '\u001b[0m\u001b[0;34m\u001b[0m\u001b[0;34m\u001b[0m\u001b[0m\n",
            "\u001b[0;31mRuntimeError\u001b[0m: Attempting to deserialize object on a CUDA device but torch.cuda.is_available() is False. If you are running on a CPU-only machine, please use torch.load with map_location=torch.device('cpu') to map your storages to the CPU."
          ]
        }
      ]
    },
    {
      "cell_type": "code",
      "metadata": {
        "id": "LwkMbMdzOJ7y"
      },
      "source": [
        "# Img Ids to query\n",
        "random.seed(10)\n",
        "\n",
        "query_images = [100582, 38210, 495291]\n",
        "#TODO: Madhuri\n",
        "#Commenting this out so that same images (as in Michael's) can be used for results\n",
        "#query_images = random.sample(list(idx2Img.values()), 10)\n",
        "#query_images = [558661, 123071, 535156, 185614, 8493, 538859, 10583, 254976, 176847, 369594]\n",
        "print(query_images)\n",
        "# Position of query images in embedding space\n",
        "query_idxs = [key for key, value in idx2Img.items() if idx2Img[key] in query_images]\n",
        "\n",
        "print(\"query image ids: \", query_images)\n",
        "print(\"query image idxs: \", query_idxs)"
      ],
      "execution_count": null,
      "outputs": []
    },
    {
      "cell_type": "code",
      "metadata": {
        "id": "fkKltIhhOPdb"
      },
      "source": [
        "\n",
        "# Update based on the location in your system\n",
        "annot_file = \"annotations/instances_val2014.json\"\n"
      ],
      "execution_count": null,
      "outputs": []
    },
    {
      "cell_type": "code",
      "metadata": {
        "id": "JCs-f7cwPUAR"
      },
      "source": [
        "!pip install faiss-gpu"
      ],
      "execution_count": null,
      "outputs": []
    },
    {
      "cell_type": "code",
      "metadata": {
        "id": "kXalWkTQRioj"
      },
      "source": [
        "print(embeddings.shape)\n",
        "em_np = embeddings.cpu().numpy()\n",
        "print(type(em_np))"
      ],
      "execution_count": null,
      "outputs": []
    },
    {
      "cell_type": "code",
      "metadata": {
        "id": "czd_MJ9yUSiF"
      },
      "source": [
        "query_embedding = em_np[query_idxs]\n",
        "print(query_embedding.shape)"
      ],
      "execution_count": null,
      "outputs": []
    },
    {
      "cell_type": "code",
      "metadata": {
        "colab": {
          "base_uri": "https://localhost:8080/"
        },
        "id": "PACx6mIXQcl0",
        "outputId": "9d3d60ab-1ae8-4614-c60b-6c2067da9340"
      },
      "source": [
        "import faiss\n",
        "index = faiss.IndexFlatL2(embeddings.shape[1])   # build the index\n",
        "print(index.is_trained)\n",
        "index.train(em_np)\n",
        "index.add(em_np)                  # add vectors to the index\n",
        "print(index.ntotal)"
      ],
      "execution_count": 21,
      "outputs": [
        {
          "output_type": "stream",
          "text": [
            "True\n",
            "21002\n"
          ],
          "name": "stdout"
        }
      ]
    },
    {
      "cell_type": "code",
      "metadata": {
        "id": "kaMU2Xzxjvi0"
      },
      "source": [
        "import skimage.io as io\n",
        "import matplotlib.pyplot as plt\n",
        "import pylab\n",
        "import numpy as np\n",
        "import itertools\n",
        "from pycocotools.coco import COCO\n",
        "from mpl_toolkits.mplot3d import Axes3D\n",
        "from collections import Counter\n",
        "import pandas as pd\n",
        "\n",
        "class EmbeddingPlotter:\n",
        "    def __init__(self, annot_file, embeddings, idx2Img):\n",
        "        self.annot_file = annot_file\n",
        "        self.coco = COCO(self.annot_file)\n",
        "        cats = self.coco.loadCats(self.coco.getCatIds())\n",
        "        self.cat_id_to_name_dict = {cat['id']: cat['name'] for cat in cats}\n",
        "        self.img_ids = list(idx2Img.values())\n",
        "        self.annIds = self.coco.getAnnIds(self.img_ids)\n",
        "        #self.labels = [self.coco.loadAnns(self.annIds)]\n",
        "        \n",
        "        \n",
        "        \n",
        "        \n",
        "        self.embeddings = embeddings\n",
        "        self.idx2Img = idx2Img\n",
        "        self.labels = []\n",
        "        for k, v in self.idx2Img.items():\n",
        "            ann_ids_to_append = self.coco.getAnnIds(self.idx2Img[k])\n",
        "            anns_to_append = self.coco.loadAnns(ann_ids_to_append)\n",
        "            self.labels.append(anns_to_append)\n",
        "            \n",
        "        \n",
        "        self.category_labels=[]\n",
        "        # self.category_multi_labels = []\n",
        "        # self.category_multi_labels_counts = []\n",
        "        self.supercategory_labels = []\n",
        "        # self.supercategory_multi_labels = []\n",
        "        # self.supercategory_multi_labels_counts = []\n",
        "        \n",
        "        \n",
        " \n",
        "        \n",
        "        cats_dict = {cat['id']: cat for cat in cats}\n",
        "        for label in self.labels:\n",
        "            \n",
        "            if len(label) > 0:\n",
        "                categories = []\n",
        "                supercategories = []\n",
        "                \n",
        "                for annotation in label:\n",
        "                    categories.append(cats_dict[annotation['category_id']]['name'])\n",
        "                    supercategories.append(cats_dict[annotation['category_id']]['supercategory'])\n",
        "                # self.category_multi_labels_counts.append(categories)\n",
        "                # self.category_multi_labels.append(list(set(categories)))\n",
        "                # self.supercategory_multi_labels.append(list(set(supercategories)))\n",
        "                # self.supercategory_multi_labels_counts.append(supercategories)\n",
        "        \n",
        "                # most common category among objects in the picture\n",
        "                category, _ = Counter(categories).most_common(1)[0]\n",
        "                supercategory, _ = Counter(supercategories).most_common(1)[0]\n",
        "                \n",
        "                self.category_labels.append(category)\n",
        "                self.supercategory_labels.append(supercategory)\n",
        "            else:\n",
        "                # self.supercategory_multi_labels.append([])\n",
        "                # self.supercategory_multi_labels_counts.append([])\n",
        "                # self.category_multi_labels.append([])\n",
        "                # self.category_multi_labels_counts.append([])\n",
        "                self.category_labels.append(None)\n",
        "                self.supercategory_labels.append(None)\n",
        "        \n",
        "    def plot_coco_images(self, img_ids, show_labels=True,\n",
        "                         show_annotations=False, title_suffix=None, figtitle=None):\n",
        "        coco = self.coco\n",
        "        cat_id_to_name_dict = self.cat_id_to_name_dict\n",
        "        nrows = len(img_ids)\n",
        "        ncols = len(img_ids[0])\n",
        "    \n",
        "        fig = plt.figure(figsize=(ncols*6, nrows*6))\n",
        "    \n",
        "        for i, img_id in enumerate(itertools.chain(*img_ids)):\n",
        "            ax = fig.add_subplot(nrows, ncols, i+1)\n",
        "            img = coco.loadImgs(img_id)[0]\n",
        "            I = io.imread(img['coco_url'])\n",
        "    \n",
        "            ax.imshow(I, aspect='equal', )\n",
        "            ax.axis('off')\n",
        "            \n",
        "            if title_suffix is not None:\n",
        "                title=f'{img_id}: {title_suffix[i//nrows, i%ncols]}'\n",
        "            else:\n",
        "                title = str(img_id)\n",
        "            ax.set_title(title)\n",
        "    \n",
        "        \n",
        "            annIds = coco.getAnnIds(imgIds=img['id'], iscrowd=None)\n",
        "            anns = coco.loadAnns(annIds)\n",
        "            if show_annotations:\n",
        "                coco.showAnns(anns)\n",
        "    \n",
        "            if show_labels:\n",
        "                for ann in anns:\n",
        "                    [x, y, _, _] = ann['bbox']\n",
        "                    label = cat_id_to_name_dict[ann['category_id']]\n",
        "    \n",
        "                    t=ax.annotate(label, (x,y), fontsize=12)\n",
        "                    t.set_bbox(dict(facecolor='white', alpha=0.2, edgecolor='white'))\n",
        "    \n",
        "        plt.tight_layout()\n",
        "        \n",
        "        if figtitle:\n",
        "            fig.suptitle(figtitle)\n",
        "            plt.subplots_adjust(top=0.90)\n",
        "        plt.show()\n",
        "        \n",
        "    def plot_neighbors(self, X_idx, nbrs, show_annotations=False):\n",
        "        idx2Img = self.idx2Img\n",
        "        embeddings = self.embeddings\n",
        "        m, n = np.shape(embeddings)\n",
        "        img_id = idx2Img[X_idx]\n",
        "        \n",
        "        distances, indices = nbrs.kneighbors(embeddings[X_idx, :].reshape(1, n), 16)\n",
        "        distances, indices = distances[0], indices[0]\n",
        "        neighbors_ids = np.array(list(map(idx2Img.get, indices)))\n",
        "        np.insert(neighbors_ids, 0, img_id)\n",
        "        np.insert(distances, 0, 0)\n",
        "        \n",
        "        title_suffix = np.array([f'distance={distance:.2f}' for distance in distances])\n",
        "        figtitle=f'Neighbors of {img_id}'\n",
        "        self.plot_coco_images(neighbors_ids.reshape(4, 4).tolist(), \n",
        "                         title_suffix=title_suffix.reshape(4,4),\n",
        "                         show_annotations=show_annotations,\n",
        "                         figtitle=figtitle)\n",
        "        \n",
        "    def plot_3d(self, X, title=None, columns=['x0', 'x1', 'x2'], **kwargs):\n",
        "        labels = self.supercategory_labels\n",
        "        \n",
        "        \n",
        "        \n",
        "        df = pd.DataFrame(X, columns=columns)\n",
        "        df['label'] = labels\n",
        "        cmap = plt.get_cmap('gist_rainbow')\n",
        "        unique_labels = list(set(labels))\n",
        "        labels_dict = {label: i for i, label in enumerate(unique_labels)}\n",
        "        num_colors = len(unique_labels)\n",
        "        c = [cmap(1.*labels_dict[label]/num_colors) for label in labels]\n",
        "    \n",
        "        df['c'] = c\n",
        "        df = df[~df['label'].isna()]\n",
        "        ax = plt.figure(figsize=(16,10)).gca(projection='3d')\n",
        "        \n",
        "        for label, grp in df.groupby('label'):\n",
        "            ax.scatter(\n",
        "            xs=grp[columns[0]], \n",
        "            ys=grp[columns[1]], \n",
        "            zs=grp[columns[2]], \n",
        "            c=grp['c'], \n",
        "            label=label,\n",
        "            **kwargs\n",
        "        #     cmap='gist_rainbow'\n",
        "        )\n",
        "        \n",
        "        ax.set_xlabel(columns[0])\n",
        "        ax.set_ylabel(columns[1])\n",
        "        ax.set_zlabel(columns[2])\n",
        "        \n",
        "        plt.legend(loc='best')\n",
        "        if title:\n",
        "            plt.title(title)\n",
        "        plt.show()"
      ],
      "execution_count": 22,
      "outputs": []
    },
    {
      "cell_type": "code",
      "metadata": {
        "colab": {
          "base_uri": "https://localhost:8080/"
        },
        "id": "g6l9cywJj4Ed",
        "outputId": "380cda40-227a-411f-dd08-639f31c7deec"
      },
      "source": [
        "plotter = EmbeddingPlotter(annot_file = annot_file, embeddings=embeddings, idx2Img=idx2Img)"
      ],
      "execution_count": null,
      "outputs": [
        {
          "output_type": "stream",
          "text": [
            "loading annotations into memory...\n"
          ],
          "name": "stdout"
        }
      ]
    },
    {
      "cell_type": "code",
      "metadata": {
        "id": "XAcqHrocQ3BR"
      },
      "source": [
        "k = 11                         # we want to see 10 nearest neighbors\n",
        "D, I = index.search(query_embedding, k) # sanity check\n",
        "print(I)\n",
        "print(D)"
      ],
      "execution_count": null,
      "outputs": []
    },
    {
      "cell_type": "code",
      "metadata": {
        "id": "RVtjlqEFi1Lm"
      },
      "source": [
        "for j in range(I.shape[0]):\n",
        "  l = []\n",
        "  for i in range(I.shape[1]):\n",
        "    l.append(idx2Img[I[j][i]])\n",
        "  plotter.plot_coco_images([l])\n"
      ],
      "execution_count": null,
      "outputs": []
    },
    {
      "cell_type": "code",
      "metadata": {
        "id": "1Mn1AW9DQZk5"
      },
      "source": [
        "from operator import itemgetter\n",
        "def faiss_precision (plotter, faiss_obj, query_embedding, query_idx, idx2coco_map: dict,\n",
        "                     n_neighbors: int = 11, at_k: int = 4, category=True):\n",
        "    \n",
        "\n",
        "    D, indices = faiss_obj.search(query_embedding, n_neighbors)\n",
        "    #closest_at_k = closest[1: at_k + 1]\n",
        "    #indices = I[0][1:k+1]\n",
        "    retrieved_indices = indices[0][1:at_k+1] # top 4 image locations\n",
        "\n",
        "    if category == True:\n",
        "        ground_truth = plotter.category_labels[query_idx]\n",
        "        retrieved_labels = itemgetter(*retrieved_indices)(plotter.category_labels)\n",
        "    else:\n",
        "        ground_truth = plotter.supercategory_labels[query_idx]\n",
        "        retrieved_labels = itemgetter(*retrieved_indices)(plotter.supercategory_labels)\n",
        "    \n",
        "    precision = np.array([1 if i == ground_truth else 0 for i in retrieved_labels]).sum() / (n_neighbors-1)\n",
        "    return precision\n",
        "\n",
        "def avg_precision(plotter, faiss, em_np, query_idxs, idx2Img, n_neighbors, k, category=True):\n",
        "    avg_precision = 0\n",
        "    for idx in query_idxs:\n",
        "      embed = em_np[idx]\n",
        "      embed = np.reshape(embed, (1,25088))\n",
        "      avg_precision += faiss_precision(plotter, faiss, embed, idx, idx2Img, n_neighbors, k, category)\n",
        "    avg_precision = avg_precision / len(query_idxs)\n",
        "    return avg_precision\n"
      ],
      "execution_count": 1,
      "outputs": []
    },
    {
      "cell_type": "code",
      "metadata": {
        "colab": {
          "base_uri": "https://localhost:8080/",
          "height": 263
        },
        "id": "r0_PFEb7BlfV",
        "outputId": "7f712c4b-a0f0-4bbb-e2fe-81aa6803c7de"
      },
      "source": [
        "category_precision = avg_precision(plotter, index, em_np, query_idxs, idx2Img, 11, k=4, category=False)\n",
        "supercategory_precision = avg_precision(plotter, index, em_np, query_idxs, idx2Img, 11, k=4, category=True)\n",
        "\n",
        "print(\"Category-level precision: {}%\".format(round(category_precision*100, 2)))\n",
        "print(\"Supercategory-level precision: {}%\".format(round(supercategory_precision*100, 2)))"
      ],
      "execution_count": 2,
      "outputs": [
        {
          "output_type": "error",
          "ename": "NameError",
          "evalue": "ignored",
          "traceback": [
            "\u001b[0;31m---------------------------------------------------------------------------\u001b[0m",
            "\u001b[0;31mNameError\u001b[0m                                 Traceback (most recent call last)",
            "\u001b[0;32m<ipython-input-2-1cfe17e4839a>\u001b[0m in \u001b[0;36m<module>\u001b[0;34m()\u001b[0m\n\u001b[0;32m----> 1\u001b[0;31m \u001b[0mcategory_precision\u001b[0m \u001b[0;34m=\u001b[0m \u001b[0mavg_precision\u001b[0m\u001b[0;34m(\u001b[0m\u001b[0mplotter\u001b[0m\u001b[0;34m,\u001b[0m \u001b[0mindex\u001b[0m\u001b[0;34m,\u001b[0m \u001b[0mem_np\u001b[0m\u001b[0;34m,\u001b[0m \u001b[0mquery_idxs\u001b[0m\u001b[0;34m,\u001b[0m \u001b[0midx2Img\u001b[0m\u001b[0;34m,\u001b[0m \u001b[0;36m11\u001b[0m\u001b[0;34m,\u001b[0m \u001b[0mk\u001b[0m\u001b[0;34m=\u001b[0m\u001b[0;36m4\u001b[0m\u001b[0;34m,\u001b[0m \u001b[0mcategory\u001b[0m\u001b[0;34m=\u001b[0m\u001b[0;32mFalse\u001b[0m\u001b[0;34m)\u001b[0m\u001b[0;34m\u001b[0m\u001b[0;34m\u001b[0m\u001b[0m\n\u001b[0m\u001b[1;32m      2\u001b[0m \u001b[0msupercategory_precision\u001b[0m \u001b[0;34m=\u001b[0m \u001b[0mavg_precision\u001b[0m\u001b[0;34m(\u001b[0m\u001b[0mplotter\u001b[0m\u001b[0;34m,\u001b[0m \u001b[0mindex\u001b[0m\u001b[0;34m,\u001b[0m \u001b[0mem_np\u001b[0m\u001b[0;34m,\u001b[0m \u001b[0mquery_idxs\u001b[0m\u001b[0;34m,\u001b[0m \u001b[0midx2Img\u001b[0m\u001b[0;34m,\u001b[0m \u001b[0;36m11\u001b[0m\u001b[0;34m,\u001b[0m \u001b[0mk\u001b[0m\u001b[0;34m=\u001b[0m\u001b[0;36m4\u001b[0m\u001b[0;34m,\u001b[0m \u001b[0mcategory\u001b[0m\u001b[0;34m=\u001b[0m\u001b[0;32mTrue\u001b[0m\u001b[0;34m)\u001b[0m\u001b[0;34m\u001b[0m\u001b[0;34m\u001b[0m\u001b[0m\n\u001b[1;32m      3\u001b[0m \u001b[0;34m\u001b[0m\u001b[0m\n\u001b[1;32m      4\u001b[0m \u001b[0mprint\u001b[0m\u001b[0;34m(\u001b[0m\u001b[0;34m\"Category-level precision: {}%\"\u001b[0m\u001b[0;34m.\u001b[0m\u001b[0mformat\u001b[0m\u001b[0;34m(\u001b[0m\u001b[0mround\u001b[0m\u001b[0;34m(\u001b[0m\u001b[0mcategory_precision\u001b[0m\u001b[0;34m*\u001b[0m\u001b[0;36m100\u001b[0m\u001b[0;34m,\u001b[0m \u001b[0;36m2\u001b[0m\u001b[0;34m)\u001b[0m\u001b[0;34m)\u001b[0m\u001b[0;34m)\u001b[0m\u001b[0;34m\u001b[0m\u001b[0;34m\u001b[0m\u001b[0m\n\u001b[1;32m      5\u001b[0m \u001b[0mprint\u001b[0m\u001b[0;34m(\u001b[0m\u001b[0;34m\"Supercategory-level precision: {}%\"\u001b[0m\u001b[0;34m.\u001b[0m\u001b[0mformat\u001b[0m\u001b[0;34m(\u001b[0m\u001b[0mround\u001b[0m\u001b[0;34m(\u001b[0m\u001b[0msupercategory_precision\u001b[0m\u001b[0;34m*\u001b[0m\u001b[0;36m100\u001b[0m\u001b[0;34m,\u001b[0m \u001b[0;36m2\u001b[0m\u001b[0;34m)\u001b[0m\u001b[0;34m)\u001b[0m\u001b[0;34m)\u001b[0m\u001b[0;34m\u001b[0m\u001b[0;34m\u001b[0m\u001b[0m\n",
            "\u001b[0;31mNameError\u001b[0m: name 'plotter' is not defined"
          ]
        }
      ]
    },
    {
      "cell_type": "code",
      "metadata": {
        "id": "9RanWMXDeKew"
      },
      "source": [
        "def faiss_recall(plotter, faiss_obj, query_embedding, query_idx, idx2coco_map: dict,\n",
        "                     n_neighbors: int = 11, at_k: int = 4, category=True):\n",
        "    \"\"\"\n",
        "    :plotter: plotter object from plot_utils.py\n",
        "    :idx: embedding nidex\n",
        "    :nbrs: for nearest neighbors object\n",
        "    :category: if True then calculate on categories, otherwise calcuate at supercategory\n",
        "    \"\"\"\n",
        "\n",
        "    D, I = faiss_obj.search(query_embedding, n_neighbors)\n",
        "    #closest_at_k = closest[1: at_k + 1]\n",
        "    indices = I[0][1:k+1]\n",
        "    if category == True:\n",
        "        ground_truth = plotter.category_labels[query_idx]\n",
        "        total_retrieved_labels = itemgetter(*indices)(plotter.category_labels)\n",
        "        retrieved_labels = itemgetter(*indices)(plotter.category_labels)\n",
        "    else:\n",
        "        ground_truth = plotter.supercategory_labels[query_idx]\n",
        "        total_retrieved_labels = itemgetter(*indices)(plotter.supercategory_labels)\n",
        "        retrieved_labels = itemgetter(*indices)(plotter.supercategory_labels)\n",
        "    relevant_labels = [i for i in total_retrieved_labels if i == ground_truth]\n",
        "    recall = np.array([1 if i == ground_truth else 0 for i in retrieved_labels]).sum() / len(relevant_labels)\n",
        "    if len(relevant_labels) == 0:\n",
        "        return 0\n",
        "    else:\n",
        "        return recall\n",
        "\n",
        "def avg_recall(plotter, faiss, em_np, query_idxs, idx2Img, n_neighbors, k, category=True):\n",
        "    avg_recall = 0\n",
        "    for idx in query_idxs:\n",
        "        embed = em_np[idx]\n",
        "        embed = np.reshape(embed, (1,1024))\n",
        "        avg_recall += faiss_recall(plotter, faiss, embed, idx, idx2Img, n_neighbors, k, category)\n",
        "\n",
        "    avg_recall = avg_recall / len(query_idxs)\n",
        "    return avg_recall"
      ],
      "execution_count": null,
      "outputs": []
    },
    {
      "cell_type": "code",
      "metadata": {
        "colab": {
          "base_uri": "https://localhost:8080/"
        },
        "id": "xHNOLuLaJxO6",
        "outputId": "714b5d2c-d546-4106-bb08-0a3706607455"
      },
      "source": [
        "category_recall = avg_recall(plotter, index, em_np, query_idxs, idx2Img, 11, k=4, category=False)\n",
        "supercategory_recall = avg_recall(plotter, index, em_np, query_idxs, idx2Img, 11, k=4, category=True)\n",
        "\n",
        "print(\"Category-level recall: {}%\".format(round(category_recall*100, 2)))\n",
        "print(\"Supercategory-level recall: {}%\".format(round(supercategory_recall*100, 2)))"
      ],
      "execution_count": null,
      "outputs": [
        {
          "output_type": "stream",
          "text": [
            "Category-level recall: 100.0%\n",
            "Supercategory-level recall: 66.67%\n"
          ],
          "name": "stdout"
        },
        {
          "output_type": "stream",
          "text": [
            "/usr/local/lib/python3.7/dist-packages/ipykernel_launcher.py:22: RuntimeWarning: invalid value encountered in long_scalars\n"
          ],
          "name": "stderr"
        }
      ]
    }
  ]
}