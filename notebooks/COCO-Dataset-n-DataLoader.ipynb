{
 "cells": [
  {
   "cell_type": "markdown",
   "id": "67a0f7c3",
   "metadata": {},
   "source": [
    "### Import Packages"
   ]
  },
  {
   "cell_type": "code",
   "execution_count": 1,
   "id": "7114493d",
   "metadata": {},
   "outputs": [],
   "source": [
    "from collections import defaultdict\n",
    "import json\n",
    "import multiprocessing as mp\n",
    "import os\n",
    "import random\n",
    "import sys"
   ]
  },
  {
   "cell_type": "code",
   "execution_count": 2,
   "id": "7a0ec58b",
   "metadata": {},
   "outputs": [],
   "source": [
    "import cv2\n",
    "from icecream import ic\n",
    "import numpy as np\n",
    "import matplotlib.pyplot as plt\n",
    "import pandas as pd\n",
    "from pprint import pprint\n",
    "from pycocotools.coco import COCO\n",
    "import torch \n",
    "from torch.utils.data import Dataset, DataLoader\n",
    "from torchvision import transforms\n",
    "from tqdm import tqdm"
   ]
  },
  {
   "cell_type": "code",
   "execution_count": 3,
   "id": "755b10ed",
   "metadata": {
    "scrolled": true
   },
   "outputs": [
    {
     "name": "stdout",
     "output_type": "stream",
     "text": [
      "loading annotations into memory...\n",
      "Done (t=13.73s)\n",
      "creating index...\n",
      "index created!\n",
      "loading annotations into memory...\n",
      "Done (t=7.33s)\n",
      "creating index...\n",
      "index created!\n",
      "loading annotations into memory...\n",
      "Done (t=0.18s)\n",
      "creating index...\n",
      "index created!\n"
     ]
    }
   ],
   "source": [
    "sys.path.append('../dataset/')\n",
    "import coco_api_helper\n",
    "import coco_data_prep\n",
    "import config_dataset"
   ]
  },
  {
   "cell_type": "markdown",
   "id": "908db354",
   "metadata": {},
   "source": [
    "### Global Variables"
   ]
  },
  {
   "cell_type": "code",
   "execution_count": 4,
   "id": "c27962e2",
   "metadata": {},
   "outputs": [],
   "source": [
    "train_jpg_data_dir = '../data/raw/train/train2014/'\n",
    "train_np_data_dir = '../data/numpy_imgs/train_subset/'\n",
    "train_annot_path = '../data/raw/train/annotations/instances_train2014.json'"
   ]
  },
  {
   "cell_type": "code",
   "execution_count": 5,
   "id": "ca5c25d5",
   "metadata": {
    "scrolled": true
   },
   "outputs": [
    {
     "data": {
      "text/plain": [
       "['COCO_train2014_000000183202.np',\n",
       " 'COCO_train2014_000000440546.np',\n",
       " 'COCO_train2014_000000081323.np']"
      ]
     },
     "execution_count": 5,
     "metadata": {},
     "output_type": "execute_result"
    }
   ],
   "source": [
    "os.listdir(train_np_data_dir)[:3]"
   ]
  },
  {
   "cell_type": "code",
   "execution_count": 6,
   "id": "f480f57a",
   "metadata": {},
   "outputs": [],
   "source": [
    "annot_filepaths = {'train': config_dataset.train_annotation_filepath,\n",
    "                 'validation' : config_dataset.valid_annotation_filepath,\n",
    "                 'test': config_dataset.test_annotation_filepath}"
   ]
  },
  {
   "cell_type": "code",
   "execution_count": 7,
   "id": "d336bbcd",
   "metadata": {},
   "outputs": [
    {
     "data": {
      "text/plain": [
       "43266"
      ]
     },
     "execution_count": 7,
     "metadata": {},
     "output_type": "execute_result"
    }
   ],
   "source": [
    "with open ('../dataset/categories.json', 'r') as j:\n",
    "    desired_categories = json.load(j)\n",
    "    \n",
    "with open ('../dataset/imgs_by_supercategory.json', 'r') as f:\n",
    "    imgid_by_supercat = json.load(f)\n",
    "    \n",
    "# flatten to a list of imgids\n",
    "desired_img_ids = list(set([ii for img_id in list(imgid_by_supercat.values()) for ii in img_id]))\n",
    "len(desired_img_ids)"
   ]
  },
  {
   "cell_type": "code",
   "execution_count": 8,
   "id": "5c1d2c96",
   "metadata": {},
   "outputs": [
    {
     "data": {
      "text/plain": [
       "device(type='cuda', index=0)"
      ]
     },
     "execution_count": 8,
     "metadata": {},
     "output_type": "execute_result"
    }
   ],
   "source": [
    "device = torch.device(\"cuda:0\" if torch.cuda.is_available() else \"cpu\")\n",
    "device"
   ]
  },
  {

   "execution_count": 10,
   "id": "4bc79d42",
   "metadata": {},
   "outputs": [],
   "source": [
    "class COCODataset(Dataset):\n",
    "    def __init__(self,\n",
    "                 np_img_data_dir,\n",
    "                 annot_filepath,\n",
    "                 sample_ratio: float = None,\n",
    "                 device=torch.device(\"cuda:0\" if torch.cuda.is_available() else \"cpu\")):\n",
    "        \"\"\"\n",
    "        :np_img_data_dir: local directory where you have unzipped np files saved \n",
    "            np files are the trasnformed images from s3 that were normalized/ resized/ padded\n",
    "        :annot_filepath: filepath of the original coco dataset corresponding to the datasplit of your choosing\n",
    "        :sample_ratio: specified float between 0 and 1 for the % of images from the data split you want to use\n",
    "        :device: cpu or gpu\n",
    "        \"\"\"\n",
    "        self.device = device\n",
    "        self.np_img_data_dir = np_img_data_dir\n",
    "\n",
    "        self.sample_ratio = sample_ratio\n",
    "        self.coco = COCO(annot_filepath)\n",
    "\n",
    "        # All possible image ids\n",
    "        all_train_img_ids = list(self.coco.imgs.keys())\n",
    "        # Filter down to the image ids applicable to our supercategories\n",
    "        self.ids = [ii for ii in tqdm(all_train_img_ids) if ii in desired_img_ids]\n",
    "\n",
    "        if self.sample_ratio is None:\n",
    "            pass\n",
    "        else:\n",
    "            self.ids = list(np.random.choice(self.ids, int(self.sample_ratio * len(all_train_img_ids))))\n",
    "\n",
    "    def __getitem__(self, index):\n",
    "        coco = self.coco\n",
    "\n",
    "        img_id = self.ids[index]\n",
    "        ann_ids = coco.getAnnIds(imgIds=[img_id])\n",
    "        target = coco.loadAnns(ann_ids)\n",
    "\n",
    "        path = coco.loadImgs([img_id])[0]['file_name']\n",
    "        np_path = path.split('.')[0] + '.np'\n",
    "        img = np.load(os.path.join(self.np_img_data_dir, np_path))\n",
    "        \n",
    "        # Convert the image to tensor so it's compatible w/ pytorch data loader\n",
    "        img = torch.Tensor(img.transpose(2,0,1)).to(device=self.device).float()\n",
    "\n",
    "        return img, target\n",
    "\n",
    "    def __len__(self):\n",
    "        return len(self.ids)\n",
    "    \n",
    "    \n",
    "def get_dataloader(dataset_obj,\n",
    "                   batch_size: int=100,\n",
    "                   device=torch.device(\"cuda:0\" if torch.cuda.is_available() else \"cpu\"),\n",
    "                   loader_params:dict = config_dataset.dataloader_params):\n",
    "    \"\"\"Returns data loader for custom dataset.\n",
    "    Args:\n",
    "        :dataset_obj: dataset object returned from COCODataset class\n",
    "        :batch_size: specified batch size, if you have memory errors while running, make this smaller\n",
    "        :device: default is CUDA if there is GPU otherwise CPU\n",
    "        :loader_params: default is found in config_dataset.py's dataloader_params dict\n",
    "            can specify your own data loader params, but collate_fn must be `lambda x: x`\n",
    "            specify:\n",
    "                shuffle: True / False\n",
    "                num_workers: number of parallel processes to run\n",
    "                collate_fn: lambda x: x\n",
    "    Returns:\n",
    "        data_loader: data loader for COCODataset.\n",
    "    \"\"\"\n",
    "    # data loader for custom dataset\n",
    "    # this will return (imgs, targets) for each iteration\n",
    "    loader_params.update({'batch_size': batch_size})\n",
    "    \n",
    "    data_loader = DataLoader(\n",
    "        dataset=dataset_obj, \n",
    "        **loader_params,\n",
    "    )\n",
    "    return data_loader"
   ]
  },
  {
   "cell_type": "markdown",
   "id": "141c1e84",
   "metadata": {},
   "source": [
    "### Initializing `COCODataset`\n",
    "- `COCODataset` inherits from torch.utils.data.Dataset and requires a `__len__` and `__getitem__`.\n",
    "- This is a map style [Dataset](https://pytorch.org/docs/stable/data.html#dataset-types).\n",
    "- This is inspired by PyTorch's [COCODetection](https://pytorch.org/docs/0.4.0/_modules/torchvision/datasets/coco.html): \n",
    "\n",
    "- pass in the numpy data directory (`np_img_data_dir`) where np images are stored\n",
    "- pass in `annot_filepath` which is the relative filepath of where the annotation file. This is needed in order to check what objects are in the image, which will help us evaluate how effective our CBIR algorithm is    \n",
    "- pass in the `sample_ratio` argument\n",
    "    - The sample ratio argument is to stipulate the % of the total images in the stipulated data directory that you wish to use for training your model. For example if there are a total of 80K+ images in the data directory, stipulating 5% will randomly select approximately 4K+ images from the data directory to write to the torch.utils.data.Dataset object (`COCODataset`)\n",
    "    - In randomly sampling, the corresponding CORRECT targets will be retrieved for the randomly sampled images"
   ]
  },
  {
   "cell_type": "code",
   "execution_count": 16,
   "id": "f813cd14",
   "metadata": {
    "scrolled": true
   },
   "outputs": [
    {
     "name": "stdout",
     "output_type": "stream",
     "text": [
      "loading annotations into memory...\n",
      "Done (t=61.31s)\n",
      "creating index...\n",
      "index created!\n"
     ]
    },
    {
     "name": "stderr",
     "output_type": "stream",
     "text": [
      "100%|████████████████████████████████████████████████████████| 82783/82783 [00:49<00:00, 1681.63it/s]\n"
     ]
    }
   ],
   "source": [
    "train_ds_play = COCODataset(train_np_data_dir, \n",

    "                            train_annot_path,\n",
    "                            0.01, \n",
    "                            device='cpu')"
   ]
  },
  {
   "cell_type": "markdown",
   "id": "11f20ed3",
   "metadata": {},
   "source": [
    "### DataLoader\n",
    "- when calling Dataloader, pass in your specific DataLoader arguments\n",
    "    - `train_dataset` : `Dataset` object\n",
    "    - `batch_size` : This is the stipulated batch size (lower this in the event you run into memory errors during training).\n",
    "    - `shuffle = False` is a better DataLoader param if you stipulated a `sample_ratio` in the initialization of `COCODataset`.\n",
    "    - `num_workers=mp.cpu_count()` is if you are running the process on the CPU instead of GPU otherwise stipulate number of GPUs. \n",
    "    - `collate_fn` MUST BE `lambda x: x` otherwise the data loader WILL NOT work. This allows for the targets to load properly, otherwise it will not load correctly. DEFINITELY DO THIS WHEN LOADING DATA"
   ]
  },
  {
   "cell_type": "code",
   "execution_count": 17,
   "id": "7f29e02f",
   "metadata": {},
   "outputs": [],
   "source": [
    "train_dl_play = get_dataloader(train_ds_play, batch_size=100, device='cpu')"
   ]
  },
  {
   "cell_type": "code",
   "execution_count": 18,
   "id": "8f85ff70",
   "metadata": {},
   "outputs": [],
   "source": [
    "ann_ids = train_ds_play.coco.getAnnIds(imgIds=[137386])\n",
    "target = train_ds_play.coco.loadAnns(ann_ids)[0]"
   ]
  },
  {
   "cell_type": "code",
   "execution_count": 19,
   "id": "a4683b89",
   "metadata": {
    "scrolled": true
   },
   "outputs": [
    {
     "name": "stderr",
     "output_type": "stream",
     "text": [

      "9it [00:07,  1.22it/s]\n"
     ]
    }
   ],
   "source": [
    "for i, batch in tqdm(enumerate(train_dl_play)):\n",
    "    image_batch, label_batch = [x[0] for x in batch], [x[1] for x in batch]  \n",
    "    image_batch = torch.stack(image_batch).to(device)"
   ]
  },
  {
   "cell_type": "markdown",
   "id": "98b7c676",
   "metadata": {},
   "source": [
    "### Accessing One Image at a Time\n",
    "- because the `Dataset` object has the `__getitem__` method, you need only give the dataset object an index, to specify which image you'd like to inspect "
   ]
  },
  {
   "cell_type": "code",
   "execution_count": 20,
   "id": "4102d8f5",
   "metadata": {},
   "outputs": [
    {
     "name": "stdout",
     "output_type": "stream",
     "text": [
      "tensor([[[-2.1179, -2.1179, -2.1179,  ..., -2.1179, -2.1179, -2.1179],\n",
      "         [-2.1179, -2.1179, -2.1179,  ..., -2.1179, -2.1179, -2.1179],\n",
      "         [-2.1179, -2.1179, -2.1179,  ..., -2.1179, -2.1179, -2.1179],\n",
      "         ...,\n",
      "         [-2.1179, -2.1179, -2.1179,  ..., -2.1179, -2.1179, -2.1179],\n",
      "         [-2.1179, -2.1179, -2.1179,  ..., -2.1179, -2.1179, -2.1179],\n",
      "         [-2.1179, -2.1179, -2.1179,  ..., -2.1179, -2.1179, -2.1179]],\n",
      "\n",
      "        [[-2.0357, -2.0357, -2.0357,  ..., -2.0357, -2.0357, -2.0357],\n",
      "         [-2.0357, -2.0357, -2.0357,  ..., -2.0357, -2.0357, -2.0357],\n",
      "         [-2.0357, -2.0357, -2.0357,  ..., -2.0357, -2.0357, -2.0357],\n",
      "         ...,\n",
      "         [-2.0357, -2.0357, -2.0357,  ..., -2.0357, -2.0357, -2.0357],\n",
      "         [-2.0357, -2.0357, -2.0357,  ..., -2.0357, -2.0357, -2.0357],\n",
      "         [-2.0357, -2.0357, -2.0357,  ..., -2.0357, -2.0357, -2.0357]],\n",
      "\n",
      "        [[-1.8044, -1.8044, -1.8044,  ..., -1.8044, -1.8044, -1.8044],\n",
      "         [-1.8044, -1.8044, -1.8044,  ..., -1.8044, -1.8044, -1.8044],\n",
      "         [-1.8044, -1.8044, -1.8044,  ..., -1.8044, -1.8044, -1.8044],\n",
      "         ...,\n",
      "         [-1.8044, -1.8044, -1.8044,  ..., -1.8044, -1.8044, -1.8044],\n",
      "         [-1.8044, -1.8044, -1.8044,  ..., -1.8044, -1.8044, -1.8044],\n",
      "         [-1.8044, -1.8044, -1.8044,  ..., -1.8044, -1.8044, -1.8044]]])\n",
      "[{'segmentation': [[212.47, 324.75, 218.86, 306.16, 221.48, 298.9, 218.57, 293.67, 218.28, 286.7, 221.77, 282.06, 229.9, 282.93, 233.38, 290.19, 231.35, 296.29, 242.1, 301.22, 243.84, 305.58, 246.45, 318.94, 243.06, 324.84, 244.68, 332.54, 247.11, 342.26, 245.89, 346.31, 248.32, 355.22, 258.04, 368.59, 260.47, 376.28, 257.64, 380.74, 252.37, 378.71, 245.08, 370.21, 238.2, 362.11, 235.77, 363.32, 228.07, 353.2, 227.67, 347.53, 226.45, 353.6, 228.07, 360.49, 224.42, 364.94, 221.59, 372.64, 220.37, 383.98, 214.3, 386.0, 209.44, 380.33, 211.06, 365.75, 216.73, 364.54, 216.73, 356.03, 222.4, 365.35, 227.67, 359.27, 224.83, 352.79, 226.45, 347.93, 219.56, 333.75, 222.4, 330.92, 217.94, 324.84, 213.89, 324.44]], 'area': 2212.0082499999985, 'iscrowd': 0, 'image_id': 399250, 'bbox': [209.44, 282.06, 51.03, 103.94], 'category_id': 1, 'id': 508790}, {'segmentation': [[338.63, 320.51, 343.44, 317.01, 344.76, 313.95, 345.19, 309.58, 344.32, 303.89, 345.19, 302.15, 346.5, 299.52, 352.63, 297.77, 355.25, 298.65, 357.0, 302.15, 357.0, 307.39, 360.06, 314.82, 360.06, 320.95, 358.31, 324.88, 353.94, 327.07, 344.32, 330.13, 338.63, 338.43, 336.01, 339.75, 331.2, 336.69, 332.95, 334.06, 335.57, 334.06, 335.57, 330.56, 337.32, 329.25, 340.38, 324.44, 339.51, 322.26]], 'area': 528.2863000000003, 'iscrowd': 0, 'image_id': 399250, 'bbox': [331.2, 297.77, 28.86, 41.98], 'category_id': 1, 'id': 536460}, {'segmentation': [[133.28, 188.49, 136.4, 179.14, 141.8, 176.86, 146.37, 178.93, 147.83, 172.49, 155.72, 172.49, 162.37, 173.95, 154.47, 169.79, 139.93, 165.22, 135.57, 174.78, 130.38, 188.28]], 'area': 186.75875000000048, 'iscrowd': 0, 'image_id': 399250, 'bbox': [130.38, 165.22, 31.99, 23.27], 'category_id': 38, 'id': 621368}, {'segmentation': [[632.23, 206.99, 630.14, 202.67, 624.63, 205.5, 616.59, 202.52, 630.29, 193.59, 640.0, 196.86, 639.97, 204.91, 631.48, 207.29]], 'area': 184.31574999999984, 'iscrowd': 0, 'image_id': 399250, 'bbox': [616.59, 193.59, 23.41, 13.7], 'category_id': 38, 'id': 624128}, {'segmentation': [[605.06, 217.03, 607.94, 213.92, 609.67, 213.56, 612.23, 213.76, 612.54, 216.0, 611.91, 216.75, 609.31, 218.01, 607.07, 219.78, 605.46, 219.74, 604.24, 218.8]], 'area': 30.541149999999938, 'iscrowd': 0, 'image_id': 399250, 'bbox': [604.24, 213.56, 8.3, 6.22], 'category_id': 38, 'id': 624768}, {'segmentation': [[147.91, 185.94, 190.16, 232.42, 230.31, 250.38, 263.06, 239.82, 314.83, 238.76, 326.45, 232.42, 346.52, 184.88, 373.99, 159.53, 388.78, 142.62, 378.22, 146.85, 342.3, 178.54, 318.0, 228.2, 277.85, 232.42, 226.08, 237.71, 213.41, 237.71, 185.94, 215.52, 153.19, 180.66, 147.91, 180.66]], 'area': 2426.3745999999974, 'iscrowd': 0, 'image_id': 399250, 'bbox': [147.91, 142.62, 240.87, 107.76], 'category_id': 38, 'id': 1466847}, {'segmentation': [[403.79, 347.91, 396.86, 347.6, 395.6, 328.7, 388.68, 324.61, 388.68, 300.68, 389.31, 290.92, 384.58, 295.01, 379.23, 294.07, 376.71, 292.49, 379.54, 287.45, 382.69, 285.56, 387.73, 277.69, 390.57, 274.54, 389.31, 264.47, 392.46, 259.11, 399.38, 257.54, 403.16, 265.73, 403.16, 271.39, 408.83, 276.43, 414.5, 295.32, 409.77, 306.35, 405.68, 340.04, 405.05, 344.45]], 'area': 1645.0121499999996, 'iscrowd': 0, 'image_id': 399250, 'bbox': [376.71, 257.54, 37.79, 90.37], 'category_id': 1, 'id': 1726434}]\n"
     ]
    }
   ],
   "source": [
    "# get the 0'th image from the dataset \n",
    "\n",
    "print(train_ds_play[0][0]) # <-- the image\n",
    "print(train_ds_play[0][1]) # <-- the target"
   ]
  },
  {
   "cell_type": "code",
   "execution_count": 32,
   "id": "bd3f8bc1",
   "metadata": {},
   "outputs": [
    {
     "name": "stdout",
     "output_type": "stream",
     "text": [
      "<class 'torch.Tensor'>\n",
      "torch.Size([3, 224, 224])\n"
     ]
    }
   ],
   "source": [
    "print(type(train_ds_play[0][0]))\n",
    "print(train_ds_play[0][0].shape)"
   ]
  },
  {
   "cell_type": "code",
   "execution_count": 31,
   "id": "dcd3a44f",
   "metadata": {
    "scrolled": false
   },
   "outputs": [
    {
     "name": "stderr",
     "output_type": "stream",
     "text": [
      "Clipping input data to the valid range for imshow with RGB data ([0..1] for floats or [0..255] for integers).\n"
     ]
    },
    {
     "data": {
      "text/plain": [
       "<matplotlib.image.AxesImage at 0x7f27008bc1f0>"
      ]
     },
     "execution_count": 31,
     "metadata": {},
     "output_type": "execute_result"
    },
    {
     "data": {
      "image/png": "[encoded data removed]",
      "text/plain": [
       "<Figure size 432x288 with 1 Axes>"
      ]
     },
     "metadata": {
      "needs_background": "light"
     },
     "output_type": "display_data"
    }
   ],
   "source": [
    "plt.imshow(train_ds_play[0][0].numpy().transpose((1,2,0)))"
   ]
  },
  {
   "cell_type": "code",
   "execution_count": null,
   "id": "c9992ce2",
   "metadata": {},
   "outputs": [],
   "source": []
  }
 ],
 "metadata": {
  "kernelspec": {
   "display_name": "cs7643-raml",
   "language": "python",
   "name": "cs7643-raml"
  },
  "language_info": {
   "codemirror_mode": {
    "name": "ipython",
    "version": 3
   },
   "file_extension": ".py",
   "mimetype": "text/x-python",
   "name": "python",
   "nbconvert_exporter": "python",
   "pygments_lexer": "ipython3",
   "version": "3.8.10"
  }
 },
 "nbformat": 4,
 "nbformat_minor": 5
}
