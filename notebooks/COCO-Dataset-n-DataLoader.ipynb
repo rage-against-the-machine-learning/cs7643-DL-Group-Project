{
 "cells": [
  {
   "cell_type": "markdown",
   "id": "67a0f7c3",
   "metadata": {},
   "source": [
    "### Import Packages"
   ]
  },
  {
   "cell_type": "code",
   "execution_count": 1,
   "id": "7114493d",
   "metadata": {},
   "outputs": [],
   "source": [
    "from collections import defaultdict\n",
    "import json\n",
    "import multiprocessing as mp\n",
    "import os\n",
    "import random\n",
    "import sys"
   ]
  },
  {
   "cell_type": "code",
   "execution_count": 2,
   "id": "7a0ec58b",
   "metadata": {},
   "outputs": [],
   "source": [
    "import cv2\n",
    "from icecream import ic\n",
    "import numpy as np\n",
    "import matplotlib.pyplot as plt\n",
    "import pandas as pd\n",
    "from pprint import pprint\n",
    "from pycocotools.coco import COCO\n",
    "import torch \n",
    "from torch.utils.data import Dataset, DataLoader\n",
    "from tqdm import tqdm"
   ]
  },
  {
   "cell_type": "code",
   "execution_count": 3,
   "id": "755b10ed",
   "metadata": {
    "scrolled": true
   },
   "outputs": [
    {
     "name": "stdout",
     "output_type": "stream",
     "text": [
      "loading annotations into memory...\n",
      "Done (t=12.01s)\n",
      "creating index...\n",
      "index created!\n",
      "loading annotations into memory...\n",
      "Done (t=6.45s)\n",
      "creating index...\n",
      "index created!\n",
      "loading annotations into memory...\n",
      "Done (t=0.12s)\n",
      "creating index...\n",
      "index created!\n"
     ]
    }
   ],
   "source": [
    "sys.path.append('../dataset/')\n",
    "import coco_api_helper\n",
    "import coco_data_prep\n",
    "import config_dataset"
   ]
  },
  {
   "cell_type": "markdown",
   "id": "908db354",
   "metadata": {},
   "source": [
    "### Global Variables"
   ]
  },
  {
   "cell_type": "code",
   "execution_count": 4,
   "id": "c27962e2",
   "metadata": {},
   "outputs": [],
   "source": [
    "train_jpg_data_dir = '../data/raw/train/train2014/'\n",
    "train_np_data_dir = '../data/numpy_imgs/train_subset/'\n",
    "train_annot_path = '../data/raw/train/annotations/instances_train2014.json'"
   ]
  },
  {
   "cell_type": "code",
   "execution_count": 5,
   "id": "ca5c25d5",
   "metadata": {
    "scrolled": true
   },
   "outputs": [
    {
     "data": {
      "text/plain": [
       "['COCO_train2014_000000183202.np',\n",
       " 'COCO_train2014_000000440546.np',\n",
       " 'COCO_train2014_000000081323.np']"
      ]
     },
     "execution_count": 5,
     "metadata": {},
     "output_type": "execute_result"
    }
   ],
   "source": [
    "os.listdir(train_np_data_dir)[:3]"
   ]
  },
  {
   "cell_type": "code",
   "execution_count": 6,
   "id": "f480f57a",
   "metadata": {},
   "outputs": [],
   "source": [
    "annot_filepaths = {'train': config_dataset.train_annotation_filepath,\n",
    "                 'validation' : config_dataset.valid_annotation_filepath,\n",
    "                 'test': config_dataset.test_annotation_filepath}"
   ]
  },
  {
   "cell_type": "code",
   "execution_count": 7,
   "id": "d336bbcd",
   "metadata": {},
   "outputs": [
    {
     "data": {
      "text/plain": [
       "43266"
      ]
     },
     "execution_count": 7,
     "metadata": {},
     "output_type": "execute_result"
    }
   ],
   "source": [
    "with open ('../dataset/categories.json', 'r') as j:\n",
    "    desired_categories = json.load(j)\n",
    "    \n",
    "with open ('../dataset/imgs_by_supercategory.json', 'r') as f:\n",
    "    imgid_by_supercat = json.load(f)\n",
    "    \n",
    "# flatten to a list of imgids\n",
    "desired_img_ids = list(set([ii for img_id in list(imgid_by_supercat.values()) for ii in img_id]))\n",
    "len(desired_img_ids)"
   ]
  },
  {
   "cell_type": "markdown",
   "id": "b2068561",
   "metadata": {},
   "source": [
    "### Dataset & DataLoader"
   ]
  },
  {
   "cell_type": "code",
   "execution_count": 66,
   "id": "4bc79d42",
   "metadata": {},
   "outputs": [],
   "source": [
    "class COCODataset(Dataset):\n",
    "    \n",
    "    def __init__(self, \n",
    "                 np_img_data_dir, \n",
    "                 annot_filepath, \n",
    "                 sample_ratio: float = None):\n",
    "        \n",
    "        self.np_img_data_dir = np_img_data_dir\n",
    "        \n",
    "        self.sample_ratio = sample_ratio\n",
    "        self.coco = COCO(annot_filepath)\n",
    "        \n",
    "        # All possible image ids\n",
    "        all_train_img_ids = list(self.coco.imgs.keys())\n",
    "        # Filter down to the image ids applicable to our supercategories\n",
    "        self.ids = [ii for ii in all_train_img_ids if ii in desired_img_ids]\n",
    "        \n",
    "        if self.sample_ratio is None:\n",
    "            pass\n",
    "        else:\n",
    "            self.ids = list(np.random.choice(self.ids, int(self.sample_ratio * len(all_train_img_ids))))\n",
    "            \n",
    "        self.transform = transform\n",
    "        self.target_transform = target_transform\n",
    "        \n",
    "    def __getitem__(self, index):\n",
    "        coco = self.coco\n",
    "        \n",
    "        img_id = self.ids[index]\n",
    "        ann_ids = coco.getAnnIds(imgIds=[img_id])\n",
    "        target = coco.loadAnns(ann_ids)\n",
    "\n",
    "        path = coco.loadImgs([img_id])[0]['file_name']\n",
    "        np_path = path.split('.')[0] + '.np'\n",
    "        img = np.load(os.path.join(self.np_img_data_dir, np_path))\n",
    "\n",
    "        return img, target  \n",
    "    \n",
    "    def __len__(self):\n",
    "        return len(self.ids)\n"
   ]
  },
  {
   "cell_type": "markdown",
   "id": "141c1e84",
   "metadata": {},
   "source": [
    "### Initializing `COCODataset`\n",
    "- `COCODataset` inherits from torch.utils.data.Dataset and requires a `__len__` and `__getitem__`.\n",
    "- This is a map style [Dataset](https://pytorch.org/docs/stable/data.html#dataset-types).\n",
    "- This is inspired by PyTorch's [COCODetection](https://pytorch.org/docs/0.4.0/_modules/torchvision/datasets/coco.html): \n",
    "\n",
    "- pass in the numpy data directory (`np_img_data_dir`) where np images are stored\n",
    "- pass in `annot_filepath` which is the relative filepath of where the annotation file. This is needed in order to check what objects are in the image, which will help us evaluate how effective our CBIR algorithm is    \n",
    "- pass in the `sample_ratio` argument\n",
    "    - The sample ratio argument is to stipulate the % of the total images in the stipulated data directory that you wish to use for training your model. For example if there are a total of 80K+ images in the data directory, stipulating 5% will randomly select approximately 4K+ images from the data directory to write to the torch.utils.data.Dataset object (`COCODataset`)\n",
    "    - In randomly sampling, the corresponding CORRECT targets will be retrieved for the randomly sampled images"
   ]
  },
  {
   "cell_type": "code",
   "execution_count": 67,
   "id": "f813cd14",
   "metadata": {
    "scrolled": true
   },
   "outputs": [
    {
     "name": "stdout",
     "output_type": "stream",
     "text": [
      "loading annotations into memory...\n",
      "Done (t=12.35s)\n",
      "creating index...\n",
      "index created!\n"
     ]
    }
   ],
   "source": [
    "train_ds_play = COCODataset(train_np_data_dir, \n",
    "                            train_jpg_data_dir, \n",
    "                            train_annot_path,\n",
    "                            0.01)"
   ]
  },
  {
   "cell_type": "markdown",
   "id": "11f20ed3",
   "metadata": {},
   "source": [
    "### DataLoader\n",
    "- when calling Dataloader, pass in your specific DataLoader arguments\n",
    "    - `train_dataset` : `Dataset` object\n",
    "    - `batch_size` : This is the stipulated batch size (lower this in the event you run into memory errors during training).\n",
    "    - `shuffle = False` is a better DataLoader param if you stipulated a `sample_ratio` in the initialization of `COCODataset`.\n",
    "    - `num_workers=mp.cpu_count()` is if you are running the process on the CPU instead of GPU otherwise stipulate number of GPUs. \n",
    "    - `collate_fn` MUST BE `lambda x: x` otherwise the data loader WILL NOT work. This allows for the targets to load properly, otherwise it will not load correctly. DEFINITELY DO THIS WHEN LOADING DATA"
   ]
  },
  {
   "cell_type": "code",
   "execution_count": 79,
   "id": "7f29e02f",
   "metadata": {},
   "outputs": [],
   "source": [
    "train_dl_play = DataLoader(train_ds_play,\n",
    "                           batch_size=100,\n",
    "                           shuffle=False,\n",
    "                           num_workers=mp.cpu_count(), \n",
    "                           collate_fn = lambda x: x)"
   ]
  },
  {
   "cell_type": "code",
   "execution_count": 80,
   "id": "8f85ff70",
   "metadata": {},
   "outputs": [],
   "source": [
    "ann_ids = train_ds_play.coco.getAnnIds(imgIds=[137386])\n",
    "target = train_ds_play.coco.loadAnns(ann_ids)[0]"
   ]
  },
  {
   "cell_type": "code",
   "execution_count": 81,
   "id": "b16f0971",
   "metadata": {
    "scrolled": true
   },
   "outputs": [
    {
     "name": "stderr",
     "output_type": "stream",
     "text": [
      "100%|██████████████████████████████████████████████████████████████████| 9/9 [00:03<00:00,  2.43it/s]\n"
     ]
    }
   ],
   "source": [
    "for batch in tqdm(train_dl_play):\n",
    "    image_batch, label_batch = [x[0] for x in batch], [x[1] for x in batch]\n",
    "    "
   ]
  },
  {
   "cell_type": "markdown",
   "id": "98b7c676",
   "metadata": {},
   "source": [
    "### Accessing One Image at a Time\n",
    "- because the `Dataset` object has the `__getitem__` method, you need only give the dataset object an index, to specify which image you'd like to inspect "
   ]
  },
  {
   "cell_type": "code",
   "execution_count": 88,
   "id": "4102d8f5",
   "metadata": {
    "collapsed": true
   },
   "outputs": [
    {
     "name": "stdout",
     "output_type": "stream",
     "text": [
      "[[[-2.117904  -2.0357141 -1.8044444]\n",
      "  [-2.117904  -2.0357141 -1.8044444]\n",
      "  [-2.117904  -2.0357141 -1.8044444]\n",
      "  ...\n",
      "  [-2.117904  -2.0357141 -1.8044444]\n",
      "  [-2.117904  -2.0357141 -1.8044444]\n",
      "  [-2.117904  -2.0357141 -1.8044444]]\n",
      "\n",
      " [[-2.117904  -2.0357141 -1.8044444]\n",
      "  [-2.117904  -2.0357141 -1.8044444]\n",
      "  [-2.117904  -2.0357141 -1.8044444]\n",
      "  ...\n",
      "  [-2.117904  -2.0357141 -1.8044444]\n",
      "  [-2.117904  -2.0357141 -1.8044444]\n",
      "  [-2.117904  -2.0357141 -1.8044444]]\n",
      "\n",
      " [[-2.117904  -2.0357141 -1.8044444]\n",
      "  [-2.117904  -2.0357141 -1.8044444]\n",
      "  [-2.117904  -2.0357141 -1.8044444]\n",
      "  ...\n",
      "  [-2.117904  -2.0357141 -1.8044444]\n",
      "  [-2.117904  -2.0357141 -1.8044444]\n",
      "  [-2.117904  -2.0357141 -1.8044444]]\n",
      "\n",
      " ...\n",
      "\n",
      " [[-2.117904  -2.0357141 -1.8044444]\n",
      "  [-2.117904  -2.0357141 -1.8044444]\n",
      "  [-2.117904  -2.0357141 -1.8044444]\n",
      "  ...\n",
      "  [-2.117904  -2.0357141 -1.8044444]\n",
      "  [-2.117904  -2.0357141 -1.8044444]\n",
      "  [-2.117904  -2.0357141 -1.8044444]]\n",
      "\n",
      " [[-2.117904  -2.0357141 -1.8044444]\n",
      "  [-2.117904  -2.0357141 -1.8044444]\n",
      "  [-2.117904  -2.0357141 -1.8044444]\n",
      "  ...\n",
      "  [-2.117904  -2.0357141 -1.8044444]\n",
      "  [-2.117904  -2.0357141 -1.8044444]\n",
      "  [-2.117904  -2.0357141 -1.8044444]]\n",
      "\n",
      " [[-2.117904  -2.0357141 -1.8044444]\n",
      "  [-2.117904  -2.0357141 -1.8044444]\n",
      "  [-2.117904  -2.0357141 -1.8044444]\n",
      "  ...\n",
      "  [-2.117904  -2.0357141 -1.8044444]\n",
      "  [-2.117904  -2.0357141 -1.8044444]\n",
      "  [-2.117904  -2.0357141 -1.8044444]]]\n",
      "[{'segmentation': [[141.3, 385.98, 163.96, 402.16, 208.18, 395.69, 239.46, 368.72, 229.75, 170.25, 201.71, 119.55, 192.0, 1.98, 131.6, 5.21, 136.99, 119.55, 114.34, 165.93, 117.57, 228.49, 122.97, 284.58, 135.91, 369.8, 140.22, 380.58, 140.22, 380.58]], 'area': 36428.895000000004, 'iscrowd': 0, 'image_id': 67657, 'bbox': [114.34, 1.98, 125.12, 400.18], 'category_id': 44, 'id': 85749}, {'segmentation': [[305.95, 396.76, 334.05, 394.59, 352.43, 383.78, 351.35, 363.24, 334.05, 350.27, 326.49, 349.19, 321.08, 342.7, 322.16, 316.76, 342.7, 305.95, 355.68, 291.89, 360.0, 274.59, 363.24, 246.49, 361.08, 212.97, 352.43, 196.76, 343.78, 190.27, 327.57, 187.03, 309.19, 187.03, 296.22, 192.43, 284.32, 195.68, 282.16, 215.14, 278.92, 238.92, 278.92, 261.62, 277.84, 284.32, 285.41, 298.38, 295.14, 312.43, 309.19, 317.84, 311.35, 344.86, 311.35, 350.27, 288.65, 355.68, 278.92, 375.14, 288.65, 385.95, 301.62, 394.59]], 'area': 12428.306250000001, 'iscrowd': 0, 'image_id': 67657, 'bbox': [277.84, 187.03, 85.4, 209.73], 'category_id': 46, 'id': 664695}, {'segmentation': [[371.68, 268.6, 359.63, 256.55, 362.04, 211.95, 359.03, 193.88, 342.76, 187.25, 321.67, 184.84, 299.98, 188.45, 287.32, 195.69, 276.48, 254.14, 268.04, 254.14, 246.95, 248.11, 239.72, 245.7, 239.12, 235.46, 232.49, 225.81, 233.69, 187.25, 221.04, 153.5, 248.16, 152.9, 278.89, 149.89, 332.52, 152.3, 377.11, 166.76, 410.85, 177.01, 425.92, 191.47, 442.79, 205.33, 442.19, 222.8, 432.55, 248.71, 386.15, 272.21]], 'area': 14412.110600000002, 'iscrowd': 0, 'image_id': 67657, 'bbox': [221.04, 149.89, 221.75, 122.32], 'category_id': 59, 'id': 1075325}, {'segmentation': [[56.1, 227.98, 72.06, 266.01, 83.8, 298.88, 85.67, 323.29, 80.04, 348.17, 65.02, 365.08, 42.01, 377.28, 2.57, 379.16, 1.16, 215.77, 15.72, 215.77, 33.09, 217.65, 49.05, 222.35]], 'area': 11279.79105, 'iscrowd': 0, 'image_id': 67657, 'bbox': [1.16, 215.77, 84.51, 163.39], 'category_id': 47, 'id': 1508663}, {'segmentation': [[555.59, 237.03, 553.67, 215.65, 550.93, 199.48, 563.26, 186.88, 599.71, 179.75, 625.47, 180.57, 640.0, 182.22, 640.0, 286.35, 618.89, 280.6, 583.0, 268.54, 567.37, 255.66, 559.43, 244.7, 559.43, 226.61]], 'area': 7474.684350000003, 'iscrowd': 0, 'image_id': 67657, 'bbox': [550.93, 179.75, 89.07, 106.6], 'category_id': 51, 'id': 1536133}, {'segmentation': [[20.11, 376.97, 0.0, 374.23, 0.02, 480.0, 324.25, 480.0, 314.21, 472.87, 308.73, 459.17, 323.34, 439.08, 346.17, 428.12, 357.13, 408.02, 337.95, 411.68, 295.03, 416.24, 274.93, 416.24, 262.15, 400.72, 246.62, 393.41, 247.53, 376.97, 248.45, 363.27, 258.49, 346.83, 274.02, 334.96, 289.55, 333.13, 296.85, 330.39, 295.94, 319.43, 287.72, 311.21, 273.11, 299.34, 251.19, 290.2, 239.31, 298.42, 240.23, 360.53, 218.31, 389.76, 176.29, 401.63, 151.63, 390.67, 139.76, 363.27, 131.54, 337.7, 131.54, 315.78, 126.97, 280.16, 120.58, 274.68, 111.44, 270.11, 86.78, 264.63, 73.08, 268.28, 82.22, 329.48, 73.08, 363.27, 43.86, 373.32]], 'area': 38618.823200000006, 'iscrowd': 0, 'image_id': 67657, 'bbox': [0.0, 264.63, 357.13, 215.37], 'category_id': 67, 'id': 1615400}, {'segmentation': [[310.65, 463.82, 427.15, 333.3, 586.79, 393.71, 559.82, 474.61]], 'area': 24161.418550000002, 'iscrowd': 0, 'image_id': 67657, 'bbox': [310.65, 333.3, 276.14, 141.31], 'category_id': 84, 'id': 1651214}, {'segmentation': [[638.33, 435.47, 589.51, 406.06, 587.15, 395.47, 547.74, 380.18, 526.57, 370.18, 493.63, 349.0, 500.1, 335.47, 583.04, 283.71, 638.92, 314.88, 638.92, 436.06]], 'area': 12200.032849999994, 'iscrowd': 0, 'image_id': 67657, 'bbox': [493.63, 283.71, 145.29, 152.35], 'category_id': 84, 'id': 2143924}]\n"
     ]
    }
   ],
   "source": [
    "# get the 0'th image from the dataset \n",
    "\n",
    "print(train_ds_play[0][0]) # <-- the image\n",
    "print(train_ds_play[0][1]) # <-- the target"
   ]
  },
  {
   "cell_type": "code",
   "execution_count": 89,
   "id": "dcd3a44f",
   "metadata": {},
   "outputs": [
    {
     "name": "stderr",
     "output_type": "stream",
     "text": [
      "Clipping input data to the valid range for imshow with RGB data ([0..1] for floats or [0..255] for integers).\n"
     ]
    },
    {
     "data": {
      "text/plain": [
       "<matplotlib.image.AxesImage at 0x7fec11dd6730>"
      ]
     },
     "execution_count": 89,
     "metadata": {},
     "output_type": "execute_result"
    },
    {
     "data": {
      "image/png": "[encoded data removed]",
      "text/plain": [
       "<Figure size 432x288 with 1 Axes>"
      ]
     },
     "metadata": {
      "needs_background": "light"
     },
     "output_type": "display_data"
    }
   ],
   "source": [
    "plt.imshow(train_ds_play[0][0])"
   ]
  },
  {
   "cell_type": "code",
   "execution_count": null,
   "id": "c9992ce2",
   "metadata": {},
   "outputs": [],
   "source": []
  }
 ],
 "metadata": {
  "kernelspec": {
   "display_name": "cs7643-raml",
   "language": "python",
   "name": "cs7643-raml"
  },
  "language_info": {
   "codemirror_mode": {
    "name": "ipython",
    "version": 3
   },
   "file_extension": ".py",
   "mimetype": "text/x-python",
   "name": "python",
   "nbconvert_exporter": "python",
   "pygments_lexer": "ipython3",
   "version": "3.8.10"
  }
 },
 "nbformat": 4,
 "nbformat_minor": 5
}
