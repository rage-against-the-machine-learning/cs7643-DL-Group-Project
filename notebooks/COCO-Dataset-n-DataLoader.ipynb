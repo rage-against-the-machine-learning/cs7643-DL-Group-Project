{
 "cells": [
  {
   "cell_type": "markdown",
   "id": "67a0f7c3",
   "metadata": {},
   "source": [
    "### Import Packages"
   ]
  },
  {
   "cell_type": "code",
   "execution_count": 1,
   "id": "7114493d",
   "metadata": {},
   "outputs": [],
   "source": [
    "from collections import defaultdict\n",
    "import json\n",
    "import multiprocessing as mp\n",
    "import os\n",
    "import random\n",
    "import sys"
   ]
  },
  {
   "cell_type": "code",
   "execution_count": 2,
   "id": "7a0ec58b",
   "metadata": {},
   "outputs": [],
   "source": [
    "import numpy as np\n",
    "import matplotlib.pyplot as plt\n",
    "import pandas as pd\n",
    "from pprint import pprint\n",
    "import torch \n",
    "from torch.utils.data import Dataset, DataLoader\n",
    "from tqdm import tqdm"
   ]
  },
  {
   "cell_type": "code",
   "execution_count": 3,
   "id": "755b10ed",
   "metadata": {
    "scrolled": true
   },
   "outputs": [
    {
     "name": "stdout",
     "output_type": "stream",
     "text": [
      "loading annotations into memory...\n",
      "Done (t=12.14s)\n",
      "creating index...\n",
      "index created!\n",
      "loading annotations into memory...\n",
      "Done (t=6.57s)\n",
      "creating index...\n",
      "index created!\n",
      "loading annotations into memory...\n",
      "Done (t=0.12s)\n",
      "creating index...\n",
      "index created!\n"
     ]
    }
   ],
   "source": [
    "sys.path.append('../dataset/')\n",
    "import coco_api_helper\n",
    "import coco_data_prep\n",
    "import config_dataset"
   ]
  },
  {
   "cell_type": "markdown",
   "id": "908db354",
   "metadata": {},
   "source": [
    "### Global Variables"
   ]
  },
  {
   "cell_type": "code",
   "execution_count": 4,
   "id": "c27962e2",
   "metadata": {},
   "outputs": [],
   "source": [
    "train_np_data_dir = '../data/numpy_images/train/'"
   ]
  },
  {
   "cell_type": "code",
   "execution_count": 5,
   "id": "9a9115c4",
   "metadata": {},
   "outputs": [],
   "source": [
    "with open ('../dataset/categories.json', 'r') as j:\n",
    "    desired_categories = json.load(j)"
   ]
  },
  {
   "cell_type": "code",
   "execution_count": 6,
   "id": "bd24e875",
   "metadata": {
    "scrolled": false
   },
   "outputs": [],
   "source": [
    "desired_categories_id_to_name = {v: k for k, v in desired_categories.items()}"
   ]
  },
  {
   "cell_type": "code",
   "execution_count": 7,
   "id": "f480f57a",
   "metadata": {},
   "outputs": [],
   "source": [
    "annot_filepaths = {'train': config_dataset.train_annotation_filepath,\n",
    "                 'validation' : config_dataset.valid_annotation_filepath,\n",
    "                 'test': config_dataset.test_annotation_filepath}"
   ]
  },
  {
   "cell_type": "markdown",
   "id": "b2068561",
   "metadata": {},
   "source": [
    "### Dataset & DataLoader"
   ]
  },
  {
   "cell_type": "code",
   "execution_count": 8,
   "id": "4bc79d42",
   "metadata": {},
   "outputs": [],
   "source": [
    "class COCODataset(Dataset):\n",
    "    \n",
    "    def __init__(self, data_dir: str, sample_ratio: int = None, randomize: bool = True):\n",
    "        \"\"\"\n",
    "        :data_dir: data directory where images are stored (should be training or validation directory)\n",
    "        :sample_ratio: if training, a % of the total training/validation data you wish to try your model on\n",
    "            default is None, which means use all of the training or validation images in the specified data_dir\n",
    "        :randomize: default is True\n",
    "            when a sample_ratio is not None, the parameter to determine whether or not to just take top K images\n",
    "            as the sample, OR to randomly select a subset of images from the data_dir\n",
    "        \"\"\"\n",
    "        np.random.seed(42)\n",
    "        self.data_dir = data_dir.rstrip('/')\n",
    "        \n",
    "        rand_file = np.random.choice(os.listdir(self.data_dir))\n",
    "        filetype = rand_file.split('/')[-1].split('.')[-1]\n",
    "        \n",
    "        if filetype == 'np':\n",
    "            self.filetype = 'binary'\n",
    "        elif filetype == 'jpg' or filetype == 'jpeg':\n",
    "            self.filetype = 'raw'\n",
    "        else:\n",
    "            raise ValueError(\"data_dir does not hold acceptable image file type, must be either `.np`, `.jpg`, or `.jpeg`\")\n",
    "            \n",
    "        filepaths = [f\"{self.data_dir}/{fn}\" for fn in os.listdir(self.data_dir)]\n",
    "    \n",
    "        if self.filetype == 'binary':\n",
    "            if sample_ratio is not None:\n",
    "                num_imgs = int(sample_ratio * len(os.listdir(self.data_dir)))\n",
    "                \n",
    "                if randomize:\n",
    "                    img_filepaths = np.random.choice(filepaths, num_imgs)\n",
    "                else: \n",
    "                    img_filepaths = filepaths[:num_imgs]\n",
    "                    \n",
    "                self.dataset = [np.load(fp) for fp in tqdm(img_filepaths)]\n",
    "            else:\n",
    "                self.dataset = [np.load(fp) for fp in filepaths]\n",
    "                \n",
    "        elif self.filetype == 'jpg' or self.filetype == 'jpeg':\n",
    "            num_cpus = mp.cpu_count()\n",
    "            pool = mp.Pool(processes=num_cpus)\n",
    "            print('Converting jpg images to np images')\n",
    "            np_imgs = [pool.apply(jpg_image_to_np_array, args=([jpg_file])) for jpg_file in tqdm(os.listdir(self.data_dir))]\n",
    "            print('Resizing and padding np images')\n",
    "            resized = [pool.apply(resize_and_pad_img, args=([np_img])) for np_img in tqdm(np_imgs)]\n",
    "            print('Normalizing images')\n",
    "            normed = [pool.apply(normalize_img, args=([res])) for res in tqdm(resized)]\n",
    "            pool.close()\n",
    "            \n",
    "            self.dataset = normed\n",
    "            \n",
    "        else: \n",
    "            raise ValueError('file type in data_dir must be np or jpg.')\n",
    "        \n",
    "    def __getitem__(self, index: int):\n",
    "        return self.dataset[index]\n",
    "    \n",
    "    def __len__(self):\n",
    "        return len(self.dataset)"
   ]
  },
  {
   "cell_type": "markdown",
   "id": "544557f0",
   "metadata": {},
   "source": [
    "### Initializing `COCODataset`\n",
    "- `COCODataset` inherits from torch.utils.data.Dataset and requires a `__len__` and `__getitem__`.\n",
    "- This is a map style [Dataset](https://pytorch.org/docs/stable/data.html#dataset-types).\n",
    "\n",
    "\n",
    "- pass in the data directory (`data_dir`)\n",
    "    - If the data directory is comprised of numpy files, then no transformations need be applied. **THIS ASSUMES** that these are the numpy files Sylvia made available in the s3 bucket: s3://cs7643-raml/ because those numpy files are already resized, padded, and normalized.\n",
    "    - If the data directory is comprised of jpeg files, then transformations will be applied on them to resize, pad, and normalize the images and then save them as numpy files. This will take longer, but multiprocessing should be applied in order to ensure it will compute faster.\n",
    "    \n",
    "    \n",
    "- pass in the `sample_ratio` argument\n",
    "    - The sample ratio argument is to stipulate the % of the total images in the stipulated data directory that you wish to use for training your model. For example if there are a total of 80K+ images in the data directory, stipulating 5% will randomly select approximately 4K+ images from the data directory to write to the torch.utils.data.Dataset object (`COCODataset`)"
   ]
  },
  {
   "cell_type": "code",
   "execution_count": 9,
   "id": "b53fb07e",
   "metadata": {
    "scrolled": false
   },
   "outputs": [
    {
     "name": "stderr",
     "output_type": "stream",
     "text": [
      "100%|███████████████████████████████████████████████████████████| 4139/4139 [00:25<00:00, 160.68it/s]\n"
     ]
    }
   ],
   "source": [
    "train_dataset = COCODataset(train_np_data_dir, sample_ratio=0.05)"
   ]
  },
  {
   "cell_type": "code",
   "execution_count": 10,
   "id": "a0783eac",
   "metadata": {
    "scrolled": false
   },
   "outputs": [
    {
     "name": "stdout",
     "output_type": "stream",
     "text": [
      "<class '__main__.COCODataset'>\n",
      "<class 'list'>\n"
     ]
    }
   ],
   "source": [
    "print(type(train_dataset))\n",
    "print(type(train_dataset.dataset))"
   ]
  },
  {
   "cell_type": "markdown",
   "id": "3ffed93e",
   "metadata": {},
   "source": [
    "### DataLoader\n",
    "- when calling Dataloader, pass in your specific DataLoader arguments\n",
    "    - `train_dataset` : `Dataset` object\n",
    "    - `batch_size` : This is the stipulated batch size (lower this in the event you run into memory errors during training).\n",
    "    - `shuffle = False` is a better DataLoader param if you stipulated a `sample_ratio` in the initialization of `COCODataset`.\n",
    "    - `num_workers=mp.cpu_count()` is if you are running the process on the CPU instead of GPU otherwise stipulate number of GPUs. "
   ]
  },
  {
   "cell_type": "code",
   "execution_count": 11,
   "id": "c8518cd9",
   "metadata": {},
   "outputs": [],
   "source": [
    "train_dl = DataLoader(dataset=train_dataset, \n",
    "                      batch_size=1000,\n",
    "                      shuffle=False,\n",
    "                      num_workers=mp.cpu_count())"
   ]
  },
  {
   "cell_type": "code",
   "execution_count": 12,
   "id": "8ca1df7f",
   "metadata": {},
   "outputs": [
    {
     "name": "stdout",
     "output_type": "stream",
     "text": [
      "<class 'torch.utils.data.dataloader.DataLoader'>\n"
     ]
    }
   ],
   "source": [
    "print(type(train_dl))"
   ]
  },
  {
   "cell_type": "code",
   "execution_count": 13,
   "id": "531f1c1f",
   "metadata": {
    "scrolled": true
   },
   "outputs": [
    {
     "name": "stdout",
     "output_type": "stream",
     "text": [
      "0\n",
      "torch.Size([1000, 224, 224, 3])\n",
      "1\n",
      "torch.Size([1000, 224, 224, 3])\n",
      "2\n",
      "torch.Size([1000, 224, 224, 3])\n",
      "3\n",
      "torch.Size([1000, 224, 224, 3])\n",
      "4\n",
      "torch.Size([139, 224, 224, 3])\n"
     ]
    }
   ],
   "source": [
    "for i, img in enumerate(train_dl):\n",
    "    print(i)\n",
    "    print(img.shape)"
   ]
  },
  {
   "cell_type": "markdown",
   "id": "98b7c676",
   "metadata": {},
   "source": [
    "### Accessing One Image at a Time\n",
    "- because the `Dataset` object has the `__getitem__` method, you need only give the dataset object an index, to specify which image you'd like to inspect "
   ]
  },
  {
   "cell_type": "code",
   "execution_count": 14,
   "id": "4102d8f5",
   "metadata": {
    "scrolled": true
   },
   "outputs": [
    {
     "data": {
      "text/plain": [
       "array([[[-2.117904 , -2.0357141, -1.8044444],\n",
       "        [-2.117904 , -2.0357141, -1.8044444],\n",
       "        [-2.117904 , -2.0357141, -1.8044444],\n",
       "        ...,\n",
       "        [-2.117904 , -2.0357141, -1.8044444],\n",
       "        [-2.117904 , -2.0357141, -1.8044444],\n",
       "        [-2.117904 , -2.0357141, -1.8044444]],\n",
       "\n",
       "       [[-2.117904 , -2.0357141, -1.8044444],\n",
       "        [-2.117904 , -2.0357141, -1.8044444],\n",
       "        [-2.117904 , -2.0357141, -1.8044444],\n",
       "        ...,\n",
       "        [-2.117904 , -2.0357141, -1.8044444],\n",
       "        [-2.117904 , -2.0357141, -1.8044444],\n",
       "        [-2.117904 , -2.0357141, -1.8044444]],\n",
       "\n",
       "       [[-2.117904 , -2.0357141, -1.8044444],\n",
       "        [-2.117904 , -2.0357141, -1.8044444],\n",
       "        [-2.117904 , -2.0357141, -1.8044444],\n",
       "        ...,\n",
       "        [-2.117904 , -2.0357141, -1.8044444],\n",
       "        [-2.117904 , -2.0357141, -1.8044444],\n",
       "        [-2.117904 , -2.0357141, -1.8044444]],\n",
       "\n",
       "       ...,\n",
       "\n",
       "       [[-2.117904 , -2.0357141, -1.8044444],\n",
       "        [-2.117904 , -2.0357141, -1.8044444],\n",
       "        [-2.117904 , -2.0357141, -1.8044444],\n",
       "        ...,\n",
       "        [-2.117904 , -2.0357141, -1.8044444],\n",
       "        [-2.117904 , -2.0357141, -1.8044444],\n",
       "        [-2.117904 , -2.0357141, -1.8044444]],\n",
       "\n",
       "       [[-2.117904 , -2.0357141, -1.8044444],\n",
       "        [-2.117904 , -2.0357141, -1.8044444],\n",
       "        [-2.117904 , -2.0357141, -1.8044444],\n",
       "        ...,\n",
       "        [-2.117904 , -2.0357141, -1.8044444],\n",
       "        [-2.117904 , -2.0357141, -1.8044444],\n",
       "        [-2.117904 , -2.0357141, -1.8044444]],\n",
       "\n",
       "       [[-2.117904 , -2.0357141, -1.8044444],\n",
       "        [-2.117904 , -2.0357141, -1.8044444],\n",
       "        [-2.117904 , -2.0357141, -1.8044444],\n",
       "        ...,\n",
       "        [-2.117904 , -2.0357141, -1.8044444],\n",
       "        [-2.117904 , -2.0357141, -1.8044444],\n",
       "        [-2.117904 , -2.0357141, -1.8044444]]], dtype=float32)"
      ]
     },
     "execution_count": 14,
     "metadata": {},
     "output_type": "execute_result"
    }
   ],
   "source": [
    "train_dataset[0]"
   ]
  },
  {
   "cell_type": "code",
   "execution_count": 15,
   "id": "dcd3a44f",
   "metadata": {},
   "outputs": [
    {
     "name": "stderr",
     "output_type": "stream",
     "text": [
      "Clipping input data to the valid range for imshow with RGB data ([0..1] for floats or [0..255] for integers).\n"
     ]
    },
    {
     "data": {
      "text/plain": [
       "<matplotlib.image.AxesImage at 0x7f43e854b430>"
      ]
     },
     "execution_count": 15,
     "metadata": {},
     "output_type": "execute_result"
    },
    {
     "data": {
      "image/png": "[encoded data removed]",
      "text/plain": [
       "<Figure size 432x288 with 1 Axes>"
      ]
     },
     "metadata": {
      "needs_background": "light"
     },
     "output_type": "display_data"
    }
   ],
   "source": [
    "plt.imshow(train_dataset[0])"
   ]
  }
 ],
 "metadata": {
  "kernelspec": {
   "display_name": "cs7643-raml",
   "language": "python",
   "name": "cs7643-raml"
  },
  "language_info": {
   "codemirror_mode": {
    "name": "ipython",
    "version": 3
   },
   "file_extension": ".py",
   "mimetype": "text/x-python",
   "name": "python",
   "nbconvert_exporter": "python",
   "pygments_lexer": "ipython3",
   "version": "3.8.10"
  }
 },
 "nbformat": 4,
 "nbformat_minor": 5
}
