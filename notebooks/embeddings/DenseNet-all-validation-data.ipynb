{
 "cells": [
  {
   "cell_type": "code",
   "execution_count": 1,
   "id": "606226a5",
   "metadata": {},
   "outputs": [],
   "source": [
    "import json\n",
    "import os\n",
    "import sys"
   ]
  },
  {
   "cell_type": "code",
   "execution_count": 2,
   "id": "d89e382b",
   "metadata": {},
   "outputs": [],
   "source": [
    "# os.chdir('../')"
   ]
  },
  {
   "cell_type": "code",
   "execution_count": 3,
   "id": "4c1f4a10",
   "metadata": {},
   "outputs": [],
   "source": [
    "from icecream import ic\n",
    "import numpy as np\n",
    "import torch\n",
    "import torch.multiprocessing as mp\n",
    "import torch.nn as nn\n",
    "from torchsummary import summary\n",
    "from torch.utils.data import DataLoader\n",
    "from torchvision import transforms\n",
    "from torchvision.models import densenet\n",
    "from tqdm import tqdm"
   ]
  },
  {
   "cell_type": "code",
   "execution_count": 4,
   "id": "1c2abc1a",
   "metadata": {},
   "outputs": [
    {
     "name": "stdout",
     "output_type": "stream",
     "text": [
      "loading annotations into memory...\n",
      "Done (t=12.20s)\n",
      "creating index...\n",
      "index created!\n",
      "loading annotations into memory...\n",
      "Done (t=6.64s)\n",
      "creating index...\n",
      "index created!\n",
      "loading annotations into memory...\n",
      "Done (t=0.12s)\n",
      "creating index...\n",
      "index created!\n"
     ]
    }
   ],
   "source": [
    "sys.path.append('../dataset/')\n",
    "import coco_data_prep"
   ]
  },
  {
   "cell_type": "code",
   "execution_count": 5,
   "id": "20338249",
   "metadata": {},
   "outputs": [],
   "source": [
    "%load_ext autoreload"
   ]
  },
  {
   "cell_type": "markdown",
   "id": "a0064b61",
   "metadata": {},
   "source": [
    "### Global Variables"
   ]
  },
  {
   "cell_type": "code",
   "execution_count": null,
   "id": "ec323468",
   "metadata": {},
   "outputs": [],
   "source": [
    "# train_np_data_dir = '../data/numpy_imgs/train_subset/'\n",
    "# train_jpg_data_dir = '../data/raw/train/train2014/'\n",
    "# train_annot_filepath = '../data/raw/train/annotations/instances_train2014.json'\n",
    "\n",
    "# with open('../dataset/imgs_by_supercategory.json', 'r') as f:\n",
    "#     desired_categories = json.load(f)"
   ]
  },
  {
   "cell_type": "code",
   "execution_count": 6,
   "id": "3567234c",
   "metadata": {},
   "outputs": [],
   "source": [
    "val_np_data_dir = '../data/numpy_imgs/val_subset/'\n",
    "val_jpg_data_dir = '../data/raw/val/val2014/'\n",
    "val_annot_filepath = '../data/raw/train/annotations/instances_val2014.json'"
   ]
  },
  {
   "cell_type": "code",
   "execution_count": 7,
   "id": "96f31c2e",
   "metadata": {},
   "outputs": [],
   "source": [
    "# device = torch.device(\"cuda:0\" if torch.cuda.is_available() else \"cpu\")\n",
    "device = torch.device('cpu')"
   ]
  },
  {
   "cell_type": "markdown",
   "id": "f760bb7c",
   "metadata": {},
   "source": [
    "### Load Data"
   ]
  },
  {
   "cell_type": "code",
   "execution_count": 8,
   "id": "eef42558",
   "metadata": {},
   "outputs": [],
   "source": [
    "%autoreload"
   ]
  },
  {
   "cell_type": "code",
   "execution_count": 9,
   "id": "84a5f877",
   "metadata": {
    "scrolled": false
   },
   "outputs": [
    {
     "name": "stdout",
     "output_type": "stream",
     "text": [
      "loading annotations into memory...\n",
      "Done (t=6.10s)\n",
      "creating index...\n",
      "index created!\n"
     ]
    },
    {
     "name": "stderr",
     "output_type": "stream",
     "text": [
      "100%|███████████████████████████████████████████| 40504/40504 [00:32<00:00, 1261.99it/s]\n"
     ]
    }
   ],
   "source": [
    "all_val_ds = coco_data_prep.COCODataset('val',\n",
    "                                        val_np_data_dir, \n",
    "                                        val_annot_filepath,\n",
    "                                        coco_data_prep.COCOAnnotationTransform(),\n",
    "                                        device='cpu')"
   ]
  },
  {
   "cell_type": "code",
   "execution_count": 10,
   "id": "c43f0459",
   "metadata": {},
   "outputs": [
    {
     "data": {
      "text/plain": [
       "21002"
      ]
     },
     "execution_count": 10,
     "metadata": {},
     "output_type": "execute_result"
    }
   ],
   "source": [
    "len(all_val_ds)"
   ]
  },
  {
   "cell_type": "code",
   "execution_count": 11,
   "id": "46e33688",
   "metadata": {
    "scrolled": true
   },
   "outputs": [],
   "source": [
    "all_val_dl = coco_data_prep.get_dataloader(all_val_ds, \n",
    "                                         batch_size=1, \n",
    "                                         device='cpu',\n",
    "                                         loader_params={'num_workers': 0,\n",
    "                                                        'shuffle': False,\n",
    "                                                        'collate_fn': lambda x : x})"
   ]
  },
  {
   "cell_type": "code",
   "execution_count": 12,
   "id": "44787120",
   "metadata": {},
   "outputs": [
    {
     "data": {
      "text/plain": [
       "21002"
      ]
     },
     "execution_count": 12,
     "metadata": {},
     "output_type": "execute_result"
    }
   ],
   "source": [
    "len(all_val_dl)"
   ]
  },
  {
   "cell_type": "markdown",
   "id": "5754fb8e",
   "metadata": {},
   "source": [
    "### Load Model"
   ]
  },
  {
   "cell_type": "markdown",
   "id": "7f806f4c",
   "metadata": {},
   "source": [
    "#### Densenet121"
   ]
  },
  {
   "cell_type": "code",
   "execution_count": 34,
   "id": "bffec253",
   "metadata": {
    "scrolled": true
   },
   "outputs": [
    {
     "name": "stderr",
     "output_type": "stream",
     "text": [
      "Using cache found in /home/ec2-user/.cache/torch/hub/pytorch_vision_v0.10.0\n"
     ]
    }
   ],
   "source": [
    "model = torch.hub.load('pytorch/vision:v0.10.0', 'densenet121', pretrained=True)"
   ]
  },
  {
   "cell_type": "code",
   "execution_count": 14,
   "id": "24c9090d",
   "metadata": {},
   "outputs": [],
   "source": [
    "def slice_model(original_model, from_layer=None, to_layer=None):\n",
    "    return nn.Sequential(*list(original_model.children())[from_layer:to_layer])"
   ]
  },
  {
   "cell_type": "code",
   "execution_count": 16,
   "id": "84b6340c",
   "metadata": {
    "scrolled": false
   },
   "outputs": [],
   "source": [
    "model_conv_features = slice_model(model, to_layer=-1).to(device)\n",
    "# model_2 = torch.nn.DataParallel(model_conv_features, device_ids=[0,1]).cuda()"
   ]
  },
  {
   "cell_type": "code",
   "execution_count": 18,
   "id": "98fe40f3",
   "metadata": {},
   "outputs": [],
   "source": [
    "img_ids_in_order = [all_val_ds.ids[i] for i in range(len(all_val_ds))]"
   ]
  },
  {
   "cell_type": "code",
   "execution_count": 19,
   "id": "13cafa85",
   "metadata": {},
   "outputs": [],
   "source": [
    "densenet_index2cocoID = dict(zip(range(len(all_val_ds)), img_ids_in_order))\n",
    "with open ('../data/torch_embeddings/densenet_pretrained/densenet_index2cocoIDs.json', 'w') as f:\n",
    "    json.dump(densenet_index2cocoID, f)"
   ]
  },
  {
   "cell_type": "code",
   "execution_count": 24,
   "id": "3a3a3cb6",
   "metadata": {},
   "outputs": [
    {
     "name": "stderr",
     "output_type": "stream",
     "text": [
      "21002it [42:03,  8.32it/s]\n"
     ]
    }
   ],
   "source": [
    "features_list = []\n",
    "\n",
    "# Use GPUs to speed up the inference, this should take around 10 minutes\n",
    "model_conv_features.to('cpu')\n",
    "\n",
    "for i, batch in tqdm(enumerate(all_val_dl)):    \n",
    "    image_batch, _ = [x[0] for x in batch], [x[1] for x in batch]\n",
    "    image_batch = torch.stack(image_batch).to('cpu')\n",
    "\n",
    "    with torch.no_grad():\n",
    "        features_list.append(model_conv_features(image_batch).flatten(start_dim=1))\n",
    "        "
   ]
  },
  {
   "cell_type": "code",
   "execution_count": 25,
   "id": "18cdb702",
   "metadata": {},
   "outputs": [],
   "source": [
    "embeddings = torch.cat([b for b in features_list], dim=0)"
   ]
  },
  {
   "cell_type": "code",
   "execution_count": 26,
   "id": "555ca923",
   "metadata": {},
   "outputs": [],
   "source": [
    "torch.save(embeddings, f'../data/torch_embeddings/densenet_pretrained/densenet_embed_validation.pt')"
   ]
  },
  {
   "cell_type": "code",
   "execution_count": null,
   "id": "74eb9e7a",
   "metadata": {},
   "outputs": [],
   "source": []
  }
 ],
 "metadata": {
  "kernelspec": {
   "display_name": "cs7643-raml",
   "language": "python",
   "name": "cs7643-raml"
  },
  "language_info": {
   "codemirror_mode": {
    "name": "ipython",
    "version": 3
   },
   "file_extension": ".py",
   "mimetype": "text/x-python",
   "name": "python",
   "nbconvert_exporter": "python",
   "pygments_lexer": "ipython3",
   "version": "3.8.10"
  }
 },
 "nbformat": 4,
 "nbformat_minor": 5
}
