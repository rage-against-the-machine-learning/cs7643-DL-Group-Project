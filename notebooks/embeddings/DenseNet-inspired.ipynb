{
 "cells": [
  {
   "cell_type": "code",
   "execution_count": 40,
   "id": "606226a5",
   "metadata": {},
   "outputs": [],
   "source": [
    "import copy\n",
    "import json\n",
    "import os\n",
    "import sys\n",
    "import time"
   ]
  },
  {
   "cell_type": "code",
   "execution_count": 2,
   "id": "4c1f4a10",
   "metadata": {},
   "outputs": [],
   "source": [
    "from icecream import ic\n",
    "import numpy as np\n",
    "import pandas as pd\n",
    "from pprint import pprint\n",
    "\n",
    "import torch\n",
    "import torch.multiprocessing as mp\n",
    "import torch.nn as nn\n",
    "import torch.nn.functional as F\n",
    "from torchsummary import summary\n",
    "from torch.utils.data import DataLoader\n",
    "from torchvision import transforms\n",
    "from torchvision.models import densenet\n",
    "\n",
    "from tqdm import tqdm"
   ]
  },
  {
   "cell_type": "code",
   "execution_count": 3,
   "id": "1c2abc1a",
   "metadata": {
    "scrolled": false
   },
   "outputs": [
    {
     "name": "stdout",
     "output_type": "stream",
     "text": [
      "loading annotations into memory...\n",
      "Done (t=12.91s)\n",
      "creating index...\n",
      "index created!\n",
      "loading annotations into memory...\n",
      "Done (t=5.50s)\n",
      "creating index...\n",
      "index created!\n",
      "loading annotations into memory...\n",
      "Done (t=0.12s)\n",
      "creating index...\n",
      "index created!\n"
     ]
    }
   ],
   "source": [
    "os.chdir('../')\n",
    "sys.path.append('../dataset/')\n",
    "import coco_data_prep\n",
    "import coco_api_helper\n",
    "import config_dataset\n",
    "\n",
    "sys.path.append('../models/')\n",
    "import densenet_inspired as di"
   ]
  },
  {
   "cell_type": "code",
   "execution_count": 4,
   "id": "c8c493bf",
   "metadata": {
    "scrolled": true
   },
   "outputs": [],
   "source": [
    "%load_ext autoreload"
   ]
  },
  {
   "cell_type": "code",
   "execution_count": 5,
   "id": "014127c4",
   "metadata": {},
   "outputs": [],
   "source": [
    "%autoreload"
   ]
  },
  {
   "cell_type": "markdown",
   "id": "52bbd67f",
   "metadata": {},
   "source": [
    "### Create the Cateogries Label file"
   ]
  },
  {
   "cell_type": "code",
   "execution_count": 6,
   "id": "baff30ba",
   "metadata": {},
   "outputs": [],
   "source": [
    "# cat_ids = [annot['id'] for annot in train_annot['categories']]\n",
    "# cat_names = [annot['name'] for annot in train_annot['categories']]\n",
    "\n",
    "# cat_table = pd.DataFrame(pd.Series(cat_ids, cat_names))\n",
    "# cat_table.reset_index(drop=False, inplace=True)\n",
    "# cat_table.rename(columns={\n",
    "#     'index': 0,\n",
    "#     0: 1\n",
    "# }, inplace=True)\n",
    "# cat_table = cat_table[[1, 0]]\n",
    "# cat_table.to_csv('../dataset/coco_labels.txt', header=None)"
   ]
  },
  {
   "cell_type": "markdown",
   "id": "35bd5bdc",
   "metadata": {},
   "source": [
    "### Helper Functions"
   ]
  },
  {
   "cell_type": "code",
   "execution_count": 7,
   "id": "ee619eb1",
   "metadata": {},
   "outputs": [],
   "source": [
    "def calc_new_dim(orig_h_or_w: int, padding, kernel, stride) -> int:\n",
    "    \"\"\"\n",
    "    :orig_h_or_w: original width or original height of the input image\n",
    "    given the original width or height, kernel size, pad width, stride size\n",
    "    calculate the new width or height\n",
    "    \"\"\"\n",
    "    new_dim = (orig_h_or_w + (2 * padding) - kernel) // stride + 1\n",
    "    return new_dim"
   ]
  },
  {
   "cell_type": "markdown",
   "id": "a0064b61",
   "metadata": {},
   "source": [
    "### Global Variables"
   ]
  },
  {
   "cell_type": "code",
   "execution_count": 8,
   "id": "42af99e3",
   "metadata": {},
   "outputs": [],
   "source": [
    "with open('../dataset/categories.json', 'r') as j:\n",
    "    categories = json.load(j)    \n",
    "\n",
    "# catid_to_catname_df = pd.DataFrame.from_records(pd.Series([c.values() for c in categories])).drop(0, axis=1)\n",
    "# catid_to_catname_df.to_csv('../dataset/coco_labels.txt', header=None, sep=',', mode='a')"
   ]
  },
  {
   "cell_type": "code",
   "execution_count": 9,
   "id": "ec323468",
   "metadata": {},
   "outputs": [],
   "source": [
    "train_np_data_dir = '../data/numpy_imgs/train_subset/'\n",
    "train_jpg_data_dir = '../data/raw/train/train2014/'\n",
    "train_annot_filepath = '../data/raw/train/annotations/instances_train2014.json'\n",
    "\n",
    "with open('../dataset/imgs_by_supercategory.json', 'r') as f:\n",
    "    desired_categories = json.load(f)"
   ]
  },
  {
   "cell_type": "code",
   "execution_count": 10,
   "id": "c05a7e61",
   "metadata": {},
   "outputs": [],
   "source": [
    "val_np_data_dir = '../data/numpy_imgs/val_subset/'\n",
    "val_jpg_data_dir = '../data/raw/val/val2014/'\n",
    "val_annot_filepath = '../data/raw/train/annotations/instances_val2014.json'"
   ]
  },
  {
   "cell_type": "code",
   "execution_count": 11,
   "id": "96f31c2e",
   "metadata": {},
   "outputs": [],
   "source": [
    "device = torch.device(\"cuda:0\" if torch.cuda.is_available() else \"cpu\")\n",
    "# device = torch.device('cpu')"
   ]
  },
  {
   "cell_type": "markdown",
   "id": "f760bb7c",
   "metadata": {},
   "source": [
    "### Load Data : Train & Validation into DataLoader"
   ]
  },
  {
   "cell_type": "code",
   "execution_count": 12,
   "id": "84a5f877",
   "metadata": {
    "scrolled": false
   },
   "outputs": [
    {
     "name": "stdout",
     "output_type": "stream",
     "text": [
      "loading annotations into memory...\n",
      "Done (t=13.17s)\n",
      "creating index...\n",
      "index created!\n"
     ]
    },
    {
     "name": "stderr",
     "output_type": "stream",
     "text": [
      "100%|███████████████████████████████████████████| 82783/82783 [00:47<00:00, 1737.07it/s]\n"
     ]
    }
   ],
   "source": [
    "train_ds = coco_data_prep.COCODataset('train',\n",
    "                                      train_np_data_dir, \n",
    "                                      train_annot_filepath,\n",
    "                                      coco_data_prep.COCOAnnotationTransform(),\n",
    "                                      sample_ratio=0.05,\n",
    "                                      device='cpu')"
   ]
  },
  {
   "cell_type": "code",
   "execution_count": 13,
   "id": "46e33688",
   "metadata": {
    "scrolled": true
   },
   "outputs": [],
   "source": [
    "train_dl = coco_data_prep.get_dataloader(train_ds, \n",
    "                                         batch_size=512, \n",
    "                                         device='cpu')"
   ]
  },
  {
   "cell_type": "code",
   "execution_count": 14,
   "id": "0df107e7",
   "metadata": {
    "scrolled": true
   },
   "outputs": [
    {
     "name": "stdout",
     "output_type": "stream",
     "text": [
      "loading annotations into memory...\n",
      "Done (t=4.21s)\n",
      "creating index...\n",
      "index created!\n"
     ]
    },
    {
     "name": "stderr",
     "output_type": "stream",
     "text": [
      "100%|███████████████████████████████████████████| 40504/40504 [00:25<00:00, 1595.02it/s]\n"
     ]
    }
   ],
   "source": [
    "val_ds = coco_data_prep.COCODataset('val',\n",
    "                                    val_np_data_dir, \n",
    "                                    val_annot_filepath,\n",
    "                                    coco_data_prep.COCOAnnotationTransform(),\n",
    "                                    sample_ratio = 0.05,\n",
    "                                    device='cpu')"
   ]
  },
  {
   "cell_type": "code",
   "execution_count": 15,
   "id": "42bcabdb",
   "metadata": {
    "scrolled": true
   },
   "outputs": [],
   "source": [
    "val_dl = coco_data_prep.get_dataloader(val_ds, \n",
    "                                     batch_size=512, \n",
    "                                     device='cpu')"
   ]
  },
  {
   "cell_type": "markdown",
   "id": "5754fb8e",
   "metadata": {},
   "source": [
    "### Load Model\n",
    "- see model in `models/densenet_inspired.py`"
   ]
  },
  {
   "cell_type": "code",
   "execution_count": 24,
   "id": "c59b6396",
   "metadata": {
    "scrolled": true
   },
   "outputs": [],
   "source": [
    "model = di.DensenetInspired()"
   ]
  },
  {
   "cell_type": "code",
   "execution_count": 25,
   "id": "5b54233a",
   "metadata": {},
   "outputs": [
    {
     "data": {
      "text/plain": [
       "DensenetInspired(\n",
       "  (conv1): Conv2d(3, 64, kernel_size=(7, 7), stride=(2, 2), padding=(3, 3))\n",
       "  (bn1): BatchNorm2d(64, eps=1e-05, momentum=0.1, affine=True, track_running_stats=True)\n",
       "  (relu1): ReLU()\n",
       "  (mp1): MaxPool2d(kernel_size=3, stride=2, padding=1, dilation=1, ceil_mode=False)\n",
       "  (bn2): BatchNorm2d(64, eps=1e-05, momentum=0.1, affine=True, track_running_stats=True)\n",
       "  (relu2): ReLU()\n",
       "  (conv2): Conv2d(64, 128, kernel_size=(1, 1), stride=(1, 1), bias=False)\n",
       "  (bn3): BatchNorm2d(128, eps=1e-05, momentum=0.1, affine=True, track_running_stats=True)\n",
       "  (relu3): ReLU(inplace=True)\n",
       "  (conv3): Conv2d(128, 32, kernel_size=(3, 3), stride=(1, 1), padding=(1, 1), bias=False)\n",
       "  (flat): Flatten(start_dim=1, end_dim=-1)\n",
       "  (lin1): LazyLinear(in_features=0, out_features=1024, bias=True)\n",
       "  (fc1): Linear(in_features=1024, out_features=80, bias=True)\n",
       ")"
      ]
     },
     "execution_count": 25,
     "metadata": {},
     "output_type": "execute_result"
    }
   ],
   "source": [
    "model"
   ]
  },
  {
   "cell_type": "markdown",
   "id": "26ce6ce7",
   "metadata": {},
   "source": [
    "#### Modeling Variables"
   ]
  },
  {
   "cell_type": "code",
   "execution_count": 26,
   "id": "973ccece",
   "metadata": {},
   "outputs": [],
   "source": [
    "optim_params= dict(\n",
    "    lr=0.001,\n",
    "    betas=(0.9, 0.999),\n",
    "    eps=1e-05,\n",
    "    weight_decay=0.01,\n",
    "    amsgrad=False,\n",
    ")\n",
    "\n",
    "optimizer = torch.optim.Adam(model.parameters(), **optim_params)\n",
    "# scheduler = torch.optim.lr_scheduler.ReduceLROnPlateau(optimizer)"
   ]
  },
  {
   "cell_type": "code",
   "execution_count": 27,
   "id": "4d95b9b2",
   "metadata": {
    "scrolled": false
   },
   "outputs": [],
   "source": [
    "criterion = nn.CrossEntropyLoss()"
   ]
  },
  {
   "cell_type": "code",
   "execution_count": 28,
   "id": "b77f2be4",
   "metadata": {},
   "outputs": [],
   "source": [
    "torch.cuda.empty_cache()"
   ]
  },
  {
   "cell_type": "code",
   "execution_count": 29,
   "id": "c8276f02",
   "metadata": {},
   "outputs": [],
   "source": [
    "class AverageMeter(object):\n",
    "    \"\"\"Computes and stores the average and current value\"\"\"\n",
    "    def __init__(self):\n",
    "        self.reset()\n",
    "\n",
    "    def reset(self):\n",
    "        self.val = 0\n",
    "        self.avg = 0\n",
    "        self.sum = 0\n",
    "        self.count = 0\n",
    "\n",
    "    def update(self, val, n=1):\n",
    "        self.val = val\n",
    "        self.sum += val * n\n",
    "        self.count += n\n",
    "        self.avg = self.sum / self.count\n",
    "        "
   ]
  },
  {
   "cell_type": "code",
   "execution_count": null,
   "id": "7729f190",
   "metadata": {},
   "outputs": [
    {
     "name": "stdout",
     "output_type": "stream",
     "text": [
      "tensor(45.4304, grad_fn=<NllLossBackward>)\n",
      "Epoch: [0][0/9]\tTime 7.370 (7.370)\tLoss 45.4304 (45.4304)\t\n",
      "tensor(44.4864, grad_fn=<NllLossBackward>)\n",
      "tensor(38.3974, grad_fn=<NllLossBackward>)\n",
      "tensor(29.6589, grad_fn=<NllLossBackward>)\n",
      "tensor(29.4892, grad_fn=<NllLossBackward>)\n",
      "tensor(24.8713, grad_fn=<NllLossBackward>)\n",
      "tensor(22.2221, grad_fn=<NllLossBackward>)\n",
      "tensor(20.1302, grad_fn=<NllLossBackward>)\n",
      "tensor(5.1727, grad_fn=<NllLossBackward>)\n",
      "Epoch-0 lr: 0.001 running_loss: 6.0432233810424805\n",
      "Epoch: [0][0/4]\tTime 3.082 (3.082)\t\n",
      "tensor(23.1543, grad_fn=<NllLossBackward>)\n",
      "Epoch: [1][0/9]\tTime 7.331 (7.331)\tLoss 23.1543 (23.1543)\t\n",
      "tensor(23.9859, grad_fn=<NllLossBackward>)\n",
      "tensor(16.5493, grad_fn=<NllLossBackward>)\n",
      "tensor(14.7659, grad_fn=<NllLossBackward>)\n",
      "tensor(16.2320, grad_fn=<NllLossBackward>)\n",
      "tensor(12.3617, grad_fn=<NllLossBackward>)\n"
     ]
    }
   ],
   "source": [
    "best = 0.0\n",
    "best_cm = None\n",
    "best_model = None\n",
    "\n",
    "\n",
    "for epoch in range(25):\n",
    "    iter_time = AverageMeter()\n",
    "    losses = AverageMeter()\n",
    "    running_loss = 0.0\n",
    "    count = 0\n",
    "    \n",
    "    # train loop\n",
    "    for idx, (batch) in enumerate(train_dl):\n",
    "        start = time.time()\n",
    "        \n",
    "        image_batch, label_batch = [x[0] for x in batch], [x[1] for x in batch]\n",
    "        image_batch = torch.stack(image_batch).to('cpu')\n",
    "        label_batch = torch.LongTensor([l[0] for l in label_batch])\n",
    "\n",
    "        # Zero the parameter gradients\n",
    "        optimizer.zero_grad()\n",
    "\n",
    "        # Forward (model & loss), Backward, and Optimize (Update weights)\n",
    "        out = model(image_batch)\n",
    "        \n",
    "        loss = criterion(out, label_batch)\n",
    "        print(loss)\n",
    "\n",
    "        loss.backward()\n",
    "        optimizer.step()\n",
    "        count += 1\n",
    "\n",
    "        losses.update(loss, out.shape[0])\n",
    "        running_loss += loss\n",
    "\n",
    "        iter_time.update(time.time() - start)\n",
    "        if idx % 10 == 0:\n",
    "            print(('Epoch: [{0}][{1}/{2}]\\t'\n",
    "                   'Time {iter_time.val:.3f} ({iter_time.avg:.3f})\\t'\n",
    "                   'Loss {loss.val:.4f} ({loss.avg:.4f})\\t')\n",
    "                   .format(epoch, idx, len(train_dl), iter_time=iter_time, loss=losses))\n",
    "    \n",
    "    print(f'Epoch-{epoch} lr: {optimizer.param_groups[0][\"lr\"]} running_loss: {running_loss/image_batch.shape[0]}')\n",
    "    \n",
    "    \n",
    "    # validation loop\n",
    "    iter_time = AverageMeter()\n",
    "    losses = AverageMeter()\n",
    "\n",
    "    num_class = 80\n",
    "    cm =torch.zeros(num_class, num_class)\n",
    "    # evaluation loop\n",
    "    for idx, (batch) in enumerate(val_dl):\n",
    "        start = time.time()\n",
    "\n",
    "        image_batch, label_batch = [x[0] for x in batch], [x[1] for x in batch]\n",
    "        image_batch = torch.stack(image_batch).to('cpu')\n",
    "        label_batch = torch.LongTensor([l[0] for l in label_batch])\n",
    "\n",
    "        model.eval()\n",
    "        torch.no_grad()\n",
    "\n",
    "        out = model(image_batch)\n",
    "        loss = criterion(out, label_batch)\n",
    "        losses.update(loss, out.shape[0])\n",
    "\n",
    "        iter_time.update(time.time() - start)\n",
    "        if idx % 10 == 0:\n",
    "            print(('Epoch: [{0}][{1}/{2}]\\t'\n",
    "               'Time {iter_time.val:.3f} ({iter_time.avg:.3f})\\t')\n",
    "               .format(epoch, \n",
    "                       idx, \n",
    "                       len(val_dl), \n",
    "                       iter_time=iter_time, \n",
    "                       loss=losses, top1=0))\n",
    "            \n",
    "    if loss < best:\n",
    "        best = loss\n",
    "        best_model = copy.deepcopy(model)\n",
    "        torch.save(best_model.state_dict(), './checkpoints/' + args.model.lower() + '.pth')\n",
    "    \n",
    "    "
   ]
  },
  {
   "cell_type": "code",
   "execution_count": null,
   "id": "6a64cb5d",
   "metadata": {
    "scrolled": true
   },
   "outputs": [],
   "source": [
    "features_list = []\n",
    "labels_list = []\n",
    "\n",
    "# Use GPUs to speed up the inference, this should take around 10 minutes\n",
    "\n",
    "model.to('cpu')\n",
    "for batch in tqdm(train_dl):\n",
    "    image_batch, label_batch = [x[0] for x in batch], [x[1] for x in batch]\n",
    "    image_batch = torch.stack(image_batch).to('cpu') \n",
    "\n",
    "    with torch.no_grad():\n",
    "        features_batch = model(image_batch) # .flatten(start_dim=1)\n",
    "    features_list.append(features_batch)\n",
    "    labels_list.extend(label_batch)"
   ]
  },
  {
   "cell_type": "code",
   "execution_count": null,
   "id": "774733e0",
   "metadata": {},
   "outputs": [],
   "source": []
  }
 ],
 "metadata": {
  "kernelspec": {
   "display_name": "cs7643-raml",
   "language": "python",
   "name": "cs7643-raml"
  },
  "language_info": {
   "codemirror_mode": {
    "name": "ipython",
    "version": 3
   },
   "file_extension": ".py",
   "mimetype": "text/x-python",
   "name": "python",
   "nbconvert_exporter": "python",
   "pygments_lexer": "ipython3",
   "version": "3.8.10"
  }
 },
 "nbformat": 4,
 "nbformat_minor": 5
}
