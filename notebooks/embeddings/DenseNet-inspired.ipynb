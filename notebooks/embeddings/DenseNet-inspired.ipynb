{
 "cells": [
  {
   "cell_type": "code",
   "execution_count": 1,
   "id": "606226a5",
   "metadata": {},
   "outputs": [],
   "source": [
    "import copy\n",
    "import json\n",
    "import os\n",
    "import sys\n",
    "import time"
   ]
  },
  {
   "cell_type": "code",
   "execution_count": 2,
   "id": "4c1f4a10",
   "metadata": {},
   "outputs": [],
   "source": [
    "from icecream import ic\n",
    "import numpy as np\n",
    "import pandas as pd\n",
    "from pprint import pprint\n",
    "\n",
    "import torch\n",
    "import torch.multiprocessing as mp\n",
    "import torch.nn as nn\n",
    "import torch.nn.functional as F\n",
    "from torchsummary import summary\n",
    "from torch.utils.data import DataLoader\n",
    "from torchvision import transforms\n",
    "from torchvision.models import densenet\n",
    "\n",
    "from tqdm import tqdm"
   ]
  },
  {
   "cell_type": "code",
   "execution_count": 3,
   "id": "1c2abc1a",
   "metadata": {
    "scrolled": false
   },
   "outputs": [
    {
     "name": "stdout",
     "output_type": "stream",
     "text": [
      "loading annotations into memory...\n",
      "Done (t=12.86s)\n",
      "creating index...\n",
      "index created!\n",
      "loading annotations into memory...\n",
      "Done (t=5.49s)\n",
      "creating index...\n",
      "index created!\n",
      "loading annotations into memory...\n",
      "Done (t=0.12s)\n",
      "creating index...\n",
      "index created!\n"
     ]
    }
   ],
   "source": [
    "os.chdir('../')\n",
    "sys.path.append('../dataset/')\n",
    "import coco_data_prep\n",
    "import coco_api_helper\n",
    "import config_dataset\n",
    "\n",
    "sys.path.append('../models/')\n",
    "import densenet_inspired as di"
   ]
  },
  {
   "cell_type": "code",
   "execution_count": 4,
   "id": "d41d1c55",
   "metadata": {
    "scrolled": true
   },
   "outputs": [],
   "source": [
    "%load_ext autoreload"
   ]
  },
  {
   "cell_type": "code",
   "execution_count": 5,
   "id": "09f7efd8",
   "metadata": {},
   "outputs": [],
   "source": [
    "%autoreload"
   ]
  },
  {
   "cell_type": "markdown",
   "id": "52bbd67f",
   "metadata": {},
   "source": [
    "### Create the Cateogries Label file"
   ]
  },
  {
   "cell_type": "code",
   "execution_count": 6,
   "id": "baff30ba",
   "metadata": {},
   "outputs": [],
   "source": [
    "# cat_ids = [annot['id'] for annot in train_annot['categories']]\n",
    "# cat_names = [annot['name'] for annot in train_annot['categories']]\n",
    "\n",
    "# cat_table = pd.DataFrame(pd.Series(cat_ids, cat_names))\n",
    "# cat_table.reset_index(drop=False, inplace=True)\n",
    "# cat_table.rename(columns={\n",
    "#     'index': 0,\n",
    "#     0: 1\n",
    "# }, inplace=True)\n",
    "# cat_table = cat_table[[1, 0]]\n",
    "# cat_table.to_csv('../dataset/coco_labels.txt', header=None)"
   ]
  },
  {
   "cell_type": "markdown",
   "id": "35bd5bdc",
   "metadata": {},
   "source": [
    "### Helper Functions"
   ]
  },
  {
   "cell_type": "code",
   "execution_count": 7,
   "id": "ee619eb1",
   "metadata": {},
   "outputs": [],
   "source": [
    "def calc_new_dim(orig_h_or_w: int, padding, kernel, stride) -> int:\n",
    "    \"\"\"\n",
    "    :orig_h_or_w: original width or original height of the input image\n",
    "    given the original width or height, kernel size, pad width, stride size\n",
    "    calculate the new width or height\n",
    "    \"\"\"\n",
    "    new_dim = (orig_h_or_w + (2 * padding) - kernel) // stride + 1\n",
    "    return new_dim"
   ]
  },
  {
   "cell_type": "markdown",
   "id": "a0064b61",
   "metadata": {},
   "source": [
    "### Global Variables"
   ]
  },
  {
   "cell_type": "code",
   "execution_count": 8,
   "id": "42af99e3",
   "metadata": {},
   "outputs": [],
   "source": [
    "with open('../dataset/categories.json', 'r') as j:\n",
    "    categories = json.load(j)    \n",
    "\n",
    "# catid_to_catname_df = pd.DataFrame.from_records(pd.Series([c.values() for c in categories])).drop(0, axis=1)\n",
    "# catid_to_catname_df.to_csv('../dataset/coco_labels.txt', header=None, sep=',', mode='a')"
   ]
  },
  {
   "cell_type": "code",
   "execution_count": 9,
   "id": "ec323468",
   "metadata": {},
   "outputs": [],
   "source": [
    "train_np_data_dir = '../data/numpy_imgs/train_subset/'\n",
    "train_jpg_data_dir = '../data/raw/train/train2014/'\n",
    "train_annot_filepath = '../data/raw/train/annotations/instances_train2014.json'\n",
    "\n",
    "with open('../dataset/imgs_by_supercategory.json', 'r') as f:\n",
    "    desired_categories = json.load(f)"
   ]
  },
  {
   "cell_type": "code",
   "execution_count": 10,
   "id": "c05a7e61",
   "metadata": {},
   "outputs": [],
   "source": [
    "val_np_data_dir = '../data/numpy_imgs/val_subset/'\n",
    "val_jpg_data_dir = '../data/raw/val/val2014/'\n",
    "val_annot_filepath = '../data/raw/train/annotations/instances_val2014.json'"
   ]
  },
  {
   "cell_type": "code",
   "execution_count": 11,
   "id": "96f31c2e",
   "metadata": {},
   "outputs": [],
   "source": [
    "device = torch.device(\"cuda:0\" if torch.cuda.is_available() else \"cpu\")\n",
    "# device = torch.device('cpu')"
   ]
  },
  {
   "cell_type": "markdown",
   "id": "f760bb7c",
   "metadata": {},
   "source": [
    "### Load Data : Train & Validation into DataLoader"
   ]
  },
  {
   "cell_type": "code",
   "execution_count": 12,
   "id": "84a5f877",
   "metadata": {
    "scrolled": false
   },
   "outputs": [
    {
     "name": "stdout",
     "output_type": "stream",
     "text": [
      "loading annotations into memory...\n",
      "Done (t=13.49s)\n",
      "creating index...\n",
      "index created!\n"
     ]
    },
    {
     "name": "stderr",
     "output_type": "stream",
     "text": [
      "100%|███████████████████████████████████████████| 82783/82783 [00:48<00:00, 1720.90it/s]\n"
     ]
    }
   ],
   "source": [
    "train_ds = coco_data_prep.COCODataset('train',\n",
    "                                      train_np_data_dir, \n",
    "                                      train_annot_filepath,\n",
    "                                      coco_data_prep.COCOAnnotationTransform(),\n",
    "                                      sample_ratio=0.05,\n",
    "                                      device='cpu')"
   ]
  },
  {
   "cell_type": "code",
   "execution_count": 13,
   "id": "46e33688",
   "metadata": {
    "scrolled": true
   },
   "outputs": [],
   "source": [
    "train_dl = coco_data_prep.get_dataloader(train_ds, \n",
    "                                         batch_size=512, \n",
    "                                         device='cpu')"
   ]
  },
  {
   "cell_type": "code",
   "execution_count": 14,
   "id": "0df107e7",
   "metadata": {
    "scrolled": true
   },
   "outputs": [
    {
     "name": "stdout",
     "output_type": "stream",
     "text": [
      "loading annotations into memory...\n",
      "Done (t=4.25s)\n",
      "creating index...\n",
      "index created!\n"
     ]
    },
    {
     "name": "stderr",
     "output_type": "stream",
     "text": [
      "100%|███████████████████████████████████████████| 40504/40504 [00:27<00:00, 1495.47it/s]\n"
     ]
    }
   ],
   "source": [
    "val_ds = coco_data_prep.COCODataset('val',\n",
    "                                    val_np_data_dir, \n",
    "                                    val_annot_filepath,\n",
    "                                    coco_data_prep.COCOAnnotationTransform(),\n",
    "                                    sample_ratio = 0.05,\n",
    "                                    device='cpu')"
   ]
  },
  {
   "cell_type": "code",
   "execution_count": 15,
   "id": "42bcabdb",
   "metadata": {
    "scrolled": true
   },
   "outputs": [],
   "source": [
    "val_dl = coco_data_prep.get_dataloader(val_ds, \n",
    "                                     batch_size=512, \n",
    "                                     device='cpu')"
   ]
  },
  {
   "cell_type": "markdown",
   "id": "5754fb8e",
   "metadata": {},
   "source": [
    "### Load Model\n",
    "- see model in `models/densenet_inspired.py`"
   ]
  },
  {
   "cell_type": "code",
   "execution_count": 16,
   "id": "1f7dc0c0",
   "metadata": {
    "scrolled": true
   },
   "outputs": [
    {
     "name": "stderr",
     "output_type": "stream",
     "text": [
      "/home/ec2-user/miniconda3/envs/cs7643-raml/lib/python3.8/site-packages/torch/nn/modules/lazy.py:175: UserWarning: Lazy modules are a new feature under heavy development so changes to the API or functionality can happen at any moment.\n",
      "  warnings.warn('Lazy modules are a new feature under heavy development '\n"
     ]
    }
   ],
   "source": [
    "model = di.DensenetInspired()"
   ]
  },
  {
   "cell_type": "code",
   "execution_count": 17,
   "id": "1f492055",
   "metadata": {},
   "outputs": [
    {
     "data": {
      "text/plain": [
       "DensenetInspired(\n",
       "  (conv1): Conv2d(3, 64, kernel_size=(7, 7), stride=(2, 2), padding=(3, 3))\n",
       "  (bn1): BatchNorm2d(64, eps=1e-05, momentum=0.1, affine=True, track_running_stats=True)\n",
       "  (relu1): ReLU()\n",
       "  (mp1): MaxPool2d(kernel_size=3, stride=2, padding=1, dilation=1, ceil_mode=False)\n",
       "  (bn2): BatchNorm2d(64, eps=1e-05, momentum=0.1, affine=True, track_running_stats=True)\n",
       "  (relu2): ReLU()\n",
       "  (conv2): Conv2d(64, 128, kernel_size=(1, 1), stride=(1, 1), bias=False)\n",
       "  (bn3): BatchNorm2d(128, eps=1e-05, momentum=0.1, affine=True, track_running_stats=True)\n",
       "  (relu3): ReLU(inplace=True)\n",
       "  (conv3): Conv2d(128, 32, kernel_size=(3, 3), stride=(1, 1), padding=(1, 1), bias=False)\n",
       "  (flat): Flatten(start_dim=1, end_dim=-1)\n",
       "  (lin1): LazyLinear(in_features=0, out_features=1024, bias=True)\n",
       "  (fc1): Linear(in_features=1024, out_features=80, bias=True)\n",
       ")"
      ]
     },
     "execution_count": 17,
     "metadata": {},
     "output_type": "execute_result"
    }
   ],
   "source": [
    "model"
   ]
  },
  {
   "cell_type": "markdown",
   "id": "26ce6ce7",
   "metadata": {},
   "source": [
    "#### Modeling Variables"
   ]
  },
  {
   "cell_type": "code",
   "execution_count": 18,
   "id": "973ccece",
   "metadata": {},
   "outputs": [],
   "source": [
    "optim_params= dict(\n",
    "    lr=0.001,\n",
    "    betas=(0.9, 0.999),\n",
    "    eps=1e-05,\n",
    "    weight_decay=0.01,\n",
    "    amsgrad=False,\n",
    ")\n",
    "\n",
    "optimizer = torch.optim.Adam(model.parameters(), **optim_params)\n",
    "# scheduler = torch.optim.lr_scheduler.ReduceLROnPlateau(optimizer)"
   ]
  },
  {
   "cell_type": "code",
   "execution_count": 19,
   "id": "4d95b9b2",
   "metadata": {
    "scrolled": false
   },
   "outputs": [],
   "source": [
    "criterion = nn.CrossEntropyLoss()"
   ]
  },
  {
   "cell_type": "code",
   "execution_count": 20,
   "id": "f0351c30",
   "metadata": {},
   "outputs": [],
   "source": [
    "torch.cuda.empty_cache()"
   ]
  },
  {
   "cell_type": "code",
   "execution_count": 21,
   "id": "6d47e5fe",
   "metadata": {},
   "outputs": [],
   "source": [
    "class AverageMeter(object):\n",
    "    \"\"\"Computes and stores the average and current value\"\"\"\n",
    "    def __init__(self):\n",
    "        self.reset()\n",
    "\n",
    "    def reset(self):\n",
    "        self.val = 0\n",
    "        self.avg = 0\n",
    "        self.sum = 0\n",
    "        self.count = 0\n",
    "\n",
    "    def update(self, val, n=1):\n",
    "        self.val = val\n",
    "        self.sum += val * n\n",
    "        self.count += n\n",
    "        self.avg = self.sum / self.count\n",
    "        "
   ]
  },
  {
   "cell_type": "code",
   "execution_count": 23,
   "id": "32a13908",
   "metadata": {
    "scrolled": true
   },
   "outputs": [
    {
     "name": "stdout",
     "output_type": "stream",
     "text": [
      "tensor(4.3713, grad_fn=<NllLossBackward>)\n",
      "Epoch: [0][0/9]\tTime 5.955 (5.955)\tLoss 4.3713 (4.3713)\t\n",
      "tensor(213.0275, grad_fn=<NllLossBackward>)\n",
      "tensor(134.5100, grad_fn=<NllLossBackward>)\n",
      "tensor(106.8694, grad_fn=<NllLossBackward>)\n",
      "tensor(47.1747, grad_fn=<NllLossBackward>)\n",
      "tensor(35.4612, grad_fn=<NllLossBackward>)\n",
      "tensor(28.1593, grad_fn=<NllLossBackward>)\n",
      "tensor(34.4867, grad_fn=<NllLossBackward>)\n",
      "tensor(31.3151, grad_fn=<NllLossBackward>)\n",
      "Epoch-0 lr: 0.001 running_loss: 14.776168823242188\n",
      "Epoch: [0][0/4]\tTime 3.124 (3.124)\t\n",
      "tensor(32.8607, grad_fn=<NllLossBackward>)\n",
      "Epoch: [1][0/9]\tTime 7.350 (7.350)\tLoss 32.8607 (32.8607)\t\n",
      "tensor(28.8626, grad_fn=<NllLossBackward>)\n",
      "tensor(42.8860, grad_fn=<NllLossBackward>)\n",
      "tensor(37.2594, grad_fn=<NllLossBackward>)\n",
      "tensor(25.0614, grad_fn=<NllLossBackward>)\n",
      "tensor(10.9538, grad_fn=<NllLossBackward>)\n",
      "tensor(39.7883, grad_fn=<NllLossBackward>)\n",
      "tensor(16.8993, grad_fn=<NllLossBackward>)\n",
      "tensor(11.1821, grad_fn=<NllLossBackward>)\n",
      "Epoch-1 lr: 0.001 running_loss: 5.715198040008545\n",
      "Epoch: [1][0/4]\tTime 3.062 (3.062)\t\n",
      "tensor(17.6977, grad_fn=<NllLossBackward>)\n",
      "Epoch: [2][0/9]\tTime 7.412 (7.412)\tLoss 17.6977 (17.6977)\t\n",
      "tensor(16.6817, grad_fn=<NllLossBackward>)\n",
      "tensor(13.1423, grad_fn=<NllLossBackward>)\n",
      "tensor(9.8932, grad_fn=<NllLossBackward>)\n",
      "tensor(14.0456, grad_fn=<NllLossBackward>)\n",
      "tensor(13.3758, grad_fn=<NllLossBackward>)\n",
      "tensor(7.8077, grad_fn=<NllLossBackward>)\n",
      "tensor(9.8388, grad_fn=<NllLossBackward>)\n",
      "tensor(4.8752, grad_fn=<NllLossBackward>)\n",
      "Epoch-2 lr: 0.001 running_loss: 2.496694803237915\n",
      "Epoch: [2][0/4]\tTime 3.082 (3.082)\t\n",
      "tensor(6.1360, grad_fn=<NllLossBackward>)\n",
      "Epoch: [3][0/9]\tTime 7.383 (7.383)\tLoss 6.1360 (6.1360)\t\n",
      "tensor(5.5386, grad_fn=<NllLossBackward>)\n",
      "tensor(6.8102, grad_fn=<NllLossBackward>)\n",
      "tensor(5.3839, grad_fn=<NllLossBackward>)\n",
      "tensor(5.6050, grad_fn=<NllLossBackward>)\n",
      "tensor(5.4484, grad_fn=<NllLossBackward>)\n",
      "tensor(4.6780, grad_fn=<NllLossBackward>)\n",
      "tensor(5.0354, grad_fn=<NllLossBackward>)\n",
      "tensor(3.2565, grad_fn=<NllLossBackward>)\n",
      "Epoch-3 lr: 0.001 running_loss: 1.1137661933898926\n",
      "Epoch: [3][0/4]\tTime 3.037 (3.037)\t\n",
      "tensor(4.1256, grad_fn=<NllLossBackward>)\n",
      "Epoch: [4][0/9]\tTime 7.458 (7.458)\tLoss 4.1256 (4.1256)\t\n",
      "tensor(5.6232, grad_fn=<NllLossBackward>)\n",
      "tensor(5.1776, grad_fn=<NllLossBackward>)\n",
      "tensor(5.2160, grad_fn=<NllLossBackward>)\n",
      "tensor(5.0223, grad_fn=<NllLossBackward>)\n",
      "tensor(3.6089, grad_fn=<NllLossBackward>)\n",
      "tensor(4.6682, grad_fn=<NllLossBackward>)\n",
      "tensor(3.6855, grad_fn=<NllLossBackward>)\n",
      "tensor(1.1783, grad_fn=<NllLossBackward>)\n",
      "Epoch-4 lr: 0.001 running_loss: 0.8908295035362244\n",
      "Epoch: [4][0/4]\tTime 3.129 (3.129)\t\n",
      "tensor(3.3149, grad_fn=<NllLossBackward>)\n",
      "Epoch: [5][0/9]\tTime 7.372 (7.372)\tLoss 3.3149 (3.3149)\t\n",
      "tensor(3.5199, grad_fn=<NllLossBackward>)\n",
      "tensor(3.6647, grad_fn=<NllLossBackward>)\n",
      "tensor(3.3055, grad_fn=<NllLossBackward>)\n",
      "tensor(3.8464, grad_fn=<NllLossBackward>)\n",
      "tensor(3.1283, grad_fn=<NllLossBackward>)\n",
      "tensor(3.1881, grad_fn=<NllLossBackward>)\n",
      "tensor(3.0432, grad_fn=<NllLossBackward>)\n",
      "tensor(0.3008, grad_fn=<NllLossBackward>)\n",
      "Epoch-5 lr: 0.001 running_loss: 0.6351588368415833\n",
      "Epoch: [5][0/4]\tTime 3.061 (3.061)\t\n",
      "tensor(2.9488, grad_fn=<NllLossBackward>)\n",
      "Epoch: [6][0/9]\tTime 7.444 (7.444)\tLoss 2.9488 (2.9488)\t\n",
      "tensor(3.3299, grad_fn=<NllLossBackward>)\n",
      "tensor(2.5754, grad_fn=<NllLossBackward>)\n",
      "tensor(3.2074, grad_fn=<NllLossBackward>)\n",
      "tensor(2.7891, grad_fn=<NllLossBackward>)\n",
      "tensor(2.8279, grad_fn=<NllLossBackward>)\n",
      "tensor(2.9274, grad_fn=<NllLossBackward>)\n",
      "tensor(2.6427, grad_fn=<NllLossBackward>)\n",
      "tensor(0.2591, grad_fn=<NllLossBackward>)\n",
      "Epoch-6 lr: 0.001 running_loss: 0.5466923117637634\n",
      "Epoch: [6][0/4]\tTime 3.083 (3.083)\t\n",
      "tensor(2.1938, grad_fn=<NllLossBackward>)\n",
      "Epoch: [7][0/9]\tTime 7.350 (7.350)\tLoss 2.1938 (2.1938)\t\n",
      "tensor(2.4119, grad_fn=<NllLossBackward>)\n",
      "tensor(2.4379, grad_fn=<NllLossBackward>)\n",
      "tensor(2.3091, grad_fn=<NllLossBackward>)\n",
      "tensor(2.3798, grad_fn=<NllLossBackward>)\n",
      "tensor(2.3559, grad_fn=<NllLossBackward>)\n",
      "tensor(2.3589, grad_fn=<NllLossBackward>)\n",
      "tensor(2.2239, grad_fn=<NllLossBackward>)\n",
      "tensor(0.1521, grad_fn=<NllLossBackward>)\n",
      "Epoch-7 lr: 0.001 running_loss: 0.43775415420532227\n",
      "Epoch: [7][0/4]\tTime 3.040 (3.040)\t\n",
      "tensor(1.9549, grad_fn=<NllLossBackward>)\n",
      "Epoch: [8][0/9]\tTime 7.450 (7.450)\tLoss 1.9549 (1.9549)\t\n",
      "tensor(2.1493, grad_fn=<NllLossBackward>)\n",
      "tensor(2.1551, grad_fn=<NllLossBackward>)\n",
      "tensor(2.0810, grad_fn=<NllLossBackward>)\n",
      "tensor(2.1814, grad_fn=<NllLossBackward>)\n",
      "tensor(2.1258, grad_fn=<NllLossBackward>)\n",
      "tensor(2.2175, grad_fn=<NllLossBackward>)\n",
      "tensor(2.0665, grad_fn=<NllLossBackward>)\n",
      "tensor(0.1664, grad_fn=<NllLossBackward>)\n",
      "Epoch-8 lr: 0.001 running_loss: 0.3976236879825592\n",
      "Epoch: [8][0/4]\tTime 3.083 (3.083)\t\n",
      "tensor(1.7913, grad_fn=<NllLossBackward>)\n",
      "Epoch: [9][0/9]\tTime 7.423 (7.423)\tLoss 1.7913 (1.7913)\t\n",
      "tensor(2.0452, grad_fn=<NllLossBackward>)\n",
      "tensor(2.0430, grad_fn=<NllLossBackward>)\n",
      "tensor(2.0240, grad_fn=<NllLossBackward>)\n",
      "tensor(2.0560, grad_fn=<NllLossBackward>)\n",
      "tensor(2.0160, grad_fn=<NllLossBackward>)\n",
      "tensor(2.0846, grad_fn=<NllLossBackward>)\n",
      "tensor(1.9391, grad_fn=<NllLossBackward>)\n",
      "tensor(0.1712, grad_fn=<NllLossBackward>)\n",
      "Epoch-9 lr: 0.001 running_loss: 0.37605586647987366\n",
      "Epoch: [9][0/4]\tTime 3.036 (3.036)\t\n",
      "tensor(1.7174, grad_fn=<NllLossBackward>)\n",
      "Epoch: [10][0/9]\tTime 7.417 (7.417)\tLoss 1.7174 (1.7174)\t\n",
      "tensor(1.8869, grad_fn=<NllLossBackward>)\n",
      "tensor(1.9276, grad_fn=<NllLossBackward>)\n",
      "tensor(1.8799, grad_fn=<NllLossBackward>)\n",
      "tensor(1.9412, grad_fn=<NllLossBackward>)\n",
      "tensor(1.9074, grad_fn=<NllLossBackward>)\n",
      "tensor(1.9391, grad_fn=<NllLossBackward>)\n",
      "tensor(1.8224, grad_fn=<NllLossBackward>)\n",
      "tensor(0.1603, grad_fn=<NllLossBackward>)\n",
      "Epoch-10 lr: 0.001 running_loss: 0.3530750870704651\n",
      "Epoch: [10][0/4]\tTime 3.097 (3.097)\t\n",
      "tensor(1.6351, grad_fn=<NllLossBackward>)\n",
      "Epoch: [11][0/9]\tTime 7.467 (7.467)\tLoss 1.6351 (1.6351)\t\n",
      "tensor(1.8081, grad_fn=<NllLossBackward>)\n",
      "tensor(1.8330, grad_fn=<NllLossBackward>)\n",
      "tensor(1.7779, grad_fn=<NllLossBackward>)\n",
      "tensor(1.8142, grad_fn=<NllLossBackward>)\n",
      "tensor(1.7783, grad_fn=<NllLossBackward>)\n",
      "tensor(1.8352, grad_fn=<NllLossBackward>)\n",
      "tensor(1.7160, grad_fn=<NllLossBackward>)\n",
      "tensor(0.1687, grad_fn=<NllLossBackward>)\n",
      "Epoch-11 lr: 0.001 running_loss: 0.33410415053367615\n",
      "Epoch: [11][0/4]\tTime 3.019 (3.019)\t\n",
      "tensor(1.5509, grad_fn=<NllLossBackward>)\n",
      "Epoch: [12][0/9]\tTime 7.413 (7.413)\tLoss 1.5509 (1.5509)\t\n",
      "tensor(1.6962, grad_fn=<NllLossBackward>)\n",
      "tensor(1.7178, grad_fn=<NllLossBackward>)\n",
      "tensor(1.6657, grad_fn=<NllLossBackward>)\n",
      "tensor(1.7068, grad_fn=<NllLossBackward>)\n",
      "tensor(1.6812, grad_fn=<NllLossBackward>)\n",
      "tensor(1.7219, grad_fn=<NllLossBackward>)\n",
      "tensor(1.6194, grad_fn=<NllLossBackward>)\n",
      "tensor(0.1582, grad_fn=<NllLossBackward>)\n",
      "Epoch-12 lr: 0.001 running_loss: 0.3143731355667114\n",
      "Epoch: [12][0/4]\tTime 3.059 (3.059)\t\n",
      "tensor(1.4756, grad_fn=<NllLossBackward>)\n",
      "Epoch: [13][0/9]\tTime 7.389 (7.389)\tLoss 1.4756 (1.4756)\t\n",
      "tensor(1.6152, grad_fn=<NllLossBackward>)\n",
      "tensor(1.6276, grad_fn=<NllLossBackward>)\n",
      "tensor(1.5697, grad_fn=<NllLossBackward>)\n",
      "tensor(1.6140, grad_fn=<NllLossBackward>)\n",
      "tensor(1.5819, grad_fn=<NllLossBackward>)\n",
      "tensor(1.6231, grad_fn=<NllLossBackward>)\n",
      "tensor(1.5192, grad_fn=<NllLossBackward>)\n",
      "tensor(0.1533, grad_fn=<NllLossBackward>)\n",
      "Epoch-13 lr: 0.001 running_loss: 0.297200083732605\n",
      "Epoch: [13][0/4]\tTime 3.050 (3.050)\t\n",
      "tensor(1.4028, grad_fn=<NllLossBackward>)\n",
      "Epoch: [14][0/9]\tTime 7.387 (7.387)\tLoss 1.4028 (1.4028)\t\n",
      "tensor(1.5067, grad_fn=<NllLossBackward>)\n",
      "tensor(1.5263, grad_fn=<NllLossBackward>)\n",
      "tensor(1.4702, grad_fn=<NllLossBackward>)\n",
      "tensor(1.5042, grad_fn=<NllLossBackward>)\n",
      "tensor(1.4895, grad_fn=<NllLossBackward>)\n",
      "tensor(1.5229, grad_fn=<NllLossBackward>)\n",
      "tensor(1.4223, grad_fn=<NllLossBackward>)\n",
      "tensor(0.1416, grad_fn=<NllLossBackward>)\n",
      "Epoch-14 lr: 0.001 running_loss: 0.27875444293022156\n",
      "Epoch: [14][0/4]\tTime 3.106 (3.106)\t\n",
      "tensor(1.3340, grad_fn=<NllLossBackward>)\n",
      "Epoch: [15][0/9]\tTime 7.401 (7.401)\tLoss 1.3340 (1.3340)\t\n",
      "tensor(1.4312, grad_fn=<NllLossBackward>)\n",
      "tensor(1.4376, grad_fn=<NllLossBackward>)\n",
      "tensor(1.3793, grad_fn=<NllLossBackward>)\n",
      "tensor(1.4185, grad_fn=<NllLossBackward>)\n",
      "tensor(1.3972, grad_fn=<NllLossBackward>)\n",
      "tensor(1.4213, grad_fn=<NllLossBackward>)\n"
     ]
    },
    {
     "name": "stdout",
     "output_type": "stream",
     "text": [
      "tensor(1.3308, grad_fn=<NllLossBackward>)\n",
      "tensor(0.1337, grad_fn=<NllLossBackward>)\n",
      "Epoch-15 lr: 0.001 running_loss: 0.2624087929725647\n",
      "Epoch: [15][0/4]\tTime 3.039 (3.039)\t\n",
      "tensor(1.2514, grad_fn=<NllLossBackward>)\n",
      "Epoch: [16][0/9]\tTime 7.418 (7.418)\tLoss 1.2514 (1.2514)\t\n",
      "tensor(1.3273, grad_fn=<NllLossBackward>)\n",
      "tensor(1.3391, grad_fn=<NllLossBackward>)\n",
      "tensor(1.2830, grad_fn=<NllLossBackward>)\n",
      "tensor(1.3134, grad_fn=<NllLossBackward>)\n",
      "tensor(1.3038, grad_fn=<NllLossBackward>)\n",
      "tensor(1.3205, grad_fn=<NllLossBackward>)\n",
      "tensor(1.2361, grad_fn=<NllLossBackward>)\n",
      "tensor(0.1234, grad_fn=<NllLossBackward>)\n",
      "Epoch-16 lr: 0.001 running_loss: 0.2441377192735672\n",
      "Epoch: [16][0/4]\tTime 3.073 (3.073)\t\n",
      "tensor(1.1855, grad_fn=<NllLossBackward>)\n",
      "Epoch: [17][0/9]\tTime 7.378 (7.378)\tLoss 1.1855 (1.1855)\t\n",
      "tensor(1.2482, grad_fn=<NllLossBackward>)\n",
      "tensor(1.2479, grad_fn=<NllLossBackward>)\n",
      "tensor(1.1996, grad_fn=<NllLossBackward>)\n",
      "tensor(1.2266, grad_fn=<NllLossBackward>)\n",
      "tensor(1.2140, grad_fn=<NllLossBackward>)\n",
      "tensor(1.2253, grad_fn=<NllLossBackward>)\n",
      "tensor(1.1484, grad_fn=<NllLossBackward>)\n",
      "tensor(0.1149, grad_fn=<NllLossBackward>)\n",
      "Epoch-17 lr: 0.001 running_loss: 0.2281491458415985\n",
      "Epoch: [17][0/4]\tTime 3.080 (3.080)\t\n",
      "tensor(1.1039, grad_fn=<NllLossBackward>)\n",
      "Epoch: [18][0/9]\tTime 7.414 (7.414)\tLoss 1.1039 (1.1039)\t\n",
      "tensor(1.1535, grad_fn=<NllLossBackward>)\n",
      "tensor(1.1549, grad_fn=<NllLossBackward>)\n",
      "tensor(1.1096, grad_fn=<NllLossBackward>)\n",
      "tensor(1.1331, grad_fn=<NllLossBackward>)\n",
      "tensor(1.1301, grad_fn=<NllLossBackward>)\n",
      "tensor(1.1274, grad_fn=<NllLossBackward>)\n",
      "tensor(1.0605, grad_fn=<NllLossBackward>)\n",
      "tensor(0.1046, grad_fn=<NllLossBackward>)\n",
      "Epoch-18 lr: 0.001 running_loss: 0.21110771596431732\n",
      "Epoch: [18][0/4]\tTime 3.052 (3.052)\t\n",
      "tensor(1.0412, grad_fn=<NllLossBackward>)\n",
      "Epoch: [19][0/9]\tTime 7.380 (7.380)\tLoss 1.0412 (1.0412)\t\n",
      "tensor(1.0782, grad_fn=<NllLossBackward>)\n",
      "tensor(1.0709, grad_fn=<NllLossBackward>)\n",
      "tensor(1.0393, grad_fn=<NllLossBackward>)\n",
      "tensor(1.0514, grad_fn=<NllLossBackward>)\n",
      "tensor(1.0445, grad_fn=<NllLossBackward>)\n",
      "tensor(1.0395, grad_fn=<NllLossBackward>)\n",
      "tensor(0.9820, grad_fn=<NllLossBackward>)\n",
      "tensor(0.0979, grad_fn=<NllLossBackward>)\n",
      "Epoch-19 lr: 0.001 running_loss: 0.1963971108198166\n",
      "Epoch: [19][0/4]\tTime 3.096 (3.096)\t\n",
      "tensor(0.9601, grad_fn=<NllLossBackward>)\n",
      "Epoch: [20][0/9]\tTime 7.400 (7.400)\tLoss 0.9601 (0.9601)\t\n",
      "tensor(0.9938, grad_fn=<NllLossBackward>)\n",
      "tensor(0.9886, grad_fn=<NllLossBackward>)\n",
      "tensor(0.9683, grad_fn=<NllLossBackward>)\n",
      "tensor(0.9729, grad_fn=<NllLossBackward>)\n",
      "tensor(0.9645, grad_fn=<NllLossBackward>)\n",
      "tensor(0.9558, grad_fn=<NllLossBackward>)\n",
      "tensor(0.9085, grad_fn=<NllLossBackward>)\n",
      "tensor(0.0916, grad_fn=<NllLossBackward>)\n",
      "Epoch-20 lr: 0.001 running_loss: 0.18149040639400482\n",
      "Epoch: [20][0/4]\tTime 3.042 (3.042)\t\n",
      "tensor(0.8857, grad_fn=<NllLossBackward>)\n",
      "Epoch: [21][0/9]\tTime 7.395 (7.395)\tLoss 0.8857 (0.8857)\t\n",
      "tensor(0.9196, grad_fn=<NllLossBackward>)\n",
      "tensor(0.9202, grad_fn=<NllLossBackward>)\n",
      "tensor(0.8903, grad_fn=<NllLossBackward>)\n",
      "tensor(0.8898, grad_fn=<NllLossBackward>)\n",
      "tensor(0.8889, grad_fn=<NllLossBackward>)\n",
      "tensor(0.8789, grad_fn=<NllLossBackward>)\n",
      "tensor(0.8294, grad_fn=<NllLossBackward>)\n",
      "tensor(0.0886, grad_fn=<NllLossBackward>)\n",
      "Epoch-21 lr: 0.001 running_loss: 0.16724319756031036\n",
      "Epoch: [21][0/4]\tTime 3.043 (3.043)\t\n",
      "tensor(0.8196, grad_fn=<NllLossBackward>)\n",
      "Epoch: [22][0/9]\tTime 7.486 (7.486)\tLoss 0.8196 (0.8196)\t\n",
      "tensor(0.8602, grad_fn=<NllLossBackward>)\n",
      "tensor(0.8549, grad_fn=<NllLossBackward>)\n",
      "tensor(0.8207, grad_fn=<NllLossBackward>)\n",
      "tensor(0.8219, grad_fn=<NllLossBackward>)\n",
      "tensor(0.8215, grad_fn=<NllLossBackward>)\n",
      "tensor(0.8036, grad_fn=<NllLossBackward>)\n",
      "tensor(0.7559, grad_fn=<NllLossBackward>)\n",
      "tensor(0.0834, grad_fn=<NllLossBackward>)\n",
      "Epoch-22 lr: 0.001 running_loss: 0.1544605940580368\n",
      "Epoch: [22][0/4]\tTime 3.046 (3.046)\t\n",
      "tensor(0.7668, grad_fn=<NllLossBackward>)\n",
      "Epoch: [23][0/9]\tTime 7.398 (7.398)\tLoss 0.7668 (0.7668)\t\n",
      "tensor(0.7989, grad_fn=<NllLossBackward>)\n",
      "tensor(0.7922, grad_fn=<NllLossBackward>)\n",
      "tensor(0.7631, grad_fn=<NllLossBackward>)\n",
      "tensor(0.7629, grad_fn=<NllLossBackward>)\n",
      "tensor(0.7553, grad_fn=<NllLossBackward>)\n",
      "tensor(0.7367, grad_fn=<NllLossBackward>)\n",
      "tensor(0.6982, grad_fn=<NllLossBackward>)\n",
      "tensor(0.0768, grad_fn=<NllLossBackward>)\n",
      "Epoch-23 lr: 0.001 running_loss: 0.14304231107234955\n",
      "Epoch: [23][0/4]\tTime 3.073 (3.073)\t\n",
      "tensor(0.7155, grad_fn=<NllLossBackward>)\n",
      "Epoch: [24][0/9]\tTime 7.423 (7.423)\tLoss 0.7155 (0.7155)\t\n",
      "tensor(0.7399, grad_fn=<NllLossBackward>)\n",
      "tensor(0.7292, grad_fn=<NllLossBackward>)\n",
      "tensor(0.7109, grad_fn=<NllLossBackward>)\n",
      "tensor(0.7099, grad_fn=<NllLossBackward>)\n",
      "tensor(0.6997, grad_fn=<NllLossBackward>)\n",
      "tensor(0.6785, grad_fn=<NllLossBackward>)\n",
      "tensor(0.6488, grad_fn=<NllLossBackward>)\n",
      "tensor(0.0705, grad_fn=<NllLossBackward>)\n",
      "Epoch-24 lr: 0.001 running_loss: 0.13262267410755157\n",
      "Epoch: [24][0/4]\tTime 3.050 (3.050)\t\n"
     ]
    }
   ],
   "source": [
    "best = 1000\n",
    "best_cm = None\n",
    "best_model = None\n",
    "\n",
    "\n",
    "for epoch in range(25):\n",
    "    iter_time = AverageMeter()\n",
    "    losses = AverageMeter()\n",
    "    running_loss = 0.0\n",
    "    count = 0\n",
    "    \n",
    "    # train loop\n",
    "    for idx, (batch) in enumerate(train_dl):\n",
    "        start = time.time()\n",
    "        \n",
    "        image_batch, label_batch = [x[0] for x in batch], [x[1] for x in batch]\n",
    "        image_batch = torch.stack(image_batch).to('cpu')\n",
    "        label_batch = torch.LongTensor([l[0] for l in label_batch])\n",
    "\n",
    "        # Zero the parameter gradients\n",
    "        optimizer.zero_grad()\n",
    "\n",
    "        # Forward (model & loss), Backward, and Optimize (Update weights)\n",
    "        out = model(image_batch)\n",
    "        \n",
    "        loss = criterion(out, label_batch)\n",
    "        print(loss)\n",
    "\n",
    "        loss.backward()\n",
    "        optimizer.step()\n",
    "        count += 1\n",
    "\n",
    "        losses.update(loss, out.shape[0])\n",
    "        running_loss += loss\n",
    "\n",
    "        iter_time.update(time.time() - start)\n",
    "        if idx % 10 == 0:\n",
    "            print(('Epoch: [{0}][{1}/{2}]\\t'\n",
    "                   'Time {iter_time.val:.3f} ({iter_time.avg:.3f})\\t'\n",
    "                   'Loss {loss.val:.4f} ({loss.avg:.4f})\\t')\n",
    "                   .format(epoch, idx, len(train_dl), iter_time=iter_time, loss=losses))\n",
    "    \n",
    "    print(f'Epoch-{epoch} lr: {optimizer.param_groups[0][\"lr\"]} running_loss: {running_loss/image_batch.shape[0]}')\n",
    "    \n",
    "    \n",
    "    # validation loop\n",
    "    iter_time = AverageMeter()\n",
    "    losses = AverageMeter()\n",
    "\n",
    "    num_class = 80\n",
    "    cm =torch.zeros(num_class, num_class)\n",
    "    # evaluation loop\n",
    "    for idx, (batch) in enumerate(val_dl):\n",
    "        start = time.time()\n",
    "\n",
    "        image_batch, label_batch = [x[0] for x in batch], [x[1] for x in batch]\n",
    "        image_batch = torch.stack(image_batch).to('cpu')\n",
    "        label_batch = torch.LongTensor([l[0] for l in label_batch])\n",
    "\n",
    "        model.eval()\n",
    "        torch.no_grad()\n",
    "\n",
    "        out = model(image_batch)\n",
    "        loss = criterion(out, label_batch)\n",
    "        losses.update(loss, out.shape[0])\n",
    "\n",
    "        iter_time.update(time.time() - start)\n",
    "        if idx % 10 == 0:\n",
    "            print(('Epoch: [{0}][{1}/{2}]\\t'\n",
    "               'Time {iter_time.val:.3f} ({iter_time.avg:.3f})\\t')\n",
    "               .format(epoch, \n",
    "                       idx, \n",
    "                       len(val_dl), \n",
    "                       iter_time=iter_time, \n",
    "                       loss=losses, top1=0))\n",
    "            \n",
    "        if loss < best:\n",
    "            best = loss\n",
    "            best_model = copy.deepcopy(model)\n",
    "            torch.save({\n",
    "                'epoch': epoch,\n",
    "                'model_state_dict': best_model.state_dict(),\n",
    "                'optimizer_state_dict': optimizer.state_dict(),\n",
    "                'loss': loss}, f'./checkpoints/densenet_inspired_epoch_{epoch}.pth')\n",
    "            \n",
    "    "
   ]
  },
  {
   "cell_type": "code",
   "execution_count": null,
   "id": "774733e0",
   "metadata": {},
   "outputs": [],
   "source": []
  }
 ],
 "metadata": {
  "kernelspec": {
   "display_name": "cs7643-raml",
   "language": "python",
   "name": "cs7643-raml"
  },
  "language_info": {
   "codemirror_mode": {
    "name": "ipython",
    "version": 3
   },
   "file_extension": ".py",
   "mimetype": "text/x-python",
   "name": "python",
   "nbconvert_exporter": "python",
   "pygments_lexer": "ipython3",
   "version": "3.8.10"
  }
 },
 "nbformat": 4,
 "nbformat_minor": 5
}
