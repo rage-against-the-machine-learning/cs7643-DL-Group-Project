{
 "cells": [
  {
   "cell_type": "code",
   "execution_count": 1,
   "id": "606226a5",
   "metadata": {},
   "outputs": [],
   "source": [
    "import json\n",
    "import os\n",
    "import sys"
   ]
  },
  {
   "cell_type": "code",
   "execution_count": 2,
   "id": "4c1f4a10",
   "metadata": {},
   "outputs": [],
   "source": [
    "from icecream import ic\n",
    "import numpy as np\n",
    "import pandas as pd\n",
    "from pprint import pprint\n",
    "import torch\n",
    "import torch.multiprocessing as mp\n",
    "import torch.nn as nn\n",
    "import torch.nn.functional as F\n",
    "from torchsummary import summary\n",
    "from torch.utils.data import DataLoader\n",
    "from torchvision import transforms\n",
    "from torchvision.models import densenet\n",
    "from tqdm import tqdm"
   ]
  },
  {
   "cell_type": "code",
   "execution_count": 3,
   "id": "1c2abc1a",
   "metadata": {
    "scrolled": true
   },
   "outputs": [
    {
     "name": "stdout",
     "output_type": "stream",
     "text": [
      "loading annotations into memory...\n",
      "Done (t=12.91s)\n",
      "creating index...\n",
      "index created!\n",
      "loading annotations into memory...\n",
      "Done (t=5.54s)\n",
      "creating index...\n",
      "index created!\n",
      "loading annotations into memory...\n",
      "Done (t=0.12s)\n",
      "creating index...\n",
      "index created!\n"
     ]
    }
   ],
   "source": [
    "os.chdir('../')\n",
    "sys.path.append('../dataset/')\n",
    "import coco_data_prep\n",
    "import coco_api_helper\n",
    "import config_dataset"
   ]
  },
  {
   "cell_type": "code",
   "execution_count": 4,
   "id": "10f38ead",
   "metadata": {},
   "outputs": [],
   "source": [
    "annot_filepaths = {'train': config_dataset.train_annotation_filepath,\n",
    "                 'validation' : config_dataset.valid_annotation_filepath,\n",
    "                 'test': config_dataset.test_annotation_filepath}\n",
    "\n",
    "with open(annot_filepaths['train'], 'r') as f:\n",
    "    train_annot = json.load(f)"
   ]
  },
  {
   "cell_type": "markdown",
   "id": "52bbd67f",
   "metadata": {},
   "source": [
    "### Create the Cateogries Label file"
   ]
  },
  {
   "cell_type": "code",
   "execution_count": 5,
   "id": "baff30ba",
   "metadata": {},
   "outputs": [],
   "source": [
    "# cat_ids = [annot['id'] for annot in train_annot['categories']]\n",
    "# cat_names = [annot['name'] for annot in train_annot['categories']]\n",
    "\n",
    "# cat_table = pd.DataFrame(pd.Series(cat_ids, cat_names))\n",
    "# cat_table.reset_index(drop=False, inplace=True)\n",
    "# cat_table.rename(columns={\n",
    "#     'index': 0,\n",
    "#     0: 1\n",
    "# }, inplace=True)\n",
    "# cat_table = cat_table[[1, 0]]\n",
    "# cat_table.to_csv('../dataset/coco_labels.txt', header=None)"
   ]
  },
  {
   "cell_type": "markdown",
   "id": "35bd5bdc",
   "metadata": {},
   "source": [
    "### Helper Functions"
   ]
  },
  {
   "cell_type": "code",
   "execution_count": 6,
   "id": "ee619eb1",
   "metadata": {},
   "outputs": [],
   "source": [
    "def calc_new_dim(orig_h_or_w: int, padding, kernel, stride) -> int:\n",
    "    \"\"\"\n",
    "    :orig_h_or_w: original width or original height of the input image\n",
    "    given the original width or height, kernel size, pad width, stride size\n",
    "    calculate the new width or height\n",
    "    \"\"\"\n",
    "    new_dim = (orig_h_or_w + (2 * padding) - kernel) // stride + 1\n",
    "    return new_dim"
   ]
  },
  {
   "cell_type": "markdown",
   "id": "a0064b61",
   "metadata": {},
   "source": [
    "### Global Variables"
   ]
  },
  {
   "cell_type": "code",
   "execution_count": 7,
   "id": "42af99e3",
   "metadata": {},
   "outputs": [
    {
     "data": {
      "text/plain": [
       "[16,\n",
       " 17,\n",
       " 18,\n",
       " 19,\n",
       " 20,\n",
       " 21,\n",
       " 22,\n",
       " 23,\n",
       " 24,\n",
       " 25,\n",
       " 34,\n",
       " 35,\n",
       " 36,\n",
       " 37,\n",
       " 38,\n",
       " 39,\n",
       " 40,\n",
       " 41,\n",
       " 42,\n",
       " 43,\n",
       " 52,\n",
       " 53,\n",
       " 54,\n",
       " 55,\n",
       " 56,\n",
       " 57,\n",
       " 58,\n",
       " 59,\n",
       " 60,\n",
       " 61]"
      ]
     },
     "execution_count": 7,
     "metadata": {},
     "output_type": "execute_result"
    }
   ],
   "source": [
    "with open('../dataset/categories.json', 'r') as j:\n",
    "    categories = json.load(j)    \n",
    "\n",
    "cat_ids_we_want = [cat['id'] for cat in categories]\n",
    "cat_ids_we_want\n",
    "# catid_to_catname_df = pd.DataFrame.from_records(pd.Series([c.values() for c in categories])).drop(0, axis=1)\n",
    "# catid_to_catname_df.to_csv('../dataset/coco_labels.txt', header=None, sep=',', mode='a')"
   ]
  },
  {
   "cell_type": "code",
   "execution_count": 8,
   "id": "ec323468",
   "metadata": {},
   "outputs": [],
   "source": [
    "train_np_data_dir = '../data/numpy_imgs/train_subset/'\n",
    "train_jpg_data_dir = '../data/raw/train/train2014/'\n",
    "train_annot_filepath = '../data/raw/train/annotations/instances_train2014.json'\n",
    "\n",
    "with open('../dataset/imgs_by_supercategory.json', 'r') as f:\n",
    "    desired_categories = json.load(f)"
   ]
  },
  {
   "cell_type": "code",
   "execution_count": 9,
   "id": "c05a7e61",
   "metadata": {},
   "outputs": [],
   "source": [
    "val_np_data_dir = '../data/numpy_imgs/val_subset/'\n",
    "val_jpg_data_dir = '../data/raw/val/val2014/'\n",
    "val_annot_filepath = '../data/raw/train/annotations/instances_val2014.json'"
   ]
  },
  {
   "cell_type": "code",
   "execution_count": 10,
   "id": "96f31c2e",
   "metadata": {},
   "outputs": [],
   "source": [
    "device = torch.device(\"cuda:0\" if torch.cuda.is_available() else \"cpu\")\n",
    "# device = torch.device('cpu')"
   ]
  },
  {
   "cell_type": "markdown",
   "id": "f760bb7c",
   "metadata": {},
   "source": [
    "### Load Data : Train & Validation into DataLoader"
   ]
  },
  {
   "cell_type": "code",
   "execution_count": 11,
   "id": "e57db4f6",
   "metadata": {},
   "outputs": [],
   "source": [
    "# torch.cuda.empty_cache()"
   ]
  },
  {
   "cell_type": "code",
   "execution_count": 12,
   "id": "c4679474",
   "metadata": {
    "scrolled": true
   },
   "outputs": [],
   "source": [
    "%load_ext autoreload"
   ]
  },
  {
   "cell_type": "code",
   "execution_count": 13,
   "id": "df8e518b",
   "metadata": {},
   "outputs": [],
   "source": [
    "%autoreload"
   ]
  },
  {
   "cell_type": "code",
   "execution_count": 14,
   "id": "84a5f877",
   "metadata": {
    "scrolled": false
   },
   "outputs": [
    {
     "name": "stdout",
     "output_type": "stream",
     "text": [
      "loading annotations into memory...\n",
      "Done (t=11.69s)\n",
      "creating index...\n",
      "index created!\n"
     ]
    },
    {
     "name": "stderr",
     "output_type": "stream",
     "text": [
      "100%|███████████████████████████████████████████| 82783/82783 [00:47<00:00, 1731.58it/s]\n"
     ]
    }
   ],
   "source": [
    "train_ds = coco_data_prep.COCODataset('train',\n",
    "                                      train_np_data_dir, \n",
    "                                      train_annot_filepath,\n",
    "                                      coco_data_prep.COCOAnnotationTransform(),\n",
    "                                      sample_ratio=0.05,\n",
    "                                      device='cpu')"
   ]
  },
  {
   "cell_type": "code",
   "execution_count": 15,
   "id": "46e33688",
   "metadata": {
    "scrolled": true
   },
   "outputs": [],
   "source": [
    "train_dl = coco_data_prep.get_dataloader(train_ds, \n",
    "                                         batch_size=512, \n",
    "                                         device='cpu')"
   ]
  },
  {
   "cell_type": "code",
   "execution_count": 16,
   "id": "541a5c0d",
   "metadata": {
    "scrolled": false
   },
   "outputs": [
    {
     "name": "stderr",
     "output_type": "stream",
     "text": [
      "1it [00:04,  4.54s/it]"
     ]
    },
    {
     "name": "stdout",
     "output_type": "stream",
     "text": [
      "torch.Size([512, 3, 224, 224])\n",
      "torch.Size([512])\n"
     ]
    },
    {
     "name": "stderr",
     "output_type": "stream",
     "text": [
      "\r",
      "2it [00:04,  2.06s/it]"
     ]
    },
    {
     "name": "stdout",
     "output_type": "stream",
     "text": [
      "torch.Size([512, 3, 224, 224])\n",
      "torch.Size([512])\n"
     ]
    },
    {
     "name": "stderr",
     "output_type": "stream",
     "text": [
      "\r",
      "3it [00:05,  1.22s/it]"
     ]
    },
    {
     "name": "stdout",
     "output_type": "stream",
     "text": [
      "torch.Size([512, 3, 224, 224])\n",
      "torch.Size([512])\n",
      "torch.Size([512, 3, 224, 224])\n",
      "torch.Size([512])\n"
     ]
    },
    {
     "name": "stderr",
     "output_type": "stream",
     "text": [
      "\r",
      "5it [00:05,  1.64it/s]"
     ]
    },
    {
     "name": "stdout",
     "output_type": "stream",
     "text": [
      "torch.Size([512, 3, 224, 224])\n",
      "torch.Size([512])\n",
      "torch.Size([512, 3, 224, 224])\n",
      "torch.Size([512])\n"
     ]
    },
    {
     "name": "stderr",
     "output_type": "stream",
     "text": [
      "\r",
      "7it [00:05,  2.49it/s]"
     ]
    },
    {
     "name": "stdout",
     "output_type": "stream",
     "text": [
      "torch.Size([512, 3, 224, 224])\n",
      "torch.Size([512])\n",
      "torch.Size([512, 3, 224, 224])\n",
      "torch.Size([512])\n"
     ]
    },
    {
     "name": "stderr",
     "output_type": "stream",
     "text": [
      "\r",
      "9it [00:05,  3.45it/s]"
     ]
    },
    {
     "name": "stdout",
     "output_type": "stream",
     "text": [
      "torch.Size([43, 3, 224, 224])\n",
      "torch.Size([43])\n"
     ]
    },
    {
     "name": "stderr",
     "output_type": "stream",
     "text": [
      "9it [00:06,  1.44it/s]\n"
     ]
    }
   ],
   "source": [
    "for i, (batch) in tqdm(enumerate(train_dl)):\n",
    "    image_batch, label_batch = [x[0] for x in batch], [x[1] for x in batch]\n",
    "\n",
    "    image_batch = torch.stack(image_batch).to('cpu')\n",
    "    label_batch = torch.FloatTensor([l[0] for l in label_batch])\n",
    "    \n",
    "    print(image_batch.shape)\n",
    "    print(label_batch.shape)\n",
    "    "
   ]
  },
  {
   "cell_type": "code",
   "execution_count": 17,
   "id": "e1130995",
   "metadata": {},
   "outputs": [
    {
     "data": {
      "text/plain": [
       "tensor([16., 34., 17., 41., 99., 18., 39., 36., 99., 55., 99., 34., 34., 37.,\n",
       "        99., 36., 24., 99., 20., 60., 99., 99., 36., 56., 56., 20., 99., 36.,\n",
       "        17., 19., 20., 19., 38., 37., 39., 41., 39., 17., 20., 21., 37., 36.,\n",
       "        38.])"
      ]
     },
     "execution_count": 17,
     "metadata": {},
     "output_type": "execute_result"
    }
   ],
   "source": [
    "label_batch"
   ]
  },
  {
   "cell_type": "code",
   "execution_count": null,
   "id": "bd84eb30",
   "metadata": {
    "scrolled": false
   },
   "outputs": [],
   "source": [
    "len(label_batch)"
   ]
  },
  {
   "cell_type": "code",
   "execution_count": null,
   "id": "f3ce9227",
   "metadata": {},
   "outputs": [],
   "source": [
    "len([[[60], [54], [99], [36], [99], [99], [99], [36], [38], [35], [99], [53], [61], [34], [53], [42], [53], [18], [99], [23], [37], [38], [99], [60], [16], [20], [19], [17], [35], [16], [99], [53], [16], [39], [99], [36], [38], [24], [21], [99], [23], [99], [59], [56], [58], [17], [18], [23], [38], [99], [36], [36], [36], [24], [99], [99], [57], [38], [38], [99], [37], [60], [34], [99], [42], [19], [35], [21], [56], [99], [99], [41], [36], [20], [99], [99], [56], [60], [16], [42], [38], [99], [16], [99], [20], [24], [42], [99], [17], [17], [99], [99], [38], [16], [99], [99], [99], [99], [24], [25], [99], [99], [99], [36], [16], [53], [60], [60], [99], [56], [61], [37], [41], [37], [34], [17], [55], [18], [55], [99], [99], [20], [20], [23], [40], [99], [21], [99], [25], [99], [40], [99], [16], [34], [36], [16], [20], [34], [35], [19], [99], [55], [41], [56], [52], [21], [34], [20], [16], [99], [16], [60], [17], [99], [16], [99], [41], [24], [53], [20], [42], [61], [56], [19], [21], [16], [23], [99], [18], [56], [37], [99], [24], [38], [99], [99], [36], [60], [99], [23], [99], [60], [37], [59], [21], [59], [39], [37], [99], [56], [99], [22], [23], [56], [16], [37], [34], [17], [23], [35], [99], [99], [57], [56], [99], [34], [24], [22], [60], [16], [99], [19], [99], [99], [56], [41], [39], [36], [36], [99], [22], [60], [37], [23], [36], [60], [99], [99], [17], [19], [16], [16], [20], [36], [55], [38], [16], [60], [38], [23], [99], [99], [56], [38], [99], [99], [24], [99], [17], [58], [17], [16], [42], [22], [99], [99], [55], [99], [37], [18], [38], [41], [34], [35], [36], [25], [22], [99], [99], [23], [16], [38], [55], [99], [16], [99], [16], [23], [60], [99], [41], [99], [24], [17], [20], [54], [99], [36], [54], [21], [22], [37], [99], [99], [35], [35], [20], [16], [36], [17], [19], [17], [23], [21], [37], [23], [99], [99], [99], [38], [54], [17], [37], [18], [38], [20], [38], [41], [23], [34], [99], [18], [99], [17], [99], [19], [38], [56], [37], [16], [41], [99], [60], [20], [19], [99], [37], [17], [24], [34], [16], [99], [99], [35], [38], [37], [17], [39], [57], [99], [20], [16], [16], [59], [54], [19], [21], [36], [35], [16], [52], [19], [99], [36], [22], [99], [16], [38], [23], [99], [23], [20], [99], [99], [99], [36], [16], [53], [42], [37], [19], [99], [22], [42], [36], [34], [20], [38], [42], [56], [34], [55], [99], [99], [58], [42], [24], [17], [55], [20], [56], [99], [55], [39], [36], [59], [38], [37], [53], [34], [34], [39], [36], [99], [34], [17], [16], [60], [99], [23], [54], [99], [34], [99], [18], [16], [41], [99], [38], [38], [23], [42], [35], [99], [21], [52], [56], [36], [38], [17], [99], [37], [18], [16], [99], [99], [34], [22], [19], [18], [99], [41], [37], [99], [99], [38], [57], [99], [20], [17], [99], [36], [40], [38], [17], [99], [99], [17], [23], [16], [99], [23], [36], [99], [37], [22], [18], [39], [38], [99], [39], [99], [36], [20], [22], [23], [55], [17], [99], [99], [43], [34], [99], [22], [56], [99], [19], [43], [99], [99], [22], [16], [17], [36], [99], [21], [99], [17], [52], [24], [43], [43], [60], [54], [99], [36], [99], [99], [99], [36], [38], [35], [99], [53], [61], [34], [53], [42], [53], [18], [99], [23], [37], [38], [99], [60], [16], [20], [19], [17], [35], [16], [99], [53], [16], [39], [99], [36], [38], [24], [21], [99], [23], [99], [59], [56], [58], [17], [18], [23], [38], [99], [36], [36], [36], [24], [99], [99], [57], [38], [38], [99], [37], [60], [34], [99], [42], [19], [35], [21], [56], [99], [99], [41], [36], [20], [99], [99], [56], [60], [16], [42], [38], [99], [16], [99], [20], [24], [42], [99], [17], [17], [99], [99], [38], [16], [99], [99], [99], [99], [24], [25], [99], [99], [99], [36], [16], [53], [60], [60], [99], [56], [61], [37], [41], [37], [34], [17], [55], [18], [55], [99], [99], [20], [20], [23], [40], [99], [21], [99], [25], [99], [40], [99], [16], [34], [36], [16], [20], [34], [35], [19], [99], [55], [41], [56], [52], [21], [34], [20], [16], [99], [16], [60], [17], [99], [16], [99], [41], [24], [53], [20], [42], [61], [56], [19], [21], [16], [23], [99], [18], [56], [37], [99], [24], [38], [99], [99], [36], [60], [99], [23], [99], [60], [37], [59], [21], [59], [39], [37], [99], [56], [99], [22], [23], [56], [16], [37], [34], [17], [23], [35], [99], [99], [57], [56], [99], [34], [24], [22], [60], [16], [99], [19], [99], [99], [56], [41], [39], [36], [36], [99], [22], [60], [37], [23], [36], [60], [99], [99], [17], [19], [16], [16], [20], [36], [55], [38], [16], [60], [38], [23], [99], [99], [56], [38], [99], [99], [24], [99], [17], [58], [17], [16], [42], [22], [99], [99], [55], [99], [37], [18], [38], [41], [34], [35], [36], [25], [22], [99], [99], [23], [16], [38], [55], [99], [16], [99], [16], [23], [60], [99], [41], [99], [24], [17], [20], [54], [99], [36], [54], [21], [22], [37], [99], [99], [35], [35], [20], [16], [36], [17], [19], [17], [23], [21], [37], [23], [99], [99], [99], [38], [54], [17], [37], [18], [38], [20], [38], [41], [23], [34], [99], [18], [99], [17], [99], [19], [38], [56], [37], [16], [41], [99], [60], [20], [19], [99], [37], [17], [24], [34], [16], [99], [99], [35], [38], [37], [17], [39], [57], [99], [20], [16], [16], [59], [54], [19], [21], [36], [35], [16], [52], [19], [99], [36], [22], [99], [16], [38], [23], [99], [23], [20], [99], [99], [99], [36], [16], [53], [42], [37], [19], [99], [22], [42], [36], [34], [20], [38], [42], [56], [34], [55], [99], [99], [58], [42], [24], [17], [55], [20], [56], [99], [55], [39], [36], [59], [38], [37], [53], [34], [34], [39], [36], [99], [34], [17], [16], [60], [99], [23], [54], [99], [34], [99], [18], [16], [41], [99], [38], [38], [23], [42], [35], [99], [21], [52], [56], [36], [38], [17], [99], [37], [18], [16], [99], [99], [34], [22], [19], [18], [99], [41], [37], [99], [99], [38], [57], [99], [20], [17], [99], [36], [40], [38], [17], [99], [99], [17], [23], [16], [99], [23], [36], [99], [37], [22], [18], [39], [38], [99], [39], [99], [36], [20], [22], [23], [55], [17], [99], [99], [43], [34], [99], [22], [56], [99], [19], [43], [99], [99], [22], [16], [17], [36], [99], [21], [99], [17], [52], [24], [43], [43]]][0])"
   ]
  },
  {
   "cell_type": "code",
   "execution_count": null,
   "id": "0df107e7",
   "metadata": {
    "scrolled": true
   },
   "outputs": [],
   "source": [
    "# val_ds = coco_data_prep.COCODataset('val',\n",
    "#                                     val_np_data_dir, \n",
    "#                                     val_annot_filepath,\n",
    "#                                     coco_data_prep.COCOAnnotationTransform(),\n",
    "#                                     sample_ratio = 0.05,\n",
    "#                                     device='cpu')"
   ]
  },
  {
   "cell_type": "code",
   "execution_count": null,
   "id": "42bcabdb",
   "metadata": {
    "scrolled": true
   },
   "outputs": [],
   "source": [
    "# val_dl = coco_data_prep.get_dataloader(val_ds, \n",
    "#                                      batch_size=512, \n",
    "#                                      device='cpu')"
   ]
  },
  {
   "cell_type": "markdown",
   "id": "5754fb8e",
   "metadata": {},
   "source": [
    "### Load Model"
   ]
  },
  {
   "cell_type": "markdown",
   "id": "7f806f4c",
   "metadata": {},
   "source": [
    "#### Densenet121"
   ]
  },
  {
   "cell_type": "code",
   "execution_count": null,
   "id": "bffec253",
   "metadata": {
    "scrolled": false
   },
   "outputs": [],
   "source": [
    "# model = torch.hub.load('pytorch/vision:v0.10.0', 'densenet121', pretrained=True)"
   ]
  },
  {
   "cell_type": "code",
   "execution_count": null,
   "id": "7edbe2dd",
   "metadata": {},
   "outputs": [],
   "source": [
    "# model"
   ]
  },
  {
   "cell_type": "markdown",
   "id": "b00b6bdf",
   "metadata": {},
   "source": [
    "### Build From Scratch - Densenet Inspired"
   ]
  },
  {
   "cell_type": "code",
   "execution_count": null,
   "id": "95d5e6f2",
   "metadata": {},
   "outputs": [],
   "source": [
    "class DensenetInspired(nn.Module):\n",
    "    def __init__(self):\n",
    "        super(DensenetInspired, self).__init__()\n",
    "        self.conv1 = nn.Conv2d(in_channels=3, out_channels=64, kernel_size=7, stride=2, padding=3)\n",
    "        self.bn1 = nn.BatchNorm2d(64, eps=1e-05, momentum=0.1, affine=True, track_running_stats=True)\n",
    "        self.relu1 = nn.ReLU()\n",
    "        self.mp1 = nn.MaxPool2d(kernel_size=3, stride=2, padding=1, dilation=1, ceil_mode=False)\n",
    "        \n",
    "        # This part is Densenet inspired...recycle use of BN, RELU, CONV repeatedly\n",
    "        self.bn2 = nn.BatchNorm2d(64, eps=1e-05, momentum=0.1, affine=True, track_running_stats=True)\n",
    "        self.relu2 = nn.ReLU()\n",
    "        self.conv2 = nn.Conv2d(64, 128, kernel_size=(1, 1), stride=(1, 1), bias=False)\n",
    "        \n",
    "        self.bn3 = nn.BatchNorm2d(128, eps=1e-05, momentum=0.1, affine=True, track_running_stats=True)\n",
    "        self.relu3= nn.ReLU(inplace=True)\n",
    "        self.conv3 = nn.Conv2d(128, 32, kernel_size=(3, 3), stride=(1, 1), padding=(1, 1), bias=False)\n",
    "        \n",
    "        self.flat = nn.Flatten()\n",
    "        self.lin1 = nn.LazyLinear(out_features=1024)\n",
    "        self.fc1 = nn.Linear(1024, 30)\n",
    "\n",
    "    def forward(self, x):\n",
    "        out = self.conv1(x)\n",
    "        out = self.bn1(out)\n",
    "        out = self.relu1(out)\n",
    "        out = self.mp1(out)\n",
    "        \n",
    "        out = self.bn2(out)\n",
    "        out = self.relu2(out)\n",
    "        out = self.conv2(out)\n",
    "        \n",
    "        out = self.bn3(out)\n",
    "        out = self.relu3(out)\n",
    "        out = self.conv3(out)\n",
    "        \n",
    "        out = self.flat(out)\n",
    "        out = self.lin1(out)\n",
    "        out = self.fc1(out)\n",
    "\n",
    "        return out"
   ]
  },
  {
   "cell_type": "markdown",
   "id": "26ce6ce7",
   "metadata": {},
   "source": [
    "#### Modeling Variables"
   ]
  },
  {
   "cell_type": "code",
   "execution_count": null,
   "id": "2e6eb676",
   "metadata": {
    "scrolled": true
   },
   "outputs": [],
   "source": [
    "model = DensenetInspired()"
   ]
  },
  {
   "cell_type": "code",
   "execution_count": null,
   "id": "973ccece",
   "metadata": {},
   "outputs": [],
   "source": [
    "optim_params= dict(\n",
    "    lr=0.001,\n",
    "    betas=(0.9, 0.999),\n",
    "    eps=1e-05,\n",
    "    weight_decay=0.01,\n",
    "    amsgrad=False,\n",
    ")\n",
    "\n",
    "optimizer = torch.optim.Adam(model.parameters(), **optim_params)\n",
    "scheduler = torch.optim.lr_scheduler.ReduceLROnPlateau(optimizer)"
   ]
  },
  {
   "cell_type": "code",
   "execution_count": null,
   "id": "4d95b9b2",
   "metadata": {
    "scrolled": false
   },
   "outputs": [],
   "source": [
    "criterion = nn.MSELoss()"
   ]
  },
  {
   "cell_type": "code",
   "execution_count": null,
   "id": "d607dbb7",
   "metadata": {},
   "outputs": [],
   "source": [
    "import warnings\n",
    "warnings.filterwarnings('ignore')"
   ]
  },
  {
   "cell_type": "code",
   "execution_count": null,
   "id": "d53939e9",
   "metadata": {},
   "outputs": [],
   "source": [
    "%autoreload"
   ]
  },
  {
   "cell_type": "code",
   "execution_count": null,
   "id": "859b5a99",
   "metadata": {},
   "outputs": [],
   "source": [
    "import statistics"
   ]
  },
  {
   "cell_type": "code",
   "execution_count": null,
   "id": "b821630e",
   "metadata": {
    "scrolled": false
   },
   "outputs": [],
   "source": [
    "[statistics.mode([20, 21, 21, 45, 45, 21, 23, 23, 23, 23])]"
   ]
  },
  {
   "cell_type": "code",
   "execution_count": null,
   "id": "ab49ad52",
   "metadata": {},
   "outputs": [],
   "source": [
    "for epoch in range(50):\n",
    "    running_loss = 0.0\n",
    "    count = 0\n",
    "    \n",
    "    for i, (batch) in tqdm(enumerate(train_dl)):\n",
    "        image_batch, label_batch = [x[0] for x in batch], [x[1] for x in batch]\n",
    "        image_batch = torch.stack(image_batch).to('cpu')\n",
    "        label_batch = torch.stack(label_batch).to('cpu')\n",
    "        \n",
    "#         try:\n",
    "#             optimizer.zero_grad()\n",
    "#             outputs = model(image_batch)\n",
    "            \n",
    "#             loss = criterion(outputs, label_batch.double())\n",
    "#             print(loss)\n",
    "            \n",
    "#             loss.backward()\n",
    "#             optimizer.step()\n",
    "#             count += 1\n",
    "#             running_loss += loss.item()\n",
    "#             scheduler.step()\n",
    "            \n",
    "#             if count % 100 == 99:    # print every 10 mini-batches\n",
    "#                 print('[%d, %5d] loss: %.3f' %\n",
    "#                         (epoch + 1, count + 1, running_loss / 100))\n",
    "#                 running_loss = 0.0\n",
    "#         except:\n",
    "#             continue\n",
    "# #             print('not enough in batch_size')\n",
    "#     print(f'Epoch-{epoch} lr: {optimizer.param_groups[0][\"lr\"]} running_loss: {running_loss}')"
   ]
  },
  {
   "cell_type": "code",
   "execution_count": null,
   "id": "c69c5bdc",
   "metadata": {},
   "outputs": [],
   "source": [
    "running_loss"
   ]
  },
  {
   "cell_type": "code",
   "execution_count": null,
   "id": "6a64cb5d",
   "metadata": {
    "scrolled": true
   },
   "outputs": [],
   "source": [
    "features_list = []\n",
    "labels_list = []\n",
    "\n",
    "# Use GPUs to speed up the inference, this should take around 10 minutes\n",
    "\n",
    "model.to('cpu')\n",
    "for batch in tqdm(train_dl):\n",
    "    image_batch, label_batch = [x[0] for x in batch], [x[1] for x in batch]\n",
    "    image_batch = torch.stack(image_batch).to('cpu') \n",
    "\n",
    "    with torch.no_grad():\n",
    "        features_batch = model(image_batch) # .flatten(start_dim=1)\n",
    "    features_list.append(features_batch)\n",
    "    labels_list.extend(label_batch)"
   ]
  },
  {
   "cell_type": "code",
   "execution_count": null,
   "id": "f07d4762",
   "metadata": {
    "scrolled": true
   },
   "outputs": [],
   "source": [
    "type(train_ds[0][1])"
   ]
  },
  {
   "cell_type": "code",
   "execution_count": null,
   "id": "6cf23ff4",
   "metadata": {
    "scrolled": true
   },
   "outputs": [],
   "source": [
    "criterion(features_list[0], [44, 44, 59, 1, 44, 44, 79, 79])"
   ]
  },
  {
   "cell_type": "code",
   "execution_count": null,
   "id": "1563114c",
   "metadata": {},
   "outputs": [],
   "source": [
    "[[l['category_id'] for l in label] for label in labels_list]"
   ]
  },
  {
   "cell_type": "code",
   "execution_count": null,
   "id": "57dbd5d8",
   "metadata": {},
   "outputs": [],
   "source": [
    "torch.cuda.empty_cache()"
   ]
  },
  {
   "cell_type": "code",
   "execution_count": null,
   "id": "d9c2269b",
   "metadata": {},
   "outputs": [],
   "source": [
    "features_list[0].shape"
   ]
  },
  {
   "cell_type": "code",
   "execution_count": null,
   "id": "81f5e194",
   "metadata": {},
   "outputs": [],
   "source": [
    "for i, vecs in enumerate(features_list):\n",
    "    torch.save(vecs, f'../data/torch_embeddings/densenet_pretrained_embs_len_50176-{i}.pt')"
   ]
  },
  {
   "cell_type": "code",
   "execution_count": null,
   "id": "df9cd717",
   "metadata": {},
   "outputs": [],
   "source": [
    "(0): Conv2d(3, 64, kernel_size=(7, 7), stride=(2, 2), padding=(3, 3), bias=False)\n",
    "(1): BatchNorm2d(64, eps=1e-05, momentum=0.1, affine=True, track_running_stats=True)\n",
    "(2): ReLU(inplace=True)\n",
    "(3): MaxPool2d(kernel_size=3, stride=2, padding=1, dilation=1, ceil_mode=False)"
   ]
  },
  {
   "cell_type": "code",
   "execution_count": null,
   "id": "52a426a0",
   "metadata": {},
   "outputs": [],
   "source": [
    "class DensenetInspired(nn.Module):\n",
    "    def __init__(self):\n",
    "        super(DensenetInspired).__init__()\n",
    "        \n",
    "        self.conv0 = model.features.conv0\n",
    "        self.bn0 = model.features.norm0\n",
    "        self.relu0 = model.features.relu0\n",
    "        self.pool0 = model.features.pool0\n",
    "        self.db0 = nn.BatchNorm2d(64, eps=1e-5, momentum=0.1, affine=True, track_running_stats=True)\n",
    "        self.relu1 = nn.ReLU(inplace=True)\n",
    "        self.conv1 = nn.Conv2d(64, 32, kernel_size(3, 3), stride=(1, 1), padding=(1, 1), bias=False)\n",
    "        self.linear = nn.Linear(in_features=1024, out_features=1000, bias=True)\n",
    "\n",
    "    def forward(self, x):\n",
    "        x = self.pool(F.relu(self.conv1(x)))\n",
    "        x = self.pool(F.relu(self.conv2(x)))\n",
    "        x = torch.flatten(x, 1) # flatten all dimensions except batch\n",
    "        x = F.relu(self.fc1(x))\n",
    "        x = F.relu(self.fc2(x))\n",
    "        x = self.fc3(x)\n",
    "        return x"
   ]
  },
  {
   "cell_type": "code",
   "execution_count": null,
   "id": "774733e0",
   "metadata": {},
   "outputs": [],
   "source": []
  }
 ],
 "metadata": {
  "kernelspec": {
   "display_name": "cs7643-raml",
   "language": "python",
   "name": "cs7643-raml"
  },
  "language_info": {
   "codemirror_mode": {
    "name": "ipython",
    "version": 3
   },
   "file_extension": ".py",
   "mimetype": "text/x-python",
   "name": "python",
   "nbconvert_exporter": "python",
   "pygments_lexer": "ipython3",
   "version": "3.8.10"
  }
 },
 "nbformat": 4,
 "nbformat_minor": 5
}
