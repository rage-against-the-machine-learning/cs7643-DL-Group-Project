{
 "cells": [
  {
   "cell_type": "code",
   "execution_count": 1,
   "id": "606226a5",
   "metadata": {},
   "outputs": [],
   "source": [
    "import json\n",
    "import os\n",
    "import sys\n",
    "import time"
   ]
  },
  {
   "cell_type": "code",
   "execution_count": 2,
   "id": "4c1f4a10",
   "metadata": {},
   "outputs": [],
   "source": [
    "from icecream import ic\n",
    "import numpy as np\n",
    "import pandas as pd\n",
    "from pprint import pprint\n",
    "\n",
    "import torch\n",
    "import torch.multiprocessing as mp\n",
    "import torch.nn as nn\n",
    "import torch.nn.functional as F\n",
    "from torchsummary import summary\n",
    "from torch.utils.data import DataLoader\n",
    "from torchvision import transforms\n",
    "from torchvision.models import densenet\n",
    "\n",
    "from tqdm import tqdm"
   ]
  },
  {
   "cell_type": "code",
   "execution_count": 3,
   "id": "1c2abc1a",
   "metadata": {
    "scrolled": true
   },
   "outputs": [
    {
     "name": "stdout",
     "output_type": "stream",
     "text": [
      "loading annotations into memory...\n",
      "Done (t=12.91s)\n",
      "creating index...\n",
      "index created!\n",
      "loading annotations into memory...\n",
      "Done (t=5.48s)\n",
      "creating index...\n",
      "index created!\n",
      "loading annotations into memory...\n",
      "Done (t=0.12s)\n",
      "creating index...\n",
      "index created!\n"
     ]
    }
   ],
   "source": [
    "os.chdir('../')\n",
    "sys.path.append('../dataset/')\n",
    "import coco_data_prep\n",
    "import coco_api_helper\n",
    "import config_dataset"
   ]
  },
  {
   "cell_type": "code",
   "execution_count": 4,
   "id": "10f38ead",
   "metadata": {},
   "outputs": [],
   "source": [
    "annot_filepaths = {'train': config_dataset.train_annotation_filepath,\n",
    "                 'validation' : config_dataset.valid_annotation_filepath,\n",
    "                 'test': config_dataset.test_annotation_filepath}\n",
    "\n",
    "with open(annot_filepaths['train'], 'r') as f:\n",
    "    train_annot = json.load(f)"
   ]
  },
  {
   "cell_type": "markdown",
   "id": "52bbd67f",
   "metadata": {},
   "source": [
    "### Create the Cateogries Label file"
   ]
  },
  {
   "cell_type": "code",
   "execution_count": 5,
   "id": "baff30ba",
   "metadata": {},
   "outputs": [],
   "source": [
    "# cat_ids = [annot['id'] for annot in train_annot['categories']]\n",
    "# cat_names = [annot['name'] for annot in train_annot['categories']]\n",
    "\n",
    "# cat_table = pd.DataFrame(pd.Series(cat_ids, cat_names))\n",
    "# cat_table.reset_index(drop=False, inplace=True)\n",
    "# cat_table.rename(columns={\n",
    "#     'index': 0,\n",
    "#     0: 1\n",
    "# }, inplace=True)\n",
    "# cat_table = cat_table[[1, 0]]\n",
    "# cat_table.to_csv('../dataset/coco_labels.txt', header=None)"
   ]
  },
  {
   "cell_type": "markdown",
   "id": "35bd5bdc",
   "metadata": {},
   "source": [
    "### Helper Functions"
   ]
  },
  {
   "cell_type": "code",
   "execution_count": 6,
   "id": "ee619eb1",
   "metadata": {},
   "outputs": [],
   "source": [
    "def calc_new_dim(orig_h_or_w: int, padding, kernel, stride) -> int:\n",
    "    \"\"\"\n",
    "    :orig_h_or_w: original width or original height of the input image\n",
    "    given the original width or height, kernel size, pad width, stride size\n",
    "    calculate the new width or height\n",
    "    \"\"\"\n",
    "    new_dim = (orig_h_or_w + (2 * padding) - kernel) // stride + 1\n",
    "    return new_dim"
   ]
  },
  {
   "cell_type": "markdown",
   "id": "a0064b61",
   "metadata": {},
   "source": [
    "### Global Variables"
   ]
  },
  {
   "cell_type": "code",
   "execution_count": 7,
   "id": "42af99e3",
   "metadata": {},
   "outputs": [],
   "source": [
    "with open('../dataset/categories.json', 'r') as j:\n",
    "    categories = json.load(j)    \n",
    "\n",
    "# catid_to_catname_df = pd.DataFrame.from_records(pd.Series([c.values() for c in categories])).drop(0, axis=1)\n",
    "# catid_to_catname_df.to_csv('../dataset/coco_labels.txt', header=None, sep=',', mode='a')"
   ]
  },
  {
   "cell_type": "code",
   "execution_count": 8,
   "id": "ec323468",
   "metadata": {},
   "outputs": [],
   "source": [
    "train_np_data_dir = '../data/numpy_imgs/train_subset/'\n",
    "train_jpg_data_dir = '../data/raw/train/train2014/'\n",
    "train_annot_filepath = '../data/raw/train/annotations/instances_train2014.json'\n",
    "\n",
    "with open('../dataset/imgs_by_supercategory.json', 'r') as f:\n",
    "    desired_categories = json.load(f)"
   ]
  },
  {
   "cell_type": "code",
   "execution_count": 9,
   "id": "c05a7e61",
   "metadata": {},
   "outputs": [],
   "source": [
    "val_np_data_dir = '../data/numpy_imgs/val_subset/'\n",
    "val_jpg_data_dir = '../data/raw/val/val2014/'\n",
    "val_annot_filepath = '../data/raw/train/annotations/instances_val2014.json'"
   ]
  },
  {
   "cell_type": "code",
   "execution_count": 10,
   "id": "96f31c2e",
   "metadata": {},
   "outputs": [],
   "source": [
    "device = torch.device(\"cuda:0\" if torch.cuda.is_available() else \"cpu\")\n",
    "# device = torch.device('cpu')"
   ]
  },
  {
   "cell_type": "markdown",
   "id": "f760bb7c",
   "metadata": {},
   "source": [
    "### Load Data : Train & Validation into DataLoader"
   ]
  },
  {
   "cell_type": "code",
   "execution_count": 11,
   "id": "e57db4f6",
   "metadata": {},
   "outputs": [],
   "source": [
    "# torch.cuda.empty_cache()"
   ]
  },
  {
   "cell_type": "code",
   "execution_count": 12,
   "id": "c4679474",
   "metadata": {
    "scrolled": true
   },
   "outputs": [],
   "source": [
    "%load_ext autoreload"
   ]
  },
  {
   "cell_type": "code",
   "execution_count": 13,
   "id": "df8e518b",
   "metadata": {},
   "outputs": [],
   "source": [
    "%autoreload"
   ]
  },
  {
   "cell_type": "code",
   "execution_count": 14,
   "id": "84a5f877",
   "metadata": {
    "scrolled": false
   },
   "outputs": [
    {
     "name": "stdout",
     "output_type": "stream",
     "text": [
      "loading annotations into memory...\n",
      "Done (t=11.84s)\n",
      "creating index...\n",
      "index created!\n"
     ]
    },
    {
     "name": "stderr",
     "output_type": "stream",
     "text": [
      "100%|███████████████████████████████████████████| 82783/82783 [00:48<00:00, 1724.05it/s]\n"
     ]
    }
   ],
   "source": [
    "train_ds = coco_data_prep.COCODataset('train',\n",
    "                                      train_np_data_dir, \n",
    "                                      train_annot_filepath,\n",
    "                                      coco_data_prep.COCOAnnotationTransform(),\n",
    "                                      sample_ratio=0.05,\n",
    "                                      device='cpu')"
   ]
  },
  {
   "cell_type": "code",
   "execution_count": 15,
   "id": "46e33688",
   "metadata": {
    "scrolled": true
   },
   "outputs": [],
   "source": [
    "train_dl = coco_data_prep.get_dataloader(train_ds, \n",
    "                                         batch_size=512, \n",
    "                                         device='cpu')"
   ]
  },
  {
   "cell_type": "code",
   "execution_count": 16,
   "id": "bcaf1efe",
   "metadata": {
    "scrolled": false
   },
   "outputs": [],
   "source": [
    "# for i, (batch) in tqdm(enumerate(train_dl)):\n",
    "#     image_batch, label_batch = [x[0] for x in batch], [x[1] for x in batch]\n",
    "\n",
    "#     image_batch = torch.stack(image_batch).to('cpu')\n",
    "#     label_batch = torch.FloatTensor([l[0] for l in label_batch])\n",
    "    \n",
    "#     print(image_batch.shape)\n",
    "#     print(label_batch.shape)\n",
    "    "
   ]
  },
  {
   "cell_type": "code",
   "execution_count": 17,
   "id": "0df107e7",
   "metadata": {
    "scrolled": true
   },
   "outputs": [],
   "source": [
    "# val_ds = coco_data_prep.COCODataset('val',\n",
    "#                                     val_np_data_dir, \n",
    "#                                     val_annot_filepath,\n",
    "#                                     coco_data_prep.COCOAnnotationTransform(),\n",
    "#                                     sample_ratio = 0.05,\n",
    "#                                     device='cpu')"
   ]
  },
  {
   "cell_type": "code",
   "execution_count": 18,
   "id": "42bcabdb",
   "metadata": {
    "scrolled": true
   },
   "outputs": [],
   "source": [
    "# val_dl = coco_data_prep.get_dataloader(val_ds, \n",
    "#                                      batch_size=512, \n",
    "#                                      device='cpu')"
   ]
  },
  {
   "cell_type": "markdown",
   "id": "5754fb8e",
   "metadata": {},
   "source": [
    "### Load Model"
   ]
  },
  {
   "cell_type": "markdown",
   "id": "7f806f4c",
   "metadata": {},
   "source": [
    "#### Densenet121"
   ]
  },
  {
   "cell_type": "code",
   "execution_count": 19,
   "id": "bffec253",
   "metadata": {
    "scrolled": false
   },
   "outputs": [],
   "source": [
    "# model = torch.hub.load('pytorch/vision:v0.10.0', 'densenet121', pretrained=True)"
   ]
  },
  {
   "cell_type": "code",
   "execution_count": 20,
   "id": "7edbe2dd",
   "metadata": {},
   "outputs": [],
   "source": [
    "# model"
   ]
  },
  {
   "cell_type": "markdown",
   "id": "b00b6bdf",
   "metadata": {},
   "source": [
    "### Build From Scratch - Densenet Inspired"
   ]
  },
  {
   "cell_type": "code",
   "execution_count": 21,
   "id": "95d5e6f2",
   "metadata": {},
   "outputs": [],
   "source": [
    "class DensenetInspired(nn.Module):\n",
    "    def __init__(self):\n",
    "        super(DensenetInspired, self).__init__()\n",
    "        self.conv1 = nn.Conv2d(in_channels=3, out_channels=64, kernel_size=7, stride=2, padding=3)\n",
    "        self.bn1 = nn.BatchNorm2d(64, eps=1e-05, momentum=0.1, affine=True, track_running_stats=True)\n",
    "        self.relu1 = nn.ReLU()\n",
    "        self.mp1 = nn.MaxPool2d(kernel_size=3, stride=2, padding=1, dilation=1, ceil_mode=False)\n",
    "        \n",
    "        # This part is Densenet inspired...recycle use of BN, RELU, CONV repeatedly\n",
    "        self.bn2 = nn.BatchNorm2d(64, eps=1e-05, momentum=0.1, affine=True, track_running_stats=True)\n",
    "        self.relu2 = nn.ReLU()\n",
    "        self.conv2 = nn.Conv2d(64, 128, kernel_size=(1, 1), stride=(1, 1), bias=False)\n",
    "        \n",
    "        self.bn3 = nn.BatchNorm2d(128, eps=1e-05, momentum=0.1, affine=True, track_running_stats=True)\n",
    "        self.relu3= nn.ReLU(inplace=True)\n",
    "        self.conv3 = nn.Conv2d(128, 32, kernel_size=(3, 3), stride=(1, 1), padding=(1, 1), bias=False)\n",
    "        \n",
    "        self.flat = nn.Flatten()\n",
    "        self.lin1 = nn.LazyLinear(out_features=1024)\n",
    "        self.fc1 = nn.Linear(1024, 80)\n",
    "\n",
    "    def forward(self, x):\n",
    "        out = self.conv1(x)\n",
    "        out = self.bn1(out)\n",
    "        out = self.relu1(out)\n",
    "        out = self.mp1(out)\n",
    "        \n",
    "        out = self.bn2(out)\n",
    "        out = self.relu2(out)\n",
    "        out = self.conv2(out)\n",
    "        \n",
    "        out = self.bn3(out)\n",
    "        out = self.relu3(out)\n",
    "        out = self.conv3(out)\n",
    "        \n",
    "        out = self.flat(out)\n",
    "        out = self.lin1(out)\n",
    "        out = self.fc1(out)\n",
    "\n",
    "        return out"
   ]
  },
  {
   "cell_type": "markdown",
   "id": "26ce6ce7",
   "metadata": {},
   "source": [
    "#### Modeling Variables"
   ]
  },
  {
   "cell_type": "code",
   "execution_count": 22,
   "id": "2e6eb676",
   "metadata": {
    "scrolled": true
   },
   "outputs": [
    {
     "name": "stderr",
     "output_type": "stream",
     "text": [
      "/home/ec2-user/miniconda3/envs/cs7643-raml/lib/python3.8/site-packages/torch/nn/modules/lazy.py:175: UserWarning: Lazy modules are a new feature under heavy development so changes to the API or functionality can happen at any moment.\n",
      "  warnings.warn('Lazy modules are a new feature under heavy development '\n"
     ]
    }
   ],
   "source": [
    "model = DensenetInspired()"
   ]
  },
  {
   "cell_type": "code",
   "execution_count": 23,
   "id": "973ccece",
   "metadata": {},
   "outputs": [],
   "source": [
    "optim_params= dict(\n",
    "    lr=0.001,\n",
    "    betas=(0.9, 0.999),\n",
    "    eps=1e-05,\n",
    "    weight_decay=0.01,\n",
    "    amsgrad=False,\n",
    ")\n",
    "\n",
    "optimizer = torch.optim.Adam(model.parameters(), **optim_params)\n",
    "# scheduler = torch.optim.lr_scheduler.ReduceLROnPlateau(optimizer)"
   ]
  },
  {
   "cell_type": "code",
   "execution_count": 24,
   "id": "4d95b9b2",
   "metadata": {
    "scrolled": false
   },
   "outputs": [],
   "source": [
    "criterion = nn.CrossEntropyLoss()"
   ]
  },
  {
   "cell_type": "code",
   "execution_count": 25,
   "id": "bde82926",
   "metadata": {},
   "outputs": [],
   "source": [
    "# from torchsummary import summary\n",
    "# summary(model.cuda(), (3, 224, 224))"
   ]
  },
  {
   "cell_type": "code",
   "execution_count": 26,
   "id": "95541e18",
   "metadata": {},
   "outputs": [],
   "source": [
    "# def train_n_val ():\n",
    "    \n",
    "#     transform_test = transforms.Compose([\n",
    "#         transforms.ToTensor(),\n",
    "#         transforms.Normalize((0.4914, 0.4822, 0.4465), (0.2023, 0.1994, 0.2010)),\n",
    "#     ])\n",
    "    \n",
    "#     train_ds = coco_data_prep.COCODataset('train',\n",
    "#                                           train_np_data_dir, \n",
    "#                                           train_annot_filepath,\n",
    "#                                           coco_data_prep.COCOAnnotationTransform(),\n",
    "#                                           sample_ratio=0.05,\n",
    "#                                           device='cpu')\n",
    "    \n",
    "#     train_dl = coco_data_prep.get_dataloader(train_ds, \n",
    "#                                              batch_size=512, \n",
    "#                                              device='cpu')\n",
    "    \n",
    "#     val_ds = coco_data_prep.COCODataset('val',\n",
    "#                                         val_np_data_dir, \n",
    "#                                         val_annot_filepath,\n",
    "#                                         coco_data_prep.COCOAnnotationTransform(),\n",
    "#                                         sample_ratio = 0.05,\n",
    "#                                         device='cpu')\n",
    "    \n",
    "#     val_dl = "
   ]
  },
  {
   "cell_type": "code",
   "execution_count": 27,
   "id": "7e37ce61",
   "metadata": {},
   "outputs": [],
   "source": [
    "torch.cuda.empty_cache()"
   ]
  },
  {
   "cell_type": "code",
   "execution_count": 28,
   "id": "e4f25526",
   "metadata": {},
   "outputs": [],
   "source": [
    "class AverageMeter(object):\n",
    "    \"\"\"Computes and stores the average and current value\"\"\"\n",
    "    def __init__(self):\n",
    "        self.reset()\n",
    "\n",
    "    def reset(self):\n",
    "        self.val = 0\n",
    "        self.avg = 0\n",
    "        self.sum = 0\n",
    "        self.count = 0\n",
    "\n",
    "    def update(self, val, n=1):\n",
    "        self.val = val\n",
    "        self.sum += val * n\n",
    "        self.count += n\n",
    "        self.avg = self.sum / self.count\n",
    "        "
   ]
  },
  {
   "cell_type": "code",
   "execution_count": null,
   "id": "ab49ad52",
   "metadata": {
    "scrolled": false
   },
   "outputs": [
    {
     "name": "stderr",
     "output_type": "stream",
     "text": [
      "\r",
      "0it [00:00, ?it/s]"
     ]
    },
    {
     "name": "stdout",
     "output_type": "stream",
     "text": [
      "tensor(171.7637, grad_fn=<NllLossBackward>)\n"
     ]
    },
    {
     "name": "stderr",
     "output_type": "stream",
     "text": [
      "\r",
      "1it [00:07,  7.52s/it]"
     ]
    },
    {
     "name": "stdout",
     "output_type": "stream",
     "text": [
      "Epoch: [0][0/9]\tTime 11.877 (11.877)\tLoss 171.7637 (171.7637)\t\n",
      "tensor(116.1655, grad_fn=<NllLossBackward>)\n"
     ]
    },
    {
     "name": "stderr",
     "output_type": "stream",
     "text": [
      "\r",
      "2it [00:12,  5.91s/it]"
     ]
    },
    {
     "name": "stdout",
     "output_type": "stream",
     "text": [
      "tensor(113.8354, grad_fn=<NllLossBackward>)\n"
     ]
    },
    {
     "name": "stderr",
     "output_type": "stream",
     "text": [
      "\r",
      "3it [00:17,  5.65s/it]"
     ]
    },
    {
     "name": "stdout",
     "output_type": "stream",
     "text": [
      "tensor(27.4250, grad_fn=<NllLossBackward>)\n"
     ]
    },
    {
     "name": "stderr",
     "output_type": "stream",
     "text": [
      "\r",
      "4it [00:22,  5.32s/it]"
     ]
    },
    {
     "name": "stdout",
     "output_type": "stream",
     "text": [
      "tensor(185.9157, grad_fn=<NllLossBackward>)\n"
     ]
    },
    {
     "name": "stderr",
     "output_type": "stream",
     "text": [
      "\r",
      "5it [00:27,  5.18s/it]"
     ]
    },
    {
     "name": "stdout",
     "output_type": "stream",
     "text": [
      "tensor(69.1484, grad_fn=<NllLossBackward>)\n"
     ]
    },
    {
     "name": "stderr",
     "output_type": "stream",
     "text": [
      "\r",
      "6it [00:41,  8.11s/it]"
     ]
    },
    {
     "name": "stdout",
     "output_type": "stream",
     "text": [
      "tensor(114.2764, grad_fn=<NllLossBackward>)\n"
     ]
    },
    {
     "name": "stderr",
     "output_type": "stream",
     "text": [
      "\r",
      "7it [00:46,  7.21s/it]"
     ]
    },
    {
     "name": "stdout",
     "output_type": "stream",
     "text": [
      "tensor(146.1216, grad_fn=<NllLossBackward>)\n"
     ]
    },
    {
     "name": "stderr",
     "output_type": "stream",
     "text": [
      "\r",
      "8it [00:51,  6.45s/it]"
     ]
    },
    {
     "name": "stdout",
     "output_type": "stream",
     "text": [
      "tensor(141.7034, grad_fn=<NllLossBackward>)\n"
     ]
    },
    {
     "name": "stderr",
     "output_type": "stream",
     "text": [
      "9it [00:52,  5.86s/it]"
     ]
    },
    {
     "name": "stdout",
     "output_type": "stream",
     "text": [
      "Epoch-0 lr: 0.001 running_loss: 1086.35498046875\n"
     ]
    },
    {
     "name": "stderr",
     "output_type": "stream",
     "text": [
      "\n",
      "0it [00:00, ?it/s]"
     ]
    },
    {
     "name": "stdout",
     "output_type": "stream",
     "text": [
      "tensor(54.6155, grad_fn=<NllLossBackward>)\n"
     ]
    },
    {
     "name": "stderr",
     "output_type": "stream",
     "text": [
      "\r",
      "1it [00:08,  8.04s/it]"
     ]
    },
    {
     "name": "stdout",
     "output_type": "stream",
     "text": [
      "Epoch: [1][0/9]\tTime 69.327 (69.327)\tLoss 54.6155 (54.6155)\t\n",
      "tensor(73.0259, grad_fn=<NllLossBackward>)\n"
     ]
    }
   ],
   "source": [
    "start = time.time()\n",
    "for epoch in range(25):\n",
    "    iter_time = AverageMeter()\n",
    "    losses = AverageMeter()\n",
    "    running_loss = 0.0\n",
    "    count = 0\n",
    "    \n",
    "    for i, (batch) in tqdm(enumerate(train_dl)):\n",
    "        image_batch, label_batch = [x[0] for x in batch], [x[1] for x in batch]\n",
    "        image_batch = torch.stack(image_batch).to('cpu')\n",
    "        label_batch = torch.LongTensor([l[0] for l in label_batch])\n",
    "        \n",
    "        optimizer.zero_grad()\n",
    "        outputs = model(image_batch)\n",
    "\n",
    "        loss = criterion(outputs, label_batch)\n",
    "        print(loss)\n",
    "\n",
    "        loss.backward()\n",
    "        optimizer.step()\n",
    "        count += 1\n",
    "\n",
    "        losses.update(loss, outputs.shape[0])\n",
    "        running_loss += loss\n",
    "\n",
    "        iter_time.update(time.time() - start)\n",
    "        if i % 10 == 0:\n",
    "            print(('Epoch: [{0}][{1}/{2}]\\t'\n",
    "                   'Time {iter_time.val:.3f} ({iter_time.avg:.3f})\\t'\n",
    "                   'Loss {loss.val:.4f} ({loss.avg:.4f})\\t')\n",
    "                   .format(epoch, i, len(train_dl), iter_time=iter_time, loss=losses))\n",
    "\n",
    "    print(f'Epoch-{epoch} lr: {optimizer.param_groups[0][\"lr\"]} running_loss: {running_loss}')\n",
    "    "
   ]
  },
  {
   "cell_type": "code",
   "execution_count": null,
   "id": "6a64cb5d",
   "metadata": {
    "scrolled": true
   },
   "outputs": [],
   "source": [
    "features_list = []\n",
    "labels_list = []\n",
    "\n",
    "# Use GPUs to speed up the inference, this should take around 10 minutes\n",
    "\n",
    "model.to('cpu')\n",
    "for batch in tqdm(train_dl):\n",
    "    image_batch, label_batch = [x[0] for x in batch], [x[1] for x in batch]\n",
    "    image_batch = torch.stack(image_batch).to('cpu') \n",
    "\n",
    "    with torch.no_grad():\n",
    "        features_batch = model(image_batch) # .flatten(start_dim=1)\n",
    "    features_list.append(features_batch)\n",
    "    labels_list.extend(label_batch)"
   ]
  },
  {
   "cell_type": "code",
   "execution_count": null,
   "id": "774733e0",
   "metadata": {},
   "outputs": [],
   "source": []
  }
 ],
 "metadata": {
  "kernelspec": {
   "display_name": "cs7643-raml",
   "language": "python",
   "name": "cs7643-raml"
  },
  "language_info": {
   "codemirror_mode": {
    "name": "ipython",
    "version": 3
   },
   "file_extension": ".py",
   "mimetype": "text/x-python",
   "name": "python",
   "nbconvert_exporter": "python",
   "pygments_lexer": "ipython3",
   "version": "3.8.10"
  }
 },
 "nbformat": 4,
 "nbformat_minor": 5
}
