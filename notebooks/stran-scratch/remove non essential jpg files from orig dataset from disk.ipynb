{
 "cells": [
  {
   "cell_type": "code",
   "execution_count": 1,
   "id": "56cfbe97",
   "metadata": {},
   "outputs": [],
   "source": [
    "import json\n",
    "import os\n",
    "import sys"
   ]
  },
  {
   "cell_type": "code",
   "execution_count": 2,
   "id": "fe76f094",
   "metadata": {},
   "outputs": [],
   "source": [
    "# os.chdir('../')"
   ]
  },
  {
   "cell_type": "code",
   "execution_count": 3,
   "id": "33b3e754",
   "metadata": {},
   "outputs": [],
   "source": [
    "from tqdm import tqdm"
   ]
  },
  {
   "cell_type": "code",
   "execution_count": 4,
   "id": "a9a95551",
   "metadata": {},
   "outputs": [
    {
     "name": "stdout",
     "output_type": "stream",
     "text": [
      "loading annotations into memory...\n",
      "Done (t=11.96s)\n",
      "creating index...\n",
      "index created!\n",
      "loading annotations into memory...\n",
      "Done (t=5.50s)\n",
      "creating index...\n",
      "index created!\n",
      "loading annotations into memory...\n",
      "Done (t=0.11s)\n",
      "creating index...\n",
      "index created!\n"
     ]
    }
   ],
   "source": [
    "sys.path.append('../dataset/')\n",
    "import coco_api_helper\n",
    "import coco_data_prep"
   ]
  },
  {
   "cell_type": "code",
   "execution_count": 5,
   "id": "14f4f0c2",
   "metadata": {},
   "outputs": [],
   "source": [
    "train_annot = coco_api_helper.coco_objects['train']\n",
    "valid_annot = coco_api_helper.coco_objects['valid']"
   ]
  },
  {
   "cell_type": "code",
   "execution_count": 6,
   "id": "56c4d528",
   "metadata": {},
   "outputs": [],
   "source": [
    "train_jpg_dir = '../data/raw/train/train2014/'\n",
    "val_jpg_dir = '../data/raw/validation/val2014/'"
   ]
  },
  {
   "cell_type": "code",
   "execution_count": 7,
   "id": "72e05e28",
   "metadata": {},
   "outputs": [],
   "source": [
    "with open ('../dataset/categories.json', 'r') as f:\n",
    "    categories = json.load(f)"
   ]
  },
  {
   "cell_type": "markdown",
   "id": "d9294d79",
   "metadata": {},
   "source": [
    "### Train"
   ]
  },
  {
   "cell_type": "code",
   "execution_count": 7,
   "id": "b416c608",
   "metadata": {},
   "outputs": [],
   "source": [
    "with open ('../dataset/imgs_by_supercategory.json', 'r') as f:\n",
    "    imgids_by_supercat = json.load(f)"
   ]
  },
  {
   "cell_type": "code",
   "execution_count": 13,
   "id": "ed17cb64",
   "metadata": {},
   "outputs": [
    {
     "data": {
      "text/plain": [
       "262145"
      ]
     },
     "execution_count": 13,
     "metadata": {},
     "output_type": "execute_result"
    }
   ],
   "source": [
    "img_ids_of_int = list(set([ii for imgid in list(imgids_by_supercat.values()) for ii in imgid]))\n",
    "img_ids_of_int[0]"
   ]
  },
  {
   "cell_type": "code",
   "execution_count": 19,
   "id": "6809e9cd",
   "metadata": {},
   "outputs": [
    {
     "data": {
      "text/plain": [
       "43266"
      ]
     },
     "execution_count": 19,
     "metadata": {},
     "output_type": "execute_result"
    }
   ],
   "source": [
    "keep_these_jpgs = [annot['file_name'] for ii in img_ids_of_int for annot in train_annot.loadImgs(ii)]\n",
    "len(keep_these_jpgs)"
   ]
  },
  {
   "cell_type": "code",
   "execution_count": 26,
   "id": "38da0ee6",
   "metadata": {},
   "outputs": [
    {
     "name": "stdout",
     "output_type": "stream",
     "text": [
      "39517\n",
      "['COCO_train2014_000000562257.jpg', 'COCO_train2014_000000108762.jpg', 'COCO_train2014_000000182300.jpg', 'COCO_train2014_000000040569.jpg', 'COCO_train2014_000000239600.jpg', 'COCO_train2014_000000408922.jpg', 'COCO_train2014_000000205152.jpg', 'COCO_train2014_000000453087.jpg', 'COCO_train2014_000000177837.jpg', 'COCO_train2014_000000349103.jpg']\n"
     ]
    }
   ],
   "source": [
    "jpgs_to_del = list(set(os.listdir('../data/raw/train/train2014/')) - set(keep_these_jpgs))\n",
    "print(len(jpgs_to_del))\n",
    "print(jpgs_to_del[:10])"
   ]
  },
  {
   "cell_type": "code",
   "execution_count": 30,
   "id": "8442955c",
   "metadata": {},
   "outputs": [
    {
     "name": "stderr",
     "output_type": "stream",
     "text": [
      "100%|████████████████████████████████████████████████████████| 39517/39517 [00:07<00:00, 5326.50it/s]\n"
     ]
    }
   ],
   "source": [
    "for filename in tqdm(jpgs_to_del):\n",
    "    path = os.path.join(train_jpg_dir, filename)\n",
    "    os.remove(path)"
   ]
  },
  {
   "cell_type": "markdown",
   "id": "e2c09680",
   "metadata": {},
   "source": [
    "### Valid"
   ]
  },
  {
   "cell_type": "code",
   "execution_count": 34,
   "id": "d049df99",
   "metadata": {},
   "outputs": [],
   "source": [
    "category_ids = [cat['id'] for cat in categories]"
   ]
  },
  {
   "cell_type": "code",
   "execution_count": 39,
   "id": "ddded786",
   "metadata": {},
   "outputs": [
    {
     "data": {
      "text/plain": [
       "25449"
      ]
     },
     "execution_count": 39,
     "metadata": {},
     "output_type": "execute_result"
    }
   ],
   "source": [
    "img_ids = [valid_annot.getImgIds(catIds=[id]) for id in category_ids]\n",
    "img_ids = [i for ii in img_ids for i in ii]\n",
    "len(img_ids)"
   ]
  },
  {
   "cell_type": "code",
   "execution_count": 41,
   "id": "f3038bdc",
   "metadata": {},
   "outputs": [],
   "source": [
    "val_filenames_wanted = [annot['file_name'] for ii in img_ids for annot in valid_annot.loadImgs(ii)]"
   ]
  },
  {
   "cell_type": "code",
   "execution_count": 43,
   "id": "6bc341cc",
   "metadata": {},
   "outputs": [
    {
     "data": {
      "text/plain": [
       "19502"
      ]
     },
     "execution_count": 43,
     "metadata": {},
     "output_type": "execute_result"
    }
   ],
   "source": [
    "val_jpgs_to_del = list(set(os.listdir(val_jpg_dir)) - set(val_filenames_wanted))\n",
    "len(val_jpgs_to_del)"
   ]
  },
  {
   "cell_type": "code",
   "execution_count": 44,
   "id": "90c89cbe",
   "metadata": {},
   "outputs": [
    {
     "name": "stderr",
     "output_type": "stream",
     "text": [
      "100%|████████████████████████████████████████████████████████| 19502/19502 [00:02<00:00, 8480.69it/s]\n"
     ]
    }
   ],
   "source": [
    "for filename in tqdm(val_jpgs_to_del):\n",
    "    path = os.path.join(val_jpg_dir, filename)\n",
    "    os.remove(path)"
   ]
  },
  {
   "cell_type": "code",
   "execution_count": null,
   "id": "32e21deb",
   "metadata": {},
   "outputs": [],
   "source": []
  }
 ],
 "metadata": {
  "kernelspec": {
   "display_name": "cs7643-raml",
   "language": "python",
   "name": "cs7643-raml"
  },
  "language_info": {
   "codemirror_mode": {
    "name": "ipython",
    "version": 3
   },
   "file_extension": ".py",
   "mimetype": "text/x-python",
   "name": "python",
   "nbconvert_exporter": "python",
   "pygments_lexer": "ipython3",
   "version": "3.8.10"
  }
 },
 "nbformat": 4,
 "nbformat_minor": 5
}
